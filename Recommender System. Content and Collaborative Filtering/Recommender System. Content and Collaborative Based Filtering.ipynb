{
  "nbformat": 4,
  "nbformat_minor": 0,
  "metadata": {
    "colab": {
      "provenance": []
    },
    "kernelspec": {
      "name": "python3",
      "display_name": "Python 3"
    },
    "language_info": {
      "name": "python"
    },
    "gpuClass": "standard"
  },
  "cells": [
    {
      "cell_type": "markdown",
      "metadata": {
        "id": "ta7kbPUWfyxj"
      },
      "source": [
        "# **A. DATA *UNDERSTANDING***"
      ]
    },
    {
      "cell_type": "markdown",
      "metadata": {
        "id": "wvVuzKfMifeJ"
      },
      "source": [
        "Data *Understanding* adalah tahapan untuk mendapatkan pemahaman awal mengenai data yang dibutuhkan untuk memecahkan permasalahan bisnis yang diberikan"
      ]
    },
    {
      "cell_type": "markdown",
      "metadata": {
        "id": "NFy9qfB8f-1A"
      },
      "source": [
        "*   Data yang digunakan pada proyek kali ini adalah data kumpulan film *Movielens dataset* \n",
        "*   Dataset bersumber dari *repository dataset* kaggle.com dengan *link* berikut : https://www.kaggle.com/datasets/snehal1409/movielens, dan proses pengunduhan dilakukan melalui Kaggle API\n",
        "*   Pada pengunduhan terdapat lima (5) *file* csv yang diunduh yang terdiri dari :  \n",
        "1.   *Readme.txt*\n",
        "2.   *links.csv*\n",
        "3.   *movies.csv*\n",
        "4.   *ratings.csv*\n",
        "5.   *tags.csv*\n",
        "\n",
        "*   Pada proyek ini karena akan digunakan untuk sistem rekomendasi berdasarkan konten dan *collaborative filtering* berdasarkan rating, maka hanya dua (2) *file* yang akan digunakan yaitu *file movies.csv* dan *ratings.csv*\n",
        "*   Kedua dataset ini belum cukup bersih karena terdapat kolom-kolom yang kosong, tetapi isi kolom-kolom sudah sesuai dengan tipe data.\n",
        "*   Dataset berisi 100004 rating dan 9125 entri film. Data dikumpulkan dari 671 *user* antara 9 Januari 1995 dan 16 Oktober 2016.\n",
        "* Semua *user* yang terdapat pada dataset ini masing-masingnya telah memberikan rating sekurang-kurangnya terhadap 20 film. \n",
        "*   Sitasi terhadap dataset ini ditujukan kepada F. Maxwell Harper and Joseph A. Konstan. 2015. *The MovieLens Datasets: History and Context. ACM Transactions on Interactive Intelligent Systems (TiiS) 5, 4, Article 19 (December 2015), 19 pages*. DOI=http://dx.doi.org/10.1145/2827872\n",
        "* Grouplens adalah kelompok peneliti pada Departement Ilmu Komputer dan *Engineering* pada Universitas Minnesota. Website resmi dari grouplens adalah http://movielens.org/\n",
        "\n",
        "\n"
      ]
    },
    {
      "cell_type": "markdown",
      "metadata": {
        "id": "Eo0g6B49jDn5"
      },
      "source": [
        "Berikut detail dari kedua dataset yang digunakan :\n",
        "\n",
        "1. Dataset *ratings.csv* berisi empat fitur yaitu *userId, movieId, rating*, dan *timestamp*. Dataset ini berisi semua rating yang diberikan oleh user kepada film di dalam dataset. Terdapat 10 rentang rating yang dengan skala 0.5-5.0. \n",
        "*   Dataset *movies.csv* berisi tiga fitur yaitu *movieId, title*, dan *genres*. Fitur movieId menunjukkan id film (sama dengan movieId pada file ratings.csv). Fitur title berisi semua judul film pada dataset, dan fitur genres berisi genre yang disematkan pada film yang bersangkutan. Dataset ini akan digunakan nanti akan digabungkan dengan dataset rating.csv untuk mendapatkan nama dan genre film yang akan direkomendasikan berdasarkan rating yang telah didapatkan.  "
      ]
    },
    {
      "cell_type": "markdown",
      "metadata": {
        "id": "1Wp1uH3veUq4"
      },
      "source": [
        "# **B. DATA *LOADING***"
      ]
    },
    {
      "cell_type": "markdown",
      "metadata": {
        "id": "SLQeZbGND9VP"
      },
      "source": [
        "### ***1. Import Semua Library yang Diperlukan***"
      ]
    },
    {
      "cell_type": "code",
      "execution_count": 2,
      "metadata": {
        "id": "HovJpthXlXTJ"
      },
      "outputs": [],
      "source": [
        "import numpy as np \n",
        "import pandas as pd\n",
        "import tensorflow as tf\n",
        "from tensorflow import keras\n",
        "from tensorflow.keras import layers\n",
        "import matplotlib.pyplot as plt\n",
        "%matplotlib inline\n",
        "from pathlib import Path\n",
        "\n",
        "import re\n",
        "import seaborn as sns\n",
        "sns.set_style('darkgrid')\n",
        "from wordcloud import WordCloud\n",
        "from scipy.spatial.distance import pdist, squareform\n",
        "\n",
        "import warnings\n",
        "warnings.filterwarnings('ignore')"
      ]
    },
    {
      "cell_type": "markdown",
      "metadata": {
        "id": "K4TL5j-iEHNm"
      },
      "source": [
        "### ***2. Import Dataset***"
      ]
    },
    {
      "cell_type": "markdown",
      "metadata": {
        "id": "FustX-7dRDnc"
      },
      "source": [
        "Ada banyak cara untuk mengimport dataset dari Kaggle.com. Supaya lebih efektif pada proyek kali ini kita import dataset menggunakan Kaggle API agar tidak selalu *upload* file ketika menjalankan ulang *runtime* yang terputus. cara ini sangat membantu ketika kita menggunakan khususnya apabila kita menggunakan dataset yang berukuran besar."
      ]
    },
    {
      "cell_type": "markdown",
      "source": [
        "* Jalankan perintah berikut untuk mengakses Kaggle *API*"
      ],
      "metadata": {
        "id": "lP5fSBR-nS5W"
      }
    },
    {
      "cell_type": "markdown",
      "source": [
        "* Import *file* kaggle.json dari *local drive*"
      ],
      "metadata": {
        "id": "1nlGKtmvnnFh"
      }
    },
    {
      "cell_type": "code",
      "execution_count": 3,
      "metadata": {
        "colab": {
          "base_uri": "https://localhost:8080/",
          "height": 90
        },
        "id": "3xt-Ckgvp8Kf",
        "outputId": "b3ac29d6-038e-48ab-f3af-81d9e8cca42d"
      },
      "outputs": [
        {
          "output_type": "display_data",
          "data": {
            "text/plain": [
              "<IPython.core.display.HTML object>"
            ],
            "text/html": [
              "\n",
              "     <input type=\"file\" id=\"files-fbed007a-1417-4edd-94ee-54477cac9d19\" name=\"files[]\" multiple disabled\n",
              "        style=\"border:none\" />\n",
              "     <output id=\"result-fbed007a-1417-4edd-94ee-54477cac9d19\">\n",
              "      Upload widget is only available when the cell has been executed in the\n",
              "      current browser session. Please rerun this cell to enable.\n",
              "      </output>\n",
              "      <script>// Copyright 2017 Google LLC\n",
              "//\n",
              "// Licensed under the Apache License, Version 2.0 (the \"License\");\n",
              "// you may not use this file except in compliance with the License.\n",
              "// You may obtain a copy of the License at\n",
              "//\n",
              "//      http://www.apache.org/licenses/LICENSE-2.0\n",
              "//\n",
              "// Unless required by applicable law or agreed to in writing, software\n",
              "// distributed under the License is distributed on an \"AS IS\" BASIS,\n",
              "// WITHOUT WARRANTIES OR CONDITIONS OF ANY KIND, either express or implied.\n",
              "// See the License for the specific language governing permissions and\n",
              "// limitations under the License.\n",
              "\n",
              "/**\n",
              " * @fileoverview Helpers for google.colab Python module.\n",
              " */\n",
              "(function(scope) {\n",
              "function span(text, styleAttributes = {}) {\n",
              "  const element = document.createElement('span');\n",
              "  element.textContent = text;\n",
              "  for (const key of Object.keys(styleAttributes)) {\n",
              "    element.style[key] = styleAttributes[key];\n",
              "  }\n",
              "  return element;\n",
              "}\n",
              "\n",
              "// Max number of bytes which will be uploaded at a time.\n",
              "const MAX_PAYLOAD_SIZE = 100 * 1024;\n",
              "\n",
              "function _uploadFiles(inputId, outputId) {\n",
              "  const steps = uploadFilesStep(inputId, outputId);\n",
              "  const outputElement = document.getElementById(outputId);\n",
              "  // Cache steps on the outputElement to make it available for the next call\n",
              "  // to uploadFilesContinue from Python.\n",
              "  outputElement.steps = steps;\n",
              "\n",
              "  return _uploadFilesContinue(outputId);\n",
              "}\n",
              "\n",
              "// This is roughly an async generator (not supported in the browser yet),\n",
              "// where there are multiple asynchronous steps and the Python side is going\n",
              "// to poll for completion of each step.\n",
              "// This uses a Promise to block the python side on completion of each step,\n",
              "// then passes the result of the previous step as the input to the next step.\n",
              "function _uploadFilesContinue(outputId) {\n",
              "  const outputElement = document.getElementById(outputId);\n",
              "  const steps = outputElement.steps;\n",
              "\n",
              "  const next = steps.next(outputElement.lastPromiseValue);\n",
              "  return Promise.resolve(next.value.promise).then((value) => {\n",
              "    // Cache the last promise value to make it available to the next\n",
              "    // step of the generator.\n",
              "    outputElement.lastPromiseValue = value;\n",
              "    return next.value.response;\n",
              "  });\n",
              "}\n",
              "\n",
              "/**\n",
              " * Generator function which is called between each async step of the upload\n",
              " * process.\n",
              " * @param {string} inputId Element ID of the input file picker element.\n",
              " * @param {string} outputId Element ID of the output display.\n",
              " * @return {!Iterable<!Object>} Iterable of next steps.\n",
              " */\n",
              "function* uploadFilesStep(inputId, outputId) {\n",
              "  const inputElement = document.getElementById(inputId);\n",
              "  inputElement.disabled = false;\n",
              "\n",
              "  const outputElement = document.getElementById(outputId);\n",
              "  outputElement.innerHTML = '';\n",
              "\n",
              "  const pickedPromise = new Promise((resolve) => {\n",
              "    inputElement.addEventListener('change', (e) => {\n",
              "      resolve(e.target.files);\n",
              "    });\n",
              "  });\n",
              "\n",
              "  const cancel = document.createElement('button');\n",
              "  inputElement.parentElement.appendChild(cancel);\n",
              "  cancel.textContent = 'Cancel upload';\n",
              "  const cancelPromise = new Promise((resolve) => {\n",
              "    cancel.onclick = () => {\n",
              "      resolve(null);\n",
              "    };\n",
              "  });\n",
              "\n",
              "  // Wait for the user to pick the files.\n",
              "  const files = yield {\n",
              "    promise: Promise.race([pickedPromise, cancelPromise]),\n",
              "    response: {\n",
              "      action: 'starting',\n",
              "    }\n",
              "  };\n",
              "\n",
              "  cancel.remove();\n",
              "\n",
              "  // Disable the input element since further picks are not allowed.\n",
              "  inputElement.disabled = true;\n",
              "\n",
              "  if (!files) {\n",
              "    return {\n",
              "      response: {\n",
              "        action: 'complete',\n",
              "      }\n",
              "    };\n",
              "  }\n",
              "\n",
              "  for (const file of files) {\n",
              "    const li = document.createElement('li');\n",
              "    li.append(span(file.name, {fontWeight: 'bold'}));\n",
              "    li.append(span(\n",
              "        `(${file.type || 'n/a'}) - ${file.size} bytes, ` +\n",
              "        `last modified: ${\n",
              "            file.lastModifiedDate ? file.lastModifiedDate.toLocaleDateString() :\n",
              "                                    'n/a'} - `));\n",
              "    const percent = span('0% done');\n",
              "    li.appendChild(percent);\n",
              "\n",
              "    outputElement.appendChild(li);\n",
              "\n",
              "    const fileDataPromise = new Promise((resolve) => {\n",
              "      const reader = new FileReader();\n",
              "      reader.onload = (e) => {\n",
              "        resolve(e.target.result);\n",
              "      };\n",
              "      reader.readAsArrayBuffer(file);\n",
              "    });\n",
              "    // Wait for the data to be ready.\n",
              "    let fileData = yield {\n",
              "      promise: fileDataPromise,\n",
              "      response: {\n",
              "        action: 'continue',\n",
              "      }\n",
              "    };\n",
              "\n",
              "    // Use a chunked sending to avoid message size limits. See b/62115660.\n",
              "    let position = 0;\n",
              "    do {\n",
              "      const length = Math.min(fileData.byteLength - position, MAX_PAYLOAD_SIZE);\n",
              "      const chunk = new Uint8Array(fileData, position, length);\n",
              "      position += length;\n",
              "\n",
              "      const base64 = btoa(String.fromCharCode.apply(null, chunk));\n",
              "      yield {\n",
              "        response: {\n",
              "          action: 'append',\n",
              "          file: file.name,\n",
              "          data: base64,\n",
              "        },\n",
              "      };\n",
              "\n",
              "      let percentDone = fileData.byteLength === 0 ?\n",
              "          100 :\n",
              "          Math.round((position / fileData.byteLength) * 100);\n",
              "      percent.textContent = `${percentDone}% done`;\n",
              "\n",
              "    } while (position < fileData.byteLength);\n",
              "  }\n",
              "\n",
              "  // All done.\n",
              "  yield {\n",
              "    response: {\n",
              "      action: 'complete',\n",
              "    }\n",
              "  };\n",
              "}\n",
              "\n",
              "scope.google = scope.google || {};\n",
              "scope.google.colab = scope.google.colab || {};\n",
              "scope.google.colab._files = {\n",
              "  _uploadFiles,\n",
              "  _uploadFilesContinue,\n",
              "};\n",
              "})(self);\n",
              "</script> "
            ]
          },
          "metadata": {}
        },
        {
          "output_type": "stream",
          "name": "stdout",
          "text": [
            "Saving kaggle.json to kaggle.json\n"
          ]
        },
        {
          "output_type": "execute_result",
          "data": {
            "text/plain": [
              "{'kaggle.json': b'{\"username\":\"adillatifhabibi\",\"key\":\"70adc949012360de5ec4a5679c518be7\"}'}"
            ]
          },
          "metadata": {},
          "execution_count": 3
        }
      ],
      "source": [
        "from google.colab import files\n",
        "\n",
        "files.upload()"
      ]
    },
    {
      "cell_type": "markdown",
      "source": [
        "* Membuat direktori untuk file kaggle.json\n",
        "* *Copy*-kan file json yang telah diimport ke direktori yang baru dibuat"
      ],
      "metadata": {
        "id": "by9Qxoumnw15"
      }
    },
    {
      "cell_type": "code",
      "execution_count": 4,
      "metadata": {
        "id": "IgpobxPjqCq5"
      },
      "outputs": [],
      "source": [
        "! mkdir ~/.kaggle\n",
        "! cp kaggle.json ~/.kaggle/"
      ]
    },
    {
      "cell_type": "markdown",
      "source": [
        "* Ketikkan perintah berikut untuk mengecek apakah proses import dari kaggle telah berhasil"
      ],
      "metadata": {
        "id": "ZKcgP1x7n_ro"
      }
    },
    {
      "cell_type": "code",
      "execution_count": 5,
      "metadata": {
        "id": "MrWc2k3iqJcS",
        "colab": {
          "base_uri": "https://localhost:8080/"
        },
        "outputId": "428a0b02-a869-41c0-a7c6-1d6d852cd319"
      },
      "outputs": [
        {
          "output_type": "stream",
          "name": "stdout",
          "text": [
            "Warning: Your Kaggle API key is readable by other users on this system! To fix this, you can run 'chmod 600 /root/.kaggle/kaggle.json'\n",
            "ref                                                             title                                                size  lastUpdated          downloadCount  voteCount  usabilityRating  \n",
            "--------------------------------------------------------------  --------------------------------------------------  -----  -------------------  -------------  ---------  ---------------  \n",
            "meirnizri/covid19-dataset                                       COVID-19 Dataset                                      5MB  2022-11-13 15:47:17           4559        142  1.0              \n",
            "mvieira101/global-cost-of-living                                Global Cost of Living                                 1MB  2022-12-03 16:37:53            496         28  0.9705882        \n",
            "akshaydattatraykhare/diabetes-dataset                           Diabetes Dataset                                      9KB  2022-10-06 08:55:25          21030        565  1.0              \n",
            "thedevastator/jobs-dataset-from-glassdoor                       Salary Prediction                                     3MB  2022-11-16 13:52:31           3162         76  1.0              \n",
            "fuarresvij/gdp-growth-around-the-globe                          GDP Growth around the Globe                         122KB  2022-11-22 00:36:28           1172         36  0.9411765        \n",
            "akshaydattatraykhare/data-for-admission-in-the-university       Data for Admission in the University                  4KB  2022-10-27 11:05:45           6922        152  1.0              \n",
            "arthurboari/taylor-swift-spotify-data                           Taylor Swift Spotify Data                            96KB  2022-11-21 13:46:01            704         27  0.9705882        \n",
            "dsfelix/us-stores-sales                                         US Stores Sales                                      84KB  2022-11-08 00:11:06           1745         30  1.0              \n",
            "thedevastator/fashion-products-on-amazon-ratings-prices-and-pa  Fashion Products on Amazon: Ratings, Prices, etc      8MB  2022-11-18 14:28:57           1256         33  1.0              \n",
            "whenamancodes/predict-diabities                                 Predict Diabetes                                      9KB  2022-11-09 12:18:49           3677         73  1.0              \n",
            "prosperchuks/health-dataset                                     Diabetes, Hypertension and Stroke Prediction        597KB  2022-11-23 10:04:03           1368         35  1.0              \n",
            "thedevastator/cancer-patients-and-air-pollution-a-new-link       Lung Cancer Prediction                               7KB  2022-11-14 13:40:40           2211         58  1.0              \n",
            "dbarteaux99/stable-diffusion-1-5                                Stable Diffusion 1.5 (normal and EMAonly) with vae    7GB  2022-10-23 15:40:29             97         18  0.9375           \n",
            "piterfm/fifa-football-world-cup                                 FIFA Football World Cup                              77KB  2022-12-03 15:16:03           1842         56  1.0              \n",
            "whenamancodes/credit-card-customers-prediction                  Credit Card Customers Prediction                    379KB  2022-10-30 13:03:27           4122         85  1.0              \n",
            "mukhazarahmad/worldwide-cancer-data                             Worldwide cancer data                                 2KB  2022-11-13 03:06:15            747         31  1.0              \n",
            "shilongzhuang/-women-clothing-ecommerce-sales-data              🏷️👚 Women Clothing Ecommerce Sales Data               5KB  2022-11-21 01:27:59            641         27  1.0              \n",
            "swaptr/layoffs-2022                                             Layoffs 2022                                         31KB  2022-12-02 15:53:56           2174         54  1.0              \n",
            "thedevastator/empowering-the-next-wave-of-entrepreneurs         US Startup companies over time (Timeseries)         974KB  2022-11-16 16:11:01            843         29  1.0              \n",
            "zvr842/global-pollution-by-counties                             Global pollution by counties                         15KB  2022-11-14 10:57:31           1778         40  0.9705882        \n"
          ]
        }
      ],
      "source": [
        "! kaggle datasets list"
      ]
    },
    {
      "cell_type": "markdown",
      "source": [
        "* Mengganti *permission file*"
      ],
      "metadata": {
        "id": "DLlBY17KomMF"
      }
    },
    {
      "cell_type": "code",
      "execution_count": 6,
      "metadata": {
        "id": "rqxS3PEh3-Ik"
      },
      "outputs": [],
      "source": [
        "! chmod 600 ~/.kaggle/kaggle.json"
      ]
    },
    {
      "cell_type": "markdown",
      "source": [
        "* *Download* dataset yang akan digunakan dalam proyek ini, yaitu *movielens\n",
        ".zip*"
      ],
      "metadata": {
        "id": "mUZafVc6otRp"
      }
    },
    {
      "cell_type": "code",
      "execution_count": 7,
      "metadata": {
        "id": "k-dx-Kie4dfb",
        "colab": {
          "base_uri": "https://localhost:8080/"
        },
        "outputId": "e9c2bfa1-432a-4526-f085-4b75714d6a2c"
      },
      "outputs": [
        {
          "output_type": "stream",
          "name": "stdout",
          "text": [
            "Downloading movielens.zip to /content\n",
            "\r  0% 0.00/910k [00:00<?, ?B/s]\n",
            "\r100% 910k/910k [00:00<00:00, 91.8MB/s]\n"
          ]
        }
      ],
      "source": [
        "! kaggle datasets download snehal1409/movielens"
      ]
    },
    {
      "cell_type": "markdown",
      "source": [
        "* Ekstrak *file.zip* yang telah berhasil diunduh\n"
      ],
      "metadata": {
        "id": "Xm-811pvo832"
      }
    },
    {
      "cell_type": "code",
      "execution_count": 8,
      "metadata": {
        "id": "B8EFYgWf4yJY",
        "colab": {
          "base_uri": "https://localhost:8080/"
        },
        "outputId": "66a56edd-5d0f-4d11-9aa3-c4cf87f7207a"
      },
      "outputs": [
        {
          "output_type": "stream",
          "name": "stdout",
          "text": [
            "Archive:  movielens.zip\n",
            "  inflating: README.txt              \n",
            "  inflating: links.csv               \n",
            "  inflating: movies.csv              \n",
            "  inflating: ratings.csv             \n",
            "  inflating: tags.csv                \n"
          ]
        }
      ],
      "source": [
        "! unzip movielens.zip"
      ]
    },
    {
      "cell_type": "markdown",
      "source": [
        "* Buka *file csv* dengan pandas .read_csv()"
      ],
      "metadata": {
        "id": "uLJBpVgdpFjV"
      }
    },
    {
      "cell_type": "code",
      "execution_count": 9,
      "metadata": {
        "id": "8R-OGlQs054G"
      },
      "outputs": [],
      "source": [
        "dfr = pd.read_csv('ratings.csv')\n",
        "dfm = pd.read_csv('movies.csv')"
      ]
    },
    {
      "cell_type": "markdown",
      "metadata": {
        "id": "5OTowBuogeZQ"
      },
      "source": [
        "# **C. *EXPLORATORY* DATA *ANALYSIS***"
      ]
    },
    {
      "cell_type": "markdown",
      "metadata": {
        "id": "dj7ITg_bF-i5"
      },
      "source": [
        "### ***3. Deskripsi Variabel***"
      ]
    },
    {
      "cell_type": "markdown",
      "metadata": {
        "id": "7KEyQmXxojev"
      },
      "source": [
        "Pada tahapan ini kita akan melihat dataset secara umum, menganalisis dan pengecekan awal apakah data yang kita miliki sudah memiliki kondisi yang diharapkan sehingga nantinya data layak untuk diproses lebih lanjut ke tahap *preprocessing*. Pengecekan antara lain meliputi tipe data, distribusi variabel yang ada, *missing value*, dan data duplikat."
      ]
    },
    {
      "cell_type": "markdown",
      "source": [
        "File yang di*download* melalui kaggle.com berisi 5 *file* yaitu :\n",
        "\n",
        "1.   *README.txt*\n",
        "2.   *links.csv*\n",
        "3.   *movies.csv*\n",
        "4.   *ratings.csv*\n",
        "5.   *tags.csv*\n",
        "\n",
        "*File* yang akan kita gunakan untuk proyek *recommender system* ini adalah *movies.csv* dan *ratings.csv*"
      ],
      "metadata": {
        "id": "PKf50wQmemu8"
      }
    },
    {
      "cell_type": "markdown",
      "source": [
        "####***ratings.csv***"
      ],
      "metadata": {
        "id": "XSs-WB59gCcn"
      }
    },
    {
      "cell_type": "markdown",
      "source": [
        "* Cek info dataset dengan fitur .info() untuk mengetahui apa saja variabel serta tipe variabelnya dan panjang data di dalam dataset *rating.csv*\n"
      ],
      "metadata": {
        "id": "22b3DEHPlVhW"
      }
    },
    {
      "cell_type": "code",
      "execution_count": 10,
      "metadata": {
        "id": "yIf2BfXGtk4R",
        "colab": {
          "base_uri": "https://localhost:8080/"
        },
        "outputId": "27cb72a9-e6d9-49f4-e6c9-a3f8644c554e"
      },
      "outputs": [
        {
          "output_type": "stream",
          "name": "stdout",
          "text": [
            "<class 'pandas.core.frame.DataFrame'>\n",
            "RangeIndex: 100004 entries, 0 to 100003\n",
            "Data columns (total 4 columns):\n",
            " #   Column     Non-Null Count   Dtype  \n",
            "---  ------     --------------   -----  \n",
            " 0   userId     100004 non-null  int64  \n",
            " 1   movieId    100004 non-null  int64  \n",
            " 2   rating     100004 non-null  float64\n",
            " 3   timestamp  100004 non-null  int64  \n",
            "dtypes: float64(1), int64(3)\n",
            "memory usage: 3.1 MB\n"
          ]
        }
      ],
      "source": [
        "dfr.info()"
      ]
    },
    {
      "cell_type": "markdown",
      "source": [
        "* Menampilkan isi dataset variabel *dfr* secara umum"
      ],
      "metadata": {
        "id": "9SFpGlNcgnQn"
      }
    },
    {
      "cell_type": "code",
      "source": [
        "dfr"
      ],
      "metadata": {
        "colab": {
          "base_uri": "https://localhost:8080/",
          "height": 424
        },
        "id": "1k68_qyit5GS",
        "outputId": "cf549a76-06f9-41b3-96d0-8e24cff228b6"
      },
      "execution_count": 11,
      "outputs": [
        {
          "output_type": "execute_result",
          "data": {
            "text/plain": [
              "        userId  movieId  rating   timestamp\n",
              "0            1       31     2.5  1260759144\n",
              "1            1     1029     3.0  1260759179\n",
              "2            1     1061     3.0  1260759182\n",
              "3            1     1129     2.0  1260759185\n",
              "4            1     1172     4.0  1260759205\n",
              "...        ...      ...     ...         ...\n",
              "99999      671     6268     2.5  1065579370\n",
              "100000     671     6269     4.0  1065149201\n",
              "100001     671     6365     4.0  1070940363\n",
              "100002     671     6385     2.5  1070979663\n",
              "100003     671     6565     3.5  1074784724\n",
              "\n",
              "[100004 rows x 4 columns]"
            ],
            "text/html": [
              "\n",
              "  <div id=\"df-681c8205-fd99-4496-ae30-406804142bc4\">\n",
              "    <div class=\"colab-df-container\">\n",
              "      <div>\n",
              "<style scoped>\n",
              "    .dataframe tbody tr th:only-of-type {\n",
              "        vertical-align: middle;\n",
              "    }\n",
              "\n",
              "    .dataframe tbody tr th {\n",
              "        vertical-align: top;\n",
              "    }\n",
              "\n",
              "    .dataframe thead th {\n",
              "        text-align: right;\n",
              "    }\n",
              "</style>\n",
              "<table border=\"1\" class=\"dataframe\">\n",
              "  <thead>\n",
              "    <tr style=\"text-align: right;\">\n",
              "      <th></th>\n",
              "      <th>userId</th>\n",
              "      <th>movieId</th>\n",
              "      <th>rating</th>\n",
              "      <th>timestamp</th>\n",
              "    </tr>\n",
              "  </thead>\n",
              "  <tbody>\n",
              "    <tr>\n",
              "      <th>0</th>\n",
              "      <td>1</td>\n",
              "      <td>31</td>\n",
              "      <td>2.5</td>\n",
              "      <td>1260759144</td>\n",
              "    </tr>\n",
              "    <tr>\n",
              "      <th>1</th>\n",
              "      <td>1</td>\n",
              "      <td>1029</td>\n",
              "      <td>3.0</td>\n",
              "      <td>1260759179</td>\n",
              "    </tr>\n",
              "    <tr>\n",
              "      <th>2</th>\n",
              "      <td>1</td>\n",
              "      <td>1061</td>\n",
              "      <td>3.0</td>\n",
              "      <td>1260759182</td>\n",
              "    </tr>\n",
              "    <tr>\n",
              "      <th>3</th>\n",
              "      <td>1</td>\n",
              "      <td>1129</td>\n",
              "      <td>2.0</td>\n",
              "      <td>1260759185</td>\n",
              "    </tr>\n",
              "    <tr>\n",
              "      <th>4</th>\n",
              "      <td>1</td>\n",
              "      <td>1172</td>\n",
              "      <td>4.0</td>\n",
              "      <td>1260759205</td>\n",
              "    </tr>\n",
              "    <tr>\n",
              "      <th>...</th>\n",
              "      <td>...</td>\n",
              "      <td>...</td>\n",
              "      <td>...</td>\n",
              "      <td>...</td>\n",
              "    </tr>\n",
              "    <tr>\n",
              "      <th>99999</th>\n",
              "      <td>671</td>\n",
              "      <td>6268</td>\n",
              "      <td>2.5</td>\n",
              "      <td>1065579370</td>\n",
              "    </tr>\n",
              "    <tr>\n",
              "      <th>100000</th>\n",
              "      <td>671</td>\n",
              "      <td>6269</td>\n",
              "      <td>4.0</td>\n",
              "      <td>1065149201</td>\n",
              "    </tr>\n",
              "    <tr>\n",
              "      <th>100001</th>\n",
              "      <td>671</td>\n",
              "      <td>6365</td>\n",
              "      <td>4.0</td>\n",
              "      <td>1070940363</td>\n",
              "    </tr>\n",
              "    <tr>\n",
              "      <th>100002</th>\n",
              "      <td>671</td>\n",
              "      <td>6385</td>\n",
              "      <td>2.5</td>\n",
              "      <td>1070979663</td>\n",
              "    </tr>\n",
              "    <tr>\n",
              "      <th>100003</th>\n",
              "      <td>671</td>\n",
              "      <td>6565</td>\n",
              "      <td>3.5</td>\n",
              "      <td>1074784724</td>\n",
              "    </tr>\n",
              "  </tbody>\n",
              "</table>\n",
              "<p>100004 rows × 4 columns</p>\n",
              "</div>\n",
              "      <button class=\"colab-df-convert\" onclick=\"convertToInteractive('df-681c8205-fd99-4496-ae30-406804142bc4')\"\n",
              "              title=\"Convert this dataframe to an interactive table.\"\n",
              "              style=\"display:none;\">\n",
              "        \n",
              "  <svg xmlns=\"http://www.w3.org/2000/svg\" height=\"24px\"viewBox=\"0 0 24 24\"\n",
              "       width=\"24px\">\n",
              "    <path d=\"M0 0h24v24H0V0z\" fill=\"none\"/>\n",
              "    <path d=\"M18.56 5.44l.94 2.06.94-2.06 2.06-.94-2.06-.94-.94-2.06-.94 2.06-2.06.94zm-11 1L8.5 8.5l.94-2.06 2.06-.94-2.06-.94L8.5 2.5l-.94 2.06-2.06.94zm10 10l.94 2.06.94-2.06 2.06-.94-2.06-.94-.94-2.06-.94 2.06-2.06.94z\"/><path d=\"M17.41 7.96l-1.37-1.37c-.4-.4-.92-.59-1.43-.59-.52 0-1.04.2-1.43.59L10.3 9.45l-7.72 7.72c-.78.78-.78 2.05 0 2.83L4 21.41c.39.39.9.59 1.41.59.51 0 1.02-.2 1.41-.59l7.78-7.78 2.81-2.81c.8-.78.8-2.07 0-2.86zM5.41 20L4 18.59l7.72-7.72 1.47 1.35L5.41 20z\"/>\n",
              "  </svg>\n",
              "      </button>\n",
              "      \n",
              "  <style>\n",
              "    .colab-df-container {\n",
              "      display:flex;\n",
              "      flex-wrap:wrap;\n",
              "      gap: 12px;\n",
              "    }\n",
              "\n",
              "    .colab-df-convert {\n",
              "      background-color: #E8F0FE;\n",
              "      border: none;\n",
              "      border-radius: 50%;\n",
              "      cursor: pointer;\n",
              "      display: none;\n",
              "      fill: #1967D2;\n",
              "      height: 32px;\n",
              "      padding: 0 0 0 0;\n",
              "      width: 32px;\n",
              "    }\n",
              "\n",
              "    .colab-df-convert:hover {\n",
              "      background-color: #E2EBFA;\n",
              "      box-shadow: 0px 1px 2px rgba(60, 64, 67, 0.3), 0px 1px 3px 1px rgba(60, 64, 67, 0.15);\n",
              "      fill: #174EA6;\n",
              "    }\n",
              "\n",
              "    [theme=dark] .colab-df-convert {\n",
              "      background-color: #3B4455;\n",
              "      fill: #D2E3FC;\n",
              "    }\n",
              "\n",
              "    [theme=dark] .colab-df-convert:hover {\n",
              "      background-color: #434B5C;\n",
              "      box-shadow: 0px 1px 3px 1px rgba(0, 0, 0, 0.15);\n",
              "      filter: drop-shadow(0px 1px 2px rgba(0, 0, 0, 0.3));\n",
              "      fill: #FFFFFF;\n",
              "    }\n",
              "  </style>\n",
              "\n",
              "      <script>\n",
              "        const buttonEl =\n",
              "          document.querySelector('#df-681c8205-fd99-4496-ae30-406804142bc4 button.colab-df-convert');\n",
              "        buttonEl.style.display =\n",
              "          google.colab.kernel.accessAllowed ? 'block' : 'none';\n",
              "\n",
              "        async function convertToInteractive(key) {\n",
              "          const element = document.querySelector('#df-681c8205-fd99-4496-ae30-406804142bc4');\n",
              "          const dataTable =\n",
              "            await google.colab.kernel.invokeFunction('convertToInteractive',\n",
              "                                                     [key], {});\n",
              "          if (!dataTable) return;\n",
              "\n",
              "          const docLinkHtml = 'Like what you see? Visit the ' +\n",
              "            '<a target=\"_blank\" href=https://colab.research.google.com/notebooks/data_table.ipynb>data table notebook</a>'\n",
              "            + ' to learn more about interactive tables.';\n",
              "          element.innerHTML = '';\n",
              "          dataTable['output_type'] = 'display_data';\n",
              "          await google.colab.output.renderOutput(dataTable, element);\n",
              "          const docLink = document.createElement('div');\n",
              "          docLink.innerHTML = docLinkHtml;\n",
              "          element.appendChild(docLink);\n",
              "        }\n",
              "      </script>\n",
              "    </div>\n",
              "  </div>\n",
              "  "
            ]
          },
          "metadata": {},
          "execution_count": 11
        }
      ]
    },
    {
      "cell_type": "markdown",
      "source": [
        "* Karena kita tidak membutuhkan fitur *timestamp* maka fitur ini kita buang dengan *.drop()*"
      ],
      "metadata": {
        "id": "_8MtKtsszCCc"
      }
    },
    {
      "cell_type": "code",
      "source": [
        "dfr = dfr.drop('timestamp', axis=1)"
      ],
      "metadata": {
        "id": "P_OIip7RzVDD"
      },
      "execution_count": 12,
      "outputs": []
    },
    {
      "cell_type": "markdown",
      "source": [
        "* Cek lagi untuk memastikan bahwa kolom *timestamp* sudah dihapus"
      ],
      "metadata": {
        "id": "0e4HhklPhWHm"
      }
    },
    {
      "cell_type": "code",
      "source": [
        "dfr.head(3)"
      ],
      "metadata": {
        "colab": {
          "base_uri": "https://localhost:8080/",
          "height": 144
        },
        "id": "ql6pHTregHko",
        "outputId": "6bf8770c-303f-4f90-dea8-66c12a8c0a5b"
      },
      "execution_count": 13,
      "outputs": [
        {
          "output_type": "execute_result",
          "data": {
            "text/plain": [
              "   userId  movieId  rating\n",
              "0       1       31     2.5\n",
              "1       1     1029     3.0\n",
              "2       1     1061     3.0"
            ],
            "text/html": [
              "\n",
              "  <div id=\"df-26f260e5-5343-446f-b1e8-d5fd8694cb15\">\n",
              "    <div class=\"colab-df-container\">\n",
              "      <div>\n",
              "<style scoped>\n",
              "    .dataframe tbody tr th:only-of-type {\n",
              "        vertical-align: middle;\n",
              "    }\n",
              "\n",
              "    .dataframe tbody tr th {\n",
              "        vertical-align: top;\n",
              "    }\n",
              "\n",
              "    .dataframe thead th {\n",
              "        text-align: right;\n",
              "    }\n",
              "</style>\n",
              "<table border=\"1\" class=\"dataframe\">\n",
              "  <thead>\n",
              "    <tr style=\"text-align: right;\">\n",
              "      <th></th>\n",
              "      <th>userId</th>\n",
              "      <th>movieId</th>\n",
              "      <th>rating</th>\n",
              "    </tr>\n",
              "  </thead>\n",
              "  <tbody>\n",
              "    <tr>\n",
              "      <th>0</th>\n",
              "      <td>1</td>\n",
              "      <td>31</td>\n",
              "      <td>2.5</td>\n",
              "    </tr>\n",
              "    <tr>\n",
              "      <th>1</th>\n",
              "      <td>1</td>\n",
              "      <td>1029</td>\n",
              "      <td>3.0</td>\n",
              "    </tr>\n",
              "    <tr>\n",
              "      <th>2</th>\n",
              "      <td>1</td>\n",
              "      <td>1061</td>\n",
              "      <td>3.0</td>\n",
              "    </tr>\n",
              "  </tbody>\n",
              "</table>\n",
              "</div>\n",
              "      <button class=\"colab-df-convert\" onclick=\"convertToInteractive('df-26f260e5-5343-446f-b1e8-d5fd8694cb15')\"\n",
              "              title=\"Convert this dataframe to an interactive table.\"\n",
              "              style=\"display:none;\">\n",
              "        \n",
              "  <svg xmlns=\"http://www.w3.org/2000/svg\" height=\"24px\"viewBox=\"0 0 24 24\"\n",
              "       width=\"24px\">\n",
              "    <path d=\"M0 0h24v24H0V0z\" fill=\"none\"/>\n",
              "    <path d=\"M18.56 5.44l.94 2.06.94-2.06 2.06-.94-2.06-.94-.94-2.06-.94 2.06-2.06.94zm-11 1L8.5 8.5l.94-2.06 2.06-.94-2.06-.94L8.5 2.5l-.94 2.06-2.06.94zm10 10l.94 2.06.94-2.06 2.06-.94-2.06-.94-.94-2.06-.94 2.06-2.06.94z\"/><path d=\"M17.41 7.96l-1.37-1.37c-.4-.4-.92-.59-1.43-.59-.52 0-1.04.2-1.43.59L10.3 9.45l-7.72 7.72c-.78.78-.78 2.05 0 2.83L4 21.41c.39.39.9.59 1.41.59.51 0 1.02-.2 1.41-.59l7.78-7.78 2.81-2.81c.8-.78.8-2.07 0-2.86zM5.41 20L4 18.59l7.72-7.72 1.47 1.35L5.41 20z\"/>\n",
              "  </svg>\n",
              "      </button>\n",
              "      \n",
              "  <style>\n",
              "    .colab-df-container {\n",
              "      display:flex;\n",
              "      flex-wrap:wrap;\n",
              "      gap: 12px;\n",
              "    }\n",
              "\n",
              "    .colab-df-convert {\n",
              "      background-color: #E8F0FE;\n",
              "      border: none;\n",
              "      border-radius: 50%;\n",
              "      cursor: pointer;\n",
              "      display: none;\n",
              "      fill: #1967D2;\n",
              "      height: 32px;\n",
              "      padding: 0 0 0 0;\n",
              "      width: 32px;\n",
              "    }\n",
              "\n",
              "    .colab-df-convert:hover {\n",
              "      background-color: #E2EBFA;\n",
              "      box-shadow: 0px 1px 2px rgba(60, 64, 67, 0.3), 0px 1px 3px 1px rgba(60, 64, 67, 0.15);\n",
              "      fill: #174EA6;\n",
              "    }\n",
              "\n",
              "    [theme=dark] .colab-df-convert {\n",
              "      background-color: #3B4455;\n",
              "      fill: #D2E3FC;\n",
              "    }\n",
              "\n",
              "    [theme=dark] .colab-df-convert:hover {\n",
              "      background-color: #434B5C;\n",
              "      box-shadow: 0px 1px 3px 1px rgba(0, 0, 0, 0.15);\n",
              "      filter: drop-shadow(0px 1px 2px rgba(0, 0, 0, 0.3));\n",
              "      fill: #FFFFFF;\n",
              "    }\n",
              "  </style>\n",
              "\n",
              "      <script>\n",
              "        const buttonEl =\n",
              "          document.querySelector('#df-26f260e5-5343-446f-b1e8-d5fd8694cb15 button.colab-df-convert');\n",
              "        buttonEl.style.display =\n",
              "          google.colab.kernel.accessAllowed ? 'block' : 'none';\n",
              "\n",
              "        async function convertToInteractive(key) {\n",
              "          const element = document.querySelector('#df-26f260e5-5343-446f-b1e8-d5fd8694cb15');\n",
              "          const dataTable =\n",
              "            await google.colab.kernel.invokeFunction('convertToInteractive',\n",
              "                                                     [key], {});\n",
              "          if (!dataTable) return;\n",
              "\n",
              "          const docLinkHtml = 'Like what you see? Visit the ' +\n",
              "            '<a target=\"_blank\" href=https://colab.research.google.com/notebooks/data_table.ipynb>data table notebook</a>'\n",
              "            + ' to learn more about interactive tables.';\n",
              "          element.innerHTML = '';\n",
              "          dataTable['output_type'] = 'display_data';\n",
              "          await google.colab.output.renderOutput(dataTable, element);\n",
              "          const docLink = document.createElement('div');\n",
              "          docLink.innerHTML = docLinkHtml;\n",
              "          element.appendChild(docLink);\n",
              "        }\n",
              "      </script>\n",
              "    </div>\n",
              "  </div>\n",
              "  "
            ]
          },
          "metadata": {},
          "execution_count": 13
        }
      ]
    },
    {
      "cell_type": "markdown",
      "source": [
        "* Cek berapa banyak user *unique* pada dataset.\n",
        "* Cek berapa banyak Id *unique movie* pada dataset.\n",
        "* Cek rentang skala *rating* jumlah rating yang diberikan oleh user."
      ],
      "metadata": {
        "id": "yok9Wz22u9X_"
      }
    },
    {
      "cell_type": "code",
      "source": [
        "print('Banyak unique user dalam dataset adalah : ', len(dfr['userId'].unique()))\n",
        "print('Banyak unique movieId dalam dataset adalah : ', len(dfr['movieId'].unique()))\n",
        "print('Rentang skala yang diberikan oleh user untuk movie adalah: ', len(dfr.rating.unique()))"
      ],
      "metadata": {
        "colab": {
          "base_uri": "https://localhost:8080/"
        },
        "id": "096YEOTapivv",
        "outputId": "9db99217-d8e4-4fec-fff2-d78d334046b4"
      },
      "execution_count": 14,
      "outputs": [
        {
          "output_type": "stream",
          "name": "stdout",
          "text": [
            "Banyak unique user dalam dataset adalah :  671\n",
            "Banyak unique movieId dalam dataset adalah :  9066\n",
            "Rentang skala yang diberikan oleh user untuk movie adalah:  10\n"
          ]
        }
      ]
    },
    {
      "cell_type": "markdown",
      "source": [
        "####***movies.csv***"
      ],
      "metadata": {
        "id": "00DPDLALjM-5"
      }
    },
    {
      "cell_type": "markdown",
      "source": [
        "* Cek info dataset dengan fitur .info() untuk mengetahui apa saja variabel serta tipe variabelnya dan panjang data di dalam dataset"
      ],
      "metadata": {
        "id": "sjNLMUNKkoP5"
      }
    },
    {
      "cell_type": "code",
      "source": [
        "dfm.info()"
      ],
      "metadata": {
        "id": "lKESiwrCkg15",
        "colab": {
          "base_uri": "https://localhost:8080/"
        },
        "outputId": "86f9fdd4-7dea-4f19-f4c9-cb854f2fd604"
      },
      "execution_count": 15,
      "outputs": [
        {
          "output_type": "stream",
          "name": "stdout",
          "text": [
            "<class 'pandas.core.frame.DataFrame'>\n",
            "RangeIndex: 9125 entries, 0 to 9124\n",
            "Data columns (total 3 columns):\n",
            " #   Column   Non-Null Count  Dtype \n",
            "---  ------   --------------  ----- \n",
            " 0   movieId  9125 non-null   int64 \n",
            " 1   title    9125 non-null   object\n",
            " 2   genres   9125 non-null   object\n",
            "dtypes: int64(1), object(2)\n",
            "memory usage: 214.0+ KB\n"
          ]
        }
      ]
    },
    {
      "cell_type": "markdown",
      "source": [
        "* Menampilkan isi dataset variabel *dfm* secara umum"
      ],
      "metadata": {
        "id": "3nYYu-XYkqfR"
      }
    },
    {
      "cell_type": "code",
      "source": [
        "dfm"
      ],
      "metadata": {
        "colab": {
          "base_uri": "https://localhost:8080/",
          "height": 424
        },
        "id": "asKTH4Xr2MCj",
        "outputId": "5b14ae42-6b58-4515-c143-a0649f81b118"
      },
      "execution_count": 16,
      "outputs": [
        {
          "output_type": "execute_result",
          "data": {
            "text/plain": [
              "      movieId                                              title  \\\n",
              "0           1                                   Toy Story (1995)   \n",
              "1           2                                     Jumanji (1995)   \n",
              "2           3                            Grumpier Old Men (1995)   \n",
              "3           4                           Waiting to Exhale (1995)   \n",
              "4           5                 Father of the Bride Part II (1995)   \n",
              "...       ...                                                ...   \n",
              "9120   162672                                Mohenjo Daro (2016)   \n",
              "9121   163056                               Shin Godzilla (2016)   \n",
              "9122   163949  The Beatles: Eight Days a Week - The Touring Y...   \n",
              "9123   164977                           The Gay Desperado (1936)   \n",
              "9124   164979                              Women of '69, Unboxed   \n",
              "\n",
              "                                           genres  \n",
              "0     Adventure|Animation|Children|Comedy|Fantasy  \n",
              "1                      Adventure|Children|Fantasy  \n",
              "2                                  Comedy|Romance  \n",
              "3                            Comedy|Drama|Romance  \n",
              "4                                          Comedy  \n",
              "...                                           ...  \n",
              "9120                      Adventure|Drama|Romance  \n",
              "9121              Action|Adventure|Fantasy|Sci-Fi  \n",
              "9122                                  Documentary  \n",
              "9123                                       Comedy  \n",
              "9124                                  Documentary  \n",
              "\n",
              "[9125 rows x 3 columns]"
            ],
            "text/html": [
              "\n",
              "  <div id=\"df-e79cdb76-63bd-4d63-a390-c73c52369df9\">\n",
              "    <div class=\"colab-df-container\">\n",
              "      <div>\n",
              "<style scoped>\n",
              "    .dataframe tbody tr th:only-of-type {\n",
              "        vertical-align: middle;\n",
              "    }\n",
              "\n",
              "    .dataframe tbody tr th {\n",
              "        vertical-align: top;\n",
              "    }\n",
              "\n",
              "    .dataframe thead th {\n",
              "        text-align: right;\n",
              "    }\n",
              "</style>\n",
              "<table border=\"1\" class=\"dataframe\">\n",
              "  <thead>\n",
              "    <tr style=\"text-align: right;\">\n",
              "      <th></th>\n",
              "      <th>movieId</th>\n",
              "      <th>title</th>\n",
              "      <th>genres</th>\n",
              "    </tr>\n",
              "  </thead>\n",
              "  <tbody>\n",
              "    <tr>\n",
              "      <th>0</th>\n",
              "      <td>1</td>\n",
              "      <td>Toy Story (1995)</td>\n",
              "      <td>Adventure|Animation|Children|Comedy|Fantasy</td>\n",
              "    </tr>\n",
              "    <tr>\n",
              "      <th>1</th>\n",
              "      <td>2</td>\n",
              "      <td>Jumanji (1995)</td>\n",
              "      <td>Adventure|Children|Fantasy</td>\n",
              "    </tr>\n",
              "    <tr>\n",
              "      <th>2</th>\n",
              "      <td>3</td>\n",
              "      <td>Grumpier Old Men (1995)</td>\n",
              "      <td>Comedy|Romance</td>\n",
              "    </tr>\n",
              "    <tr>\n",
              "      <th>3</th>\n",
              "      <td>4</td>\n",
              "      <td>Waiting to Exhale (1995)</td>\n",
              "      <td>Comedy|Drama|Romance</td>\n",
              "    </tr>\n",
              "    <tr>\n",
              "      <th>4</th>\n",
              "      <td>5</td>\n",
              "      <td>Father of the Bride Part II (1995)</td>\n",
              "      <td>Comedy</td>\n",
              "    </tr>\n",
              "    <tr>\n",
              "      <th>...</th>\n",
              "      <td>...</td>\n",
              "      <td>...</td>\n",
              "      <td>...</td>\n",
              "    </tr>\n",
              "    <tr>\n",
              "      <th>9120</th>\n",
              "      <td>162672</td>\n",
              "      <td>Mohenjo Daro (2016)</td>\n",
              "      <td>Adventure|Drama|Romance</td>\n",
              "    </tr>\n",
              "    <tr>\n",
              "      <th>9121</th>\n",
              "      <td>163056</td>\n",
              "      <td>Shin Godzilla (2016)</td>\n",
              "      <td>Action|Adventure|Fantasy|Sci-Fi</td>\n",
              "    </tr>\n",
              "    <tr>\n",
              "      <th>9122</th>\n",
              "      <td>163949</td>\n",
              "      <td>The Beatles: Eight Days a Week - The Touring Y...</td>\n",
              "      <td>Documentary</td>\n",
              "    </tr>\n",
              "    <tr>\n",
              "      <th>9123</th>\n",
              "      <td>164977</td>\n",
              "      <td>The Gay Desperado (1936)</td>\n",
              "      <td>Comedy</td>\n",
              "    </tr>\n",
              "    <tr>\n",
              "      <th>9124</th>\n",
              "      <td>164979</td>\n",
              "      <td>Women of '69, Unboxed</td>\n",
              "      <td>Documentary</td>\n",
              "    </tr>\n",
              "  </tbody>\n",
              "</table>\n",
              "<p>9125 rows × 3 columns</p>\n",
              "</div>\n",
              "      <button class=\"colab-df-convert\" onclick=\"convertToInteractive('df-e79cdb76-63bd-4d63-a390-c73c52369df9')\"\n",
              "              title=\"Convert this dataframe to an interactive table.\"\n",
              "              style=\"display:none;\">\n",
              "        \n",
              "  <svg xmlns=\"http://www.w3.org/2000/svg\" height=\"24px\"viewBox=\"0 0 24 24\"\n",
              "       width=\"24px\">\n",
              "    <path d=\"M0 0h24v24H0V0z\" fill=\"none\"/>\n",
              "    <path d=\"M18.56 5.44l.94 2.06.94-2.06 2.06-.94-2.06-.94-.94-2.06-.94 2.06-2.06.94zm-11 1L8.5 8.5l.94-2.06 2.06-.94-2.06-.94L8.5 2.5l-.94 2.06-2.06.94zm10 10l.94 2.06.94-2.06 2.06-.94-2.06-.94-.94-2.06-.94 2.06-2.06.94z\"/><path d=\"M17.41 7.96l-1.37-1.37c-.4-.4-.92-.59-1.43-.59-.52 0-1.04.2-1.43.59L10.3 9.45l-7.72 7.72c-.78.78-.78 2.05 0 2.83L4 21.41c.39.39.9.59 1.41.59.51 0 1.02-.2 1.41-.59l7.78-7.78 2.81-2.81c.8-.78.8-2.07 0-2.86zM5.41 20L4 18.59l7.72-7.72 1.47 1.35L5.41 20z\"/>\n",
              "  </svg>\n",
              "      </button>\n",
              "      \n",
              "  <style>\n",
              "    .colab-df-container {\n",
              "      display:flex;\n",
              "      flex-wrap:wrap;\n",
              "      gap: 12px;\n",
              "    }\n",
              "\n",
              "    .colab-df-convert {\n",
              "      background-color: #E8F0FE;\n",
              "      border: none;\n",
              "      border-radius: 50%;\n",
              "      cursor: pointer;\n",
              "      display: none;\n",
              "      fill: #1967D2;\n",
              "      height: 32px;\n",
              "      padding: 0 0 0 0;\n",
              "      width: 32px;\n",
              "    }\n",
              "\n",
              "    .colab-df-convert:hover {\n",
              "      background-color: #E2EBFA;\n",
              "      box-shadow: 0px 1px 2px rgba(60, 64, 67, 0.3), 0px 1px 3px 1px rgba(60, 64, 67, 0.15);\n",
              "      fill: #174EA6;\n",
              "    }\n",
              "\n",
              "    [theme=dark] .colab-df-convert {\n",
              "      background-color: #3B4455;\n",
              "      fill: #D2E3FC;\n",
              "    }\n",
              "\n",
              "    [theme=dark] .colab-df-convert:hover {\n",
              "      background-color: #434B5C;\n",
              "      box-shadow: 0px 1px 3px 1px rgba(0, 0, 0, 0.15);\n",
              "      filter: drop-shadow(0px 1px 2px rgba(0, 0, 0, 0.3));\n",
              "      fill: #FFFFFF;\n",
              "    }\n",
              "  </style>\n",
              "\n",
              "      <script>\n",
              "        const buttonEl =\n",
              "          document.querySelector('#df-e79cdb76-63bd-4d63-a390-c73c52369df9 button.colab-df-convert');\n",
              "        buttonEl.style.display =\n",
              "          google.colab.kernel.accessAllowed ? 'block' : 'none';\n",
              "\n",
              "        async function convertToInteractive(key) {\n",
              "          const element = document.querySelector('#df-e79cdb76-63bd-4d63-a390-c73c52369df9');\n",
              "          const dataTable =\n",
              "            await google.colab.kernel.invokeFunction('convertToInteractive',\n",
              "                                                     [key], {});\n",
              "          if (!dataTable) return;\n",
              "\n",
              "          const docLinkHtml = 'Like what you see? Visit the ' +\n",
              "            '<a target=\"_blank\" href=https://colab.research.google.com/notebooks/data_table.ipynb>data table notebook</a>'\n",
              "            + ' to learn more about interactive tables.';\n",
              "          element.innerHTML = '';\n",
              "          dataTable['output_type'] = 'display_data';\n",
              "          await google.colab.output.renderOutput(dataTable, element);\n",
              "          const docLink = document.createElement('div');\n",
              "          docLink.innerHTML = docLinkHtml;\n",
              "          element.appendChild(docLink);\n",
              "        }\n",
              "      </script>\n",
              "    </div>\n",
              "  </div>\n",
              "  "
            ]
          },
          "metadata": {},
          "execution_count": 16
        }
      ]
    },
    {
      "cell_type": "markdown",
      "source": [
        "* Cek berapa banyak *unique movieId* pada dataset variabel dfm.\n",
        "* Cek berapa banyak film pada dataset.\n",
        "* Cek berapa banyak genre film pada dataset."
      ],
      "metadata": {
        "id": "bOxD1A2ylOon"
      }
    },
    {
      "cell_type": "code",
      "source": [
        "print('Banyak unique movieId dalam dataset adalah : ', len(dfm['movieId'].unique()))\n",
        "print('Banyak unique title dalam dataset adalah : ', len(dfm['title'].unique()))\n",
        "print('Banyak unique genres dalam dataset adalah : ', len(dfm['genres'].unique()))"
      ],
      "metadata": {
        "id": "4qcXNXqTjsV2",
        "colab": {
          "base_uri": "https://localhost:8080/"
        },
        "outputId": "f303bbb3-b208-4608-e172-94f8df2735ca"
      },
      "execution_count": 17,
      "outputs": [
        {
          "output_type": "stream",
          "name": "stdout",
          "text": [
            "Banyak unique movieId dalam dataset adalah :  9125\n",
            "Banyak unique title dalam dataset adalah :  9123\n",
            "Banyak unique genres dalam dataset adalah :  902\n"
          ]
        }
      ]
    },
    {
      "cell_type": "markdown",
      "source": [
        "####***movie_df***"
      ],
      "metadata": {
        "id": "E2PMwtEllw4u"
      }
    },
    {
      "cell_type": "markdown",
      "source": [
        "* Menggabungkan variabel *dfm* dan *dfr* menjadi satu variabel"
      ],
      "metadata": {
        "id": "FNTxNYeOmS10"
      }
    },
    {
      "cell_type": "code",
      "source": [
        "movie_df = pd.merge(dfm, dfr, on='movieId', how='left')\n",
        "movie_df"
      ],
      "metadata": {
        "colab": {
          "base_uri": "https://localhost:8080/",
          "height": 424
        },
        "id": "KVx7Mo3a3Wli",
        "outputId": "e367b562-82b5-4e1f-ee42-3d50ce51e8f4"
      },
      "execution_count": 18,
      "outputs": [
        {
          "output_type": "execute_result",
          "data": {
            "text/plain": [
              "        movieId                                              title  \\\n",
              "0             1                                   Toy Story (1995)   \n",
              "1             1                                   Toy Story (1995)   \n",
              "2             1                                   Toy Story (1995)   \n",
              "3             1                                   Toy Story (1995)   \n",
              "4             1                                   Toy Story (1995)   \n",
              "...         ...                                                ...   \n",
              "100058   162672                                Mohenjo Daro (2016)   \n",
              "100059   163056                               Shin Godzilla (2016)   \n",
              "100060   163949  The Beatles: Eight Days a Week - The Touring Y...   \n",
              "100061   164977                           The Gay Desperado (1936)   \n",
              "100062   164979                              Women of '69, Unboxed   \n",
              "\n",
              "                                             genres  userId  rating  \n",
              "0       Adventure|Animation|Children|Comedy|Fantasy     7.0     3.0  \n",
              "1       Adventure|Animation|Children|Comedy|Fantasy     9.0     4.0  \n",
              "2       Adventure|Animation|Children|Comedy|Fantasy    13.0     5.0  \n",
              "3       Adventure|Animation|Children|Comedy|Fantasy    15.0     2.0  \n",
              "4       Adventure|Animation|Children|Comedy|Fantasy    19.0     3.0  \n",
              "...                                             ...     ...     ...  \n",
              "100058                      Adventure|Drama|Romance   611.0     3.0  \n",
              "100059              Action|Adventure|Fantasy|Sci-Fi     NaN     NaN  \n",
              "100060                                  Documentary   547.0     5.0  \n",
              "100061                                       Comedy     NaN     NaN  \n",
              "100062                                  Documentary     NaN     NaN  \n",
              "\n",
              "[100063 rows x 5 columns]"
            ],
            "text/html": [
              "\n",
              "  <div id=\"df-a93001b5-4eda-4ce3-afa2-ab78b08ff516\">\n",
              "    <div class=\"colab-df-container\">\n",
              "      <div>\n",
              "<style scoped>\n",
              "    .dataframe tbody tr th:only-of-type {\n",
              "        vertical-align: middle;\n",
              "    }\n",
              "\n",
              "    .dataframe tbody tr th {\n",
              "        vertical-align: top;\n",
              "    }\n",
              "\n",
              "    .dataframe thead th {\n",
              "        text-align: right;\n",
              "    }\n",
              "</style>\n",
              "<table border=\"1\" class=\"dataframe\">\n",
              "  <thead>\n",
              "    <tr style=\"text-align: right;\">\n",
              "      <th></th>\n",
              "      <th>movieId</th>\n",
              "      <th>title</th>\n",
              "      <th>genres</th>\n",
              "      <th>userId</th>\n",
              "      <th>rating</th>\n",
              "    </tr>\n",
              "  </thead>\n",
              "  <tbody>\n",
              "    <tr>\n",
              "      <th>0</th>\n",
              "      <td>1</td>\n",
              "      <td>Toy Story (1995)</td>\n",
              "      <td>Adventure|Animation|Children|Comedy|Fantasy</td>\n",
              "      <td>7.0</td>\n",
              "      <td>3.0</td>\n",
              "    </tr>\n",
              "    <tr>\n",
              "      <th>1</th>\n",
              "      <td>1</td>\n",
              "      <td>Toy Story (1995)</td>\n",
              "      <td>Adventure|Animation|Children|Comedy|Fantasy</td>\n",
              "      <td>9.0</td>\n",
              "      <td>4.0</td>\n",
              "    </tr>\n",
              "    <tr>\n",
              "      <th>2</th>\n",
              "      <td>1</td>\n",
              "      <td>Toy Story (1995)</td>\n",
              "      <td>Adventure|Animation|Children|Comedy|Fantasy</td>\n",
              "      <td>13.0</td>\n",
              "      <td>5.0</td>\n",
              "    </tr>\n",
              "    <tr>\n",
              "      <th>3</th>\n",
              "      <td>1</td>\n",
              "      <td>Toy Story (1995)</td>\n",
              "      <td>Adventure|Animation|Children|Comedy|Fantasy</td>\n",
              "      <td>15.0</td>\n",
              "      <td>2.0</td>\n",
              "    </tr>\n",
              "    <tr>\n",
              "      <th>4</th>\n",
              "      <td>1</td>\n",
              "      <td>Toy Story (1995)</td>\n",
              "      <td>Adventure|Animation|Children|Comedy|Fantasy</td>\n",
              "      <td>19.0</td>\n",
              "      <td>3.0</td>\n",
              "    </tr>\n",
              "    <tr>\n",
              "      <th>...</th>\n",
              "      <td>...</td>\n",
              "      <td>...</td>\n",
              "      <td>...</td>\n",
              "      <td>...</td>\n",
              "      <td>...</td>\n",
              "    </tr>\n",
              "    <tr>\n",
              "      <th>100058</th>\n",
              "      <td>162672</td>\n",
              "      <td>Mohenjo Daro (2016)</td>\n",
              "      <td>Adventure|Drama|Romance</td>\n",
              "      <td>611.0</td>\n",
              "      <td>3.0</td>\n",
              "    </tr>\n",
              "    <tr>\n",
              "      <th>100059</th>\n",
              "      <td>163056</td>\n",
              "      <td>Shin Godzilla (2016)</td>\n",
              "      <td>Action|Adventure|Fantasy|Sci-Fi</td>\n",
              "      <td>NaN</td>\n",
              "      <td>NaN</td>\n",
              "    </tr>\n",
              "    <tr>\n",
              "      <th>100060</th>\n",
              "      <td>163949</td>\n",
              "      <td>The Beatles: Eight Days a Week - The Touring Y...</td>\n",
              "      <td>Documentary</td>\n",
              "      <td>547.0</td>\n",
              "      <td>5.0</td>\n",
              "    </tr>\n",
              "    <tr>\n",
              "      <th>100061</th>\n",
              "      <td>164977</td>\n",
              "      <td>The Gay Desperado (1936)</td>\n",
              "      <td>Comedy</td>\n",
              "      <td>NaN</td>\n",
              "      <td>NaN</td>\n",
              "    </tr>\n",
              "    <tr>\n",
              "      <th>100062</th>\n",
              "      <td>164979</td>\n",
              "      <td>Women of '69, Unboxed</td>\n",
              "      <td>Documentary</td>\n",
              "      <td>NaN</td>\n",
              "      <td>NaN</td>\n",
              "    </tr>\n",
              "  </tbody>\n",
              "</table>\n",
              "<p>100063 rows × 5 columns</p>\n",
              "</div>\n",
              "      <button class=\"colab-df-convert\" onclick=\"convertToInteractive('df-a93001b5-4eda-4ce3-afa2-ab78b08ff516')\"\n",
              "              title=\"Convert this dataframe to an interactive table.\"\n",
              "              style=\"display:none;\">\n",
              "        \n",
              "  <svg xmlns=\"http://www.w3.org/2000/svg\" height=\"24px\"viewBox=\"0 0 24 24\"\n",
              "       width=\"24px\">\n",
              "    <path d=\"M0 0h24v24H0V0z\" fill=\"none\"/>\n",
              "    <path d=\"M18.56 5.44l.94 2.06.94-2.06 2.06-.94-2.06-.94-.94-2.06-.94 2.06-2.06.94zm-11 1L8.5 8.5l.94-2.06 2.06-.94-2.06-.94L8.5 2.5l-.94 2.06-2.06.94zm10 10l.94 2.06.94-2.06 2.06-.94-2.06-.94-.94-2.06-.94 2.06-2.06.94z\"/><path d=\"M17.41 7.96l-1.37-1.37c-.4-.4-.92-.59-1.43-.59-.52 0-1.04.2-1.43.59L10.3 9.45l-7.72 7.72c-.78.78-.78 2.05 0 2.83L4 21.41c.39.39.9.59 1.41.59.51 0 1.02-.2 1.41-.59l7.78-7.78 2.81-2.81c.8-.78.8-2.07 0-2.86zM5.41 20L4 18.59l7.72-7.72 1.47 1.35L5.41 20z\"/>\n",
              "  </svg>\n",
              "      </button>\n",
              "      \n",
              "  <style>\n",
              "    .colab-df-container {\n",
              "      display:flex;\n",
              "      flex-wrap:wrap;\n",
              "      gap: 12px;\n",
              "    }\n",
              "\n",
              "    .colab-df-convert {\n",
              "      background-color: #E8F0FE;\n",
              "      border: none;\n",
              "      border-radius: 50%;\n",
              "      cursor: pointer;\n",
              "      display: none;\n",
              "      fill: #1967D2;\n",
              "      height: 32px;\n",
              "      padding: 0 0 0 0;\n",
              "      width: 32px;\n",
              "    }\n",
              "\n",
              "    .colab-df-convert:hover {\n",
              "      background-color: #E2EBFA;\n",
              "      box-shadow: 0px 1px 2px rgba(60, 64, 67, 0.3), 0px 1px 3px 1px rgba(60, 64, 67, 0.15);\n",
              "      fill: #174EA6;\n",
              "    }\n",
              "\n",
              "    [theme=dark] .colab-df-convert {\n",
              "      background-color: #3B4455;\n",
              "      fill: #D2E3FC;\n",
              "    }\n",
              "\n",
              "    [theme=dark] .colab-df-convert:hover {\n",
              "      background-color: #434B5C;\n",
              "      box-shadow: 0px 1px 3px 1px rgba(0, 0, 0, 0.15);\n",
              "      filter: drop-shadow(0px 1px 2px rgba(0, 0, 0, 0.3));\n",
              "      fill: #FFFFFF;\n",
              "    }\n",
              "  </style>\n",
              "\n",
              "      <script>\n",
              "        const buttonEl =\n",
              "          document.querySelector('#df-a93001b5-4eda-4ce3-afa2-ab78b08ff516 button.colab-df-convert');\n",
              "        buttonEl.style.display =\n",
              "          google.colab.kernel.accessAllowed ? 'block' : 'none';\n",
              "\n",
              "        async function convertToInteractive(key) {\n",
              "          const element = document.querySelector('#df-a93001b5-4eda-4ce3-afa2-ab78b08ff516');\n",
              "          const dataTable =\n",
              "            await google.colab.kernel.invokeFunction('convertToInteractive',\n",
              "                                                     [key], {});\n",
              "          if (!dataTable) return;\n",
              "\n",
              "          const docLinkHtml = 'Like what you see? Visit the ' +\n",
              "            '<a target=\"_blank\" href=https://colab.research.google.com/notebooks/data_table.ipynb>data table notebook</a>'\n",
              "            + ' to learn more about interactive tables.';\n",
              "          element.innerHTML = '';\n",
              "          dataTable['output_type'] = 'display_data';\n",
              "          await google.colab.output.renderOutput(dataTable, element);\n",
              "          const docLink = document.createElement('div');\n",
              "          docLink.innerHTML = docLinkHtml;\n",
              "          element.appendChild(docLink);\n",
              "        }\n",
              "      </script>\n",
              "    </div>\n",
              "  </div>\n",
              "  "
            ]
          },
          "metadata": {},
          "execution_count": 18
        }
      ]
    },
    {
      "cell_type": "markdown",
      "source": [
        "* Karena ada perbedaan jumlah movieId dan movieId dengan titile, mari kita cek berapa jumlah nilai yang kosong"
      ],
      "metadata": {
        "id": "p1xZ4xy5ni4-"
      }
    },
    {
      "cell_type": "code",
      "source": [
        "movie_df.isnull().sum()"
      ],
      "metadata": {
        "colab": {
          "base_uri": "https://localhost:8080/"
        },
        "id": "b84jHthVOCpz",
        "outputId": "2ea83b3a-6d3b-4d31-f743-971103c0c959"
      },
      "execution_count": 19,
      "outputs": [
        {
          "output_type": "execute_result",
          "data": {
            "text/plain": [
              "movieId     0\n",
              "title       0\n",
              "genres      0\n",
              "userId     59\n",
              "rating     59\n",
              "dtype: int64"
            ]
          },
          "metadata": {},
          "execution_count": 19
        }
      ]
    },
    {
      "cell_type": "markdown",
      "source": [
        "* Membuang / menghapus nilai yang kosong\n",
        "* Setelah itu cek lagi untuk memastikan bahwa nilai yang kosong tersebut sudah dihapus"
      ],
      "metadata": {
        "id": "JMkTTb2EntYk"
      }
    },
    {
      "cell_type": "code",
      "source": [
        "movie_df = movie_df.dropna()\n",
        "movie_df.isnull().sum()"
      ],
      "metadata": {
        "colab": {
          "base_uri": "https://localhost:8080/"
        },
        "id": "PzAYNII4OQF7",
        "outputId": "dae4be9d-94c1-46ca-8863-a3249994580f"
      },
      "execution_count": 20,
      "outputs": [
        {
          "output_type": "execute_result",
          "data": {
            "text/plain": [
              "movieId    0\n",
              "title      0\n",
              "genres     0\n",
              "userId     0\n",
              "rating     0\n",
              "dtype: int64"
            ]
          },
          "metadata": {},
          "execution_count": 20
        }
      ]
    },
    {
      "cell_type": "markdown",
      "source": [
        "* Menampilkan statistik deskriptif dataset"
      ],
      "metadata": {
        "id": "AEAAqBU8pX3z"
      }
    },
    {
      "cell_type": "code",
      "source": [
        "movie_df.describe()"
      ],
      "metadata": {
        "id": "SlkswbFEpT7w",
        "colab": {
          "base_uri": "https://localhost:8080/",
          "height": 300
        },
        "outputId": "a0d930ea-7b16-42fc-d586-4beef7c6033f"
      },
      "execution_count": 21,
      "outputs": [
        {
          "output_type": "execute_result",
          "data": {
            "text/plain": [
              "             movieId         userId         rating\n",
              "count  100004.000000  100004.000000  100004.000000\n",
              "mean    12548.664363     347.011310       3.543608\n",
              "std     26369.198969     195.163838       1.058064\n",
              "min         1.000000       1.000000       0.500000\n",
              "25%      1028.000000     182.000000       3.000000\n",
              "50%      2406.500000     367.000000       4.000000\n",
              "75%      5418.000000     520.000000       4.000000\n",
              "max    163949.000000     671.000000       5.000000"
            ],
            "text/html": [
              "\n",
              "  <div id=\"df-32d52492-06fa-4627-be7c-2ad32cdb4d2c\">\n",
              "    <div class=\"colab-df-container\">\n",
              "      <div>\n",
              "<style scoped>\n",
              "    .dataframe tbody tr th:only-of-type {\n",
              "        vertical-align: middle;\n",
              "    }\n",
              "\n",
              "    .dataframe tbody tr th {\n",
              "        vertical-align: top;\n",
              "    }\n",
              "\n",
              "    .dataframe thead th {\n",
              "        text-align: right;\n",
              "    }\n",
              "</style>\n",
              "<table border=\"1\" class=\"dataframe\">\n",
              "  <thead>\n",
              "    <tr style=\"text-align: right;\">\n",
              "      <th></th>\n",
              "      <th>movieId</th>\n",
              "      <th>userId</th>\n",
              "      <th>rating</th>\n",
              "    </tr>\n",
              "  </thead>\n",
              "  <tbody>\n",
              "    <tr>\n",
              "      <th>count</th>\n",
              "      <td>100004.000000</td>\n",
              "      <td>100004.000000</td>\n",
              "      <td>100004.000000</td>\n",
              "    </tr>\n",
              "    <tr>\n",
              "      <th>mean</th>\n",
              "      <td>12548.664363</td>\n",
              "      <td>347.011310</td>\n",
              "      <td>3.543608</td>\n",
              "    </tr>\n",
              "    <tr>\n",
              "      <th>std</th>\n",
              "      <td>26369.198969</td>\n",
              "      <td>195.163838</td>\n",
              "      <td>1.058064</td>\n",
              "    </tr>\n",
              "    <tr>\n",
              "      <th>min</th>\n",
              "      <td>1.000000</td>\n",
              "      <td>1.000000</td>\n",
              "      <td>0.500000</td>\n",
              "    </tr>\n",
              "    <tr>\n",
              "      <th>25%</th>\n",
              "      <td>1028.000000</td>\n",
              "      <td>182.000000</td>\n",
              "      <td>3.000000</td>\n",
              "    </tr>\n",
              "    <tr>\n",
              "      <th>50%</th>\n",
              "      <td>2406.500000</td>\n",
              "      <td>367.000000</td>\n",
              "      <td>4.000000</td>\n",
              "    </tr>\n",
              "    <tr>\n",
              "      <th>75%</th>\n",
              "      <td>5418.000000</td>\n",
              "      <td>520.000000</td>\n",
              "      <td>4.000000</td>\n",
              "    </tr>\n",
              "    <tr>\n",
              "      <th>max</th>\n",
              "      <td>163949.000000</td>\n",
              "      <td>671.000000</td>\n",
              "      <td>5.000000</td>\n",
              "    </tr>\n",
              "  </tbody>\n",
              "</table>\n",
              "</div>\n",
              "      <button class=\"colab-df-convert\" onclick=\"convertToInteractive('df-32d52492-06fa-4627-be7c-2ad32cdb4d2c')\"\n",
              "              title=\"Convert this dataframe to an interactive table.\"\n",
              "              style=\"display:none;\">\n",
              "        \n",
              "  <svg xmlns=\"http://www.w3.org/2000/svg\" height=\"24px\"viewBox=\"0 0 24 24\"\n",
              "       width=\"24px\">\n",
              "    <path d=\"M0 0h24v24H0V0z\" fill=\"none\"/>\n",
              "    <path d=\"M18.56 5.44l.94 2.06.94-2.06 2.06-.94-2.06-.94-.94-2.06-.94 2.06-2.06.94zm-11 1L8.5 8.5l.94-2.06 2.06-.94-2.06-.94L8.5 2.5l-.94 2.06-2.06.94zm10 10l.94 2.06.94-2.06 2.06-.94-2.06-.94-.94-2.06-.94 2.06-2.06.94z\"/><path d=\"M17.41 7.96l-1.37-1.37c-.4-.4-.92-.59-1.43-.59-.52 0-1.04.2-1.43.59L10.3 9.45l-7.72 7.72c-.78.78-.78 2.05 0 2.83L4 21.41c.39.39.9.59 1.41.59.51 0 1.02-.2 1.41-.59l7.78-7.78 2.81-2.81c.8-.78.8-2.07 0-2.86zM5.41 20L4 18.59l7.72-7.72 1.47 1.35L5.41 20z\"/>\n",
              "  </svg>\n",
              "      </button>\n",
              "      \n",
              "  <style>\n",
              "    .colab-df-container {\n",
              "      display:flex;\n",
              "      flex-wrap:wrap;\n",
              "      gap: 12px;\n",
              "    }\n",
              "\n",
              "    .colab-df-convert {\n",
              "      background-color: #E8F0FE;\n",
              "      border: none;\n",
              "      border-radius: 50%;\n",
              "      cursor: pointer;\n",
              "      display: none;\n",
              "      fill: #1967D2;\n",
              "      height: 32px;\n",
              "      padding: 0 0 0 0;\n",
              "      width: 32px;\n",
              "    }\n",
              "\n",
              "    .colab-df-convert:hover {\n",
              "      background-color: #E2EBFA;\n",
              "      box-shadow: 0px 1px 2px rgba(60, 64, 67, 0.3), 0px 1px 3px 1px rgba(60, 64, 67, 0.15);\n",
              "      fill: #174EA6;\n",
              "    }\n",
              "\n",
              "    [theme=dark] .colab-df-convert {\n",
              "      background-color: #3B4455;\n",
              "      fill: #D2E3FC;\n",
              "    }\n",
              "\n",
              "    [theme=dark] .colab-df-convert:hover {\n",
              "      background-color: #434B5C;\n",
              "      box-shadow: 0px 1px 3px 1px rgba(0, 0, 0, 0.15);\n",
              "      filter: drop-shadow(0px 1px 2px rgba(0, 0, 0, 0.3));\n",
              "      fill: #FFFFFF;\n",
              "    }\n",
              "  </style>\n",
              "\n",
              "      <script>\n",
              "        const buttonEl =\n",
              "          document.querySelector('#df-32d52492-06fa-4627-be7c-2ad32cdb4d2c button.colab-df-convert');\n",
              "        buttonEl.style.display =\n",
              "          google.colab.kernel.accessAllowed ? 'block' : 'none';\n",
              "\n",
              "        async function convertToInteractive(key) {\n",
              "          const element = document.querySelector('#df-32d52492-06fa-4627-be7c-2ad32cdb4d2c');\n",
              "          const dataTable =\n",
              "            await google.colab.kernel.invokeFunction('convertToInteractive',\n",
              "                                                     [key], {});\n",
              "          if (!dataTable) return;\n",
              "\n",
              "          const docLinkHtml = 'Like what you see? Visit the ' +\n",
              "            '<a target=\"_blank\" href=https://colab.research.google.com/notebooks/data_table.ipynb>data table notebook</a>'\n",
              "            + ' to learn more about interactive tables.';\n",
              "          element.innerHTML = '';\n",
              "          dataTable['output_type'] = 'display_data';\n",
              "          await google.colab.output.renderOutput(dataTable, element);\n",
              "          const docLink = document.createElement('div');\n",
              "          docLink.innerHTML = docLinkHtml;\n",
              "          element.appendChild(docLink);\n",
              "        }\n",
              "      </script>\n",
              "    </div>\n",
              "  </div>\n",
              "  "
            ]
          },
          "metadata": {},
          "execution_count": 21
        }
      ]
    },
    {
      "cell_type": "markdown",
      "metadata": {
        "id": "pv4aNj5OvzNv"
      },
      "source": [
        "### ***4. Analisis Univariate***"
      ]
    },
    {
      "cell_type": "markdown",
      "metadata": {
        "id": "Io_oypWH3cGq"
      },
      "source": [
        "Analisis *univariate* dilakukan pada masing-masing variabel agar tiap variabel dari hasil pengamatan dapat dianalisa, diukur, diartikan sehingga didapatkan kesimpulan dan informasi yang berguna dari data tersebut."
      ]
    },
    {
      "cell_type": "markdown",
      "source": [
        "#####***Year/Tahun***"
      ],
      "metadata": {
        "id": "cNmr3MtGm0zH"
      }
    },
    {
      "cell_type": "markdown",
      "source": [
        "* Menyalin tahun film dan memindahkannya ke dalam kolom baru agar mudah divisualisasikan"
      ],
      "metadata": {
        "id": "nMy9ZqhapvZT"
      }
    },
    {
      "cell_type": "code",
      "source": [
        "movie_df_year = movie_df\n",
        "movie_df_year['film year'] = movie_df[\"title\"].apply(lambda x: \"\".join(re.findall(r\"\\((\\d+)\\)+$\", x)))\n",
        "movie_df_year.head(3)"
      ],
      "metadata": {
        "colab": {
          "base_uri": "https://localhost:8080/",
          "height": 144
        },
        "id": "le0mwaSOQlwK",
        "outputId": "b6ff09b3-512a-47a7-a51b-a22bd1b3b562"
      },
      "execution_count": 22,
      "outputs": [
        {
          "output_type": "execute_result",
          "data": {
            "text/plain": [
              "   movieId             title                                       genres  \\\n",
              "0        1  Toy Story (1995)  Adventure|Animation|Children|Comedy|Fantasy   \n",
              "1        1  Toy Story (1995)  Adventure|Animation|Children|Comedy|Fantasy   \n",
              "2        1  Toy Story (1995)  Adventure|Animation|Children|Comedy|Fantasy   \n",
              "\n",
              "   userId  rating film year  \n",
              "0     7.0     3.0      1995  \n",
              "1     9.0     4.0      1995  \n",
              "2    13.0     5.0      1995  "
            ],
            "text/html": [
              "\n",
              "  <div id=\"df-948cd478-c6da-41ca-9bb2-8222d7da8300\">\n",
              "    <div class=\"colab-df-container\">\n",
              "      <div>\n",
              "<style scoped>\n",
              "    .dataframe tbody tr th:only-of-type {\n",
              "        vertical-align: middle;\n",
              "    }\n",
              "\n",
              "    .dataframe tbody tr th {\n",
              "        vertical-align: top;\n",
              "    }\n",
              "\n",
              "    .dataframe thead th {\n",
              "        text-align: right;\n",
              "    }\n",
              "</style>\n",
              "<table border=\"1\" class=\"dataframe\">\n",
              "  <thead>\n",
              "    <tr style=\"text-align: right;\">\n",
              "      <th></th>\n",
              "      <th>movieId</th>\n",
              "      <th>title</th>\n",
              "      <th>genres</th>\n",
              "      <th>userId</th>\n",
              "      <th>rating</th>\n",
              "      <th>film year</th>\n",
              "    </tr>\n",
              "  </thead>\n",
              "  <tbody>\n",
              "    <tr>\n",
              "      <th>0</th>\n",
              "      <td>1</td>\n",
              "      <td>Toy Story (1995)</td>\n",
              "      <td>Adventure|Animation|Children|Comedy|Fantasy</td>\n",
              "      <td>7.0</td>\n",
              "      <td>3.0</td>\n",
              "      <td>1995</td>\n",
              "    </tr>\n",
              "    <tr>\n",
              "      <th>1</th>\n",
              "      <td>1</td>\n",
              "      <td>Toy Story (1995)</td>\n",
              "      <td>Adventure|Animation|Children|Comedy|Fantasy</td>\n",
              "      <td>9.0</td>\n",
              "      <td>4.0</td>\n",
              "      <td>1995</td>\n",
              "    </tr>\n",
              "    <tr>\n",
              "      <th>2</th>\n",
              "      <td>1</td>\n",
              "      <td>Toy Story (1995)</td>\n",
              "      <td>Adventure|Animation|Children|Comedy|Fantasy</td>\n",
              "      <td>13.0</td>\n",
              "      <td>5.0</td>\n",
              "      <td>1995</td>\n",
              "    </tr>\n",
              "  </tbody>\n",
              "</table>\n",
              "</div>\n",
              "      <button class=\"colab-df-convert\" onclick=\"convertToInteractive('df-948cd478-c6da-41ca-9bb2-8222d7da8300')\"\n",
              "              title=\"Convert this dataframe to an interactive table.\"\n",
              "              style=\"display:none;\">\n",
              "        \n",
              "  <svg xmlns=\"http://www.w3.org/2000/svg\" height=\"24px\"viewBox=\"0 0 24 24\"\n",
              "       width=\"24px\">\n",
              "    <path d=\"M0 0h24v24H0V0z\" fill=\"none\"/>\n",
              "    <path d=\"M18.56 5.44l.94 2.06.94-2.06 2.06-.94-2.06-.94-.94-2.06-.94 2.06-2.06.94zm-11 1L8.5 8.5l.94-2.06 2.06-.94-2.06-.94L8.5 2.5l-.94 2.06-2.06.94zm10 10l.94 2.06.94-2.06 2.06-.94-2.06-.94-.94-2.06-.94 2.06-2.06.94z\"/><path d=\"M17.41 7.96l-1.37-1.37c-.4-.4-.92-.59-1.43-.59-.52 0-1.04.2-1.43.59L10.3 9.45l-7.72 7.72c-.78.78-.78 2.05 0 2.83L4 21.41c.39.39.9.59 1.41.59.51 0 1.02-.2 1.41-.59l7.78-7.78 2.81-2.81c.8-.78.8-2.07 0-2.86zM5.41 20L4 18.59l7.72-7.72 1.47 1.35L5.41 20z\"/>\n",
              "  </svg>\n",
              "      </button>\n",
              "      \n",
              "  <style>\n",
              "    .colab-df-container {\n",
              "      display:flex;\n",
              "      flex-wrap:wrap;\n",
              "      gap: 12px;\n",
              "    }\n",
              "\n",
              "    .colab-df-convert {\n",
              "      background-color: #E8F0FE;\n",
              "      border: none;\n",
              "      border-radius: 50%;\n",
              "      cursor: pointer;\n",
              "      display: none;\n",
              "      fill: #1967D2;\n",
              "      height: 32px;\n",
              "      padding: 0 0 0 0;\n",
              "      width: 32px;\n",
              "    }\n",
              "\n",
              "    .colab-df-convert:hover {\n",
              "      background-color: #E2EBFA;\n",
              "      box-shadow: 0px 1px 2px rgba(60, 64, 67, 0.3), 0px 1px 3px 1px rgba(60, 64, 67, 0.15);\n",
              "      fill: #174EA6;\n",
              "    }\n",
              "\n",
              "    [theme=dark] .colab-df-convert {\n",
              "      background-color: #3B4455;\n",
              "      fill: #D2E3FC;\n",
              "    }\n",
              "\n",
              "    [theme=dark] .colab-df-convert:hover {\n",
              "      background-color: #434B5C;\n",
              "      box-shadow: 0px 1px 3px 1px rgba(0, 0, 0, 0.15);\n",
              "      filter: drop-shadow(0px 1px 2px rgba(0, 0, 0, 0.3));\n",
              "      fill: #FFFFFF;\n",
              "    }\n",
              "  </style>\n",
              "\n",
              "      <script>\n",
              "        const buttonEl =\n",
              "          document.querySelector('#df-948cd478-c6da-41ca-9bb2-8222d7da8300 button.colab-df-convert');\n",
              "        buttonEl.style.display =\n",
              "          google.colab.kernel.accessAllowed ? 'block' : 'none';\n",
              "\n",
              "        async function convertToInteractive(key) {\n",
              "          const element = document.querySelector('#df-948cd478-c6da-41ca-9bb2-8222d7da8300');\n",
              "          const dataTable =\n",
              "            await google.colab.kernel.invokeFunction('convertToInteractive',\n",
              "                                                     [key], {});\n",
              "          if (!dataTable) return;\n",
              "\n",
              "          const docLinkHtml = 'Like what you see? Visit the ' +\n",
              "            '<a target=\"_blank\" href=https://colab.research.google.com/notebooks/data_table.ipynb>data table notebook</a>'\n",
              "            + ' to learn more about interactive tables.';\n",
              "          element.innerHTML = '';\n",
              "          dataTable['output_type'] = 'display_data';\n",
              "          await google.colab.output.renderOutput(dataTable, element);\n",
              "          const docLink = document.createElement('div');\n",
              "          docLink.innerHTML = docLinkHtml;\n",
              "          element.appendChild(docLink);\n",
              "        }\n",
              "      </script>\n",
              "    </div>\n",
              "  </div>\n",
              "  "
            ]
          },
          "metadata": {},
          "execution_count": 22
        }
      ]
    },
    {
      "cell_type": "markdown",
      "source": [
        "* Menampilkan seluruh tahun film yang ada pada dataset. "
      ],
      "metadata": {
        "id": "MB-UeYNhqJCx"
      }
    },
    {
      "cell_type": "code",
      "source": [
        "movie_df_year['film year'].unique() "
      ],
      "metadata": {
        "colab": {
          "base_uri": "https://localhost:8080/"
        },
        "id": "oQZmYAXiQOdk",
        "outputId": "730f38d4-fa68-4e4c-dd2e-3f9c2ccd9a8e"
      },
      "execution_count": 23,
      "outputs": [
        {
          "output_type": "execute_result",
          "data": {
            "text/plain": [
              "array(['1995', '1994', '1996', '1976', '1992', '1967', '1993', '1964',\n",
              "       '1977', '1965', '1982', '1990', '1991', '1989', '1937', '1940',\n",
              "       '1969', '1981', '1973', '1970', '1960', '1955', '1959', '1968',\n",
              "       '1988', '1948', '1950', '1997', '1956', '1958', '1972', '1943',\n",
              "       '1952', '1951', '1957', '1961', '1954', '1934', '1944', '1963',\n",
              "       '1942', '1941', '1953', '1939', '1946', '1945', '1938', '1947',\n",
              "       '1935', '1936', '1926', '1949', '1932', '1985', '1975', '1974',\n",
              "       '1971', '1979', '1987', '1986', '1980', '1978', '1966', '1962',\n",
              "       '1983', '1984', '1933', '1931', '1922', '1998', '1927', '1929',\n",
              "       '1930', '1928', '1999', '2000', '1925', '1923', '1918', '1921',\n",
              "       '2001', '1924', '2002', '2003', '1920', '1915', '2004', '1917',\n",
              "       '2005', '2006', '1902', '2007', '2008', '2009', '1916', '1919',\n",
              "       '2010', '2011', '', '2012', '2013', '2014', '2015', '2016'],\n",
              "      dtype=object)"
            ]
          },
          "metadata": {},
          "execution_count": 23
        }
      ]
    },
    {
      "cell_type": "markdown",
      "source": [
        "* Cek jumlah seluruh tahun yang ada pada dataset.\n",
        "* Menampilkan tahun film terbanyak yang telah dirating hingga yang paling sedikit"
      ],
      "metadata": {
        "id": "x4RpQsNSqcpI"
      }
    },
    {
      "cell_type": "code",
      "source": [
        "year = movie_df_year['film year'].str.split('|').explode()\n",
        "\n",
        "print('Jumlah tahun pada film: ', len(year.unique()))\n",
        "plt.figure(figsize=(20,10))\n",
        "year.value_counts(ascending=False).plot(kind='bar')"
      ],
      "metadata": {
        "colab": {
          "base_uri": "https://localhost:8080/",
          "height": 642
        },
        "id": "qpRMFXX8RzqM",
        "outputId": "2f796d8d-f43b-4a84-9efa-86b59b477211"
      },
      "execution_count": 24,
      "outputs": [
        {
          "output_type": "stream",
          "name": "stdout",
          "text": [
            "Jumlah tahun pada film:  104\n"
          ]
        },
        {
          "output_type": "execute_result",
          "data": {
            "text/plain": [
              "<matplotlib.axes._subplots.AxesSubplot at 0x7f15ca7a3910>"
            ]
          },
          "metadata": {},
          "execution_count": 24
        },
        {
          "output_type": "display_data",
          "data": {
            "text/plain": [
              "<Figure size 1440x720 with 1 Axes>"
            ],
            "image/png": "[encoded data removed]"
          },
          "metadata": {}
        }
      ]
    },
    {
      "cell_type": "markdown",
      "source": [
        "####***Genre***"
      ],
      "metadata": {
        "id": "hXdVX-EnU4Bx"
      }
    },
    {
      "cell_type": "markdown",
      "source": [
        "* Cek jumlah genre film.\n",
        "* Menampilkan genre film yang telah dirating hingga yang paling sedikit"
      ],
      "metadata": {
        "id": "bwITngY0r_iW"
      }
    },
    {
      "cell_type": "code",
      "source": [
        "genres = movie_df_year['genres'].str.split('|').explode()\n",
        "\n",
        "print('Jumlah genre film: ', len(genres.unique()))\n",
        "genres.value_counts(ascending=True).plot(kind='barh')\n"
      ],
      "metadata": {
        "colab": {
          "base_uri": "https://localhost:8080/",
          "height": 300
        },
        "id": "P3xpI3fDo3LE",
        "outputId": "c47b6279-8763-4e84-eb9c-ba25dec79f52"
      },
      "execution_count": 25,
      "outputs": [
        {
          "output_type": "stream",
          "name": "stdout",
          "text": [
            "Jumlah genre film:  20\n"
          ]
        },
        {
          "output_type": "execute_result",
          "data": {
            "text/plain": [
              "<matplotlib.axes._subplots.AxesSubplot at 0x7f15ca4ffcd0>"
            ]
          },
          "metadata": {},
          "execution_count": 25
        },
        {
          "output_type": "display_data",
          "data": {
            "text/plain": [
              "<Figure size 432x288 with 1 Axes>"
            ],
            "image/png": "[encoded data removed]"
          },
          "metadata": {}
        }
      ]
    },
    {
      "cell_type": "markdown",
      "source": [
        "####***Title/Judul Film***"
      ],
      "metadata": {
        "id": "2jJAwPYSVojr"
      }
    },
    {
      "cell_type": "markdown",
      "source": [
        "* Dua puluh (20) judul film dengan jumlah rating terbanyak "
      ],
      "metadata": {
        "id": "3c4u1CI8vIak"
      }
    },
    {
      "cell_type": "code",
      "source": [
        "title_rating = movie_df_year.groupby(['title'])[['rating']].sum()\n",
        "title_rating = title_rating.nlargest(20,'rating')\n",
        "title_rating.head(20)"
      ],
      "metadata": {
        "colab": {
          "base_uri": "https://localhost:8080/",
          "height": 708
        },
        "id": "_cZlPAITWw-o",
        "outputId": "7ecaf015-e357-474a-ac8e-29575033a6ca"
      },
      "execution_count": 26,
      "outputs": [
        {
          "output_type": "execute_result",
          "data": {
            "text/plain": [
              "                                                    rating\n",
              "title                                                     \n",
              "Shawshank Redemption, The (1994)                    1395.5\n",
              "Forrest Gump (1994)                                 1382.5\n",
              "Pulp Fiction (1994)                                 1379.0\n",
              "Silence of the Lambs, The (1991)                    1258.0\n",
              "Star Wars: Episode IV - A New Hope (1977)           1228.5\n",
              "Matrix, The (1999)                                  1083.5\n",
              "Schindler's List (1993)                             1050.0\n",
              "Jurassic Park (1993)                                1015.5\n",
              "Star Wars: Episode V - The Empire Strikes Back ...   990.5\n",
              "Toy Story (1995)                                     956.5\n",
              "Fargo (1996)                                         953.5\n",
              "Terminator 2: Judgment Day (1991)                    949.5\n",
              "American Beauty (1999)                               932.0\n",
              "Raiders of the Lost Ark (Indiana Jones and the ...   922.5\n",
              "Back to the Future (1985)                            907.5\n",
              "Braveheart (1995)                                    899.5\n",
              "Godfather, The (1972)                                897.5\n",
              "Star Wars: Episode VI - Return of the Jedi (1983)    881.0\n",
              "Usual Suspects, The (1995)                           878.5\n",
              "Fight Club (1999)                                    844.0"
            ],
            "text/html": [
              "\n",
              "  <div id=\"df-93c23d30-be7a-4471-80fc-c51fdf100acb\">\n",
              "    <div class=\"colab-df-container\">\n",
              "      <div>\n",
              "<style scoped>\n",
              "    .dataframe tbody tr th:only-of-type {\n",
              "        vertical-align: middle;\n",
              "    }\n",
              "\n",
              "    .dataframe tbody tr th {\n",
              "        vertical-align: top;\n",
              "    }\n",
              "\n",
              "    .dataframe thead th {\n",
              "        text-align: right;\n",
              "    }\n",
              "</style>\n",
              "<table border=\"1\" class=\"dataframe\">\n",
              "  <thead>\n",
              "    <tr style=\"text-align: right;\">\n",
              "      <th></th>\n",
              "      <th>rating</th>\n",
              "    </tr>\n",
              "    <tr>\n",
              "      <th>title</th>\n",
              "      <th></th>\n",
              "    </tr>\n",
              "  </thead>\n",
              "  <tbody>\n",
              "    <tr>\n",
              "      <th>Shawshank Redemption, The (1994)</th>\n",
              "      <td>1395.5</td>\n",
              "    </tr>\n",
              "    <tr>\n",
              "      <th>Forrest Gump (1994)</th>\n",
              "      <td>1382.5</td>\n",
              "    </tr>\n",
              "    <tr>\n",
              "      <th>Pulp Fiction (1994)</th>\n",
              "      <td>1379.0</td>\n",
              "    </tr>\n",
              "    <tr>\n",
              "      <th>Silence of the Lambs, The (1991)</th>\n",
              "      <td>1258.0</td>\n",
              "    </tr>\n",
              "    <tr>\n",
              "      <th>Star Wars: Episode IV - A New Hope (1977)</th>\n",
              "      <td>1228.5</td>\n",
              "    </tr>\n",
              "    <tr>\n",
              "      <th>Matrix, The (1999)</th>\n",
              "      <td>1083.5</td>\n",
              "    </tr>\n",
              "    <tr>\n",
              "      <th>Schindler's List (1993)</th>\n",
              "      <td>1050.0</td>\n",
              "    </tr>\n",
              "    <tr>\n",
              "      <th>Jurassic Park (1993)</th>\n",
              "      <td>1015.5</td>\n",
              "    </tr>\n",
              "    <tr>\n",
              "      <th>Star Wars: Episode V - The Empire Strikes Back (1980)</th>\n",
              "      <td>990.5</td>\n",
              "    </tr>\n",
              "    <tr>\n",
              "      <th>Toy Story (1995)</th>\n",
              "      <td>956.5</td>\n",
              "    </tr>\n",
              "    <tr>\n",
              "      <th>Fargo (1996)</th>\n",
              "      <td>953.5</td>\n",
              "    </tr>\n",
              "    <tr>\n",
              "      <th>Terminator 2: Judgment Day (1991)</th>\n",
              "      <td>949.5</td>\n",
              "    </tr>\n",
              "    <tr>\n",
              "      <th>American Beauty (1999)</th>\n",
              "      <td>932.0</td>\n",
              "    </tr>\n",
              "    <tr>\n",
              "      <th>Raiders of the Lost Ark (Indiana Jones and the Raiders of the Lost Ark) (1981)</th>\n",
              "      <td>922.5</td>\n",
              "    </tr>\n",
              "    <tr>\n",
              "      <th>Back to the Future (1985)</th>\n",
              "      <td>907.5</td>\n",
              "    </tr>\n",
              "    <tr>\n",
              "      <th>Braveheart (1995)</th>\n",
              "      <td>899.5</td>\n",
              "    </tr>\n",
              "    <tr>\n",
              "      <th>Godfather, The (1972)</th>\n",
              "      <td>897.5</td>\n",
              "    </tr>\n",
              "    <tr>\n",
              "      <th>Star Wars: Episode VI - Return of the Jedi (1983)</th>\n",
              "      <td>881.0</td>\n",
              "    </tr>\n",
              "    <tr>\n",
              "      <th>Usual Suspects, The (1995)</th>\n",
              "      <td>878.5</td>\n",
              "    </tr>\n",
              "    <tr>\n",
              "      <th>Fight Club (1999)</th>\n",
              "      <td>844.0</td>\n",
              "    </tr>\n",
              "  </tbody>\n",
              "</table>\n",
              "</div>\n",
              "      <button class=\"colab-df-convert\" onclick=\"convertToInteractive('df-93c23d30-be7a-4471-80fc-c51fdf100acb')\"\n",
              "              title=\"Convert this dataframe to an interactive table.\"\n",
              "              style=\"display:none;\">\n",
              "        \n",
              "  <svg xmlns=\"http://www.w3.org/2000/svg\" height=\"24px\"viewBox=\"0 0 24 24\"\n",
              "       width=\"24px\">\n",
              "    <path d=\"M0 0h24v24H0V0z\" fill=\"none\"/>\n",
              "    <path d=\"M18.56 5.44l.94 2.06.94-2.06 2.06-.94-2.06-.94-.94-2.06-.94 2.06-2.06.94zm-11 1L8.5 8.5l.94-2.06 2.06-.94-2.06-.94L8.5 2.5l-.94 2.06-2.06.94zm10 10l.94 2.06.94-2.06 2.06-.94-2.06-.94-.94-2.06-.94 2.06-2.06.94z\"/><path d=\"M17.41 7.96l-1.37-1.37c-.4-.4-.92-.59-1.43-.59-.52 0-1.04.2-1.43.59L10.3 9.45l-7.72 7.72c-.78.78-.78 2.05 0 2.83L4 21.41c.39.39.9.59 1.41.59.51 0 1.02-.2 1.41-.59l7.78-7.78 2.81-2.81c.8-.78.8-2.07 0-2.86zM5.41 20L4 18.59l7.72-7.72 1.47 1.35L5.41 20z\"/>\n",
              "  </svg>\n",
              "      </button>\n",
              "      \n",
              "  <style>\n",
              "    .colab-df-container {\n",
              "      display:flex;\n",
              "      flex-wrap:wrap;\n",
              "      gap: 12px;\n",
              "    }\n",
              "\n",
              "    .colab-df-convert {\n",
              "      background-color: #E8F0FE;\n",
              "      border: none;\n",
              "      border-radius: 50%;\n",
              "      cursor: pointer;\n",
              "      display: none;\n",
              "      fill: #1967D2;\n",
              "      height: 32px;\n",
              "      padding: 0 0 0 0;\n",
              "      width: 32px;\n",
              "    }\n",
              "\n",
              "    .colab-df-convert:hover {\n",
              "      background-color: #E2EBFA;\n",
              "      box-shadow: 0px 1px 2px rgba(60, 64, 67, 0.3), 0px 1px 3px 1px rgba(60, 64, 67, 0.15);\n",
              "      fill: #174EA6;\n",
              "    }\n",
              "\n",
              "    [theme=dark] .colab-df-convert {\n",
              "      background-color: #3B4455;\n",
              "      fill: #D2E3FC;\n",
              "    }\n",
              "\n",
              "    [theme=dark] .colab-df-convert:hover {\n",
              "      background-color: #434B5C;\n",
              "      box-shadow: 0px 1px 3px 1px rgba(0, 0, 0, 0.15);\n",
              "      filter: drop-shadow(0px 1px 2px rgba(0, 0, 0, 0.3));\n",
              "      fill: #FFFFFF;\n",
              "    }\n",
              "  </style>\n",
              "\n",
              "      <script>\n",
              "        const buttonEl =\n",
              "          document.querySelector('#df-93c23d30-be7a-4471-80fc-c51fdf100acb button.colab-df-convert');\n",
              "        buttonEl.style.display =\n",
              "          google.colab.kernel.accessAllowed ? 'block' : 'none';\n",
              "\n",
              "        async function convertToInteractive(key) {\n",
              "          const element = document.querySelector('#df-93c23d30-be7a-4471-80fc-c51fdf100acb');\n",
              "          const dataTable =\n",
              "            await google.colab.kernel.invokeFunction('convertToInteractive',\n",
              "                                                     [key], {});\n",
              "          if (!dataTable) return;\n",
              "\n",
              "          const docLinkHtml = 'Like what you see? Visit the ' +\n",
              "            '<a target=\"_blank\" href=https://colab.research.google.com/notebooks/data_table.ipynb>data table notebook</a>'\n",
              "            + ' to learn more about interactive tables.';\n",
              "          element.innerHTML = '';\n",
              "          dataTable['output_type'] = 'display_data';\n",
              "          await google.colab.output.renderOutput(dataTable, element);\n",
              "          const docLink = document.createElement('div');\n",
              "          docLink.innerHTML = docLinkHtml;\n",
              "          element.appendChild(docLink);\n",
              "        }\n",
              "      </script>\n",
              "    </div>\n",
              "  </div>\n",
              "  "
            ]
          },
          "metadata": {},
          "execution_count": 26
        }
      ]
    },
    {
      "cell_type": "markdown",
      "source": [
        "* Tampilan dalam bentuk *bar chart* agar lebih mudah dibandingkan dan dianalisis"
      ],
      "metadata": {
        "id": "Vj8DBooNvY7q"
      }
    },
    {
      "cell_type": "code",
      "source": [
        "plt.figure(figsize=(10, 10))\n",
        "plt.xticks(rotation=75);\n",
        "sns.barplot(title_rating.index, title_rating['rating']);\n",
        "plt.ylabel('Title');\n",
        "plt.xlabel('Count');"
      ],
      "metadata": {
        "colab": {
          "base_uri": "https://localhost:8080/",
          "height": 970
        },
        "id": "MD_4lLuOXBfc",
        "outputId": "ca864448-9850-4499-affa-c3751b395791"
      },
      "execution_count": 27,
      "outputs": [
        {
          "output_type": "display_data",
          "data": {
            "text/plain": [
              "<Figure size 720x720 with 1 Axes>"
            ],
            "image/png": "[encoded data removed]"
          },
          "metadata": {}
        }
      ]
    },
    {
      "cell_type": "markdown",
      "source": [
        "####***Rating***"
      ],
      "metadata": {
        "id": "N6wu4e0hVN3m"
      }
    },
    {
      "cell_type": "markdown",
      "source": [
        "* Nilai minimum rating"
      ],
      "metadata": {
        "id": "RS7kUW30QJFW"
      }
    },
    {
      "cell_type": "code",
      "source": [
        "min_rating = min(movie_df['rating'])\n",
        "print(min_rating)"
      ],
      "metadata": {
        "colab": {
          "base_uri": "https://localhost:8080/"
        },
        "id": "RQrwpSO8QGu2",
        "outputId": "b3ef4ebd-b37f-4611-ce1d-2041ddba03a8"
      },
      "execution_count": 28,
      "outputs": [
        {
          "output_type": "stream",
          "name": "stdout",
          "text": [
            "0.5\n"
          ]
        }
      ]
    },
    {
      "cell_type": "markdown",
      "source": [
        "* Nilai maksimal rating"
      ],
      "metadata": {
        "id": "_nHh01LmQSCz"
      }
    },
    {
      "cell_type": "code",
      "source": [
        "max_rating = max(movie_df['rating'])\n",
        "print(max_rating)"
      ],
      "metadata": {
        "colab": {
          "base_uri": "https://localhost:8080/"
        },
        "id": "f61Q-0wvQO62",
        "outputId": "beb844a1-06c4-4f83-fc2d-259730ac847a"
      },
      "execution_count": 29,
      "outputs": [
        {
          "output_type": "stream",
          "name": "stdout",
          "text": [
            "5.0\n"
          ]
        }
      ]
    },
    {
      "cell_type": "markdown",
      "source": [
        "* Nilai rating yang paling banyak diberikan oleh *user* beserta  jumlah ratingnya."
      ],
      "metadata": {
        "id": "LP3qrZMBv258"
      }
    },
    {
      "cell_type": "code",
      "source": [
        "rating_count = dfr.rating.value_counts()\n",
        "print('Skala dan jumlah rating yang diberikan user adalah :', rating_count)"
      ],
      "metadata": {
        "id": "zl17ifyUwN61",
        "colab": {
          "base_uri": "https://localhost:8080/"
        },
        "outputId": "f1698eb5-05e3-4942-88a9-3fc32deb8498"
      },
      "execution_count": 30,
      "outputs": [
        {
          "output_type": "stream",
          "name": "stdout",
          "text": [
            "Skala dan jumlah rating yang diberikan user adalah : 4.0    28750\n",
            "3.0    20064\n",
            "5.0    15095\n",
            "3.5    10538\n",
            "4.5     7723\n",
            "2.0     7271\n",
            "2.5     4449\n",
            "1.0     3326\n",
            "1.5     1687\n",
            "0.5     1101\n",
            "Name: rating, dtype: int64\n"
          ]
        }
      ]
    },
    {
      "cell_type": "markdown",
      "source": [
        "* Visualisasi nilai rating dan jumlah yang didapatkan masing-masing rating dari *user*"
      ],
      "metadata": {
        "id": "5foaXoqHwPy_"
      }
    },
    {
      "cell_type": "code",
      "source": [
        "dfr.hist(column='rating', figsize=(10,5))"
      ],
      "metadata": {
        "colab": {
          "base_uri": "https://localhost:8080/",
          "height": 371
        },
        "id": "F-GW8esoI27W",
        "outputId": "2b464c2b-655b-43b2-e9da-8d85c6329609"
      },
      "execution_count": 31,
      "outputs": [
        {
          "output_type": "execute_result",
          "data": {
            "text/plain": [
              "array([[<matplotlib.axes._subplots.AxesSubplot object at 0x7f15c88c64c0>]],\n",
              "      dtype=object)"
            ]
          },
          "metadata": {},
          "execution_count": 31
        },
        {
          "output_type": "display_data",
          "data": {
            "text/plain": [
              "<Figure size 720x360 with 1 Axes>"
            ],
            "image/png": "[encoded data removed]"
          },
          "metadata": {}
        }
      ]
    },
    {
      "cell_type": "markdown",
      "source": [
        "# **D. *DATA PREPARATION***"
      ],
      "metadata": {
        "id": "XU96aUon5ozN"
      }
    },
    {
      "cell_type": "markdown",
      "metadata": {
        "id": "zw0B6Uzqcf2Z"
      },
      "source": [
        "• Menyebutkan teknik-teknik pada data *preparation* dan mengaplikasikannya pada dataset\n",
        "\n",
        "• Menggunakan teknik secara berurutan, rapi, dan disertai dengan penjelasan   kenapa teknik dan tahapan-tahapan tersebut diperlukan pada tahap data *preparation*\n",
        "\n",
        "• Penjelasan disertakan pada masing-masing *cell.*\n",
        "\n",
        "\n"
      ]
    },
    {
      "cell_type": "markdown",
      "metadata": {
        "id": "802YJSz6QBnj"
      },
      "source": [
        "###***5. Encoding dan Mapping Data***"
      ]
    },
    {
      "cell_type": "markdown",
      "source": [
        "####***Encoding data user***"
      ],
      "metadata": {
        "id": "8ReQtGddtX2g"
      }
    },
    {
      "cell_type": "markdown",
      "source": [
        "* Mengubah *userId* menjadi *list* tanpa nilai yang sama"
      ],
      "metadata": {
        "id": "nG4Nt2j6MzZi"
      }
    },
    {
      "cell_type": "code",
      "source": [
        "user_id = movie_df['userId'].unique().tolist()\n",
        "print('list userId: ', user_id)"
      ],
      "metadata": {
        "colab": {
          "base_uri": "https://localhost:8080/"
        },
        "id": "fge445BLaG0c",
        "outputId": "50e6ec2f-8f3c-4f9c-fb27-bde7401432f2"
      },
      "execution_count": 32,
      "outputs": [
        {
          "output_type": "stream",
          "name": "stdout",
          "text": [
            "list userId:  [7.0, 9.0, 13.0, 15.0, 19.0, 20.0, 23.0, 26.0, 30.0, 37.0, 43.0, 44.0, 47.0, 48.0, 55.0, 56.0, 63.0, 67.0, 68.0, 69.0, 70.0, 72.0, 73.0, 75.0, 77.0, 79.0, 84.0, 86.0, 87.0, 89.0, 90.0, 91.0, 92.0, 93.0, 94.0, 97.0, 99.0, 100.0, 106.0, 112.0, 119.0, 120.0, 121.0, 122.0, 124.0, 125.0, 126.0, 128.0, 130.0, 134.0, 136.0, 138.0, 142.0, 146.0, 149.0, 150.0, 152.0, 153.0, 154.0, 157.0, 163.0, 164.0, 165.0, 168.0, 169.0, 173.0, 175.0, 176.0, 177.0, 178.0, 179.0, 184.0, 185.0, 187.0, 193.0, 200.0, 201.0, 205.0, 212.0, 213.0, 215.0, 219.0, 220.0, 224.0, 232.0, 237.0, 240.0, 241.0, 242.0, 247.0, 252.0, 253.0, 261.0, 262.0, 268.0, 272.0, 273.0, 275.0, 282.0, 283.0, 284.0, 285.0, 287.0, 292.0, 293.0, 294.0, 306.0, 311.0, 312.0, 313.0, 314.0, 318.0, 321.0, 324.0, 328.0, 329.0, 333.0, 334.0, 336.0, 343.0, 344.0, 345.0, 350.0, 353.0, 354.0, 355.0, 357.0, 358.0, 361.0, 363.0, 379.0, 380.0, 382.0, 383.0, 390.0, 396.0, 401.0, 402.0, 403.0, 406.0, 407.0, 408.0, 409.0, 410.0, 412.0, 417.0, 418.0, 419.0, 421.0, 422.0, 425.0, 426.0, 428.0, 430.0, 431.0, 432.0, 433.0, 434.0, 437.0, 440.0, 442.0, 447.0, 448.0, 452.0, 455.0, 456.0, 457.0, 458.0, 459.0, 460.0, 461.0, 463.0, 466.0, 468.0, 470.0, 471.0, 472.0, 475.0, 480.0, 481.0, 484.0, 486.0, 490.0, 491.0, 500.0, 501.0, 502.0, 503.0, 506.0, 507.0, 509.0, 510.0, 514.0, 518.0, 520.0, 525.0, 526.0, 529.0, 530.0, 531.0, 534.0, 537.0, 538.0, 542.0, 543.0, 547.0, 548.0, 553.0, 559.0, 560.0, 561.0, 562.0, 564.0, 568.0, 570.0, 574.0, 575.0, 577.0, 580.0, 584.0, 585.0, 586.0, 594.0, 595.0, 596.0, 597.0, 598.0, 603.0, 607.0, 608.0, 615.0, 616.0, 623.0, 624.0, 630.0, 636.0, 641.0, 646.0, 647.0, 649.0, 653.0, 654.0, 660.0, 663.0, 664.0, 670.0, 671.0, 32.0, 41.0, 49.0, 61.0, 78.0, 80.0, 85.0, 88.0, 113.0, 115.0, 151.0, 161.0, 182.0, 188.0, 192.0, 218.0, 279.0, 288.0, 298.0, 338.0, 346.0, 369.0, 389.0, 473.0, 479.0, 487.0, 496.0, 517.0, 522.0, 535.0, 590.0, 593.0, 602.0, 655.0, 662.0, 665.0, 5.0, 25.0, 110.0, 162.0, 217.0, 233.0, 239.0, 256.0, 416.0, 505.0, 516.0, 605.0, 614.0, 640.0, 650.0, 391.0, 644.0, 18.0, 98.0, 111.0, 127.0, 140.0, 196.0, 223.0, 235.0, 381.0, 621.0, 17.0, 24.0, 34.0, 36.0, 39.0, 83.0, 95.0, 105.0, 195.0, 199.0, 236.0, 295.0, 340.0, 367.0, 385.0, 388.0, 404.0, 413.0, 544.0, 588.0, 627.0, 633.0, 648.0, 659.0, 666.0, 667.0, 493.0, 551.0, 254.0, 2.0, 4.0, 21.0, 50.0, 74.0, 82.0, 108.0, 114.0, 135.0, 137.0, 144.0, 145.0, 159.0, 191.0, 214.0, 243.0, 249.0, 290.0, 302.0, 375.0, 384.0, 399.0, 400.0, 405.0, 415.0, 464.0, 550.0, 552.0, 555.0, 589.0, 592.0, 57.0, 58.0, 59.0, 280.0, 319.0, 387.0, 508.0, 511.0, 569.0, 639.0, 102.0, 266.0, 304.0, 341.0, 342.0, 38.0, 60.0, 109.0, 118.0, 171.0, 204.0, 208.0, 210.0, 221.0, 271.0, 299.0, 330.0, 373.0, 386.0, 393.0, 423.0, 476.0, 523.0, 628.0, 172.0, 211.0, 308.0, 371.0, 465.0, 539.0, 554.0, 578.0, 255.0, 549.0, 571.0, 33.0, 194.0, 527.0, 528.0, 532.0, 536.0, 604.0, 28.0, 66.0, 263.0, 265.0, 414.0, 462.0, 619.0, 245.0, 274.0, 652.0, 203.0, 286.0, 35.0, 180.0, 207.0, 331.0, 348.0, 366.0, 411.0, 489.0, 629.0, 637.0, 656.0, 303.0, 533.0, 587.0, 103.0, 148.0, 170.0, 450.0, 492.0, 1.0, 31.0, 96.0, 186.0, 310.0, 325.0, 394.0, 485.0, 601.0, 8.0, 22.0, 155.0, 183.0, 197.0, 248.0, 300.0, 327.0, 352.0, 370.0, 420.0, 435.0, 449.0, 482.0, 524.0, 546.0, 160.0, 166.0, 259.0, 439.0, 495.0, 545.0, 557.0, 582.0, 658.0, 156.0, 198.0, 573.0, 129.0, 264.0, 315.0, 424.0, 599.0, 617.0, 190.0, 467.0, 453.0, 76.0, 116.0, 133.0, 143.0, 216.0, 225.0, 267.0, 270.0, 291.0, 307.0, 339.0, 360.0, 364.0, 478.0, 488.0, 631.0, 174.0, 591.0, 10.0, 11.0, 16.0, 27.0, 40.0, 147.0, 231.0, 309.0, 362.0, 378.0, 438.0, 454.0, 483.0, 494.0, 499.0, 519.0, 521.0, 556.0, 567.0, 572.0, 613.0, 618.0, 620.0, 635.0, 643.0, 451.0, 359.0, 436.0, 441.0, 3.0, 326.0, 515.0, 297.0, 579.0, 632.0, 260.0, 276.0, 332.0, 46.0, 347.0, 278.0, 609.0, 351.0, 301.0, 42.0, 64.0, 104.0, 139.0, 244.0, 251.0, 257.0, 277.0, 395.0, 513.0, 6.0, 53.0, 62.0, 81.0, 250.0, 558.0, 563.0, 305.0, 429.0, 132.0, 356.0, 101.0, 189.0, 281.0, 317.0, 365.0, 565.0, 657.0, 477.0, 645.0, 642.0, 209.0, 322.0, 335.0, 392.0, 469.0, 398.0, 606.0, 634.0, 323.0, 246.0, 117.0, 626.0, 230.0, 612.0, 669.0, 222.0, 238.0, 123.0, 372.0, 427.0, 497.0, 12.0, 65.0, 228.0, 234.0, 258.0, 316.0, 337.0, 368.0, 443.0, 474.0, 576.0, 611.0, 622.0, 651.0, 377.0, 107.0, 181.0, 202.0, 320.0, 445.0, 583.0, 668.0, 131.0, 54.0, 141.0, 226.0, 376.0, 446.0, 512.0, 540.0, 566.0, 661.0, 158.0, 638.0, 625.0, 541.0, 52.0, 498.0, 229.0, 397.0, 167.0, 349.0, 581.0, 45.0, 610.0, 296.0, 71.0, 600.0, 206.0, 14.0, 29.0, 289.0, 444.0, 51.0, 374.0, 269.0, 504.0, 227.0]\n"
          ]
        }
      ]
    },
    {
      "cell_type": "markdown",
      "source": [
        "* Melakukan *encoding userId*"
      ],
      "metadata": {
        "id": "FgZaJW14M-fc"
      }
    },
    {
      "cell_type": "code",
      "source": [
        "user_to_user_encoded = {x: i for i, x in enumerate(user_id)}\n",
        "print('encoded userId : ', user_to_user_encoded)"
      ],
      "metadata": {
        "colab": {
          "base_uri": "https://localhost:8080/"
        },
        "id": "5h2kITF9M8Oi",
        "outputId": "9f9e75b1-7cc7-40cf-87ff-37180631ea6a"
      },
      "execution_count": 33,
      "outputs": [
        {
          "output_type": "stream",
          "name": "stdout",
          "text": [
            "encoded userId :  {7.0: 0, 9.0: 1, 13.0: 2, 15.0: 3, 19.0: 4, 20.0: 5, 23.0: 6, 26.0: 7, 30.0: 8, 37.0: 9, 43.0: 10, 44.0: 11, 47.0: 12, 48.0: 13, 55.0: 14, 56.0: 15, 63.0: 16, 67.0: 17, 68.0: 18, 69.0: 19, 70.0: 20, 72.0: 21, 73.0: 22, 75.0: 23, 77.0: 24, 79.0: 25, 84.0: 26, 86.0: 27, 87.0: 28, 89.0: 29, 90.0: 30, 91.0: 31, 92.0: 32, 93.0: 33, 94.0: 34, 97.0: 35, 99.0: 36, 100.0: 37, 106.0: 38, 112.0: 39, 119.0: 40, 120.0: 41, 121.0: 42, 122.0: 43, 124.0: 44, 125.0: 45, 126.0: 46, 128.0: 47, 130.0: 48, 134.0: 49, 136.0: 50, 138.0: 51, 142.0: 52, 146.0: 53, 149.0: 54, 150.0: 55, 152.0: 56, 153.0: 57, 154.0: 58, 157.0: 59, 163.0: 60, 164.0: 61, 165.0: 62, 168.0: 63, 169.0: 64, 173.0: 65, 175.0: 66, 176.0: 67, 177.0: 68, 178.0: 69, 179.0: 70, 184.0: 71, 185.0: 72, 187.0: 73, 193.0: 74, 200.0: 75, 201.0: 76, 205.0: 77, 212.0: 78, 213.0: 79, 215.0: 80, 219.0: 81, 220.0: 82, 224.0: 83, 232.0: 84, 237.0: 85, 240.0: 86, 241.0: 87, 242.0: 88, 247.0: 89, 252.0: 90, 253.0: 91, 261.0: 92, 262.0: 93, 268.0: 94, 272.0: 95, 273.0: 96, 275.0: 97, 282.0: 98, 283.0: 99, 284.0: 100, 285.0: 101, 287.0: 102, 292.0: 103, 293.0: 104, 294.0: 105, 306.0: 106, 311.0: 107, 312.0: 108, 313.0: 109, 314.0: 110, 318.0: 111, 321.0: 112, 324.0: 113, 328.0: 114, 329.0: 115, 333.0: 116, 334.0: 117, 336.0: 118, 343.0: 119, 344.0: 120, 345.0: 121, 350.0: 122, 353.0: 123, 354.0: 124, 355.0: 125, 357.0: 126, 358.0: 127, 361.0: 128, 363.0: 129, 379.0: 130, 380.0: 131, 382.0: 132, 383.0: 133, 390.0: 134, 396.0: 135, 401.0: 136, 402.0: 137, 403.0: 138, 406.0: 139, 407.0: 140, 408.0: 141, 409.0: 142, 410.0: 143, 412.0: 144, 417.0: 145, 418.0: 146, 419.0: 147, 421.0: 148, 422.0: 149, 425.0: 150, 426.0: 151, 428.0: 152, 430.0: 153, 431.0: 154, 432.0: 155, 433.0: 156, 434.0: 157, 437.0: 158, 440.0: 159, 442.0: 160, 447.0: 161, 448.0: 162, 452.0: 163, 455.0: 164, 456.0: 165, 457.0: 166, 458.0: 167, 459.0: 168, 460.0: 169, 461.0: 170, 463.0: 171, 466.0: 172, 468.0: 173, 470.0: 174, 471.0: 175, 472.0: 176, 475.0: 177, 480.0: 178, 481.0: 179, 484.0: 180, 486.0: 181, 490.0: 182, 491.0: 183, 500.0: 184, 501.0: 185, 502.0: 186, 503.0: 187, 506.0: 188, 507.0: 189, 509.0: 190, 510.0: 191, 514.0: 192, 518.0: 193, 520.0: 194, 525.0: 195, 526.0: 196, 529.0: 197, 530.0: 198, 531.0: 199, 534.0: 200, 537.0: 201, 538.0: 202, 542.0: 203, 543.0: 204, 547.0: 205, 548.0: 206, 553.0: 207, 559.0: 208, 560.0: 209, 561.0: 210, 562.0: 211, 564.0: 212, 568.0: 213, 570.0: 214, 574.0: 215, 575.0: 216, 577.0: 217, 580.0: 218, 584.0: 219, 585.0: 220, 586.0: 221, 594.0: 222, 595.0: 223, 596.0: 224, 597.0: 225, 598.0: 226, 603.0: 227, 607.0: 228, 608.0: 229, 615.0: 230, 616.0: 231, 623.0: 232, 624.0: 233, 630.0: 234, 636.0: 235, 641.0: 236, 646.0: 237, 647.0: 238, 649.0: 239, 653.0: 240, 654.0: 241, 660.0: 242, 663.0: 243, 664.0: 244, 670.0: 245, 671.0: 246, 32.0: 247, 41.0: 248, 49.0: 249, 61.0: 250, 78.0: 251, 80.0: 252, 85.0: 253, 88.0: 254, 113.0: 255, 115.0: 256, 151.0: 257, 161.0: 258, 182.0: 259, 188.0: 260, 192.0: 261, 218.0: 262, 279.0: 263, 288.0: 264, 298.0: 265, 338.0: 266, 346.0: 267, 369.0: 268, 389.0: 269, 473.0: 270, 479.0: 271, 487.0: 272, 496.0: 273, 517.0: 274, 522.0: 275, 535.0: 276, 590.0: 277, 593.0: 278, 602.0: 279, 655.0: 280, 662.0: 281, 665.0: 282, 5.0: 283, 25.0: 284, 110.0: 285, 162.0: 286, 217.0: 287, 233.0: 288, 239.0: 289, 256.0: 290, 416.0: 291, 505.0: 292, 516.0: 293, 605.0: 294, 614.0: 295, 640.0: 296, 650.0: 297, 391.0: 298, 644.0: 299, 18.0: 300, 98.0: 301, 111.0: 302, 127.0: 303, 140.0: 304, 196.0: 305, 223.0: 306, 235.0: 307, 381.0: 308, 621.0: 309, 17.0: 310, 24.0: 311, 34.0: 312, 36.0: 313, 39.0: 314, 83.0: 315, 95.0: 316, 105.0: 317, 195.0: 318, 199.0: 319, 236.0: 320, 295.0: 321, 340.0: 322, 367.0: 323, 385.0: 324, 388.0: 325, 404.0: 326, 413.0: 327, 544.0: 328, 588.0: 329, 627.0: 330, 633.0: 331, 648.0: 332, 659.0: 333, 666.0: 334, 667.0: 335, 493.0: 336, 551.0: 337, 254.0: 338, 2.0: 339, 4.0: 340, 21.0: 341, 50.0: 342, 74.0: 343, 82.0: 344, 108.0: 345, 114.0: 346, 135.0: 347, 137.0: 348, 144.0: 349, 145.0: 350, 159.0: 351, 191.0: 352, 214.0: 353, 243.0: 354, 249.0: 355, 290.0: 356, 302.0: 357, 375.0: 358, 384.0: 359, 399.0: 360, 400.0: 361, 405.0: 362, 415.0: 363, 464.0: 364, 550.0: 365, 552.0: 366, 555.0: 367, 589.0: 368, 592.0: 369, 57.0: 370, 58.0: 371, 59.0: 372, 280.0: 373, 319.0: 374, 387.0: 375, 508.0: 376, 511.0: 377, 569.0: 378, 639.0: 379, 102.0: 380, 266.0: 381, 304.0: 382, 341.0: 383, 342.0: 384, 38.0: 385, 60.0: 386, 109.0: 387, 118.0: 388, 171.0: 389, 204.0: 390, 208.0: 391, 210.0: 392, 221.0: 393, 271.0: 394, 299.0: 395, 330.0: 396, 373.0: 397, 386.0: 398, 393.0: 399, 423.0: 400, 476.0: 401, 523.0: 402, 628.0: 403, 172.0: 404, 211.0: 405, 308.0: 406, 371.0: 407, 465.0: 408, 539.0: 409, 554.0: 410, 578.0: 411, 255.0: 412, 549.0: 413, 571.0: 414, 33.0: 415, 194.0: 416, 527.0: 417, 528.0: 418, 532.0: 419, 536.0: 420, 604.0: 421, 28.0: 422, 66.0: 423, 263.0: 424, 265.0: 425, 414.0: 426, 462.0: 427, 619.0: 428, 245.0: 429, 274.0: 430, 652.0: 431, 203.0: 432, 286.0: 433, 35.0: 434, 180.0: 435, 207.0: 436, 331.0: 437, 348.0: 438, 366.0: 439, 411.0: 440, 489.0: 441, 629.0: 442, 637.0: 443, 656.0: 444, 303.0: 445, 533.0: 446, 587.0: 447, 103.0: 448, 148.0: 449, 170.0: 450, 450.0: 451, 492.0: 452, 1.0: 453, 31.0: 454, 96.0: 455, 186.0: 456, 310.0: 457, 325.0: 458, 394.0: 459, 485.0: 460, 601.0: 461, 8.0: 462, 22.0: 463, 155.0: 464, 183.0: 465, 197.0: 466, 248.0: 467, 300.0: 468, 327.0: 469, 352.0: 470, 370.0: 471, 420.0: 472, 435.0: 473, 449.0: 474, 482.0: 475, 524.0: 476, 546.0: 477, 160.0: 478, 166.0: 479, 259.0: 480, 439.0: 481, 495.0: 482, 545.0: 483, 557.0: 484, 582.0: 485, 658.0: 486, 156.0: 487, 198.0: 488, 573.0: 489, 129.0: 490, 264.0: 491, 315.0: 492, 424.0: 493, 599.0: 494, 617.0: 495, 190.0: 496, 467.0: 497, 453.0: 498, 76.0: 499, 116.0: 500, 133.0: 501, 143.0: 502, 216.0: 503, 225.0: 504, 267.0: 505, 270.0: 506, 291.0: 507, 307.0: 508, 339.0: 509, 360.0: 510, 364.0: 511, 478.0: 512, 488.0: 513, 631.0: 514, 174.0: 515, 591.0: 516, 10.0: 517, 11.0: 518, 16.0: 519, 27.0: 520, 40.0: 521, 147.0: 522, 231.0: 523, 309.0: 524, 362.0: 525, 378.0: 526, 438.0: 527, 454.0: 528, 483.0: 529, 494.0: 530, 499.0: 531, 519.0: 532, 521.0: 533, 556.0: 534, 567.0: 535, 572.0: 536, 613.0: 537, 618.0: 538, 620.0: 539, 635.0: 540, 643.0: 541, 451.0: 542, 359.0: 543, 436.0: 544, 441.0: 545, 3.0: 546, 326.0: 547, 515.0: 548, 297.0: 549, 579.0: 550, 632.0: 551, 260.0: 552, 276.0: 553, 332.0: 554, 46.0: 555, 347.0: 556, 278.0: 557, 609.0: 558, 351.0: 559, 301.0: 560, 42.0: 561, 64.0: 562, 104.0: 563, 139.0: 564, 244.0: 565, 251.0: 566, 257.0: 567, 277.0: 568, 395.0: 569, 513.0: 570, 6.0: 571, 53.0: 572, 62.0: 573, 81.0: 574, 250.0: 575, 558.0: 576, 563.0: 577, 305.0: 578, 429.0: 579, 132.0: 580, 356.0: 581, 101.0: 582, 189.0: 583, 281.0: 584, 317.0: 585, 365.0: 586, 565.0: 587, 657.0: 588, 477.0: 589, 645.0: 590, 642.0: 591, 209.0: 592, 322.0: 593, 335.0: 594, 392.0: 595, 469.0: 596, 398.0: 597, 606.0: 598, 634.0: 599, 323.0: 600, 246.0: 601, 117.0: 602, 626.0: 603, 230.0: 604, 612.0: 605, 669.0: 606, 222.0: 607, 238.0: 608, 123.0: 609, 372.0: 610, 427.0: 611, 497.0: 612, 12.0: 613, 65.0: 614, 228.0: 615, 234.0: 616, 258.0: 617, 316.0: 618, 337.0: 619, 368.0: 620, 443.0: 621, 474.0: 622, 576.0: 623, 611.0: 624, 622.0: 625, 651.0: 626, 377.0: 627, 107.0: 628, 181.0: 629, 202.0: 630, 320.0: 631, 445.0: 632, 583.0: 633, 668.0: 634, 131.0: 635, 54.0: 636, 141.0: 637, 226.0: 638, 376.0: 639, 446.0: 640, 512.0: 641, 540.0: 642, 566.0: 643, 661.0: 644, 158.0: 645, 638.0: 646, 625.0: 647, 541.0: 648, 52.0: 649, 498.0: 650, 229.0: 651, 397.0: 652, 167.0: 653, 349.0: 654, 581.0: 655, 45.0: 656, 610.0: 657, 296.0: 658, 71.0: 659, 600.0: 660, 206.0: 661, 14.0: 662, 29.0: 663, 289.0: 664, 444.0: 665, 51.0: 666, 374.0: 667, 269.0: 668, 504.0: 669, 227.0: 670}\n"
          ]
        }
      ]
    },
    {
      "cell_type": "markdown",
      "source": [
        "* Melakukan proses *encoding* angka ke ke *userId*"
      ],
      "metadata": {
        "id": "jjOwqFvwNJnR"
      }
    },
    {
      "cell_type": "code",
      "source": [
        "user_encoded_to_user = {i: x for i, x in enumerate(user_id)}\n",
        "print('encoded angka ke userID: ', user_encoded_to_user)"
      ],
      "metadata": {
        "colab": {
          "base_uri": "https://localhost:8080/"
        },
        "id": "x0hceZY9NHl8",
        "outputId": "a2ad7689-3a26-4747-eafa-4e7240fcdd74"
      },
      "execution_count": 34,
      "outputs": [
        {
          "output_type": "stream",
          "name": "stdout",
          "text": [
            "encoded angka ke userID:  {0: 7.0, 1: 9.0, 2: 13.0, 3: 15.0, 4: 19.0, 5: 20.0, 6: 23.0, 7: 26.0, 8: 30.0, 9: 37.0, 10: 43.0, 11: 44.0, 12: 47.0, 13: 48.0, 14: 55.0, 15: 56.0, 16: 63.0, 17: 67.0, 18: 68.0, 19: 69.0, 20: 70.0, 21: 72.0, 22: 73.0, 23: 75.0, 24: 77.0, 25: 79.0, 26: 84.0, 27: 86.0, 28: 87.0, 29: 89.0, 30: 90.0, 31: 91.0, 32: 92.0, 33: 93.0, 34: 94.0, 35: 97.0, 36: 99.0, 37: 100.0, 38: 106.0, 39: 112.0, 40: 119.0, 41: 120.0, 42: 121.0, 43: 122.0, 44: 124.0, 45: 125.0, 46: 126.0, 47: 128.0, 48: 130.0, 49: 134.0, 50: 136.0, 51: 138.0, 52: 142.0, 53: 146.0, 54: 149.0, 55: 150.0, 56: 152.0, 57: 153.0, 58: 154.0, 59: 157.0, 60: 163.0, 61: 164.0, 62: 165.0, 63: 168.0, 64: 169.0, 65: 173.0, 66: 175.0, 67: 176.0, 68: 177.0, 69: 178.0, 70: 179.0, 71: 184.0, 72: 185.0, 73: 187.0, 74: 193.0, 75: 200.0, 76: 201.0, 77: 205.0, 78: 212.0, 79: 213.0, 80: 215.0, 81: 219.0, 82: 220.0, 83: 224.0, 84: 232.0, 85: 237.0, 86: 240.0, 87: 241.0, 88: 242.0, 89: 247.0, 90: 252.0, 91: 253.0, 92: 261.0, 93: 262.0, 94: 268.0, 95: 272.0, 96: 273.0, 97: 275.0, 98: 282.0, 99: 283.0, 100: 284.0, 101: 285.0, 102: 287.0, 103: 292.0, 104: 293.0, 105: 294.0, 106: 306.0, 107: 311.0, 108: 312.0, 109: 313.0, 110: 314.0, 111: 318.0, 112: 321.0, 113: 324.0, 114: 328.0, 115: 329.0, 116: 333.0, 117: 334.0, 118: 336.0, 119: 343.0, 120: 344.0, 121: 345.0, 122: 350.0, 123: 353.0, 124: 354.0, 125: 355.0, 126: 357.0, 127: 358.0, 128: 361.0, 129: 363.0, 130: 379.0, 131: 380.0, 132: 382.0, 133: 383.0, 134: 390.0, 135: 396.0, 136: 401.0, 137: 402.0, 138: 403.0, 139: 406.0, 140: 407.0, 141: 408.0, 142: 409.0, 143: 410.0, 144: 412.0, 145: 417.0, 146: 418.0, 147: 419.0, 148: 421.0, 149: 422.0, 150: 425.0, 151: 426.0, 152: 428.0, 153: 430.0, 154: 431.0, 155: 432.0, 156: 433.0, 157: 434.0, 158: 437.0, 159: 440.0, 160: 442.0, 161: 447.0, 162: 448.0, 163: 452.0, 164: 455.0, 165: 456.0, 166: 457.0, 167: 458.0, 168: 459.0, 169: 460.0, 170: 461.0, 171: 463.0, 172: 466.0, 173: 468.0, 174: 470.0, 175: 471.0, 176: 472.0, 177: 475.0, 178: 480.0, 179: 481.0, 180: 484.0, 181: 486.0, 182: 490.0, 183: 491.0, 184: 500.0, 185: 501.0, 186: 502.0, 187: 503.0, 188: 506.0, 189: 507.0, 190: 509.0, 191: 510.0, 192: 514.0, 193: 518.0, 194: 520.0, 195: 525.0, 196: 526.0, 197: 529.0, 198: 530.0, 199: 531.0, 200: 534.0, 201: 537.0, 202: 538.0, 203: 542.0, 204: 543.0, 205: 547.0, 206: 548.0, 207: 553.0, 208: 559.0, 209: 560.0, 210: 561.0, 211: 562.0, 212: 564.0, 213: 568.0, 214: 570.0, 215: 574.0, 216: 575.0, 217: 577.0, 218: 580.0, 219: 584.0, 220: 585.0, 221: 586.0, 222: 594.0, 223: 595.0, 224: 596.0, 225: 597.0, 226: 598.0, 227: 603.0, 228: 607.0, 229: 608.0, 230: 615.0, 231: 616.0, 232: 623.0, 233: 624.0, 234: 630.0, 235: 636.0, 236: 641.0, 237: 646.0, 238: 647.0, 239: 649.0, 240: 653.0, 241: 654.0, 242: 660.0, 243: 663.0, 244: 664.0, 245: 670.0, 246: 671.0, 247: 32.0, 248: 41.0, 249: 49.0, 250: 61.0, 251: 78.0, 252: 80.0, 253: 85.0, 254: 88.0, 255: 113.0, 256: 115.0, 257: 151.0, 258: 161.0, 259: 182.0, 260: 188.0, 261: 192.0, 262: 218.0, 263: 279.0, 264: 288.0, 265: 298.0, 266: 338.0, 267: 346.0, 268: 369.0, 269: 389.0, 270: 473.0, 271: 479.0, 272: 487.0, 273: 496.0, 274: 517.0, 275: 522.0, 276: 535.0, 277: 590.0, 278: 593.0, 279: 602.0, 280: 655.0, 281: 662.0, 282: 665.0, 283: 5.0, 284: 25.0, 285: 110.0, 286: 162.0, 287: 217.0, 288: 233.0, 289: 239.0, 290: 256.0, 291: 416.0, 292: 505.0, 293: 516.0, 294: 605.0, 295: 614.0, 296: 640.0, 297: 650.0, 298: 391.0, 299: 644.0, 300: 18.0, 301: 98.0, 302: 111.0, 303: 127.0, 304: 140.0, 305: 196.0, 306: 223.0, 307: 235.0, 308: 381.0, 309: 621.0, 310: 17.0, 311: 24.0, 312: 34.0, 313: 36.0, 314: 39.0, 315: 83.0, 316: 95.0, 317: 105.0, 318: 195.0, 319: 199.0, 320: 236.0, 321: 295.0, 322: 340.0, 323: 367.0, 324: 385.0, 325: 388.0, 326: 404.0, 327: 413.0, 328: 544.0, 329: 588.0, 330: 627.0, 331: 633.0, 332: 648.0, 333: 659.0, 334: 666.0, 335: 667.0, 336: 493.0, 337: 551.0, 338: 254.0, 339: 2.0, 340: 4.0, 341: 21.0, 342: 50.0, 343: 74.0, 344: 82.0, 345: 108.0, 346: 114.0, 347: 135.0, 348: 137.0, 349: 144.0, 350: 145.0, 351: 159.0, 352: 191.0, 353: 214.0, 354: 243.0, 355: 249.0, 356: 290.0, 357: 302.0, 358: 375.0, 359: 384.0, 360: 399.0, 361: 400.0, 362: 405.0, 363: 415.0, 364: 464.0, 365: 550.0, 366: 552.0, 367: 555.0, 368: 589.0, 369: 592.0, 370: 57.0, 371: 58.0, 372: 59.0, 373: 280.0, 374: 319.0, 375: 387.0, 376: 508.0, 377: 511.0, 378: 569.0, 379: 639.0, 380: 102.0, 381: 266.0, 382: 304.0, 383: 341.0, 384: 342.0, 385: 38.0, 386: 60.0, 387: 109.0, 388: 118.0, 389: 171.0, 390: 204.0, 391: 208.0, 392: 210.0, 393: 221.0, 394: 271.0, 395: 299.0, 396: 330.0, 397: 373.0, 398: 386.0, 399: 393.0, 400: 423.0, 401: 476.0, 402: 523.0, 403: 628.0, 404: 172.0, 405: 211.0, 406: 308.0, 407: 371.0, 408: 465.0, 409: 539.0, 410: 554.0, 411: 578.0, 412: 255.0, 413: 549.0, 414: 571.0, 415: 33.0, 416: 194.0, 417: 527.0, 418: 528.0, 419: 532.0, 420: 536.0, 421: 604.0, 422: 28.0, 423: 66.0, 424: 263.0, 425: 265.0, 426: 414.0, 427: 462.0, 428: 619.0, 429: 245.0, 430: 274.0, 431: 652.0, 432: 203.0, 433: 286.0, 434: 35.0, 435: 180.0, 436: 207.0, 437: 331.0, 438: 348.0, 439: 366.0, 440: 411.0, 441: 489.0, 442: 629.0, 443: 637.0, 444: 656.0, 445: 303.0, 446: 533.0, 447: 587.0, 448: 103.0, 449: 148.0, 450: 170.0, 451: 450.0, 452: 492.0, 453: 1.0, 454: 31.0, 455: 96.0, 456: 186.0, 457: 310.0, 458: 325.0, 459: 394.0, 460: 485.0, 461: 601.0, 462: 8.0, 463: 22.0, 464: 155.0, 465: 183.0, 466: 197.0, 467: 248.0, 468: 300.0, 469: 327.0, 470: 352.0, 471: 370.0, 472: 420.0, 473: 435.0, 474: 449.0, 475: 482.0, 476: 524.0, 477: 546.0, 478: 160.0, 479: 166.0, 480: 259.0, 481: 439.0, 482: 495.0, 483: 545.0, 484: 557.0, 485: 582.0, 486: 658.0, 487: 156.0, 488: 198.0, 489: 573.0, 490: 129.0, 491: 264.0, 492: 315.0, 493: 424.0, 494: 599.0, 495: 617.0, 496: 190.0, 497: 467.0, 498: 453.0, 499: 76.0, 500: 116.0, 501: 133.0, 502: 143.0, 503: 216.0, 504: 225.0, 505: 267.0, 506: 270.0, 507: 291.0, 508: 307.0, 509: 339.0, 510: 360.0, 511: 364.0, 512: 478.0, 513: 488.0, 514: 631.0, 515: 174.0, 516: 591.0, 517: 10.0, 518: 11.0, 519: 16.0, 520: 27.0, 521: 40.0, 522: 147.0, 523: 231.0, 524: 309.0, 525: 362.0, 526: 378.0, 527: 438.0, 528: 454.0, 529: 483.0, 530: 494.0, 531: 499.0, 532: 519.0, 533: 521.0, 534: 556.0, 535: 567.0, 536: 572.0, 537: 613.0, 538: 618.0, 539: 620.0, 540: 635.0, 541: 643.0, 542: 451.0, 543: 359.0, 544: 436.0, 545: 441.0, 546: 3.0, 547: 326.0, 548: 515.0, 549: 297.0, 550: 579.0, 551: 632.0, 552: 260.0, 553: 276.0, 554: 332.0, 555: 46.0, 556: 347.0, 557: 278.0, 558: 609.0, 559: 351.0, 560: 301.0, 561: 42.0, 562: 64.0, 563: 104.0, 564: 139.0, 565: 244.0, 566: 251.0, 567: 257.0, 568: 277.0, 569: 395.0, 570: 513.0, 571: 6.0, 572: 53.0, 573: 62.0, 574: 81.0, 575: 250.0, 576: 558.0, 577: 563.0, 578: 305.0, 579: 429.0, 580: 132.0, 581: 356.0, 582: 101.0, 583: 189.0, 584: 281.0, 585: 317.0, 586: 365.0, 587: 565.0, 588: 657.0, 589: 477.0, 590: 645.0, 591: 642.0, 592: 209.0, 593: 322.0, 594: 335.0, 595: 392.0, 596: 469.0, 597: 398.0, 598: 606.0, 599: 634.0, 600: 323.0, 601: 246.0, 602: 117.0, 603: 626.0, 604: 230.0, 605: 612.0, 606: 669.0, 607: 222.0, 608: 238.0, 609: 123.0, 610: 372.0, 611: 427.0, 612: 497.0, 613: 12.0, 614: 65.0, 615: 228.0, 616: 234.0, 617: 258.0, 618: 316.0, 619: 337.0, 620: 368.0, 621: 443.0, 622: 474.0, 623: 576.0, 624: 611.0, 625: 622.0, 626: 651.0, 627: 377.0, 628: 107.0, 629: 181.0, 630: 202.0, 631: 320.0, 632: 445.0, 633: 583.0, 634: 668.0, 635: 131.0, 636: 54.0, 637: 141.0, 638: 226.0, 639: 376.0, 640: 446.0, 641: 512.0, 642: 540.0, 643: 566.0, 644: 661.0, 645: 158.0, 646: 638.0, 647: 625.0, 648: 541.0, 649: 52.0, 650: 498.0, 651: 229.0, 652: 397.0, 653: 167.0, 654: 349.0, 655: 581.0, 656: 45.0, 657: 610.0, 658: 296.0, 659: 71.0, 660: 600.0, 661: 206.0, 662: 14.0, 663: 29.0, 664: 289.0, 665: 444.0, 666: 51.0, 667: 374.0, 668: 269.0, 669: 504.0, 670: 227.0}\n"
          ]
        }
      ]
    },
    {
      "cell_type": "markdown",
      "source": [
        "####***Encoding data film***"
      ],
      "metadata": {
        "id": "1zFLek9yjC3p"
      }
    },
    {
      "cell_type": "markdown",
      "source": [
        "* Mengubah *movieId* menjadi *list* tanpa nilai yang sama"
      ],
      "metadata": {
        "id": "H1wJZLRsNZTh"
      }
    },
    {
      "cell_type": "code",
      "source": [
        "movie_id = movie_df['movieId'].unique().tolist()\n",
        "print('list movieId: ', movie_id)"
      ],
      "metadata": {
        "colab": {
          "base_uri": "https://localhost:8080/"
        },
        "id": "9sFJe2sOaPAQ",
        "outputId": "0a4ddd81-1da5-498f-c084-58123f29d0bc"
      },
      "execution_count": 35,
      "outputs": [
        {
          "output_type": "stream",
          "name": "stdout",
          "text": [
            "list movieId:  [1, 2, 3, 4, 5, 6, 7, 8, 9, 10, 11, 12, 13, 14, 15, 16, 17, 18, 19, 20, 21, 22, 23, 24, 25, 26, 27, 28, 29, 30, 31, 32, 34, 35, 36, 37, 38, 39, 40, 41, 42, 43, 44, 45, 46, 47, 48, 49, 50, 52, 53, 54, 55, 57, 58, 59, 60, 61, 62, 63, 64, 65, 66, 68, 69, 70, 71, 72, 73, 74, 76, 77, 78, 79, 80, 81, 82, 83, 84, 85, 86, 87, 88, 89, 92, 93, 94, 95, 96, 97, 98, 99, 100, 101, 102, 103, 104, 105, 107, 108, 110, 111, 112, 113, 114, 116, 117, 118, 119, 121, 122, 123, 124, 125, 126, 129, 130, 131, 132, 135, 137, 140, 141, 144, 145, 146, 147, 148, 149, 150, 151, 152, 153, 154, 155, 156, 157, 158, 159, 160, 161, 162, 163, 164, 165, 166, 167, 168, 169, 170, 171, 172, 173, 174, 175, 176, 177, 178, 179, 180, 181, 183, 184, 185, 186, 187, 188, 189, 190, 191, 193, 194, 195, 196, 198, 199, 200, 201, 202, 203, 204, 205, 206, 207, 208, 209, 211, 213, 214, 215, 216, 217, 218, 219, 220, 222, 223, 224, 225, 227, 228, 229, 230, 231, 232, 233, 234, 235, 236, 237, 238, 239, 240, 241, 242, 243, 244, 245, 246, 247, 248, 249, 250, 251, 252, 253, 254, 255, 256, 257, 258, 259, 260, 261, 262, 263, 264, 265, 266, 267, 268, 269, 270, 271, 272, 273, 274, 275, 276, 277, 278, 279, 280, 281, 282, 283, 285, 287, 288, 289, 290, 291, 292, 293, 294, 295, 296, 299, 300, 301, 302, 303, 304, 305, 306, 307, 308, 309, 312, 313, 314, 315, 316, 317, 318, 319, 320, 321, 322, 324, 325, 326, 327, 328, 329, 330, 331, 332, 333, 334, 335, 336, 337, 338, 339, 340, 341, 342, 343, 344, 345, 346, 347, 348, 349, 350, 351, 352, 353, 354, 355, 356, 357, 358, 360, 361, 362, 363, 364, 365, 366, 367, 368, 369, 370, 371, 372, 373, 374, 375, 376, 377, 378, 379, 380, 381, 382, 383, 384, 387, 388, 389, 390, 391, 392, 393, 401, 405, 407, 408, 409, 410, 412, 413, 414, 415, 416, 417, 418, 419, 420, 421, 422, 423, 424, 425, 426, 427, 428, 429, 431, 432, 433, 434, 435, 436, 437, 438, 439, 440, 441, 442, 443, 444, 445, 446, 447, 448, 449, 450, 451, 452, 453, 454, 455, 456, 457, 458, 459, 460, 461, 463, 464, 465, 466, 467, 468, 469, 470, 471, 472, 473, 474, 475, 476, 477, 479, 480, 481, 482, 483, 484, 485, 486, 487, 488, 489, 490, 491, 492, 493, 494, 495, 496, 497, 498, 499, 500, 501, 502, 504, 505, 506, 507, 508, 509, 510, 511, 512, 513, 514, 515, 516, 517, 518, 519, 520, 521, 522, 523, 524, 526, 527, 528, 529, 531, 532, 533, 534, 535, 536, 537, 538, 539, 540, 541, 542, 543, 544, 546, 547, 548, 549, 550, 551, 552, 553, 554, 555, 556, 558, 559, 561, 562, 563, 564, 565, 567, 568, 569, 571, 573, 574, 575, 577, 580, 581, 582, 585, 586, 587, 588, 589, 590, 592, 593, 594, 595, 596, 597, 599, 600, 603, 605, 606, 608, 609, 610, 611, 612, 613, 614, 615, 616, 617, 619, 620, 621, 626, 627, 628, 630, 631, 632, 633, 635, 637, 638, 639, 640, 647, 648, 650, 651, 653, 656, 659, 661, 662, 663, 664, 665, 667, 668, 670, 671, 673, 674, 678, 679, 680, 681, 685, 687, 688, 690, 691, 692, 694, 695, 696, 697, 698, 700, 702, 703, 704, 705, 707, 708, 709, 710, 711, 714, 715, 718, 719, 720, 721, 722, 724, 725, 726, 728, 731, 733, 735, 736, 737, 741, 742, 743, 745, 746, 747, 748, 750, 753, 754, 755, 756, 757, 759, 760, 761, 762, 764, 765, 766, 767, 769, 775, 778, 779, 780, 781, 782, 783, 784, 785, 786, 787, 788, 793, 798, 799, 800, 801, 802, 803, 804, 805, 806, 808, 809, 810, 813, 816, 818, 820, 824, 828, 829, 830, 831, 832, 833, 834, 835, 836, 837, 838, 839, 840, 841, 842, 844, 845, 846, 848, 849, 850, 851, 852, 854, 858, 861, 864, 865, 866, 867, 869, 870, 872, 875, 876, 879, 880, 881, 882, 885, 886, 888, 889, 891, 892, 893, 896, 897, 898, 899, 900, 901, 902, 903, 904, 905, 906, 907, 908, 909, 910, 911, 912, 913, 914, 915, 916, 917, 918, 919, 920, 921, 922, 923, 924, 926, 927, 928, 929, 930, 931, 932, 933, 934, 935, 936, 937, 938, 939, 940, 941, 942, 943, 944, 945, 946, 947, 948, 949, 950, 951, 952, 953, 954, 955, 956, 957, 960, 961, 962, 963, 964, 965, 966, 968, 969, 970, 971, 972, 973, 976, 980, 981, 982, 984, 986, 987, 988, 990, 991, 992, 994, 996, 997, 998, 999, 1003, 1004, 1005, 1006, 1007, 1008, 1009, 1010, 1011, 1012, 1013, 1014, 1015, 1016, 1017, 1018, 1019, 1020, 1021, 1022, 1023, 1024, 1025, 1026, 1027, 1028, 1029, 1030, 1031, 1032, 1033, 1034, 1035, 1036, 1037, 1040, 1041, 1042, 1043, 1044, 1046, 1047, 1049, 1050, 1051, 1053, 1054, 1055, 1056, 1057, 1059, 1060, 1061, 1063, 1064, 1066, 1067, 1068, 1069, 1073, 1076, 1077, 1078, 1079, 1080, 1081, 1082, 1083, 1084, 1085, 1086, 1087, 1088, 1089, 1090, 1091, 1092, 1093, 1094, 1095, 1096, 1097, 1099, 1100, 1101, 1103, 1104, 1105, 1111, 1112, 1113, 1114, 1120, 1123, 1124, 1125, 1126, 1127, 1128, 1129, 1130, 1131, 1132, 1133, 1135, 1136, 1137, 1145, 1147, 1148, 1150, 1151, 1152, 1153, 1154, 1161, 1162, 1163, 1164, 1165, 1167, 1168, 1169, 1171, 1172, 1173, 1174, 1175, 1176, 1177, 1178, 1179, 1180, 1181, 1183, 1184, 1185, 1186, 1187, 1188, 1189, 1190, 1191, 1192, 1193, 1194, 1196, 1197, 1198, 1199, 1200, 1201, 1202, 1203, 1204, 1206, 1207, 1208, 1209, 1210, 1211, 1212, 1213, 1214, 1215, 1216, 1217, 1218, 1219, 1220, 1221, 1222, 1223, 1224, 1225, 1226, 1227, 1228, 1230, 1231, 1232, 1233, 1234, 1235, 1236, 1237, 1238, 1240, 1241, 1242, 1243, 1244, 1245, 1246, 1247, 1248, 1249, 1250, 1251, 1252, 1253, 1254, 1255, 1256, 1257, 1258, 1259, 1260, 1261, 1262, 1263, 1264, 1265, 1266, 1267, 1268, 1269, 1270, 1271, 1272, 1273, 1274, 1275, 1276, 1277, 1278, 1279, 1280, 1281, 1282, 1283, 1284, 1285, 1286, 1287, 1288, 1289, 1290, 1291, 1292, 1293, 1295, 1296, 1297, 1298, 1299, 1300, 1301, 1302, 1303, 1304, 1305, 1306, 1307, 1310, 1311, 1312, 1317, 1320, 1321, 1322, 1323, 1324, 1325, 1326, 1327, 1328, 1329, 1330, 1331, 1332, 1333, 1334, 1335, 1336, 1337, 1339, 1340, 1341, 1342, 1343, 1344, 1345, 1346, 1347, 1348, 1349, 1350, 1351, 1352, 1353, 1354, 1355, 1356, 1357, 1358, 1359, 1361, 1363, 1365, 1366, 1367, 1369, 1370, 1371, 1372, 1373, 1374, 1375, 1376, 1377, 1378, 1379, 1380, 1381, 1382, 1384, 1385, 1387, 1388, 1389, 1390, 1391, 1392, 1393, 1394, 1395, 1396, 1397, 1398, 1399, 1401, 1404, 1405, 1406, 1407, 1408, 1409, 1410, 1411, 1413, 1414, 1415, 1416, 1417, 1419, 1420, 1422, 1423, 1425, 1427, 1428, 1429, 1430, 1431, 1432, 1433, 1437, 1438, 1440, 1441, 1442, 1444, 1445, 1446, 1447, 1449, 1450, 1453, 1454, 1455, 1456, 1457, 1458, 1459, 1460, 1461, 1463, 1464, 1465, 1466, 1468, 1472, 1473, 1474, 1475, 1476, 1479, 1480, 1482, 1483, 1484, 1485, 1487, 1488, 1489, 1490, 1493, 1495, 1497, 1498, 1499, 1500, 1501, 1502, 1503, 1504, 1507, 1508, 1513, 1515, 1516, 1517, 1518, 1523, 1525, 1526, 1527, 1529, 1531, 1532, 1535, 1537, 1539, 1541, 1542, 1543, 1544, 1545, 1546, 1549, 1550, 1552, 1554, 1555, 1556, 1562, 1563, 1564, 1566, 1569, 1570, 1571, 1572, 1573, 1575, 1580, 1581, 1582, 1583, 1584, 1586, 1587, 1588, 1589, 1590, 1591, 1592, 1593, 1594, 1595, 1596, 1597, 1598, 1599, 1600, 1601, 1602, 1603, 1604, 1605, 1606, 1608, 1609, 1610, 1611, 1612, 1613, 1614, 1615, 1616, 1617, 1619, 1620, 1621, 1623, 1624, 1625, 1626, 1627, 1629, 1631, 1632, 1633, 1635, 1636, 1639, 1640, 1641, 1642, 1643, 1644, 1645, 1646, 1647, 1648, 1649, 1652, 1653, 1654, 1655, 1657, 1658, 1660, 1661, 1663, 1665, 1667, 1668, 1669, 1670, 1671, 1672, 1673, 1674, 1676, 1678, 1680, 1681, 1682, 1683, 1684, 1686, 1687, 1688, 1689, 1690, 1692, 1693, 1694, 1696, 1699, 1701, 1702, 1703, 1704, 1707, 1711, 1713, 1715, 1717, 1719, 1721, 1722, 1726, 1727, 1728, 1729, 1730, 1731, 1732, 1733, 1734, 1735, 1739, 1744, 1746, 1747, 1748, 1750, 1752, 1753, 1754, 1755, 1756, 1757, 1759, 1760, 1762, 1767, 1769, 1771, 1772, 1777, 1779, 1783, 1784, 1785, 1788, 1791, 1792, 1794, 1795, 1796, 1797, 1798, 1799, 1801, 1804, 1805, 1806, 1807, 1809, 1810, 1812, 1816, 1819, 1821, 1822, 1824, 1826, 1827, 1831, 1833, 1834, 1835, 1836, 1837, 1839, 1840, 1841, 1844, 1845, 1846, 1848, 1852, 1854, 1855, 1856, 1858, 1859, 1860, 1861, 1862, 1863, 1864, 1865, 1866, 1870, 1873, 1874, 1875, 1876, 1878, 1880, 1881, 1882, 1883, 1884, 1885, 1886, 1887, 1888, 1889, 1891, 1892, 1894, 1895, 1896, 1897, 1900, 1901, 1902, 1903, 1904, 1907, 1909, 1910, 1911, 1912, 1913, 1914, 1916, 1917, 1918, 1919, 1920, 1921, 1922, 1923, 1924, 1925, 1926, 1927, 1928, 1929, 1931, 1932, 1933, 1934, 1935, 1936, 1937, 1938, 1939, 1940, 1941, 1942, 1943, 1944, 1945, 1946, 1947, 1948, 1949, 1950, 1951, 1952, 1953, 1954, 1955, 1956, 1957, 1958, 1959, 1960, 1961, 1962, 1963, 1964, 1965, 1966, 1967, 1968, 1969, 1970, 1971, 1972, 1973, 1974, 1975, 1976, 1977, 1978, 1979, 1980, 1981, 1982, 1983, 1984, 1985, 1986, 1987, 1988, 1989, 1990, 1991, 1992, 1993, 1994, 1995, 1996, 1997, 1998, 1999, 2000, 2001, 2002, 2003, 2004, 2005, 2006, 2007, 2008, 2009, 2010, 2011, 2012, 2013, 2014, 2015, 2016, 2017, 2018, 2019, 2020, 2021, 2022, 2023, 2024, 2025, 2026, 2027, 2028, 2029, 2031, 2032, 2033, 2034, 2035, 2036, 2037, 2038, 2039, 2040, 2041, 2042, 2043, 2044, 2045, 2046, 2047, 2048, 2049, 2050, 2051, 2052, 2053, 2054, 2055, 2056, 2057, 2058, 2059, 2060, 2062, 2063, 2064, 2065, 2066, 2067, 2068, 2069, 2070, 2071, 2072, 2073, 2074, 2075, 2076, 2077, 2078, 2079, 2080, 2081, 2082, 2083, 2084, 2085, 2086, 2087, 2088, 2089, 2090, 2091, 2092, 2093, 2094, 2095, 2096, 2097, 2098, 2099, 2100, 2101, 2102, 2103, 2104, 2105, 2106, 2107, 2108, 2109, 2110, 2111, 2112, 2113, 2114, 2115, 2116, 2117, 2118, 2119, 2120, 2121, 2122, 2123, 2124, 2125, 2126, 2128, 2130, 2131, 2132, 2133, 2134, 2135, 2136, 2137, 2138, 2139, 2140, 2141, 2142, 2143, 2144, 2145, 2146, 2147, 2148, 2149, 2150, 2151, 2152, 2153, 2154, 2155, 2159, 2160, 2161, 2162, 2163, 2164, 2165, 2166, 2167, 2168, 2169, 2170, 2171, 2173, 2174, 2176, 2177, 2178, 2180, 2181, 2182, 2183, 2184, 2186, 2187, 2188, 2189, 2190, 2191, 2193, 2194, 2195, 2197, 2200, 2201, 2202, 2203, 2204, 2205, 2206, 2207, 2208, 2210, 2212, 2214, 2215, 2219, 2221, 2227, 2231, 2232, 2236, 2237, 2238, 2239, 2240, 2241, 2243, 2244, 2245, 2246, 2247, 2248, 2249, 2250, 2252, 2253, 2254, 2255, 2256, 2257, 2259, 2260, 2261, 2262, 2263, 2264, 2265, 2266, 2267, 2268, 2269, 2271, 2272, 2273, 2275, 2276, 2278, 2279, 2280, 2282, 2283, 2284, 2285, 2286, 2287, 2288, 2289, 2290, 2291, 2292, 2294, 2295, 2296, 2297, 2300, 2301, 2302, 2303, 2304, 2305, 2306, 2307, 2310, 2311, 2312, 2313, 2314, 2315, 2316, 2318, 2320, 2321, 2322, 2323, 2324, 2325, 2327, 2328, 2329, 2330, 2331, 2333, 2334, 2335, 2336, 2337, 2338, 2339, 2340, 2342, 2344, 2345, 2346, 2347, 2348, 2349, 2350, 2351, 2352, 2353, 2354, 2355, 2356, 2357, 2359, 2360, 2361, 2362, 2363, 2364, 2365, 2366, 2367, 2368, 2369, 2370, 2371, 2372, 2373, 2374, 2375, 2376, 2377, 2378, 2379, 2380, 2381, 2382, 2383, 2384, 2385, 2386, 2387, 2388, 2389, 2390, 2391, 2392, 2393, 2394, 2395, 2396, 2397, 2398, 2399, 2400, 2401, 2402, 2403, 2404, 2405, 2406, 2407, 2408, 2409, 2410, 2411, 2412, 2413, 2414, 2415, 2416, 2417, 2418, 2419, 2420, 2421, 2422, 2423, 2424, 2425, 2427, 2428, 2429, 2430, 2431, 2432, 2433, 2434, 2435, 2436, 2437, 2438, 2439, 2440, 2441, 2442, 2443, 2445, 2446, 2447, 2448, 2449, 2450, 2451, 2453, 2454, 2455, 2456, 2457, 2458, 2459, 2460, 2461, 2462, 2463, 2464, 2465, 2467, 2468, 2469, 2470, 2471, 2472, 2473, 2474, 2475, 2476, 2478, 2479, 2481, 2482, 2483, 2485, 2486, 2487, 2488, 2490, 2491, 2492, 2493, 2494, 2495, 2496, 2497, 2498, 2499, 2500, 2501, 2502, 2504, 2505, 2506, 2507, 2511, 2513, 2514, 2515, 2516, 2517, 2518, 2519, 2520, 2521, 2522, 2523, 2524, 2525, 2526, 2527, 2528, 2529, 2530, 2531, 2532, 2533, 2534, 2535, 2536, 2537, 2539, 2540, 2541, 2542, 2545, 2546, 2548, 2549, 2550, 2551, 2552, 2553, 2554, 2555, 2557, 2558, 2559, 2560, 2561, 2562, 2563, 2565, 2566, 2567, 2568, 2569, 2570, 2571, 2572, 2573, 2574, 2575, 2577, 2579, 2580, 2581, 2582, 2583, 2585, 2586, 2587, 2589, 2590, 2594, 2596, 2597, 2598, 2599, 2600, 2605, 2606, 2607, 2609, 2610, 2611, 2612, 2613, 2615, 2616, 2617, 2618, 2620, 2621, 2622, 2624, 2625, 2626, 2627, 2628, 2629, 2630, 2631, 2633, 2634, 2635, 2636, 2637, 2638, 2639, 2640, 2641, 2642, 2643, 2644, 2647, 2648, 2649, 2650, 2651, 2652, 2653, 2654, 2655, 2656, 2657, 2659, 2660, 2661, 2662, 2664, 2668, 2669, 2670, 2671, 2672, 2673, 2674, 2676, 2677, 2678, 2681, 2682, 2683, 2686, 2687, 2688, 2689, 2690, 2691, 2692, 2693, 2694, 2696, 2697, 2699, 2700, 2701, 2702, 2704, 2706, 2707, 2708, 2709, 2710, 2712, 2713, 2714, 2715, 2716, 2717, 2718, 2719, 2720, 2721, 2722, 2723, 2724, 2725, 2726, 2727, 2728, 2729, 2730, 2731, 2732, 2733, 2734, 2735, 2736, 2738, 2739, 2741, 2745, 2746, 2747, 2748, 2749, 2750, 2751, 2752, 2753, 2754, 2755, 2757, 2758, 2759, 2761, 2762, 2763, 2764, 2766, 2767, 2769, 2770, 2771, 2772, 2774, 2775, 2776, 2779, 2780, 2781, 2782, 2783, 2784, 2786, 2787, 2788, 2789, 2790, 2791, 2792, 2793, 2794, 2795, 2796, 2797, 2798, 2799, 2800, 2801, 2802, 2803, 2804, 2805, 2806, 2807, 2808, 2809, 2810, 2812, 2815, 2816, 2817, 2819, 2820, 2822, 2824, 2826, 2827, 2828, 2829, 2832, 2835, 2836, 2837, 2839, 2840, 2841, 2843, 2844, 2845, 2846, 2847, 2848, 2849, 2850, 2851, 2852, 2853, 2855, 2856, 2857, 2858, 2859, 2860, 2861, 2862, 2863, 2864, 2866, 2867, 2868, 2869, 2870, 2871, 2872, 2874, 2875, 2876, 2877, 2878, 2879, 2880, 2881, 2882, 2883, 2884, 2885, 2886, 2887, 2888, 2889, 2890, 2891, 2892, 2893, 2894, 2897, 2898, 2899, 2900, 2901, 2902, 2903, 2904, 2905, 2906, 2907, 2908, 2912, 2913, 2915, 2916, 2917, 2918, 2919, 2920, 2921, 2922, 2923, 2924, 2925, 2926, 2927, 2928, 2929, 2930, 2932, 2935, 2936, 2937, 2938, 2939, 2940, 2941, 2942, 2943, 2944, 2945, 2946, 2947, 2948, 2949, 2950, 2951, 2952, 2953, 2956, 2959, 2961, 2962, 2964, 2966, 2967, 2968, 2969, 2970, 2971, 2972, 2973, 2974, 2975, 2976, 2977, 2978, 2979, 2981, 2982, 2983, 2984, 2985, 2986, 2987, 2988, 2989, 2990, 2991, 2992, 2993, 2995, 2996, 2997, 2998, 3000, 3001, 3002, 3003, 3004, 3005, 3006, 3007, 3008, 3010, 3011, 3013, 3015, 3016, 3017, 3018, 3019, 3020, 3021, 3022, 3024, 3025, 3028, 3029, 3030, 3031, 3032, 3033, 3034, 3035, 3036, 3037, 3038, 3039, 3040, 3041, 3042, 3043, 3044, 3045, 3046, 3047, 3048, 3051, 3052, 3053, 3054, 3055, 3057, 3060, 3061, 3062, 3063, 3064, 3066, 3067, 3068, 3069, 3070, 3071, 3072, 3074, 3075, 3076, 3077, 3078, 3079, 3081, 3082, 3083, 3086, 3087, 3088, 3089, 3090, 3091, 3093, 3094, 3095, 3096, 3097, 3098, 3099, 3100, 3101, 3102, 3103, 3104, 3105, 3106, 3107, 3108, 3109, 3110, 3111, 3112, 3113, 3114, 3115, 3116, 3117, 3118, 3120, 3121, 3122, 3125, 3127, 3128, 3129, 3130, 3133, 3134, 3135, 3136, 3138, 3140, 3141, 3142, 3143, 3144, 3145, 3146, 3147, 3148, 3150, 3152, 3153, 3155, 3156, 3157, 3158, 3159, 3160, 3161, 3163, 3165, 3166, 3167, 3168, 3169, 3171, 3173, 3174, 3175, 3176, 3177, 3178, 3179, 3180, 3181, 3182, 3183, 3185, 3186, 3188, 3189, 3190, 3192, 3194, 3196, 3197, 3198, 3199, 3200, 3201, 3202, 3203, 3204, 3205, 3206, 3207, 3208, 3210, 3211, 3213, 3214, 3216, 3217, 3218, 3219, 3221, 3223, 3224, 3225, 3232, 3235, 3238, 3239, 3240, 3241, 3243, 3244, 3245, 3246, 3247, 3248, 3249, 3250, 3251, 3252, 3253, 3254, 3255, 3256, 3257, 3258, 3259, 3260, 3261, 3262, 3263, 3264, 3265, 3266, 3267, 3268, 3269, 3270, 3271, 3272, 3273, 3274, 3275, 3276, 3281, 3282, 3284, 3285, 3286, 3287, 3289, 3292, 3294, 3296, 3298, 3299, 3300, 3301, 3302, 3303, 3304, 3306, 3307, 3308, 3309, 3310, 3313, 3314, 3316, 3317, 3318, 3320, 3324, 3325, 3326, 3327, 3328, 3329, 3330, 3331, 3334, 3338, 3339, 3340, 3341, 3342, 3343, 3344, 3347, 3349, 3350, 3351, 3354, 3355, 3357, 3358, 3359, 3360, 3361, 3362, 3363, 3364, 3365, 3368, 3370, 3371, 3377, 3379, 3380, 3384, 3385, 3386, 3387, 3388, 3390, 3391, 3392, 3393, 3394, 3395, 3396, 3397, 3398, 3399, 3400, 3401, 3402, 3404, 3405, 3406, 3408, 3409, 3412, 3414, 3415, 3417, 3418, 3420, 3421, 3422, 3423, 3424, 3425, 3426, 3427, 3428, 3429, 3430, 3431, 3432, 3434, 3435, 3436, 3437, 3438, 3439, 3440, 3441, 3442, 3444, 3445, 3446, 3447, 3448, 3449, 3450, 3451, 3452, 3453, 3454, 3456, 3457, 3459, 3460, 3461, 3462, 3463, 3465, 3466, 3467, 3468, 3469, 3470, 3471, 3474, 3475, 3476, 3477, 3478, 3479, 3480, 3481, 3483, 3484, 3487, 3489, 3490, 3491, 3492, 3494, 3495, 3496, 3497, 3498, 3499, 3500, 3501, 3502, 3503, 3504, 3505, 3506, 3507, 3508, 3509, 3510, 3511, 3512, 3513, 3515, 3516, 3518, 3519, 3520, 3521, 3522, 3524, 3525, 3526, 3527, 3528, 3529, 3531, 3534, 3535, 3536, 3537, 3538, 3539, 3540, 3543, 3544, 3545, 3546, 3547, 3548, 3549, 3550, 3551, 3552, 3553, 3554, 3555, 3556, 3557, 3559, 3560, 3563, 3564, 3565, 3566, 3567, 3568, 3569, 3571, 3572, 3573, 3574, 3575, 3576, 3577, 3578, 3579, 3580, 3581, 3584, 3587, 3588, 3590, 3591, 3593, 3594, 3596, 3598, 3599, 3600, 3602, 3604, 3605, 3606, 3608, 3609, 3611, 3612, 3613, 3614, 3615, 3616, 3617, 3618, 3619, 3620, 3621, 3622, 3623, 3624, 3626, 3627, 3628, 3629, 3632, 3633, 3634, 3635, 3637, 3638, 3639, 3640, 3643, 3646, 3649, 3653, 3654, 3655, 3656, 3657, 3658, 3659, 3660, 3661, 3662, 3663, 3664, 3665, 3668, 3669, 3671, 3672, 3673, 3674, 3675, 3676, 3677, 3678, 3679, 3680, 3681, 3682, 3683, 3684, 3685, 3686, 3687, 3688, 3689, 3690, 3691, 3692, 3693, 3694, 3695, 3696, 3697, 3698, 3699, 3700, 3701, 3702, 3703, 3704, 3705, 3706, 3707, 3708, 3709, 3710, 3712, 3713, 3714, 3715, 3716, 3717, 3718, 3719, 3720, 3721, 3723, 3724, 3725, 3726, 3727, 3728, 3729, 3730, 3731, 3732, 3733, 3734, 3735, 3736, 3737, 3738, 3739, 3740, 3741, 3742, 3743, 3744, 3745, 3746, 3747, 3751, 3752, 3753, 3754, 3755, 3757, 3758, 3759, 3760, 3761, 3763, 3764, 3765, 3766, 3768, 3769, 3770, 3771, 3773, 3774, 3775, 3777, 3780, 3783, 3784, 3785, 3786, 3787, 3788, 3789, 3790, 3791, 3792, 3793, 3794, 3795, 3798, 3799, 3800, 3801, 3802, 3804, 3805, 3806, 3807, 3809, 3810, 3811, 3812, 3813, 3814, 3816, 3819, 3820, 3821, 3822, 3823, 3824, 3825, 3826, 3827, 3829, 3831, 3832, 3833, 3834, 3835, 3836, 3837, 3838, 3839, 3840, 3841, 3843, 3844, 3845, 3846, 3847, 3848, 3849, 3851, 3852, 3854, 3855, 3857, 3858, 3859, 3860, 3861, 3863, 3864, 3865, 3868, 3869, 3870, 3871, 3872, 3873, 3875, 3877, 3879, 3880, 3882, 3883, 3885, 3886, 3889, 3890, 3891, 3892, 3893, 3895, 3896, 3897, 3900, 3901, 3902, 3903, 3905, 3906, 3908, 3909, 3910, 3911, 3913, 3914, 3915, 3916, 3917, 3918, 3919, 3920, 3921, 3922, 3923, 3924, 3925, 3926, 3927, 3928, 3929, 3930, 3932, 3933, 3934, 3936, 3937, 3938, 3939, 3940, 3941, 3942, 3943, 3945, 3946, 3947, 3948, 3949, 3950, 3951, 3952, 3953, 3955, 3956, 3957, 3959, 3960, 3961, 3962, 3963, 3964, 3965, 3966, 3967, 3968, 3969, 3970, 3971, 3972, 3973, 3975, 3976, 3977, 3978, 3979, 3980, 3981, 3983, 3984, 3985, 3986, 3987, 3988, 3989, 3990, 3991, 3992, 3993, 3994, 3996, 3997, 3998, 3999, 4000, 4001, 4002, 4003, 4005, 4006, 4007, 4008, 4009, 4010, 4011, 4012, 4014, 4015, 4016, 4017, 4018, 4019, 4020, 4021, 4022, 4023, 4024, 4025, 4026, 4027, 4029, 4030, 4031, 4033, 4034, 4035, 4036, 4037, 4039, 4040, 4041, 4042, 4043, 4045, 4046, 4047, 4048, 4051, 4052, 4053, 4054, 4055, 4056, 4060, 4061, 4062, 4063, 4066, 4067, 4068, 4069, 4073, 4076, 4077, 4079, 4080, 4081, 4082, 4084, 4085, 4086, 4088, 4089, 4090, 4091, 4092, 4095, 4098, 4101, 4102, 4103, 4104, 4105, 4106, 4108, 4109, 4111, 4114, 4115, 4116, 4117, 4121, 4122, 4123, 4124, 4126, 4128, 4130, 4131, 4132, 4133, 4135, 4136, 4139, 4140, 4141, 4142, 4143, 4144, 4146, 4148, 4149, 4151, 4153, 4155, 4156, 4158, 4159, 4161, 4162, 4166, 4167, 4168, 4169, 4171, 4173, 4174, 4175, 4177, 4178, 4179, 4180, 4181, 4183, 4184, 4185, 4186, 4187, 4188, 4189, 4190, 4191, 4194, 4195, 4197, 4198, 4200, 4201, 4203, 4205, 4207, 4208, 4210, 4211, 4212, 4213, 4214, 4215, 4216, 4217, 4218, 4219, 4220, 4221, 4222, 4223, 4224, 4225, 4226, 4228, 4229, 4231, 4232, 4233, 4234, 4235, 4236, 4237, 4238, 4239, 4241, 4246, 4247, 4248, 4251, 4252, 4254, 4255, 4262, 4263, 4265, 4266, 4267, 4268, 4270, 4271, 4273, 4274, 4275, 4276, 4277, 4278, 4279, 4280, 4281, 4282, 4284, 4290, 4291, 4292, 4293, 4294, 4296, 4297, 4298, 4299, 4300, 4302, 4304, 4305, 4306, 4308, 4310, 4312, 4316, 4317, 4318, 4319, 4321, 4322, 4324, 4326, 4327, 4329, 4332, 4333, 4334, 4337, 4338, 4339, 4340, 4342, 4343, 4344, 4345, 4347, 4349, 4350, 4351, 4352, 4353, 4354, 4355, 4356, 4357, 4359, 4360, 4361, 4366, 4367, 4368, 4369, 4370, 4371, 4372, 4375, 4378, 4380, 4381, 4383, 4384, 4386, 4387, 4388, 4389, 4390, 4391, 4392, 4394, 4396, 4397, 4399, 4401, 4402, 4403, 4404, 4405, 4406, 4407, 4409, 4410, 4411, 4414, 4415, 4417, 4420, 4422, 4424, 4426, 4427, 4428, 4432, 4433, 4437, 4438, 4440, 4441, 4442, 4443, 4444, 4445, 4446, 4447, 4448, 4450, 4451, 4452, 4453, 4454, 4458, 4459, 4462, 4464, 4465, 4466, 4467, 4469, 4470, 4471, 4473, 4474, 4475, 4477, 4478, 4479, 4480, 4482, 4483, 4486, 4487, 4488, 4489, 4490, 4491, 4492, 4493, 4495, 4496, 4498, 4499, 4500, 4501, 4502, 4503, 4506, 4508, 4509, 4511, 4515, 4516, 4518, 4519, 4520, 4521, 4522, 4523, 4524, 4526, 4527, 4528, 4529, 4531, 4532, 4533, 4534, 4535, 4537, 4538, 4539, 4541, 4543, 4544, 4545, 4546, 4550, 4552, 4553, 4555, 4557, 4558, 4559, 4560, 4561, 4562, 4563, 4564, 4565, 4566, 4567, 4568, 4569, 4570, 4571, 4572, 4573, 4577, 4578, 4584, 4585, 4587, 4589, 4590, 4591, 4592, 4593, 4600, 4602, 4603, 4605, 4606, 4608, 4610, 4612, 4614, 4615, 4616, 4617, 4618, 4619, 4621, 4622, 4623, 4624, 4625, 4626, 4627, 4628, 4629, 4630, 4632, 4634, 4636, 4638, 4639, 4640, 4641, 4642, 4643, 4644, 4645, 4649, 4652, 4654, 4655, 4658, 4659, 4660, 4661, 4662, 4663, 4664, 4666, 4667, 4670, 4673, 4674, 4675, 4676, 4677, 4678, 4679, 4680, 4681, 4682, 4684, 4686, 4687, 4688, 4690, 4691, 4692, 4696, 4697, 4698, 4699, 4700, 4701, 4703, 4704, 4705, 4706, 4709, 4710, 4711, 4713, 4714, 4716, 4717, 4718, 4719, 4720, 4721, 4722, 4723, 4724, 4725, 4727, 4728, 4731, 4732, 4733, 4734, 4735, 4736, 4737, 4738, 4740, 4741, 4743, 4744, 4745, 4748, 4749, 4750, 4751, 4752, 4753, 4754, 4755, 4756, 4757, 4761, 4765, 4766, 4767, 4768, 4769, 4770, 4771, 4772, 4774, 4775, 4776, 4782, 4783, 4784, 4787, 4789, 4792, 4795, 4796, 4798, 4799, 4800, 4801, 4802, 4803, 4804, 4806, 4809, 4810, 4811, 4812, 4814, 4815, 4816, 4818, 4821, 4822, 4823, 4826, 4830, 4831, 4832, 4833, 4834, 4835, 4836, 4837, 4840, 4842, 4844, 4846, 4848, 4849, 4851, 4854, 4855, 4857, 4859, 4861, 4862, 4863, 4865, 4866, 4867, 4873, 4874, 4875, 4876, 4878, 4880, 4881, 4885, 4886, 4887, 4888, 4889, 4890, 4893, 4895, 4896, 4897, 4898, 4899, 4901, 4902, 4903, 4911, 4912, 4914, 4915, 4920, 4921, 4923, 4925, 4927, 4928, 4929, 4930, 4932, 4933, 4936, 4941, 4945, 4947, 4948, 4949, 4951, 4952, 4954, 4956, 4957, 4958, 4960, 4961, 4963, 4964, 4965, 4967, 4968, 4969, 4970, 4971, 4972, 4973, 4974, 4975, 4976, 4977, 4978, 4979, 4980, 4981, 4984, 4987, 4988, 4989, 4990, 4992, 4993, 4994, 4995, 4996, 4998, 4999, 5000, 5001, 5002, 5003, 5004, 5008, 5009, 5010, 5012, 5013, 5014, 5015, 5016, 5017, 5018, 5021, 5022, 5023, 5025, 5026, 5027, 5028, 5033, 5034, 5038, 5039, 5040, 5041, 5042, 5043, 5046, 5047, 5048, 5049, 5051, 5053, 5054, 5055, 5056, 5057, 5059, 5060, 5061, 5062, 5063, 5064, 5065, 5066, 5069, 5071, 5072, 5073, 5074, 5075, 5076, 5079, 5080, 5081, 5083, 5085, 5087, 5088, 5092, 5093, 5094, 5095, 5096, 5097, 5098, 5099, 5101, 5102, 5103, 5105, 5106, 5107, 5108, 5109, 5110, 5111, 5114, 5117, 5119, 5120, 5121, 5122, 5125, 5127, 5128, 5134, 5135, 5137, 5139, 5141, 5142, 5146, 5147, 5151, 5152, 5153, 5159, 5161, 5164, 5165, 5167, 5168, 5170, 5171, 5172, 5177, 5179, 5180, 5182, 5186, 5187, 5193, 5198, 5199, 5202, 5203, 5205, 5208, 5210, 5214, 5218, 5219, 5220, 5222, 5223, 5224, 5225, 5226, 5227, 5229, 5230, 5231, 5232, 5233, 5234, 5236, 5237, 5238, 5241, 5242, 5243, 5244, 5246, 5247, 5248, 5250, 5254, 5255, 5256, 5258, 5264, 5265, 5266, 5267, 5269, 5271, 5275, 5276, 5277, 5278, 5279, 5282, 5283, 5285, 5288, 5291, 5292, 5293, 5294, 5296, 5297, 5298, 5299, 5300, 5301, 5302, 5303, 5304, 5305, 5307, 5308, 5309, 5312, 5313, 5315, 5316, 5319, 5323, 5324, 5325, 5329, 5333, 5334, 5335, 5337, 5339, 5341, 5342, 5343, 5344, 5346, 5348, 5349, 5352, 5353, 5354, 5356, 5357, 5359, 5360, 5361, 5363, 5364, 5365, 5366, 5367, 5372, 5373, 5375, 5377, 5378, 5379, 5380, 5382, 5383, 5384, 5385, 5387, 5388, 5389, 5391, 5395, 5398, 5400, 5401, 5404, 5410, 5413, 5414, 5415, 5416, 5417, 5418, 5419, 5420, 5421, 5422, 5425, 5427, 5428, 5433, 5434, 5438, 5440, 5443, 5444, 5445, 5446, 5447, 5448, 5449, 5450, 5452, 5458, 5459, 5460, 5462, 5463, 5464, 5466, 5470, 5471, 5473, 5475, 5477, 5478, 5479, 5480, 5481, 5483, 5489, 5490, 5498, 5500, 5501, 5502, 5503, 5504, 5505, 5506, 5507, 5508, 5515, 5516, 5517, 5518, 5521, 5522, 5523, 5524, 5525, 5527, 5528, 5530, 5531, 5534, 5535, 5538, 5539, 5540, 5541, 5544, 5548, 5553, 5556, 5558, 5560, 5561, 5562, 5564, 5568, 5569, 5570, 5572, 5573, 5574, 5575, 5577, 5581, 5582, 5585, 5588, 5597, 5599, 5600, 5601, 5602, 5603, 5604, 5605, 5607, 5608, 5609, 5611, 5612, 5613, 5615, 5617, 5618, 5619, 5620, 5621, 5622, 5625, 5628, 5629, 5630, 5632, 5633, 5636, 5637, 5638, 5641, 5642, 5643, 5644, 5646, 5649, 5650, 5651, 5655, 5662, 5663, 5666, 5667, 5668, 5669, 5670, 5672, 5673, 5675, 5677, 5678, 5679, 5680, 5682, 5684, 5685, 5686, 5689, 5690, 5691, 5693, 5694, 5696, 5699, 5700, 5703, 5705, 5707, 5710, 5712, 5715, 5718, 5723, 5729, 5732, 5734, 5735, 5736, 5737, 5742, 5745, 5746, 5747, 5752, 5754, 5765, 5768, 5772, 5773, 5777, 5778, 5779, 5780, 5782, 5784, 5785, 5787, 5788, 5791, 5792, 5795, 5796, 5799, 5801, 5803, 5808, 5809, 5810, 5812, 5815, 5816, 5818, 5819, 5820, 5825, 5826, 5828, 5829, 5830, 5832, 5833, 5834, 5836, 5839, 5840, 5841, 5843, 5846, 5847, 5850, 5853, 5854, 5857, 5859, 5864, 5866, 5867, 5868, 5869, 5872, 5873, 5874, 5875, 5876, 5878, 5879, 5880, 5881, 5882, 5883, 5888, 5891, 5893, 5899, 5900, 5901, 5902, 5903, 5909, 5910, 5913, 5914, 5915, 5917, 5918, 5923, 5926, 5927, 5932, 5933, 5936, 5938, 5940, 5941, 5942, 5943, 5944, 5945, 5947, 5949, 5952, 5954, 5955, 5956, 5957, 5958, 5959, 5960, 5961, 5962, 5963, 5965, 5966, 5968, 5969, 5970, 5971, 5980, 5981, 5985, 5986, 5989, 5991, 5992, 5993, 5994, 5995, 6000, 6001, 6003, 6005, 6006, 6008, 6012, 6013, 6014, 6016, 6021, 6022, 6025, 6027, 6031, 6032, 6033, 6035, 6037, 6039, 6040, 6042, 6047, 6051, 6056, 6057, 6058, 6059, 6060, 6062, 6063, 6064, 6073, 6077, 6078, 6084, 6091, 6092, 6093, 6095, 6096, 6100, 6101, 6103, 6104, 6105, 6107, 6109, 6114, 6115, 6116, 6121, 6122, 6123, 6124, 6125, 6126, 6127, 6132, 6133, 6140, 6143, 6148, 6154, 6155, 6156, 6157, 6159, 6162, 6163, 6166, 6170, 6178, 6180, 6182, 6183, 6184, 6185, 6186, 6187, 6188, 6195, 6197, 6198, 6201, 6203, 6204, 6207, 6211, 6212, 6213, 6214, 6215, 6216, 6218, 6219, 6223, 6225, 6227, 6228, 6230, 6231, 6232, 6233, 6234, 6235, 6237, 6238, 6239, 6240, 6242, 6243, 6244, 6245, 6247, 6249, 6250, 6252, 6254, 6256, 6257, 6260, 6261, 6263, 6264, 6265, 6266, 6268, 6269, 6271, 6273, 6276, 6279, 6281, 6283, 6284, 6286, 6287, 6290, 6291, 6294, 6295, 6296, 6297, 6298, 6299, 6300, 6301, 6302, 6303, 6305, 6306, 6308, 6314, 6315, 6316, 6318, 6322, 6323, 6327, 6329, 6331, 6332, 6333, 6335, 6337, 6338, 6339, 6341, 6342, 6344, 6345, 6348, 6349, 6350, 6355, 6356, 6357, 6358, 6365, 6367, 6368, 6369, 6370, 6373, 6375, 6377, 6378, 6379, 6380, 6383, 6384, 6385, 6386, 6387, 6390, 6395, 6400, 6404, 6405, 6408, 6410, 6412, 6413, 6414, 6415, 6416, 6419, 6422, 6423, 6424, 6425, 6426, 6427, 6428, 6429, 6431, 6432, 6433, 6436, 6440, 6442, 6446, 6447, 6448, 6449, 6450, 6452, 6454, 6458, 6460, 6461, 6464, 6465, 6466, 6467, 6468, 6470, 6473, 6474, 6476, 6477, 6480, 6482, 6484, 6493, 6498, 6502, 6503, 6506, 6509, 6513, 6514, 6516, 6518, 6521, 6522, 6525, 6527, 6528, 6530, 6531, 6533, 6534, 6535, 6536, 6537, 6538, 6539, 6541, 6547, 6548, 6550, 6552, 6559, 6561, 6562, 6564, 6565, 6566, 6568, 6571, 6579, 6582, 6584, 6585, 6586, 6587, 6591, 6592, 6593, 6595, 6596, 6598, 6599, 6600, 6602, 6603, 6609, 6611, 6612, 6613, 6615, 6617, 6618, 6620, 6624, 6628, 6629, 6630, 6636, 6638, 6639, 6641, 6643, 6644, 6645, 6646, 6650, 6658, 6659, 6662, 6663, 6664, 6665, 6666, 6669, 6671, 6676, 6678, 6679, 6684, 6686, 6690, 6695, 6703, 6706, 6707, 6708, 6709, 6710, 6711, 6713, 6718, 6721, 6722, 6723, 6724, 6725, 6728, 6730, 6731, 6732, 6735, 6739, 6743, 6744, 6748, 6751, 6753, 6754, 6755, 6757, 6760, 6762, 6763, 6764, 6765, 6768, 6769, 6770, 6771, 6772, 6773, 6774, 6776, 6777, 6779, 6780, 6782, 6783, 6785, 6786, 6787, 6788, 6790, 6791, 6793, 6794, 6796, 6797, 6798, 6800, 6803, 6806, 6807, 6808, 6810, 6811, 6812, 6813, 6814, 6816, 6818, 6820, 6822, 6826, 6827, 6828, 6829, 6832, 6835, 6840, 6850, 6851, 6852, 6856, 6857, 6858, 6862, 6863, 6864, 6867, 6868, 6869, 6870, 6872, 6873, 6874, 6875, 6877, 6879, 6880, 6881, 6883, 6884, 6885, 6887, 6888, 6889, 6890, 6892, 6893, 6896, 6898, 6902, 6906, 6909, 6918, 6920, 6927, 6930, 6932, 6934, 6935, 6936, 6940, 6942, 6944, 6945, 6947, 6950, 6951, 6952, 6953, 6954, 6957, 6958, 6959, 6961, 6963, 6964, 6966, 6970, 6971, 6974, 6975, 6977, 6978, 6979, 6981, 6982, 6983, 6985, 6986, 6987, 6989, 6990, 6991, 6992, 6993, 6995, 6996, 6997, 6999, 7000, 7001, 7002, 7003, 7004, 7005, 7007, 7008, 7009, 7010, 7011, 7012, 7013, 7016, 7017, 7018, 7020, 7022, 7023, 7024, 7025, 7026, 7027, 7028, 7029, 7034, 7036, 7038, 7040, 7042, 7043, 7044, 7045, 7046, 7048, 7050, 7051, 7055, 7056, 7058, 7059, 7060, 7061, 7062, 7063, 7064, 7065, 7067, 7068, 7069, 7070, 7071, 7072, 7073, 7074, 7075, 7076, 7078, 7079, 7080, 7081, 7082, 7083, 7084, 7085, 7086, 7087, 7088, 7089, 7090, 7091, 7093, 7095, 7096, 7099, 7101, 7102, 7104, 7107, 7108, 7110, 7111, 7115, 7116, 7117, 7121, 7122, 7123, 7125, 7126, 7130, 7131, 7132, 7135, 7136, 7137, 7139, 7142, 7143, 7147, 7149, 7150, 7151, 7152, 7153, 7154, 7155, 7156, 7158, 7160, 7161, 7162, 7163, 7164, 7165, 7171, 7172, 7173, 7177, 7178, 7179, 7180, 7182, 7186, 7189, 7190, 7192, 7193, 7195, 7196, 7198, 7199, 7204, 7206, 7207, 7208, 7209, 7210, 7211, 7212, 7215, 7216, 7217, 7219, 7222, 7223, 7228, 7234, 7235, 7236, 7238, 7245, 7247, 7248, 7250, 7254, 7255, 7256, 7257, 7258, 7260, 7263, 7265, 7266, 7272, 7282, 7283, 7285, 7293, 7294, 7299, 7300, 7302, 7303, 7305, 7307, 7308, 7309, 7311, 7312, 7315, 7316, 7317, 7318, 7319, 7320, 7323, 7324, 7325, 7327, 7334, 7340, 7343, 7346, 7347, 7348, 7349, 7352, 7354, 7355, 7357, 7358, 7360, 7361, 7362, 7366, 7367, 7369, 7371, 7372, 7373, 7374, 7375, 7376, 7379, 7380, 7381, 7382, 7386, 7387, 7394, 7395, 7396, 7407, 7411, 7415, 7419, 7437, 7438, 7439, 7444, 7445, 7448, 7449, 7450, 7451, 7453, 7454, 7456, 7458, 7459, 7460, 7478, 7481, 7482, 7484, 7487, 7492, 7493, 7502, 7505, 7541, 7560, 7564, 7566, 7569, 7570, 7571, 7572, 7573, 7574, 7577, 7579, 7583, 7584, 7585, 7586, 7587, 7613, 7614, 7615, 7616, 7619, 7620, 7624, 7625, 7627, 7636, 7649, 7650, 7669, 7697, 7698, 7700, 7701, 7702, 7705, 7706, 7708, 7713, 7714, 7720, 7728, 7738, 7743, 7748, 7753, 7757, 7759, 7762, 7764, 7766, 7767, 7771, 7773, 7774, 7782, 7786, 7787, 7789, 7790, 7791, 7792, 7802, 7809, 7810, 7811, 7812, 7815, 7817, 7818, 7820, 7822, 7826, 7827, 7831, 7832, 7833, 7834, 7835, 7836, 7840, 7841, 7842, 7843, 7844, 7845, 7846, 7872, 7878, 7881, 7882, 7883, 7888, 7889, 7892, 7894, 7895, 7897, 7899, 7914, 7915, 7916, 7919, 7920, 7921, 7922, 7924, 7925, 7926, 7932, 7934, 7935, 7936, 7938, 7939, 7941, 7942, 7943, 7944, 7946, 7947, 7948, 7951, 7958, 7959, 7976, 7979, 7980, 7981, 7982, 7983, 7984, 7987, 7990, 7991, 7995, 8003, 8008, 8009, 8010, 8011, 8012, 8014, 8015, 8016, 8019, 8033, 8039, 8042, 8044, 8056, 8057, 8070, 8093, 8094, 8117, 8121, 8123, 8125, 8126, 8128, 8129, 8130, 8131, 8132, 8133, 8136, 8137, 8138, 8142, 8143, 8147, 8154, 8157, 8158, 8167, 8169, 8183, 8187, 8188, 8189, 8190, 8191, 8194, 8195, 8196, 8197, 8199, 8207, 8208, 8225, 8228, 8235, 8239, 8240, 8253, 8254, 8256, 8257, 8261, 8263, 8264, 8266, 8267, 8268, 8273, 8275, 8290, 8327, 8331, 8332, 8336, 8337, 8338, 8340, 8341, 8360, 8361, 8362, 8363, 8364, 8366, 8367, 8368, 8369, 8370, 8371, 8372, 8373, 8376, 8385, 8387, 8388, 8392, 8403, 8404, 8410, 8420, 8422, 8423, 8447, 8451, 8453, 8459, 8460, 8462, 8463, 8464, 8465, 8477, 8482, 8484, 8485, 8487, 8491, 8492, 8493, 8499, 8502, 8504, 8507, 8511, 8522, 8524, 8525, 8526, 8527, 8528, 8529, 8530, 8531, 8533, 8534, 8535, 8537, 8542, 8544, 8571, 8572, 8574, 8575, 8576, 8577, 8580, 8581, 8582, 8583, 8584, 8589, 8591, 8596, 8600, 8604, 8607, 8609, 8610, 8611, 8612, 8614, 8616, 8617, 8618, 8620, 8622, 8623, 8625, 8629, 8633, 8636, 8638, 8640, 8641, 8642, 8643, 8644, 8645, 8650, 8654, 8656, 8657, 8661, 8665, 8666, 8667, 8670, 8672, 8675, 8684, 8689, 8690, 8695, 8699, 8700, 8709, 8711, 8712, 8713, 8718, 8720, 8722, 8724, 8725, 8727, 8730, 8743, 8745, 8751, 8752, 8753, 8754, 8761, 8763, 8765, 8768, 8772, 8777, 8779, 8781, 8783, 8784, 8785, 8790, 8795, 8796, 8797, 8798, 8799, 8800, 8807, 8808, 8810, 8811, 8813, 8814, 8819, 8820, 8821, 8823, 8827, 8828, 8830, 8831, 8832, 8833, 8835, 8836, 8838, 8839, 8840, 8848, 8850, 8851, 8853, 8854, 8857, 8859, 8860, 8861, 8864, 8865, 8866, 8870, 8871, 8872, 8873, 8874, 8879, 8880, 8882, 8884, 8892, 8893, 8899, 8903, 8906, 8907, 8908, 8910, 8911, 8914, 8915, 8916, 8917, 8918, 8920, 8921, 8923, 8927, 8928, 8929, 8930, 8931, 8933, 8935, 8937, 8938, 8943, 8946, 8947, 8948, 8949, 8950, 8951, 8954, 8955, 8957, 8958, 8961, 8963, 8964, 8965, 8966, 8968, 8969, 8970, 8972, 8973, 8974, 8977, 8979, 8981, 8982, 8983, 8984, 8985, 8986, 8987, 8988, 8989, 8998, 8999, 9000, 9001, 9004, 9005, 9010, 9012, 9018, 25737, 25744, 25750, 25752, 25753, 25755, 25763, 25764, 25769, 25771, 25773, 25774, 25777, 25788, 25792, 25795, 25801, 25805, 25807, 25825, 25826, 25827, 25828, 25839, 25841, 25842, 25850, 25852, 25856, 25865, 25868, 25874, 25882, 25886, 25891, 25898, 25900, 25901, 25904, 25906, 25911, 25916, 25920, 25929, 25930, 25937, 25940, 25941, 25945, 25947, 25952, 25962, 25965, 25971, 25972, 25993, 25995, 25996, 25999, 26003, 26005, 26007, 26009, 26010, 26012, 26013, 26025, 26052, 26079, 26082, 26084, 26085, 26086, 26093, 26094, 26111, 26116, 26117, 26122, 26125, 26131, 26133, 26147, 26150, 26151, 26152, 26157, 26160, 26163, 26164, 26171, 26172, 26176, 26178, 26180, 26188, 26198, 26199, 26208, 26228, 26229, 26231, 26241, 26242, 26251, 26258, 26265, 26268, 26271, 26294, 26302, 26303, 26313, 26317, 26318, 26320, 26322, 26323, 26324, 26325, 26326, 26338, 26342, 26346, 26349, 26350, 26366, 26371, 26375, 26386, 26391, 26393, 26394, 26400, 26403, 26404, 26409, 26413, 26414, 26422, 26425, 26430, 26435, 26462, 26464, 26467, 26471, 26472, 26480, 26485, 26487, 26492, 26494, 26501, 26505, 26509, 26513, 26524, 26528, 26547, 26554, 26555, 26562, 26564, 26574, 26578, 26581, 26585, 26587, 26599, 26603, 26606, 26614, 26622, 26631, 26649, 26655, 26662, 26663, 26680, 26684, 26686, 26689, 26693, 26694, 26695, 26700, 26701, 26702, 26704, 26712, 26726, 26729, 26731, 26732, 26736, 26737, 26749, 26750, 26775, 26776, 26782, 26784, 26788, 26791, 26797, 26809, 26810, 26812, 26819, 26835, 26838, 26840, 26842, 26843, 26850, 26854, 26865, 26870, 26886, 26903, 26915, 26947, 26974, 26999, 27002, 27005, 27020, 27022, 27032, 27075, 27109, 27156, 27178, 27186, 27193, 27251, 27253, 27255, 27266, 27317, 27322, 27329, 27334, 27338, 27351, 27369, 27373, 27376, 27397, 27410, 27416, 27423, 27441, 27478, 27482, 27523, 27544, 27555, 27592, 27604, 27611, 27646, 27648, 27660, 27664, 27674, 27685, 27689, 27700, 27704, 27706, 27713, 27721, 27722, 27724, 27727, 27728, 27731, 27741, 27751, 27768, 27772, 27773, 27778, 27783, 27784, 27788, 27790, 27792, 27793, 27798, 27800, 27801, 27802, 27803, 27808, 27812, 27815, 27816, 27821, 27822, 27826, 27831, 27834, 27837, 27838, 27839, 27846, 27850, 27851, 27857, 27867, 27869, 27871, 27873, 27875, 27876, 27878, 27879, 27882, 27899, 27904, 27912, 27922, 30707, 30712, 30723, 30745, 30749, 30783, 30793, 30803, 30810, 30812, 30816, 30818, 30820, 30822, 30825, 30846, 30848, 30850, 30867, 30883, 30892, 30894, 30898, 31000, 31026, 31035, 31101, 31104, 31109, 31114, 31116, 31150, 31156, 31162, 31184, 31193, 31221, 31225, 31270, 31284, 31290, 31364, 31374, 31408, 31410, 31413, 31420, 31422, 31427, 31431, 31433, 31435, 31437, 31445, 31502, 31522, 31524, 31547, 31549, 31658, 31660, 31682, 31685, 31689, 31694, 31696, 31700, 31724, 31737, 31747, 31770, 31804, 31878, 31903, 31921, 31923, 31930, 31952, 31956, 31963, 31973, 32017, 32019, 32022, 32025, 32029, 32031, 32078, 32139, 32153, 32160, 32170, 32174, 32203, 32211, 32234, 32280, 32289, 32291, 32296, 32298, 32302, 32349, 32352, 32369, 32371, 32381, 32387, 32395, 32444, 32456, 32460, 32464, 32469, 32515, 32525, 32554, 32562, 32582, 32587, 32591, 32596, 32598, 32632, 32666, 32686, 32728, 32735, 32743, 32797, 32825, 32840, 32844, 32853, 32882, 32892, 32898, 32914, 32943, 33004, 33021, 33085, 33124, 33138, 33145, 33154, 33158, 33162, 33164, 33166, 33171, 33296, 33312, 33358, 33380, 33437, 33493, 33495, 33499, 33558, 33587, 33592, 33615, 33621, 33639, 33646, 33660, 33669, 33672, 33679, 33681, 33683, 33688, 33750, 33760, 33794, 33817, 33826, 33830, 33834, 33836, 33838, 33880, 33896, 33903, 33912, 33917, 34002, 34018, 34048, 34072, 34129, 34143, 34150, 34153, 34162, 34164, 34198, 34271, 34319, 34321, 34323, 34326, 34332, 34334, 34336, 34338, 34359, 34364, 34405, 34435, 34437, 34520, 34523, 34528, 34530, 34532, 34534, 34536, 34542, 34552, 34583, 34608, 35836, 35957, 36152, 36276, 36289, 36397, 36401, 36509, 36517, 36519, 36525, 36527, 36529, 36533, 36535, 36553, 36708, 36931, 37211, 37240, 37277, 37380, 37382, 37384, 37386, 37475, 37477, 37720, 37727, 37729, 37731, 37733, 37736, 37739, 37741, 37785, 37830, 37853, 37855, 37857, 38038, 38061, 38304, 38384, 38499, 38798, 38886, 38992, 38994, 39052, 39183, 39231, 39234, 39292, 39307, 39381, 39398, 39408, 39414, 39416, 39419, 39427, 39435, 39444, 39446, 39659, 39715, 39768, 39779, 39869, 39941, 40148, 40226, 40278, 40339, 40412, 40414, 40491, 40574, 40581, 40583, 40597, 40614, 40629, 40723, 40732, 40815, 40817, 40819, 40826, 40833, 40851, 40870, 40946, 40959, 41226, 41285, 41336, 41527, 41566, 41569, 41571, 41573, 41714, 41716, 41769, 41863, 41912, 41997, 42002, 42004, 42007, 42009, 42011, 42013, 42015, 42163, 42191, 42197, 42351, 42418, 42632, 42677, 42681, 42718, 42721, 42723, 42725, 42728, 42730, 42732, 42734, 42738, 42740, 42783, 42900, 42935, 42946, 42958, 43177, 43267, 43333, 43351, 43376, 43391, 43396, 43419, 43556, 43558, 43560, 43635, 43679, 43708, 43744, 43832, 43836, 43838, 43869, 43871, 43899, 43904, 43908, 43910, 43917, 43919, 43921, 43928, 43930, 43932, 43936, 44004, 44022, 44073, 44191, 44193, 44195, 44197, 44199, 44204, 44225, 44245, 44301, 44317, 44397, 44421, 44511, 44555, 44587, 44597, 44613, 44633, 44665, 44671, 44694, 44709, 44717, 44731, 44759, 44761, 44788, 44828, 44840, 44849, 44864, 44911, 44972, 44974, 45000, 45028, 45062, 45081, 45172, 45179, 45183, 45186, 45208, 45210, 45221, 45382, 45431, 45440, 45442, 45447, 45499, 45501, 45506, 45517, 45521, 45662, 45666, 45668, 45672, 45679, 45720, 45722, 45726, 45728, 45730, 45732, 45837, 45880, 45928, 45942, 45950, 45969, 45987, 46062, 46322, 46335, 46337, 46347, 46530, 46544, 46559, 46561, 46574, 46578, 46664, 46723, 46772, 46850, 46855, 46865, 46919, 46948, 46965, 46967, 46970, 46972, 46974, 46976, 47044, 47092, 47099, 47122, 47124, 47148, 47152, 47196, 47200, 47202, 47254, 47261, 47274, 47287, 47330, 47382, 47384, 47404, 47423, 47465, 47491, 47493, 47518, 47606, 47610, 47629, 47640, 47714, 47721, 47728, 47810, 47815, 47894, 47937, 47950, 47952, 47978, 47997, 47999, 48032, 48043, 48061, 48082, 48142, 48159, 48165, 48198, 48231, 48262, 48268, 48301, 48304, 48319, 48322, 48385, 48394, 48414, 48501, 48516, 48518, 48520, 48522, 48560, 48591, 48593, 48596, 48660, 48682, 48696, 48698, 48738, 48741, 48744, 48774, 48780, 48783, 48791, 48817, 48856, 48872, 48877, 48972, 48982, 48997, 49013, 49132, 49220, 49225, 49265, 49272, 49274, 49278, 49280, 49284, 49286, 49299, 49314, 49394, 49396, 49526, 49528, 49530, 49647, 49649, 49651, 49688, 49772, 49817, 49822, 49824, 49902, 49910, 49932, 49957, 49961, 50005, 50011, 50064, 50068, 50147, 50160, 50162, 50189, 50245, 50259, 50442, 50445, 50514, 50583, 50601, 50641, 50651, 50658, 50685, 50703, 50740, 50742, 50792, 50794, 50798, 50802, 50804, 50806, 50842, 50851, 50872, 50912, 50923, 50954, 51044, 51077, 51080, 51084, 51086, 51088, 51091, 51094, 51127, 51174, 51207, 51255, 51277, 51304, 51357, 51372, 51380, 51412, 51418, 51471, 51540, 51575, 51662, 51698, 51705, 51709, 51773, 51834, 51884, 51925, 51927, 51931, 51935, 51937, 51939, 52241, 52245, 52281, 52287, 52319, 52328, 52378, 52435, 52456, 52458, 52460, 52462, 52528, 52545, 52579, 52604, 52606, 52617, 52644, 52666, 52668, 52694, 52712, 52717, 52722, 52730, 52767, 52831, 52885, 52913, 52950, 52952, 52967, 52973, 52975, 53000, 53024, 53038, 53121, 53123, 53125, 53129, 53133, 53138, 53189, 53207, 53318, 53322, 53326, 53435, 53447, 53460, 53464, 53466, 53468, 53519, 53550, 53737, 53883, 53887, 53894, 53953, 53956, 53972, 53974, 53993, 53996, 53999, 54001, 54004, 54190, 54220, 54251, 54256, 54259, 54270, 54272, 54276, 54281, 54286, 54290, 54328, 54331, 54372, 54419, 54426, 54503, 54513, 54648, 54732, 54734, 54736, 54745, 54768, 54771, 54775, 54780, 54785, 54787, 54881, 54910, 54995, 54997, 54999, 55031, 55052, 55063, 55069, 55071, 55078, 55094, 55100, 55110, 55116, 55118, 55156, 55167, 55207, 55232, 55245, 55247, 55250, 55253, 55259, 55261, 55267, 55269, 55272, 55274, 55276, 55280, 55282, 55290, 55294, 55363, 55417, 55442, 55444, 55451, 55498, 55555, 55566, 55577, 55652, 55684, 55687, 55721, 55732, 55757, 55765, 55768, 55805, 55814, 55820, 55830, 55851, 55872, 55895, 55908, 55995, 55999, 56003, 56030, 56069, 56079, 56095, 56145, 56152, 56156, 56169, 56171, 56174, 56176, 56251, 56274, 56286, 56333, 56336, 56339, 56367, 56563, 56587, 56607, 56633, 56715, 56757, 56775, 56782, 56788, 56801, 56805, 56869, 56885, 56908, 56915, 56921, 56941, 56949, 57038, 57223, 57243, 57274, 57326, 57353, 57368, 57401, 57418, 57430, 57453, 57504, 57526, 57528, 57532, 57640, 57669, 57792, 57845, 57910, 57951, 57972, 57980, 58025, 58029, 58047, 58103, 58105, 58107, 58146, 58154, 58156, 58191, 58293, 58295, 58297, 58299, 58301, 58303, 58306, 58315, 58347, 58351, 58365, 58376, 58425, 58432, 58520, 58554, 58559, 58627, 58649, 58655, 58706, 58803, 58839, 58879, 58889, 58904, 58964, 58972, 58975, 58998, 59014, 59016, 59018, 59022, 59037, 59103, 59118, 59126, 59141, 59143, 59180, 59258, 59273, 59306, 59315, 59333, 59339, 59369, 59387, 59392, 59418, 59421, 59429, 59447, 59501, 59519, 59549, 59590, 59594, 59615, 59669, 59684, 59721, 59725, 59727, 59731, 59784, 59805, 59810, 59814, 59832, 59834, 59846, 59900, 59935, 59945, 59985, 59995, 60037, 60040, 60069, 60072, 60074, 60086, 60126, 60128, 60135, 60137, 60161, 60291, 60293, 60295, 60333, 60343, 60382, 60384, 60397, 60471, 60487, 60514, 60516, 60609, 60649, 60674, 60684, 60753, 60756, 60760, 60763, 60766, 60832, 60857, 60937, 60943, 60950, 60990, 61013, 61024, 61026, 61071, 61075, 61123, 61132, 61160, 61167, 61206, 61210, 61236, 61240, 61248, 61250, 61289, 61323, 61348, 61350, 61352, 61357, 61361, 61394, 61401, 61465, 61634, 61646, 61705, 61729, 62049, 62081, 62113, 62115, 62155, 62203, 62250, 62331, 62336, 62344, 62374, 62376, 62378, 62383, 62394, 62434, 62437, 62511, 62644, 62718, 62733, 62764, 62792, 62801, 62849, 62912, 62956, 62999, 63062, 63072, 63082, 63113, 63131, 63179, 63239, 63276, 63393, 63436, 63479, 63481, 63515, 63540, 63629, 63808, 63826, 63836, 63853, 63859, 63876, 63992, 64030, 64032, 64034, 64114, 64116, 64153, 64197, 64229, 64249, 64278, 64285, 64321, 64338, 64497, 64499, 64501, 64508, 64575, 64614, 64620, 64622, 64660, 64695, 64701, 64716, 64839, 64900, 64957, 64969, 64983, 64990, 64993, 64997, 65037, 65088, 65126, 65130, 65133, 65135, 65188, 65193, 65216, 65230, 65259, 65261, 65310, 65418, 65465, 65514, 65552, 65567, 65577, 65585, 65601, 65638, 65642, 65665, 65682, 65685, 65802, 65982, 66019, 66066, 66090, 66097, 66130, 66171, 66198, 66200, 66203, 66246, 66297, 66310, 66317, 66335, 66371, 66427, 66509, 66544, 66596, 66659, 66665, 66686, 66744, 66785, 66798, 66808, 66915, 66934, 67087, 67193, 67197, 67252, 67255, 67267, 67295, 67361, 67408, 67429, 67504, 67508, 67665, 67695, 67734, 67788, 67799, 67867, 67923, 67957, 67997, 68073, 68099, 68135, 68137, 68157, 68159, 68194, 68205, 68237, 68269, 68319, 68324, 68347, 68358, 68444, 68486, 68536, 68554, 68614, 68659, 68791, 68793, 68835, 68838, 68848, 68872, 68884, 68901, 68932, 68945, 68952, 68954, 68959, 68965, 68967, 69069, 69118, 69122, 69134, 69241, 69253, 69275, 69278, 69280, 69306, 69406, 69436, 69458, 69481, 69495, 69516, 69524, 69526, 69529, 69559, 69604, 69606, 69640, 69644, 69654, 69685, 69712, 69720, 69746, 69757, 69761, 69784, 69805, 69821, 69844, 69849, 69908, 69945, 69951, 69974, 70121, 70159, 70183, 70188, 70201, 70282, 70286, 70293, 70305, 70336, 70344, 70418, 70465, 70488, 70533, 70545, 70565, 70567, 70597, 70599, 70663, 70678, 70697, 70728, 70751, 70762, 70846, 70862, 70898, 70927, 70946, 70984, 70994, 71033, 71057, 71102, 71106, 71108, 71131, 71135, 71156, 71180, 71205, 71211, 71248, 71252, 71254, 71264, 71282, 71304, 71318, 71379, 71390, 71404, 71429, 71433, 71438, 71460, 71462, 71464, 71466, 71468, 71490, 71494, 71518, 71520, 71525, 71530, 71533, 71535, 71573, 71579, 71640, 71650, 71668, 71700, 71732, 71745, 71755, 71804, 71810, 71823, 71838, 71876, 71899, 72011, 72043, 72104, 72109, 72129, 72131, 72165, 72169, 72171, 72176, 72209, 72224, 72226, 72294, 72308, 72356, 72367, 72378, 72380, 72386, 72393, 72395, 72405, 72407, 72479, 72489, 72603, 72605, 72612, 72626, 72630, 72641, 72647, 72683, 72694, 72696, 72701, 72720, 72731, 72733, 72737, 72741, 72762, 72781, 72880, 72919, 72947, 72998, 73015, 73017, 73023, 73042, 73101, 73106, 73168, 73211, 73266, 73268, 73276, 73290, 73319, 73321, 73323, 73344, 73386, 73392, 73469, 73488, 73531, 73572, 73587, 73664, 73741, 73759, 73808, 73854, 73860, 73881, 73929, 74089, 74115, 74152, 74154, 74156, 74228, 74275, 74282, 74324, 74327, 74370, 74416, 74438, 74450, 74452, 74458, 74486, 74508, 74510, 74530, 74532, 74545, 74580, 74624, 74630, 74649, 74668, 74677, 74685, 74688, 74698, 74727, 74740, 74754, 74787, 74789, 74795, 74851, 74868, 74916, 74944, 74946, 74948, 75341, 75349, 75440, 75803, 75805, 75813, 75816, 75823, 75983, 75985, 75990, 76030, 76054, 76060, 76077, 76091, 76093, 76111, 76173, 76175, 76210, 76251, 76272, 76293, 76303, 76738, 76763, 77191, 77201, 77206, 77291, 77307, 77359, 77364, 77414, 77421, 77427, 77435, 77455, 77561, 77658, 77798, 77800, 77808, 77810, 77837, 77846, 77866, 77907, 78034, 78039, 78041, 78088, 78101, 78105, 78111, 78116, 78122, 78160, 78174, 78209, 78218, 78264, 78266, 78316, 78321, 78349, 78467, 78469, 78499, 78517, 78544, 78574, 78637, 78653, 78703, 78729, 78772, 78829, 78836, 78893, 78903, 78967, 79006, 79008, 79029, 79057, 79091, 79132, 79134, 79136, 79139, 79163, 79185, 79203, 79224, 79242, 79251, 79259, 79274, 79293, 79299, 79318, 79357, 79428, 79469, 79553, 79588, 79590, 79592, 79677, 79686, 79695, 79702, 79720, 79796, 79824, 79868, 79879, 79946, 80026, 80083, 80126, 80166, 80185, 80217, 80219, 80241, 80346, 80350, 80363, 80463, 80489, 80549, 80551, 80553, 80572, 80584, 80586, 80590, 80599, 80615, 80693, 80717, 80727, 80736, 80748, 80831, 80839, 80844, 80846, 80858, 80860, 80862, 80864, 80906, 80917, 80969, 81018, 81054, 81083, 81132, 81138, 81156, 81158, 81191, 81229, 81417, 81512, 81516, 81535, 81537, 81562, 81564, 81591, 81641, 81660, 81782, 81784, 81786, 81788, 81819, 81831, 81834, 81845, 81847, 81898, 81910, 81932, 81949, 82035, 82037, 82041, 82093, 82095, 82150, 82152, 82167, 82169, 82173, 82202, 82242, 82378, 82459, 82461, 82463, 82499, 82527, 82534, 82608, 82667, 82852, 82854, 82931, 82934, 83086, 83096, 83132, 83134, 83177, 83270, 83293, 83318, 83322, 83332, 83349, 83359, 83361, 83374, 83411, 83480, 83506, 83603, 83613, 83803, 83827, 83829, 83910, 83976, 84098, 84116, 84152, 84154, 84160, 84187, 84236, 84304, 84312, 84374, 84392, 84395, 84414, 84506, 84601, 84615, 84637, 84696, 84772, 84844, 84847, 84944, 84950, 84952, 84954, 85016, 85020, 85022, 85025, 85056, 85131, 85179, 85213, 85261, 85316, 85342, 85367, 85394, 85397, 85399, 85401, 85412, 85414, 85438, 85510, 85572, 85612, 85736, 85774, 85780, 85788, 85796, 85881, 86000, 86014, 86028, 86059, 86142, 86190, 86290, 86293, 86298, 86320, 86332, 86345, 86347, 86377, 86487, 86504, 86548, 86593, 86626, 86644, 86721, 86781, 86817, 86833, 86835, 86852, 86864, 86880, 86882, 86884, 86892, 86898, 86911, 86982, 87192, 87205, 87218, 87222, 87232, 87234, 87298, 87304, 87306, 87383, 87430, 87444, 87483, 87485, 87520, 87522, 87529, 87598, 87660, 87785, 87869, 87876, 87884, 87930, 87975, 88024, 88106, 88118, 88125, 88129, 88140, 88163, 88179, 88235, 88267, 88272, 88345, 88356, 88380, 88405, 88672, 88682, 88744, 88785, 88810, 88812, 88879, 88932, 88950, 88954, 89000, 89030, 89039, 89045, 89047, 89072, 89085, 89087, 89090, 89102, 89118, 89194, 89203, 89260, 89300, 89305, 89321, 89337, 89343, 89356, 89388, 89408, 89427, 89470, 89492, 89678, 89745, 89753, 89759, 89761, 89774, 89804, 89837, 89840, 89864, 89870, 89881, 89904, 90057, 90061, 90249, 90266, 90343, 90345, 90357, 90374, 90376, 90403, 90405, 90428, 90430, 90439, 90469, 90522, 90524, 90531, 90576, 90600, 90603, 90647, 90717, 90719, 90738, 90746, 90863, 90866, 90870, 90888, 90890, 90947, 91077, 91094, 91104, 91126, 91128, 91134, 91199, 91273, 91286, 91323, 91325, 91355, 91414, 91470, 91483, 91485, 91488, 91500, 91505, 91529, 91535, 91542, 91548, 91582, 91610, 91622, 91628, 91630, 91653, 91658, 91660, 91673, 91688, 91690, 91842, 91869, 91873, 91886, 91890, 91935, 91947, 91974, 91976, 91978, 92004, 92008, 92048, 92058, 92163, 92198, 92206, 92210, 92234, 92259, 92264, 92309, 92420, 92424, 92439, 92494, 92496, 92498, 92507, 92509, 92535, 92613, 92665, 92681, 92694, 92751, 92756, 92938, 92954, 92966, 93040, 93061, 93242, 93265, 93270, 93272, 93287, 93320, 93324, 93326, 93363, 93422, 93432, 93443, 93498, 93510, 93512, 93563, 93693, 93700, 93721, 93766, 93805, 93831, 93838, 93840, 93855, 93980, 93982, 94011, 94015, 94018, 94024, 94070, 94266, 94323, 94325, 94466, 94478, 94480, 94494, 94672, 94677, 94777, 94780, 94799, 94833, 94864, 94896, 94919, 94931, 94939, 94953, 94959, 95067, 95088, 95105, 95113, 95115, 95135, 95147, 95165, 95167, 95182, 95199, 95201, 95207, 95307, 95309, 95311, 95313, 95375, 95377, 95441, 95443, 95449, 95473, 95475, 95499, 95508, 95510, 95543, 95558, 95567, 95583, 95654, 95720, 95740, 95744, 95752, 95761, 95780, 95782, 95858, 95873, 95875, 95949, 95963, 95965, 96004, 96007, 96020, 96075, 96079, 96110, 96114, 96150, 96281, 96314, 96373, 96417, 96432, 96448, 96467, 96488, 96490, 96530, 96563, 96565, 96588, 96590, 96606, 96610, 96616, 96634, 96655, 96667, 96691, 96726, 96728, 96737, 96792, 96811, 96815, 96821, 96829, 96832, 96849, 96861, 96863, 96901, 96911, 97057, 97168, 97188, 97225, 97230, 97254, 97304, 97306, 97328, 97393, 97395, 97470, 97593, 97639, 97673, 97742, 97744, 97752, 97757, 97817, 97826, 97836, 97858, 97860, 97866, 97870, 97895, 97913, 97921, 97923, 97936, 97938, 97957, 97994, 98000, 98056, 98083, 98122, 98124, 98126, 98154, 98160, 98175, 98230, 98243, 98279, 98296, 98369, 98441, 98458, 98473, 98491, 98585, 98587, 98604, 98607, 98611, 98615, 98795, 98803, 98809, 98829, 98836, 98908, 98913, 98933, 98961, 98963, 99005, 99007, 99030, 99085, 99089, 99106, 99112, 99114, 99117, 99145, 99149, 99220, 99270, 99273, 99276, 99296, 99320, 99415, 99437, 99468, 99470, 99574, 99609, 99615, 99669, 99675, 99728, 99741, 99764, 99795, 99811, 99813, 99839, 99846, 99912, 99917, 99992, 100017, 100032, 100034, 100083, 100106, 100159, 100163, 100226, 100272, 100304, 100306, 100326, 100365, 100383, 100390, 100450, 100487, 100498, 100517, 100527, 100553, 100556, 100581, 100714, 100745, 100843, 101025, 101070, 101076, 101088, 101106, 101112, 101142, 101283, 101285, 101360, 101362, 101415, 101525, 101529, 101531, 101577, 101612, 101741, 101850, 101864, 101884, 101895, 101904, 101947, 101962, 102033, 102123, 102125, 102165, 102194, 102217, 102252, 102278, 102378, 102396, 102407, 102445, 102481, 102588, 102666, 102684, 102686, 102716, 102720, 102753, 102792, 102800, 102819, 102880, 102903, 102905, 102993, 102995, 103042, 103048, 103107, 103137, 103141, 103210, 103221, 103228, 103235, 103249, 103253, 103279, 103299, 103335, 103339, 103341, 103372, 103384, 103444, 103502, 103539, 103543, 103596, 103624, 103655, 103659, 103671, 103688, 103731, 103755, 103772, 103801, 103810, 103813, 103819, 103865, 103883, 103980, 103984, 104069, 104074, 104076, 104078, 104119, 104129, 104211, 104218, 104241, 104243, 104245, 104272, 104283, 104303, 104312, 104321, 104337, 104339, 104374, 104419, 104441, 104457, 104590, 104595, 104597, 104662, 104726, 104757, 104760, 104841, 104863, 104879, 104881, 104906, 104913, 104925, 104944, 105037, 105121, 105197, 105211, 105213, 105246, 105254, 105351, 105355, 105429, 105468, 105504, 105585, 105593, 105715, 105731, 105755, 105763, 105769, 105844, 105954, 106002, 106004, 106011, 106022, 106062, 106072, 106100, 106111, 106144, 106204, 106236, 106330, 106332, 106397, 106417, 106438, 106441, 106452, 106471, 106473, 106487, 106489, 106491, 106540, 106542, 106642, 106696, 106762, 106766, 106782, 106839, 106870, 106873, 106883, 106916, 106918, 106920, 107042, 107057, 107069, 107081, 107083, 107141, 107314, 107348, 107382, 107406, 107412, 107447, 107516, 107555, 107559, 107649, 107702, 107769, 107771, 107910, 107945, 107953, 107978, 107999, 108076, 108090, 108156, 108188, 108190, 108192, 108447, 108506, 108514, 108548, 108551, 108583, 108601, 108689, 108709, 108715, 108727, 108729, 108795, 108873, 108928, 108932, 108945, 108949, 108979, 108981, 109042, 109074, 109161, 109183, 109187, 109191, 109205, 109249, 109295, 109317, 109359, 109372, 109374, 109483, 109487, 109576, 109578, 109673, 109687, 109740, 109742, 109846, 109848, 109850, 109853, 109864, 109895, 110058, 110102, 110110, 110127, 110194, 110297, 110348, 110352, 110453, 110461, 110501, 110553, 110586, 110591, 110611, 110645, 110655, 110730, 110748, 110752, 110771, 110781, 110826, 110858, 110873, 110882, 111113, 111228, 111235, 111360, 111362, 111364, 111384, 111443, 111486, 111529, 111617, 111622, 111624, 111659, 111663, 111680, 111743, 111759, 111781, 111795, 111913, 111921, 111931, 112006, 112062, 112070, 112112, 112138, 112171, 112175, 112183, 112277, 112290, 112303, 112334, 112370, 112399, 112421, 112450, 112460, 112497, 112515, 112552, 112556, 112577, 112582, 112623, 112653, 112655, 112689, 112735, 112749, 112767, 112788, 112804, 112818, 112850, 112852, 112897, 112911, 112921, 112940, 113064, 113186, 113207, 113220, 113225, 113252, 113275, 113345, 113348, 113378, 113416, 113453, 113532, 113565, 113573, 113640, 113705, 113741, 113780, 113829, 113862, 113938, 114028, 114044, 114060, 114074, 114082, 114122, 114180, 114265, 114342, 114464, 114552, 114601, 114635, 114662, 114670, 114707, 114762, 114766, 114795, 114818, 114925, 114935, 115122, 115147, 115149, 115151, 115170, 115174, 115210, 115216, 115231, 115502, 115534, 115569, 115617, 115624, 115664, 115680, 115713, 115877, 115881, 115927, 116012, 116136, 116161, 116207, 116397, 116413, 116419, 116503, 116660, 116797, 116799, 116823, 116849, 116855, 116887, 116897, 116939, 116977, 116985, 117107, 117121, 117123, 117176, 117192, 117434, 117444, 117456, 117511, 117529, 117533, 117590, 117851, 117871, 117895, 118082, 118105, 118248, 118260, 118326, 118334, 118354, 118468, 118696, 118702, 118814, 118880, 118890, 118898, 118900, 118924, 118985, 118997, 119068, 119141, 119145, 119155, 119655, 120392, 120466, 120635, 120637, 120783, 120799, 120805, 120821, 121113, 121126, 121171, 121231, 121491, 121618, 122490, 122882, 122886, 122888, 122890, 122892, 122900, 122902, 122904, 122920, 122924, 122932, 123947, 124859, 125916, 126006, 126106, 126420, 126430, 126548, 127052, 127096, 127098, 127108, 127114, 127124, 127136, 127152, 127158, 127164, 127178, 127194, 127198, 127202, 127204, 127206, 127319, 127728, 128360, 128512, 128520, 128592, 128606, 128616, 128620, 128846, 129009, 129191, 129250, 129313, 129354, 129364, 129428, 129514, 129653, 129657, 129659, 129737, 129937, 130073, 130083, 130087, 130351, 130448, 130450, 130452, 130490, 130520, 130522, 130576, 130580, 130628, 130634, 130642, 130682, 130960, 130970, 130980, 131013, 131168, 131451, 131714, 131724, 131830, 132046, 132074, 132146, 132157, 132333, 132462, 132480, 132488, 132496, 132618, 132796, 132888, 132952, 132961, 133195, 133281, 133295, 133365, 133377, 133419, 133545, 133645, 133771, 133782, 133798, 133824, 134025, 134130, 134158, 134170, 134246, 134368, 134393, 134528, 134569, 134783, 134853, 134859, 134881, 135133, 135137, 135264, 135266, 135268, 135436, 135508, 135518, 135532, 135536, 135567, 135569, 135861, 135887, 136016, 136018, 136020, 136305, 136445, 136447, 136449, 136562, 136592, 136598, 136602, 136654, 136666, 136800, 136816, 136864, 137337, 137403, 137595, 137857, 138036, 138204, 138208, 138258, 138546, 138696, 138698, 139116, 139130, 139385, 139415, 139620, 139642, 139644, 139757, 139855, 139915, 140110, 140152, 140174, 140237, 140247, 140265, 140267, 140523, 140711, 140715, 140725, 140739, 140741, 140743, 140745, 140747, 140749, 140751, 140753, 140755, 140757, 140759, 140761, 140763, 140816, 140880, 140928, 141124, 141422, 141668, 141688, 141718, 141749, 141866, 141886, 141890, 141956, 142068, 142192, 142240, 142258, 142422, 142448, 142488, 142507, 142536, 142997, 143255, 143257, 143377, 143385, 143410, 143472, 143657, 143859, 144620, 144714, 144976, 145150, 145307, 145775, 145839, 145935, 146309, 146443, 146501, 146604, 146656, 146682, 146688, 147006, 147010, 147037, 147426, 147845, 148168, 148238, 148372, 148626, 148652, 148881, 148888, 148956, 149352, 149354, 149406, 149532, 149572, 149590, 149606, 149612, 149830, 150401, 150548, 150856, 151307, 151639, 152017, 152025, 152057, 152077, 152079, 152081, 152091, 152173, 152844, 153584, 155392, 155611, 155820, 156025, 156387, 156607, 156609, 156726, 157200, 157296, 157407, 157667, 158238, 158314, 158528, 158956, 159093, 159462, 159690, 159755, 159858, 159972, 160080, 160271, 160438, 160440, 160563, 160565, 160567, 160590, 160656, 160718, 161084, 161155, 161594, 161830, 161918, 161944, 162376, 162542, 162672, 163949]\n"
          ]
        }
      ]
    },
    {
      "cell_type": "markdown",
      "source": [
        "* Melakukan proses *encoding movieId*"
      ],
      "metadata": {
        "id": "WA0_L9bANqyE"
      }
    },
    {
      "cell_type": "code",
      "source": [
        "movie_to_movie_encoded = {x: i for i, x in enumerate(movie_id)}\n",
        "print('encoded movieId : ', movie_to_movie_encoded)"
      ],
      "metadata": {
        "colab": {
          "base_uri": "https://localhost:8080/"
        },
        "id": "5Z_RKkIrNgje",
        "outputId": "0d7f012c-fa74-418e-ffca-fd83966ffebc"
      },
      "execution_count": 36,
      "outputs": [
        {
          "output_type": "stream",
          "name": "stdout",
          "text": [
            "encoded movieId :  {1: 0, 2: 1, 3: 2, 4: 3, 5: 4, 6: 5, 7: 6, 8: 7, 9: 8, 10: 9, 11: 10, 12: 11, 13: 12, 14: 13, 15: 14, 16: 15, 17: 16, 18: 17, 19: 18, 20: 19, 21: 20, 22: 21, 23: 22, 24: 23, 25: 24, 26: 25, 27: 26, 28: 27, 29: 28, 30: 29, 31: 30, 32: 31, 34: 32, 35: 33, 36: 34, 37: 35, 38: 36, 39: 37, 40: 38, 41: 39, 42: 40, 43: 41, 44: 42, 45: 43, 46: 44, 47: 45, 48: 46, 49: 47, 50: 48, 52: 49, 53: 50, 54: 51, 55: 52, 57: 53, 58: 54, 59: 55, 60: 56, 61: 57, 62: 58, 63: 59, 64: 60, 65: 61, 66: 62, 68: 63, 69: 64, 70: 65, 71: 66, 72: 67, 73: 68, 74: 69, 76: 70, 77: 71, 78: 72, 79: 73, 80: 74, 81: 75, 82: 76, 83: 77, 84: 78, 85: 79, 86: 80, 87: 81, 88: 82, 89: 83, 92: 84, 93: 85, 94: 86, 95: 87, 96: 88, 97: 89, 98: 90, 99: 91, 100: 92, 101: 93, 102: 94, 103: 95, 104: 96, 105: 97, 107: 98, 108: 99, 110: 100, 111: 101, 112: 102, 113: 103, 114: 104, 116: 105, 117: 106, 118: 107, 119: 108, 121: 109, 122: 110, 123: 111, 124: 112, 125: 113, 126: 114, 129: 115, 130: 116, 131: 117, 132: 118, 135: 119, 137: 120, 140: 121, 141: 122, 144: 123, 145: 124, 146: 125, 147: 126, 148: 127, 149: 128, 150: 129, 151: 130, 152: 131, 153: 132, 154: 133, 155: 134, 156: 135, 157: 136, 158: 137, 159: 138, 160: 139, 161: 140, 162: 141, 163: 142, 164: 143, 165: 144, 166: 145, 167: 146, 168: 147, 169: 148, 170: 149, 171: 150, 172: 151, 173: 152, 174: 153, 175: 154, 176: 155, 177: 156, 178: 157, 179: 158, 180: 159, 181: 160, 183: 161, 184: 162, 185: 163, 186: 164, 187: 165, 188: 166, 189: 167, 190: 168, 191: 169, 193: 170, 194: 171, 195: 172, 196: 173, 198: 174, 199: 175, 200: 176, 201: 177, 202: 178, 203: 179, 204: 180, 205: 181, 206: 182, 207: 183, 208: 184, 209: 185, 211: 186, 213: 187, 214: 188, 215: 189, 216: 190, 217: 191, 218: 192, 219: 193, 220: 194, 222: 195, 223: 196, 224: 197, 225: 198, 227: 199, 228: 200, 229: 201, 230: 202, 231: 203, 232: 204, 233: 205, 234: 206, 235: 207, 236: 208, 237: 209, 238: 210, 239: 211, 240: 212, 241: 213, 242: 214, 243: 215, 244: 216, 245: 217, 246: 218, 247: 219, 248: 220, 249: 221, 250: 222, 251: 223, 252: 224, 253: 225, 254: 226, 255: 227, 256: 228, 257: 229, 258: 230, 259: 231, 260: 232, 261: 233, 262: 234, 263: 235, 264: 236, 265: 237, 266: 238, 267: 239, 268: 240, 269: 241, 270: 242, 271: 243, 272: 244, 273: 245, 274: 246, 275: 247, 276: 248, 277: 249, 278: 250, 279: 251, 280: 252, 281: 253, 282: 254, 283: 255, 285: 256, 287: 257, 288: 258, 289: 259, 290: 260, 291: 261, 292: 262, 293: 263, 294: 264, 295: 265, 296: 266, 299: 267, 300: 268, 301: 269, 302: 270, 303: 271, 304: 272, 305: 273, 306: 274, 307: 275, 308: 276, 309: 277, 312: 278, 313: 279, 314: 280, 315: 281, 316: 282, 317: 283, 318: 284, 319: 285, 320: 286, 321: 287, 322: 288, 324: 289, 325: 290, 326: 291, 327: 292, 328: 293, 329: 294, 330: 295, 331: 296, 332: 297, 333: 298, 334: 299, 335: 300, 336: 301, 337: 302, 338: 303, 339: 304, 340: 305, 341: 306, 342: 307, 343: 308, 344: 309, 345: 310, 346: 311, 347: 312, 348: 313, 349: 314, 350: 315, 351: 316, 352: 317, 353: 318, 354: 319, 355: 320, 356: 321, 357: 322, 358: 323, 360: 324, 361: 325, 362: 326, 363: 327, 364: 328, 365: 329, 366: 330, 367: 331, 368: 332, 369: 333, 370: 334, 371: 335, 372: 336, 373: 337, 374: 338, 375: 339, 376: 340, 377: 341, 378: 342, 379: 343, 380: 344, 381: 345, 382: 346, 383: 347, 384: 348, 387: 349, 388: 350, 389: 351, 390: 352, 391: 353, 392: 354, 393: 355, 401: 356, 405: 357, 407: 358, 408: 359, 409: 360, 410: 361, 412: 362, 413: 363, 414: 364, 415: 365, 416: 366, 417: 367, 418: 368, 419: 369, 420: 370, 421: 371, 422: 372, 423: 373, 424: 374, 425: 375, 426: 376, 427: 377, 428: 378, 429: 379, 431: 380, 432: 381, 433: 382, 434: 383, 435: 384, 436: 385, 437: 386, 438: 387, 439: 388, 440: 389, 441: 390, 442: 391, 443: 392, 444: 393, 445: 394, 446: 395, 447: 396, 448: 397, 449: 398, 450: 399, 451: 400, 452: 401, 453: 402, 454: 403, 455: 404, 456: 405, 457: 406, 458: 407, 459: 408, 460: 409, 461: 410, 463: 411, 464: 412, 465: 413, 466: 414, 467: 415, 468: 416, 469: 417, 470: 418, 471: 419, 472: 420, 473: 421, 474: 422, 475: 423, 476: 424, 477: 425, 479: 426, 480: 427, 481: 428, 482: 429, 483: 430, 484: 431, 485: 432, 486: 433, 487: 434, 488: 435, 489: 436, 490: 437, 491: 438, 492: 439, 493: 440, 494: 441, 495: 442, 496: 443, 497: 444, 498: 445, 499: 446, 500: 447, 501: 448, 502: 449, 504: 450, 505: 451, 506: 452, 507: 453, 508: 454, 509: 455, 510: 456, 511: 457, 512: 458, 513: 459, 514: 460, 515: 461, 516: 462, 517: 463, 518: 464, 519: 465, 520: 466, 521: 467, 522: 468, 523: 469, 524: 470, 526: 471, 527: 472, 528: 473, 529: 474, 531: 475, 532: 476, 533: 477, 534: 478, 535: 479, 536: 480, 537: 481, 538: 482, 539: 483, 540: 484, 541: 485, 542: 486, 543: 487, 544: 488, 546: 489, 547: 490, 548: 491, 549: 492, 550: 493, 551: 494, 552: 495, 553: 496, 554: 497, 555: 498, 556: 499, 558: 500, 559: 501, 561: 502, 562: 503, 563: 504, 564: 505, 565: 506, 567: 507, 568: 508, 569: 509, 571: 510, 573: 511, 574: 512, 575: 513, 577: 514, 580: 515, 581: 516, 582: 517, 585: 518, 586: 519, 587: 520, 588: 521, 589: 522, 590: 523, 592: 524, 593: 525, 594: 526, 595: 527, 596: 528, 597: 529, 599: 530, 600: 531, 603: 532, 605: 533, 606: 534, 608: 535, 609: 536, 610: 537, 611: 538, 612: 539, 613: 540, 614: 541, 615: 542, 616: 543, 617: 544, 619: 545, 620: 546, 621: 547, 626: 548, 627: 549, 628: 550, 630: 551, 631: 552, 632: 553, 633: 554, 635: 555, 637: 556, 638: 557, 639: 558, 640: 559, 647: 560, 648: 561, 650: 562, 651: 563, 653: 564, 656: 565, 659: 566, 661: 567, 662: 568, 663: 569, 664: 570, 665: 571, 667: 572, 668: 573, 670: 574, 671: 575, 673: 576, 674: 577, 678: 578, 679: 579, 680: 580, 681: 581, 685: 582, 687: 583, 688: 584, 690: 585, 691: 586, 692: 587, 694: 588, 695: 589, 696: 590, 697: 591, 698: 592, 700: 593, 702: 594, 703: 595, 704: 596, 705: 597, 707: 598, 708: 599, 709: 600, 710: 601, 711: 602, 714: 603, 715: 604, 718: 605, 719: 606, 720: 607, 721: 608, 722: 609, 724: 610, 725: 611, 726: 612, 728: 613, 731: 614, 733: 615, 735: 616, 736: 617, 737: 618, 741: 619, 742: 620, 743: 621, 745: 622, 746: 623, 747: 624, 748: 625, 750: 626, 753: 627, 754: 628, 755: 629, 756: 630, 757: 631, 759: 632, 760: 633, 761: 634, 762: 635, 764: 636, 765: 637, 766: 638, 767: 639, 769: 640, 775: 641, 778: 642, 779: 643, 780: 644, 781: 645, 782: 646, 783: 647, 784: 648, 785: 649, 786: 650, 787: 651, 788: 652, 793: 653, 798: 654, 799: 655, 800: 656, 801: 657, 802: 658, 803: 659, 804: 660, 805: 661, 806: 662, 808: 663, 809: 664, 810: 665, 813: 666, 816: 667, 818: 668, 820: 669, 824: 670, 828: 671, 829: 672, 830: 673, 831: 674, 832: 675, 833: 676, 834: 677, 835: 678, 836: 679, 837: 680, 838: 681, 839: 682, 840: 683, 841: 684, 842: 685, 844: 686, 845: 687, 846: 688, 848: 689, 849: 690, 850: 691, 851: 692, 852: 693, 854: 694, 858: 695, 861: 696, 864: 697, 865: 698, 866: 699, 867: 700, 869: 701, 870: 702, 872: 703, 875: 704, 876: 705, 879: 706, 880: 707, 881: 708, 882: 709, 885: 710, 886: 711, 888: 712, 889: 713, 891: 714, 892: 715, 893: 716, 896: 717, 897: 718, 898: 719, 899: 720, 900: 721, 901: 722, 902: 723, 903: 724, 904: 725, 905: 726, 906: 727, 907: 728, 908: 729, 909: 730, 910: 731, 911: 732, 912: 733, 913: 734, 914: 735, 915: 736, 916: 737, 917: 738, 918: 739, 919: 740, 920: 741, 921: 742, 922: 743, 923: 744, 924: 745, 926: 746, 927: 747, 928: 748, 929: 749, 930: 750, 931: 751, 932: 752, 933: 753, 934: 754, 935: 755, 936: 756, 937: 757, 938: 758, 939: 759, 940: 760, 941: 761, 942: 762, 943: 763, 944: 764, 945: 765, 946: 766, 947: 767, 948: 768, 949: 769, 950: 770, 951: 771, 952: 772, 953: 773, 954: 774, 955: 775, 956: 776, 957: 777, 960: 778, 961: 779, 962: 780, 963: 781, 964: 782, 965: 783, 966: 784, 968: 785, 969: 786, 970: 787, 971: 788, 972: 789, 973: 790, 976: 791, 980: 792, 981: 793, 982: 794, 984: 795, 986: 796, 987: 797, 988: 798, 990: 799, 991: 800, 992: 801, 994: 802, 996: 803, 997: 804, 998: 805, 999: 806, 1003: 807, 1004: 808, 1005: 809, 1006: 810, 1007: 811, 1008: 812, 1009: 813, 1010: 814, 1011: 815, 1012: 816, 1013: 817, 1014: 818, 1015: 819, 1016: 820, 1017: 821, 1018: 822, 1019: 823, 1020: 824, 1021: 825, 1022: 826, 1023: 827, 1024: 828, 1025: 829, 1026: 830, 1027: 831, 1028: 832, 1029: 833, 1030: 834, 1031: 835, 1032: 836, 1033: 837, 1034: 838, 1035: 839, 1036: 840, 1037: 841, 1040: 842, 1041: 843, 1042: 844, 1043: 845, 1044: 846, 1046: 847, 1047: 848, 1049: 849, 1050: 850, 1051: 851, 1053: 852, 1054: 853, 1055: 854, 1056: 855, 1057: 856, 1059: 857, 1060: 858, 1061: 859, 1063: 860, 1064: 861, 1066: 862, 1067: 863, 1068: 864, 1069: 865, 1073: 866, 1076: 867, 1077: 868, 1078: 869, 1079: 870, 1080: 871, 1081: 872, 1082: 873, 1083: 874, 1084: 875, 1085: 876, 1086: 877, 1087: 878, 1088: 879, 1089: 880, 1090: 881, 1091: 882, 1092: 883, 1093: 884, 1094: 885, 1095: 886, 1096: 887, 1097: 888, 1099: 889, 1100: 890, 1101: 891, 1103: 892, 1104: 893, 1105: 894, 1111: 895, 1112: 896, 1113: 897, 1114: 898, 1120: 899, 1123: 900, 1124: 901, 1125: 902, 1126: 903, 1127: 904, 1128: 905, 1129: 906, 1130: 907, 1131: 908, 1132: 909, 1133: 910, 1135: 911, 1136: 912, 1137: 913, 1145: 914, 1147: 915, 1148: 916, 1150: 917, 1151: 918, 1152: 919, 1153: 920, 1154: 921, 1161: 922, 1162: 923, 1163: 924, 1164: 925, 1165: 926, 1167: 927, 1168: 928, 1169: 929, 1171: 930, 1172: 931, 1173: 932, 1174: 933, 1175: 934, 1176: 935, 1177: 936, 1178: 937, 1179: 938, 1180: 939, 1181: 940, 1183: 941, 1184: 942, 1185: 943, 1186: 944, 1187: 945, 1188: 946, 1189: 947, 1190: 948, 1191: 949, 1192: 950, 1193: 951, 1194: 952, 1196: 953, 1197: 954, 1198: 955, 1199: 956, 1200: 957, 1201: 958, 1202: 959, 1203: 960, 1204: 961, 1206: 962, 1207: 963, 1208: 964, 1209: 965, 1210: 966, 1211: 967, 1212: 968, 1213: 969, 1214: 970, 1215: 971, 1216: 972, 1217: 973, 1218: 974, 1219: 975, 1220: 976, 1221: 977, 1222: 978, 1223: 979, 1224: 980, 1225: 981, 1226: 982, 1227: 983, 1228: 984, 1230: 985, 1231: 986, 1232: 987, 1233: 988, 1234: 989, 1235: 990, 1236: 991, 1237: 992, 1238: 993, 1240: 994, 1241: 995, 1242: 996, 1243: 997, 1244: 998, 1245: 999, 1246: 1000, 1247: 1001, 1248: 1002, 1249: 1003, 1250: 1004, 1251: 1005, 1252: 1006, 1253: 1007, 1254: 1008, 1255: 1009, 1256: 1010, 1257: 1011, 1258: 1012, 1259: 1013, 1260: 1014, 1261: 1015, 1262: 1016, 1263: 1017, 1264: 1018, 1265: 1019, 1266: 1020, 1267: 1021, 1268: 1022, 1269: 1023, 1270: 1024, 1271: 1025, 1272: 1026, 1273: 1027, 1274: 1028, 1275: 1029, 1276: 1030, 1277: 1031, 1278: 1032, 1279: 1033, 1280: 1034, 1281: 1035, 1282: 1036, 1283: 1037, 1284: 1038, 1285: 1039, 1286: 1040, 1287: 1041, 1288: 1042, 1289: 1043, 1290: 1044, 1291: 1045, 1292: 1046, 1293: 1047, 1295: 1048, 1296: 1049, 1297: 1050, 1298: 1051, 1299: 1052, 1300: 1053, 1301: 1054, 1302: 1055, 1303: 1056, 1304: 1057, 1305: 1058, 1306: 1059, 1307: 1060, 1310: 1061, 1311: 1062, 1312: 1063, 1317: 1064, 1320: 1065, 1321: 1066, 1322: 1067, 1323: 1068, 1324: 1069, 1325: 1070, 1326: 1071, 1327: 1072, 1328: 1073, 1329: 1074, 1330: 1075, 1331: 1076, 1332: 1077, 1333: 1078, 1334: 1079, 1335: 1080, 1336: 1081, 1337: 1082, 1339: 1083, 1340: 1084, 1341: 1085, 1342: 1086, 1343: 1087, 1344: 1088, 1345: 1089, 1346: 1090, 1347: 1091, 1348: 1092, 1349: 1093, 1350: 1094, 1351: 1095, 1352: 1096, 1353: 1097, 1354: 1098, 1355: 1099, 1356: 1100, 1357: 1101, 1358: 1102, 1359: 1103, 1361: 1104, 1363: 1105, 1365: 1106, 1366: 1107, 1367: 1108, 1369: 1109, 1370: 1110, 1371: 1111, 1372: 1112, 1373: 1113, 1374: 1114, 1375: 1115, 1376: 1116, 1377: 1117, 1378: 1118, 1379: 1119, 1380: 1120, 1381: 1121, 1382: 1122, 1384: 1123, 1385: 1124, 1387: 1125, 1388: 1126, 1389: 1127, 1390: 1128, 1391: 1129, 1392: 1130, 1393: 1131, 1394: 1132, 1395: 1133, 1396: 1134, 1397: 1135, 1398: 1136, 1399: 1137, 1401: 1138, 1404: 1139, 1405: 1140, 1406: 1141, 1407: 1142, 1408: 1143, 1409: 1144, 1410: 1145, 1411: 1146, 1413: 1147, 1414: 1148, 1415: 1149, 1416: 1150, 1417: 1151, 1419: 1152, 1420: 1153, 1422: 1154, 1423: 1155, 1425: 1156, 1427: 1157, 1428: 1158, 1429: 1159, 1430: 1160, 1431: 1161, 1432: 1162, 1433: 1163, 1437: 1164, 1438: 1165, 1440: 1166, 1441: 1167, 1442: 1168, 1444: 1169, 1445: 1170, 1446: 1171, 1447: 1172, 1449: 1173, 1450: 1174, 1453: 1175, 1454: 1176, 1455: 1177, 1456: 1178, 1457: 1179, 1458: 1180, 1459: 1181, 1460: 1182, 1461: 1183, 1463: 1184, 1464: 1185, 1465: 1186, 1466: 1187, 1468: 1188, 1472: 1189, 1473: 1190, 1474: 1191, 1475: 1192, 1476: 1193, 1479: 1194, 1480: 1195, 1482: 1196, 1483: 1197, 1484: 1198, 1485: 1199, 1487: 1200, 1488: 1201, 1489: 1202, 1490: 1203, 1493: 1204, 1495: 1205, 1497: 1206, 1498: 1207, 1499: 1208, 1500: 1209, 1501: 1210, 1502: 1211, 1503: 1212, 1504: 1213, 1507: 1214, 1508: 1215, 1513: 1216, 1515: 1217, 1516: 1218, 1517: 1219, 1518: 1220, 1523: 1221, 1525: 1222, 1526: 1223, 1527: 1224, 1529: 1225, 1531: 1226, 1532: 1227, 1535: 1228, 1537: 1229, 1539: 1230, 1541: 1231, 1542: 1232, 1543: 1233, 1544: 1234, 1545: 1235, 1546: 1236, 1549: 1237, 1550: 1238, 1552: 1239, 1554: 1240, 1555: 1241, 1556: 1242, 1562: 1243, 1563: 1244, 1564: 1245, 1566: 1246, 1569: 1247, 1570: 1248, 1571: 1249, 1572: 1250, 1573: 1251, 1575: 1252, 1580: 1253, 1581: 1254, 1582: 1255, 1583: 1256, 1584: 1257, 1586: 1258, 1587: 1259, 1588: 1260, 1589: 1261, 1590: 1262, 1591: 1263, 1592: 1264, 1593: 1265, 1594: 1266, 1595: 1267, 1596: 1268, 1597: 1269, 1598: 1270, 1599: 1271, 1600: 1272, 1601: 1273, 1602: 1274, 1603: 1275, 1604: 1276, 1605: 1277, 1606: 1278, 1608: 1279, 1609: 1280, 1610: 1281, 1611: 1282, 1612: 1283, 1613: 1284, 1614: 1285, 1615: 1286, 1616: 1287, 1617: 1288, 1619: 1289, 1620: 1290, 1621: 1291, 1623: 1292, 1624: 1293, 1625: 1294, 1626: 1295, 1627: 1296, 1629: 1297, 1631: 1298, 1632: 1299, 1633: 1300, 1635: 1301, 1636: 1302, 1639: 1303, 1640: 1304, 1641: 1305, 1642: 1306, 1643: 1307, 1644: 1308, 1645: 1309, 1646: 1310, 1647: 1311, 1648: 1312, 1649: 1313, 1652: 1314, 1653: 1315, 1654: 1316, 1655: 1317, 1657: 1318, 1658: 1319, 1660: 1320, 1661: 1321, 1663: 1322, 1665: 1323, 1667: 1324, 1668: 1325, 1669: 1326, 1670: 1327, 1671: 1328, 1672: 1329, 1673: 1330, 1674: 1331, 1676: 1332, 1678: 1333, 1680: 1334, 1681: 1335, 1682: 1336, 1683: 1337, 1684: 1338, 1686: 1339, 1687: 1340, 1688: 1341, 1689: 1342, 1690: 1343, 1692: 1344, 1693: 1345, 1694: 1346, 1696: 1347, 1699: 1348, 1701: 1349, 1702: 1350, 1703: 1351, 1704: 1352, 1707: 1353, 1711: 1354, 1713: 1355, 1715: 1356, 1717: 1357, 1719: 1358, 1721: 1359, 1722: 1360, 1726: 1361, 1727: 1362, 1728: 1363, 1729: 1364, 1730: 1365, 1731: 1366, 1732: 1367, 1733: 1368, 1734: 1369, 1735: 1370, 1739: 1371, 1744: 1372, 1746: 1373, 1747: 1374, 1748: 1375, 1750: 1376, 1752: 1377, 1753: 1378, 1754: 1379, 1755: 1380, 1756: 1381, 1757: 1382, 1759: 1383, 1760: 1384, 1762: 1385, 1767: 1386, 1769: 1387, 1771: 1388, 1772: 1389, 1777: 1390, 1779: 1391, 1783: 1392, 1784: 1393, 1785: 1394, 1788: 1395, 1791: 1396, 1792: 1397, 1794: 1398, 1795: 1399, 1796: 1400, 1797: 1401, 1798: 1402, 1799: 1403, 1801: 1404, 1804: 1405, 1805: 1406, 1806: 1407, 1807: 1408, 1809: 1409, 1810: 1410, 1812: 1411, 1816: 1412, 1819: 1413, 1821: 1414, 1822: 1415, 1824: 1416, 1826: 1417, 1827: 1418, 1831: 1419, 1833: 1420, 1834: 1421, 1835: 1422, 1836: 1423, 1837: 1424, 1839: 1425, 1840: 1426, 1841: 1427, 1844: 1428, 1845: 1429, 1846: 1430, 1848: 1431, 1852: 1432, 1854: 1433, 1855: 1434, 1856: 1435, 1858: 1436, 1859: 1437, 1860: 1438, 1861: 1439, 1862: 1440, 1863: 1441, 1864: 1442, 1865: 1443, 1866: 1444, 1870: 1445, 1873: 1446, 1874: 1447, 1875: 1448, 1876: 1449, 1878: 1450, 1880: 1451, 1881: 1452, 1882: 1453, 1883: 1454, 1884: 1455, 1885: 1456, 1886: 1457, 1887: 1458, 1888: 1459, 1889: 1460, 1891: 1461, 1892: 1462, 1894: 1463, 1895: 1464, 1896: 1465, 1897: 1466, 1900: 1467, 1901: 1468, 1902: 1469, 1903: 1470, 1904: 1471, 1907: 1472, 1909: 1473, 1910: 1474, 1911: 1475, 1912: 1476, 1913: 1477, 1914: 1478, 1916: 1479, 1917: 1480, 1918: 1481, 1919: 1482, 1920: 1483, 1921: 1484, 1922: 1485, 1923: 1486, 1924: 1487, 1925: 1488, 1926: 1489, 1927: 1490, 1928: 1491, 1929: 1492, 1931: 1493, 1932: 1494, 1933: 1495, 1934: 1496, 1935: 1497, 1936: 1498, 1937: 1499, 1938: 1500, 1939: 1501, 1940: 1502, 1941: 1503, 1942: 1504, 1943: 1505, 1944: 1506, 1945: 1507, 1946: 1508, 1947: 1509, 1948: 1510, 1949: 1511, 1950: 1512, 1951: 1513, 1952: 1514, 1953: 1515, 1954: 1516, 1955: 1517, 1956: 1518, 1957: 1519, 1958: 1520, 1959: 1521, 1960: 1522, 1961: 1523, 1962: 1524, 1963: 1525, 1964: 1526, 1965: 1527, 1966: 1528, 1967: 1529, 1968: 1530, 1969: 1531, 1970: 1532, 1971: 1533, 1972: 1534, 1973: 1535, 1974: 1536, 1975: 1537, 1976: 1538, 1977: 1539, 1978: 1540, 1979: 1541, 1980: 1542, 1981: 1543, 1982: 1544, 1983: 1545, 1984: 1546, 1985: 1547, 1986: 1548, 1987: 1549, 1988: 1550, 1989: 1551, 1990: 1552, 1991: 1553, 1992: 1554, 1993: 1555, 1994: 1556, 1995: 1557, 1996: 1558, 1997: 1559, 1998: 1560, 1999: 1561, 2000: 1562, 2001: 1563, 2002: 1564, 2003: 1565, 2004: 1566, 2005: 1567, 2006: 1568, 2007: 1569, 2008: 1570, 2009: 1571, 2010: 1572, 2011: 1573, 2012: 1574, 2013: 1575, 2014: 1576, 2015: 1577, 2016: 1578, 2017: 1579, 2018: 1580, 2019: 1581, 2020: 1582, 2021: 1583, 2022: 1584, 2023: 1585, 2024: 1586, 2025: 1587, 2026: 1588, 2027: 1589, 2028: 1590, 2029: 1591, 2031: 1592, 2032: 1593, 2033: 1594, 2034: 1595, 2035: 1596, 2036: 1597, 2037: 1598, 2038: 1599, 2039: 1600, 2040: 1601, 2041: 1602, 2042: 1603, 2043: 1604, 2044: 1605, 2045: 1606, 2046: 1607, 2047: 1608, 2048: 1609, 2049: 1610, 2050: 1611, 2051: 1612, 2052: 1613, 2053: 1614, 2054: 1615, 2055: 1616, 2056: 1617, 2057: 1618, 2058: 1619, 2059: 1620, 2060: 1621, 2062: 1622, 2063: 1623, 2064: 1624, 2065: 1625, 2066: 1626, 2067: 1627, 2068: 1628, 2069: 1629, 2070: 1630, 2071: 1631, 2072: 1632, 2073: 1633, 2074: 1634, 2075: 1635, 2076: 1636, 2077: 1637, 2078: 1638, 2079: 1639, 2080: 1640, 2081: 1641, 2082: 1642, 2083: 1643, 2084: 1644, 2085: 1645, 2086: 1646, 2087: 1647, 2088: 1648, 2089: 1649, 2090: 1650, 2091: 1651, 2092: 1652, 2093: 1653, 2094: 1654, 2095: 1655, 2096: 1656, 2097: 1657, 2098: 1658, 2099: 1659, 2100: 1660, 2101: 1661, 2102: 1662, 2103: 1663, 2104: 1664, 2105: 1665, 2106: 1666, 2107: 1667, 2108: 1668, 2109: 1669, 2110: 1670, 2111: 1671, 2112: 1672, 2113: 1673, 2114: 1674, 2115: 1675, 2116: 1676, 2117: 1677, 2118: 1678, 2119: 1679, 2120: 1680, 2121: 1681, 2122: 1682, 2123: 1683, 2124: 1684, 2125: 1685, 2126: 1686, 2128: 1687, 2130: 1688, 2131: 1689, 2132: 1690, 2133: 1691, 2134: 1692, 2135: 1693, 2136: 1694, 2137: 1695, 2138: 1696, 2139: 1697, 2140: 1698, 2141: 1699, 2142: 1700, 2143: 1701, 2144: 1702, 2145: 1703, 2146: 1704, 2147: 1705, 2148: 1706, 2149: 1707, 2150: 1708, 2151: 1709, 2152: 1710, 2153: 1711, 2154: 1712, 2155: 1713, 2159: 1714, 2160: 1715, 2161: 1716, 2162: 1717, 2163: 1718, 2164: 1719, 2165: 1720, 2166: 1721, 2167: 1722, 2168: 1723, 2169: 1724, 2170: 1725, 2171: 1726, 2173: 1727, 2174: 1728, 2176: 1729, 2177: 1730, 2178: 1731, 2180: 1732, 2181: 1733, 2182: 1734, 2183: 1735, 2184: 1736, 2186: 1737, 2187: 1738, 2188: 1739, 2189: 1740, 2190: 1741, 2191: 1742, 2193: 1743, 2194: 1744, 2195: 1745, 2197: 1746, 2200: 1747, 2201: 1748, 2202: 1749, 2203: 1750, 2204: 1751, 2205: 1752, 2206: 1753, 2207: 1754, 2208: 1755, 2210: 1756, 2212: 1757, 2214: 1758, 2215: 1759, 2219: 1760, 2221: 1761, 2227: 1762, 2231: 1763, 2232: 1764, 2236: 1765, 2237: 1766, 2238: 1767, 2239: 1768, 2240: 1769, 2241: 1770, 2243: 1771, 2244: 1772, 2245: 1773, 2246: 1774, 2247: 1775, 2248: 1776, 2249: 1777, 2250: 1778, 2252: 1779, 2253: 1780, 2254: 1781, 2255: 1782, 2256: 1783, 2257: 1784, 2259: 1785, 2260: 1786, 2261: 1787, 2262: 1788, 2263: 1789, 2264: 1790, 2265: 1791, 2266: 1792, 2267: 1793, 2268: 1794, 2269: 1795, 2271: 1796, 2272: 1797, 2273: 1798, 2275: 1799, 2276: 1800, 2278: 1801, 2279: 1802, 2280: 1803, 2282: 1804, 2283: 1805, 2284: 1806, 2285: 1807, 2286: 1808, 2287: 1809, 2288: 1810, 2289: 1811, 2290: 1812, 2291: 1813, 2292: 1814, 2294: 1815, 2295: 1816, 2296: 1817, 2297: 1818, 2300: 1819, 2301: 1820, 2302: 1821, 2303: 1822, 2304: 1823, 2305: 1824, 2306: 1825, 2307: 1826, 2310: 1827, 2311: 1828, 2312: 1829, 2313: 1830, 2314: 1831, 2315: 1832, 2316: 1833, 2318: 1834, 2320: 1835, 2321: 1836, 2322: 1837, 2323: 1838, 2324: 1839, 2325: 1840, 2327: 1841, 2328: 1842, 2329: 1843, 2330: 1844, 2331: 1845, 2333: 1846, 2334: 1847, 2335: 1848, 2336: 1849, 2337: 1850, 2338: 1851, 2339: 1852, 2340: 1853, 2342: 1854, 2344: 1855, 2345: 1856, 2346: 1857, 2347: 1858, 2348: 1859, 2349: 1860, 2350: 1861, 2351: 1862, 2352: 1863, 2353: 1864, 2354: 1865, 2355: 1866, 2356: 1867, 2357: 1868, 2359: 1869, 2360: 1870, 2361: 1871, 2362: 1872, 2363: 1873, 2364: 1874, 2365: 1875, 2366: 1876, 2367: 1877, 2368: 1878, 2369: 1879, 2370: 1880, 2371: 1881, 2372: 1882, 2373: 1883, 2374: 1884, 2375: 1885, 2376: 1886, 2377: 1887, 2378: 1888, 2379: 1889, 2380: 1890, 2381: 1891, 2382: 1892, 2383: 1893, 2384: 1894, 2385: 1895, 2386: 1896, 2387: 1897, 2388: 1898, 2389: 1899, 2390: 1900, 2391: 1901, 2392: 1902, 2393: 1903, 2394: 1904, 2395: 1905, 2396: 1906, 2397: 1907, 2398: 1908, 2399: 1909, 2400: 1910, 2401: 1911, 2402: 1912, 2403: 1913, 2404: 1914, 2405: 1915, 2406: 1916, 2407: 1917, 2408: 1918, 2409: 1919, 2410: 1920, 2411: 1921, 2412: 1922, 2413: 1923, 2414: 1924, 2415: 1925, 2416: 1926, 2417: 1927, 2418: 1928, 2419: 1929, 2420: 1930, 2421: 1931, 2422: 1932, 2423: 1933, 2424: 1934, 2425: 1935, 2427: 1936, 2428: 1937, 2429: 1938, 2430: 1939, 2431: 1940, 2432: 1941, 2433: 1942, 2434: 1943, 2435: 1944, 2436: 1945, 2437: 1946, 2438: 1947, 2439: 1948, 2440: 1949, 2441: 1950, 2442: 1951, 2443: 1952, 2445: 1953, 2446: 1954, 2447: 1955, 2448: 1956, 2449: 1957, 2450: 1958, 2451: 1959, 2453: 1960, 2454: 1961, 2455: 1962, 2456: 1963, 2457: 1964, 2458: 1965, 2459: 1966, 2460: 1967, 2461: 1968, 2462: 1969, 2463: 1970, 2464: 1971, 2465: 1972, 2467: 1973, 2468: 1974, 2469: 1975, 2470: 1976, 2471: 1977, 2472: 1978, 2473: 1979, 2474: 1980, 2475: 1981, 2476: 1982, 2478: 1983, 2479: 1984, 2481: 1985, 2482: 1986, 2483: 1987, 2485: 1988, 2486: 1989, 2487: 1990, 2488: 1991, 2490: 1992, 2491: 1993, 2492: 1994, 2493: 1995, 2494: 1996, 2495: 1997, 2496: 1998, 2497: 1999, 2498: 2000, 2499: 2001, 2500: 2002, 2501: 2003, 2502: 2004, 2504: 2005, 2505: 2006, 2506: 2007, 2507: 2008, 2511: 2009, 2513: 2010, 2514: 2011, 2515: 2012, 2516: 2013, 2517: 2014, 2518: 2015, 2519: 2016, 2520: 2017, 2521: 2018, 2522: 2019, 2523: 2020, 2524: 2021, 2525: 2022, 2526: 2023, 2527: 2024, 2528: 2025, 2529: 2026, 2530: 2027, 2531: 2028, 2532: 2029, 2533: 2030, 2534: 2031, 2535: 2032, 2536: 2033, 2537: 2034, 2539: 2035, 2540: 2036, 2541: 2037, 2542: 2038, 2545: 2039, 2546: 2040, 2548: 2041, 2549: 2042, 2550: 2043, 2551: 2044, 2552: 2045, 2553: 2046, 2554: 2047, 2555: 2048, 2557: 2049, 2558: 2050, 2559: 2051, 2560: 2052, 2561: 2053, 2562: 2054, 2563: 2055, 2565: 2056, 2566: 2057, 2567: 2058, 2568: 2059, 2569: 2060, 2570: 2061, 2571: 2062, 2572: 2063, 2573: 2064, 2574: 2065, 2575: 2066, 2577: 2067, 2579: 2068, 2580: 2069, 2581: 2070, 2582: 2071, 2583: 2072, 2585: 2073, 2586: 2074, 2587: 2075, 2589: 2076, 2590: 2077, 2594: 2078, 2596: 2079, 2597: 2080, 2598: 2081, 2599: 2082, 2600: 2083, 2605: 2084, 2606: 2085, 2607: 2086, 2609: 2087, 2610: 2088, 2611: 2089, 2612: 2090, 2613: 2091, 2615: 2092, 2616: 2093, 2617: 2094, 2618: 2095, 2620: 2096, 2621: 2097, 2622: 2098, 2624: 2099, 2625: 2100, 2626: 2101, 2627: 2102, 2628: 2103, 2629: 2104, 2630: 2105, 2631: 2106, 2633: 2107, 2634: 2108, 2635: 2109, 2636: 2110, 2637: 2111, 2638: 2112, 2639: 2113, 2640: 2114, 2641: 2115, 2642: 2116, 2643: 2117, 2644: 2118, 2647: 2119, 2648: 2120, 2649: 2121, 2650: 2122, 2651: 2123, 2652: 2124, 2653: 2125, 2654: 2126, 2655: 2127, 2656: 2128, 2657: 2129, 2659: 2130, 2660: 2131, 2661: 2132, 2662: 2133, 2664: 2134, 2668: 2135, 2669: 2136, 2670: 2137, 2671: 2138, 2672: 2139, 2673: 2140, 2674: 2141, 2676: 2142, 2677: 2143, 2678: 2144, 2681: 2145, 2682: 2146, 2683: 2147, 2686: 2148, 2687: 2149, 2688: 2150, 2689: 2151, 2690: 2152, 2691: 2153, 2692: 2154, 2693: 2155, 2694: 2156, 2696: 2157, 2697: 2158, 2699: 2159, 2700: 2160, 2701: 2161, 2702: 2162, 2704: 2163, 2706: 2164, 2707: 2165, 2708: 2166, 2709: 2167, 2710: 2168, 2712: 2169, 2713: 2170, 2714: 2171, 2715: 2172, 2716: 2173, 2717: 2174, 2718: 2175, 2719: 2176, 2720: 2177, 2721: 2178, 2722: 2179, 2723: 2180, 2724: 2181, 2725: 2182, 2726: 2183, 2727: 2184, 2728: 2185, 2729: 2186, 2730: 2187, 2731: 2188, 2732: 2189, 2733: 2190, 2734: 2191, 2735: 2192, 2736: 2193, 2738: 2194, 2739: 2195, 2741: 2196, 2745: 2197, 2746: 2198, 2747: 2199, 2748: 2200, 2749: 2201, 2750: 2202, 2751: 2203, 2752: 2204, 2753: 2205, 2754: 2206, 2755: 2207, 2757: 2208, 2758: 2209, 2759: 2210, 2761: 2211, 2762: 2212, 2763: 2213, 2764: 2214, 2766: 2215, 2767: 2216, 2769: 2217, 2770: 2218, 2771: 2219, 2772: 2220, 2774: 2221, 2775: 2222, 2776: 2223, 2779: 2224, 2780: 2225, 2781: 2226, 2782: 2227, 2783: 2228, 2784: 2229, 2786: 2230, 2787: 2231, 2788: 2232, 2789: 2233, 2790: 2234, 2791: 2235, 2792: 2236, 2793: 2237, 2794: 2238, 2795: 2239, 2796: 2240, 2797: 2241, 2798: 2242, 2799: 2243, 2800: 2244, 2801: 2245, 2802: 2246, 2803: 2247, 2804: 2248, 2805: 2249, 2806: 2250, 2807: 2251, 2808: 2252, 2809: 2253, 2810: 2254, 2812: 2255, 2815: 2256, 2816: 2257, 2817: 2258, 2819: 2259, 2820: 2260, 2822: 2261, 2824: 2262, 2826: 2263, 2827: 2264, 2828: 2265, 2829: 2266, 2832: 2267, 2835: 2268, 2836: 2269, 2837: 2270, 2839: 2271, 2840: 2272, 2841: 2273, 2843: 2274, 2844: 2275, 2845: 2276, 2846: 2277, 2847: 2278, 2848: 2279, 2849: 2280, 2850: 2281, 2851: 2282, 2852: 2283, 2853: 2284, 2855: 2285, 2856: 2286, 2857: 2287, 2858: 2288, 2859: 2289, 2860: 2290, 2861: 2291, 2862: 2292, 2863: 2293, 2864: 2294, 2866: 2295, 2867: 2296, 2868: 2297, 2869: 2298, 2870: 2299, 2871: 2300, 2872: 2301, 2874: 2302, 2875: 2303, 2876: 2304, 2877: 2305, 2878: 2306, 2879: 2307, 2880: 2308, 2881: 2309, 2882: 2310, 2883: 2311, 2884: 2312, 2885: 2313, 2886: 2314, 2887: 2315, 2888: 2316, 2889: 2317, 2890: 2318, 2891: 2319, 2892: 2320, 2893: 2321, 2894: 2322, 2897: 2323, 2898: 2324, 2899: 2325, 2900: 2326, 2901: 2327, 2902: 2328, 2903: 2329, 2904: 2330, 2905: 2331, 2906: 2332, 2907: 2333, 2908: 2334, 2912: 2335, 2913: 2336, 2915: 2337, 2916: 2338, 2917: 2339, 2918: 2340, 2919: 2341, 2920: 2342, 2921: 2343, 2922: 2344, 2923: 2345, 2924: 2346, 2925: 2347, 2926: 2348, 2927: 2349, 2928: 2350, 2929: 2351, 2930: 2352, 2932: 2353, 2935: 2354, 2936: 2355, 2937: 2356, 2938: 2357, 2939: 2358, 2940: 2359, 2941: 2360, 2942: 2361, 2943: 2362, 2944: 2363, 2945: 2364, 2946: 2365, 2947: 2366, 2948: 2367, 2949: 2368, 2950: 2369, 2951: 2370, 2952: 2371, 2953: 2372, 2956: 2373, 2959: 2374, 2961: 2375, 2962: 2376, 2964: 2377, 2966: 2378, 2967: 2379, 2968: 2380, 2969: 2381, 2970: 2382, 2971: 2383, 2972: 2384, 2973: 2385, 2974: 2386, 2975: 2387, 2976: 2388, 2977: 2389, 2978: 2390, 2979: 2391, 2981: 2392, 2982: 2393, 2983: 2394, 2984: 2395, 2985: 2396, 2986: 2397, 2987: 2398, 2988: 2399, 2989: 2400, 2990: 2401, 2991: 2402, 2992: 2403, 2993: 2404, 2995: 2405, 2996: 2406, 2997: 2407, 2998: 2408, 3000: 2409, 3001: 2410, 3002: 2411, 3003: 2412, 3004: 2413, 3005: 2414, 3006: 2415, 3007: 2416, 3008: 2417, 3010: 2418, 3011: 2419, 3013: 2420, 3015: 2421, 3016: 2422, 3017: 2423, 3018: 2424, 3019: 2425, 3020: 2426, 3021: 2427, 3022: 2428, 3024: 2429, 3025: 2430, 3028: 2431, 3029: 2432, 3030: 2433, 3031: 2434, 3032: 2435, 3033: 2436, 3034: 2437, 3035: 2438, 3036: 2439, 3037: 2440, 3038: 2441, 3039: 2442, 3040: 2443, 3041: 2444, 3042: 2445, 3043: 2446, 3044: 2447, 3045: 2448, 3046: 2449, 3047: 2450, 3048: 2451, 3051: 2452, 3052: 2453, 3053: 2454, 3054: 2455, 3055: 2456, 3057: 2457, 3060: 2458, 3061: 2459, 3062: 2460, 3063: 2461, 3064: 2462, 3066: 2463, 3067: 2464, 3068: 2465, 3069: 2466, 3070: 2467, 3071: 2468, 3072: 2469, 3074: 2470, 3075: 2471, 3076: 2472, 3077: 2473, 3078: 2474, 3079: 2475, 3081: 2476, 3082: 2477, 3083: 2478, 3086: 2479, 3087: 2480, 3088: 2481, 3089: 2482, 3090: 2483, 3091: 2484, 3093: 2485, 3094: 2486, 3095: 2487, 3096: 2488, 3097: 2489, 3098: 2490, 3099: 2491, 3100: 2492, 3101: 2493, 3102: 2494, 3103: 2495, 3104: 2496, 3105: 2497, 3106: 2498, 3107: 2499, 3108: 2500, 3109: 2501, 3110: 2502, 3111: 2503, 3112: 2504, 3113: 2505, 3114: 2506, 3115: 2507, 3116: 2508, 3117: 2509, 3118: 2510, 3120: 2511, 3121: 2512, 3122: 2513, 3125: 2514, 3127: 2515, 3128: 2516, 3129: 2517, 3130: 2518, 3133: 2519, 3134: 2520, 3135: 2521, 3136: 2522, 3138: 2523, 3140: 2524, 3141: 2525, 3142: 2526, 3143: 2527, 3144: 2528, 3145: 2529, 3146: 2530, 3147: 2531, 3148: 2532, 3150: 2533, 3152: 2534, 3153: 2535, 3155: 2536, 3156: 2537, 3157: 2538, 3158: 2539, 3159: 2540, 3160: 2541, 3161: 2542, 3163: 2543, 3165: 2544, 3166: 2545, 3167: 2546, 3168: 2547, 3169: 2548, 3171: 2549, 3173: 2550, 3174: 2551, 3175: 2552, 3176: 2553, 3177: 2554, 3178: 2555, 3179: 2556, 3180: 2557, 3181: 2558, 3182: 2559, 3183: 2560, 3185: 2561, 3186: 2562, 3188: 2563, 3189: 2564, 3190: 2565, 3192: 2566, 3194: 2567, 3196: 2568, 3197: 2569, 3198: 2570, 3199: 2571, 3200: 2572, 3201: 2573, 3202: 2574, 3203: 2575, 3204: 2576, 3205: 2577, 3206: 2578, 3207: 2579, 3208: 2580, 3210: 2581, 3211: 2582, 3213: 2583, 3214: 2584, 3216: 2585, 3217: 2586, 3218: 2587, 3219: 2588, 3221: 2589, 3223: 2590, 3224: 2591, 3225: 2592, 3232: 2593, 3235: 2594, 3238: 2595, 3239: 2596, 3240: 2597, 3241: 2598, 3243: 2599, 3244: 2600, 3245: 2601, 3246: 2602, 3247: 2603, 3248: 2604, 3249: 2605, 3250: 2606, 3251: 2607, 3252: 2608, 3253: 2609, 3254: 2610, 3255: 2611, 3256: 2612, 3257: 2613, 3258: 2614, 3259: 2615, 3260: 2616, 3261: 2617, 3262: 2618, 3263: 2619, 3264: 2620, 3265: 2621, 3266: 2622, 3267: 2623, 3268: 2624, 3269: 2625, 3270: 2626, 3271: 2627, 3272: 2628, 3273: 2629, 3274: 2630, 3275: 2631, 3276: 2632, 3281: 2633, 3282: 2634, 3284: 2635, 3285: 2636, 3286: 2637, 3287: 2638, 3289: 2639, 3292: 2640, 3294: 2641, 3296: 2642, 3298: 2643, 3299: 2644, 3300: 2645, 3301: 2646, 3302: 2647, 3303: 2648, 3304: 2649, 3306: 2650, 3307: 2651, 3308: 2652, 3309: 2653, 3310: 2654, 3313: 2655, 3314: 2656, 3316: 2657, 3317: 2658, 3318: 2659, 3320: 2660, 3324: 2661, 3325: 2662, 3326: 2663, 3327: 2664, 3328: 2665, 3329: 2666, 3330: 2667, 3331: 2668, 3334: 2669, 3338: 2670, 3339: 2671, 3340: 2672, 3341: 2673, 3342: 2674, 3343: 2675, 3344: 2676, 3347: 2677, 3349: 2678, 3350: 2679, 3351: 2680, 3354: 2681, 3355: 2682, 3357: 2683, 3358: 2684, 3359: 2685, 3360: 2686, 3361: 2687, 3362: 2688, 3363: 2689, 3364: 2690, 3365: 2691, 3368: 2692, 3370: 2693, 3371: 2694, 3377: 2695, 3379: 2696, 3380: 2697, 3384: 2698, 3385: 2699, 3386: 2700, 3387: 2701, 3388: 2702, 3390: 2703, 3391: 2704, 3392: 2705, 3393: 2706, 3394: 2707, 3395: 2708, 3396: 2709, 3397: 2710, 3398: 2711, 3399: 2712, 3400: 2713, 3401: 2714, 3402: 2715, 3404: 2716, 3405: 2717, 3406: 2718, 3408: 2719, 3409: 2720, 3412: 2721, 3414: 2722, 3415: 2723, 3417: 2724, 3418: 2725, 3420: 2726, 3421: 2727, 3422: 2728, 3423: 2729, 3424: 2730, 3425: 2731, 3426: 2732, 3427: 2733, 3428: 2734, 3429: 2735, 3430: 2736, 3431: 2737, 3432: 2738, 3434: 2739, 3435: 2740, 3436: 2741, 3437: 2742, 3438: 2743, 3439: 2744, 3440: 2745, 3441: 2746, 3442: 2747, 3444: 2748, 3445: 2749, 3446: 2750, 3447: 2751, 3448: 2752, 3449: 2753, 3450: 2754, 3451: 2755, 3452: 2756, 3453: 2757, 3454: 2758, 3456: 2759, 3457: 2760, 3459: 2761, 3460: 2762, 3461: 2763, 3462: 2764, 3463: 2765, 3465: 2766, 3466: 2767, 3467: 2768, 3468: 2769, 3469: 2770, 3470: 2771, 3471: 2772, 3474: 2773, 3475: 2774, 3476: 2775, 3477: 2776, 3478: 2777, 3479: 2778, 3480: 2779, 3481: 2780, 3483: 2781, 3484: 2782, 3487: 2783, 3489: 2784, 3490: 2785, 3491: 2786, 3492: 2787, 3494: 2788, 3495: 2789, 3496: 2790, 3497: 2791, 3498: 2792, 3499: 2793, 3500: 2794, 3501: 2795, 3502: 2796, 3503: 2797, 3504: 2798, 3505: 2799, 3506: 2800, 3507: 2801, 3508: 2802, 3509: 2803, 3510: 2804, 3511: 2805, 3512: 2806, 3513: 2807, 3515: 2808, 3516: 2809, 3518: 2810, 3519: 2811, 3520: 2812, 3521: 2813, 3522: 2814, 3524: 2815, 3525: 2816, 3526: 2817, 3527: 2818, 3528: 2819, 3529: 2820, 3531: 2821, 3534: 2822, 3535: 2823, 3536: 2824, 3537: 2825, 3538: 2826, 3539: 2827, 3540: 2828, 3543: 2829, 3544: 2830, 3545: 2831, 3546: 2832, 3547: 2833, 3548: 2834, 3549: 2835, 3550: 2836, 3551: 2837, 3552: 2838, 3553: 2839, 3554: 2840, 3555: 2841, 3556: 2842, 3557: 2843, 3559: 2844, 3560: 2845, 3563: 2846, 3564: 2847, 3565: 2848, 3566: 2849, 3567: 2850, 3568: 2851, 3569: 2852, 3571: 2853, 3572: 2854, 3573: 2855, 3574: 2856, 3575: 2857, 3576: 2858, 3577: 2859, 3578: 2860, 3579: 2861, 3580: 2862, 3581: 2863, 3584: 2864, 3587: 2865, 3588: 2866, 3590: 2867, 3591: 2868, 3593: 2869, 3594: 2870, 3596: 2871, 3598: 2872, 3599: 2873, 3600: 2874, 3602: 2875, 3604: 2876, 3605: 2877, 3606: 2878, 3608: 2879, 3609: 2880, 3611: 2881, 3612: 2882, 3613: 2883, 3614: 2884, 3615: 2885, 3616: 2886, 3617: 2887, 3618: 2888, 3619: 2889, 3620: 2890, 3621: 2891, 3622: 2892, 3623: 2893, 3624: 2894, 3626: 2895, 3627: 2896, 3628: 2897, 3629: 2898, 3632: 2899, 3633: 2900, 3634: 2901, 3635: 2902, 3637: 2903, 3638: 2904, 3639: 2905, 3640: 2906, 3643: 2907, 3646: 2908, 3649: 2909, 3653: 2910, 3654: 2911, 3655: 2912, 3656: 2913, 3657: 2914, 3658: 2915, 3659: 2916, 3660: 2917, 3661: 2918, 3662: 2919, 3663: 2920, 3664: 2921, 3665: 2922, 3668: 2923, 3669: 2924, 3671: 2925, 3672: 2926, 3673: 2927, 3674: 2928, 3675: 2929, 3676: 2930, 3677: 2931, 3678: 2932, 3679: 2933, 3680: 2934, 3681: 2935, 3682: 2936, 3683: 2937, 3684: 2938, 3685: 2939, 3686: 2940, 3687: 2941, 3688: 2942, 3689: 2943, 3690: 2944, 3691: 2945, 3692: 2946, 3693: 2947, 3694: 2948, 3695: 2949, 3696: 2950, 3697: 2951, 3698: 2952, 3699: 2953, 3700: 2954, 3701: 2955, 3702: 2956, 3703: 2957, 3704: 2958, 3705: 2959, 3706: 2960, 3707: 2961, 3708: 2962, 3709: 2963, 3710: 2964, 3712: 2965, 3713: 2966, 3714: 2967, 3715: 2968, 3716: 2969, 3717: 2970, 3718: 2971, 3719: 2972, 3720: 2973, 3721: 2974, 3723: 2975, 3724: 2976, 3725: 2977, 3726: 2978, 3727: 2979, 3728: 2980, 3729: 2981, 3730: 2982, 3731: 2983, 3732: 2984, 3733: 2985, 3734: 2986, 3735: 2987, 3736: 2988, 3737: 2989, 3738: 2990, 3739: 2991, 3740: 2992, 3741: 2993, 3742: 2994, 3743: 2995, 3744: 2996, 3745: 2997, 3746: 2998, 3747: 2999, 3751: 3000, 3752: 3001, 3753: 3002, 3754: 3003, 3755: 3004, 3757: 3005, 3758: 3006, 3759: 3007, 3760: 3008, 3761: 3009, 3763: 3010, 3764: 3011, 3765: 3012, 3766: 3013, 3768: 3014, 3769: 3015, 3770: 3016, 3771: 3017, 3773: 3018, 3774: 3019, 3775: 3020, 3777: 3021, 3780: 3022, 3783: 3023, 3784: 3024, 3785: 3025, 3786: 3026, 3787: 3027, 3788: 3028, 3789: 3029, 3790: 3030, 3791: 3031, 3792: 3032, 3793: 3033, 3794: 3034, 3795: 3035, 3798: 3036, 3799: 3037, 3800: 3038, 3801: 3039, 3802: 3040, 3804: 3041, 3805: 3042, 3806: 3043, 3807: 3044, 3809: 3045, 3810: 3046, 3811: 3047, 3812: 3048, 3813: 3049, 3814: 3050, 3816: 3051, 3819: 3052, 3820: 3053, 3821: 3054, 3822: 3055, 3823: 3056, 3824: 3057, 3825: 3058, 3826: 3059, 3827: 3060, 3829: 3061, 3831: 3062, 3832: 3063, 3833: 3064, 3834: 3065, 3835: 3066, 3836: 3067, 3837: 3068, 3838: 3069, 3839: 3070, 3840: 3071, 3841: 3072, 3843: 3073, 3844: 3074, 3845: 3075, 3846: 3076, 3847: 3077, 3848: 3078, 3849: 3079, 3851: 3080, 3852: 3081, 3854: 3082, 3855: 3083, 3857: 3084, 3858: 3085, 3859: 3086, 3860: 3087, 3861: 3088, 3863: 3089, 3864: 3090, 3865: 3091, 3868: 3092, 3869: 3093, 3870: 3094, 3871: 3095, 3872: 3096, 3873: 3097, 3875: 3098, 3877: 3099, 3879: 3100, 3880: 3101, 3882: 3102, 3883: 3103, 3885: 3104, 3886: 3105, 3889: 3106, 3890: 3107, 3891: 3108, 3892: 3109, 3893: 3110, 3895: 3111, 3896: 3112, 3897: 3113, 3900: 3114, 3901: 3115, 3902: 3116, 3903: 3117, 3905: 3118, 3906: 3119, 3908: 3120, 3909: 3121, 3910: 3122, 3911: 3123, 3913: 3124, 3914: 3125, 3915: 3126, 3916: 3127, 3917: 3128, 3918: 3129, 3919: 3130, 3920: 3131, 3921: 3132, 3922: 3133, 3923: 3134, 3924: 3135, 3925: 3136, 3926: 3137, 3927: 3138, 3928: 3139, 3929: 3140, 3930: 3141, 3932: 3142, 3933: 3143, 3934: 3144, 3936: 3145, 3937: 3146, 3938: 3147, 3939: 3148, 3940: 3149, 3941: 3150, 3942: 3151, 3943: 3152, 3945: 3153, 3946: 3154, 3947: 3155, 3948: 3156, 3949: 3157, 3950: 3158, 3951: 3159, 3952: 3160, 3953: 3161, 3955: 3162, 3956: 3163, 3957: 3164, 3959: 3165, 3960: 3166, 3961: 3167, 3962: 3168, 3963: 3169, 3964: 3170, 3965: 3171, 3966: 3172, 3967: 3173, 3968: 3174, 3969: 3175, 3970: 3176, 3971: 3177, 3972: 3178, 3973: 3179, 3975: 3180, 3976: 3181, 3977: 3182, 3978: 3183, 3979: 3184, 3980: 3185, 3981: 3186, 3983: 3187, 3984: 3188, 3985: 3189, 3986: 3190, 3987: 3191, 3988: 3192, 3989: 3193, 3990: 3194, 3991: 3195, 3992: 3196, 3993: 3197, 3994: 3198, 3996: 3199, 3997: 3200, 3998: 3201, 3999: 3202, 4000: 3203, 4001: 3204, 4002: 3205, 4003: 3206, 4005: 3207, 4006: 3208, 4007: 3209, 4008: 3210, 4009: 3211, 4010: 3212, 4011: 3213, 4012: 3214, 4014: 3215, 4015: 3216, 4016: 3217, 4017: 3218, 4018: 3219, 4019: 3220, 4020: 3221, 4021: 3222, 4022: 3223, 4023: 3224, 4024: 3225, 4025: 3226, 4026: 3227, 4027: 3228, 4029: 3229, 4030: 3230, 4031: 3231, 4033: 3232, 4034: 3233, 4035: 3234, 4036: 3235, 4037: 3236, 4039: 3237, 4040: 3238, 4041: 3239, 4042: 3240, 4043: 3241, 4045: 3242, 4046: 3243, 4047: 3244, 4048: 3245, 4051: 3246, 4052: 3247, 4053: 3248, 4054: 3249, 4055: 3250, 4056: 3251, 4060: 3252, 4061: 3253, 4062: 3254, 4063: 3255, 4066: 3256, 4067: 3257, 4068: 3258, 4069: 3259, 4073: 3260, 4076: 3261, 4077: 3262, 4079: 3263, 4080: 3264, 4081: 3265, 4082: 3266, 4084: 3267, 4085: 3268, 4086: 3269, 4088: 3270, 4089: 3271, 4090: 3272, 4091: 3273, 4092: 3274, 4095: 3275, 4098: 3276, 4101: 3277, 4102: 3278, 4103: 3279, 4104: 3280, 4105: 3281, 4106: 3282, 4108: 3283, 4109: 3284, 4111: 3285, 4114: 3286, 4115: 3287, 4116: 3288, 4117: 3289, 4121: 3290, 4122: 3291, 4123: 3292, 4124: 3293, 4126: 3294, 4128: 3295, 4130: 3296, 4131: 3297, 4132: 3298, 4133: 3299, 4135: 3300, 4136: 3301, 4139: 3302, 4140: 3303, 4141: 3304, 4142: 3305, 4143: 3306, 4144: 3307, 4146: 3308, 4148: 3309, 4149: 3310, 4151: 3311, 4153: 3312, 4155: 3313, 4156: 3314, 4158: 3315, 4159: 3316, 4161: 3317, 4162: 3318, 4166: 3319, 4167: 3320, 4168: 3321, 4169: 3322, 4171: 3323, 4173: 3324, 4174: 3325, 4175: 3326, 4177: 3327, 4178: 3328, 4179: 3329, 4180: 3330, 4181: 3331, 4183: 3332, 4184: 3333, 4185: 3334, 4186: 3335, 4187: 3336, 4188: 3337, 4189: 3338, 4190: 3339, 4191: 3340, 4194: 3341, 4195: 3342, 4197: 3343, 4198: 3344, 4200: 3345, 4201: 3346, 4203: 3347, 4205: 3348, 4207: 3349, 4208: 3350, 4210: 3351, 4211: 3352, 4212: 3353, 4213: 3354, 4214: 3355, 4215: 3356, 4216: 3357, 4217: 3358, 4218: 3359, 4219: 3360, 4220: 3361, 4221: 3362, 4222: 3363, 4223: 3364, 4224: 3365, 4225: 3366, 4226: 3367, 4228: 3368, 4229: 3369, 4231: 3370, 4232: 3371, 4233: 3372, 4234: 3373, 4235: 3374, 4236: 3375, 4237: 3376, 4238: 3377, 4239: 3378, 4241: 3379, 4246: 3380, 4247: 3381, 4248: 3382, 4251: 3383, 4252: 3384, 4254: 3385, 4255: 3386, 4262: 3387, 4263: 3388, 4265: 3389, 4266: 3390, 4267: 3391, 4268: 3392, 4270: 3393, 4271: 3394, 4273: 3395, 4274: 3396, 4275: 3397, 4276: 3398, 4277: 3399, 4278: 3400, 4279: 3401, 4280: 3402, 4281: 3403, 4282: 3404, 4284: 3405, 4290: 3406, 4291: 3407, 4292: 3408, 4293: 3409, 4294: 3410, 4296: 3411, 4297: 3412, 4298: 3413, 4299: 3414, 4300: 3415, 4302: 3416, 4304: 3417, 4305: 3418, 4306: 3419, 4308: 3420, 4310: 3421, 4312: 3422, 4316: 3423, 4317: 3424, 4318: 3425, 4319: 3426, 4321: 3427, 4322: 3428, 4324: 3429, 4326: 3430, 4327: 3431, 4329: 3432, 4332: 3433, 4333: 3434, 4334: 3435, 4337: 3436, 4338: 3437, 4339: 3438, 4340: 3439, 4342: 3440, 4343: 3441, 4344: 3442, 4345: 3443, 4347: 3444, 4349: 3445, 4350: 3446, 4351: 3447, 4352: 3448, 4353: 3449, 4354: 3450, 4355: 3451, 4356: 3452, 4357: 3453, 4359: 3454, 4360: 3455, 4361: 3456, 4366: 3457, 4367: 3458, 4368: 3459, 4369: 3460, 4370: 3461, 4371: 3462, 4372: 3463, 4375: 3464, 4378: 3465, 4380: 3466, 4381: 3467, 4383: 3468, 4384: 3469, 4386: 3470, 4387: 3471, 4388: 3472, 4389: 3473, 4390: 3474, 4391: 3475, 4392: 3476, 4394: 3477, 4396: 3478, 4397: 3479, 4399: 3480, 4401: 3481, 4402: 3482, 4403: 3483, 4404: 3484, 4405: 3485, 4406: 3486, 4407: 3487, 4409: 3488, 4410: 3489, 4411: 3490, 4414: 3491, 4415: 3492, 4417: 3493, 4420: 3494, 4422: 3495, 4424: 3496, 4426: 3497, 4427: 3498, 4428: 3499, 4432: 3500, 4433: 3501, 4437: 3502, 4438: 3503, 4440: 3504, 4441: 3505, 4442: 3506, 4443: 3507, 4444: 3508, 4445: 3509, 4446: 3510, 4447: 3511, 4448: 3512, 4450: 3513, 4451: 3514, 4452: 3515, 4453: 3516, 4454: 3517, 4458: 3518, 4459: 3519, 4462: 3520, 4464: 3521, 4465: 3522, 4466: 3523, 4467: 3524, 4469: 3525, 4470: 3526, 4471: 3527, 4473: 3528, 4474: 3529, 4475: 3530, 4477: 3531, 4478: 3532, 4479: 3533, 4480: 3534, 4482: 3535, 4483: 3536, 4486: 3537, 4487: 3538, 4488: 3539, 4489: 3540, 4490: 3541, 4491: 3542, 4492: 3543, 4493: 3544, 4495: 3545, 4496: 3546, 4498: 3547, 4499: 3548, 4500: 3549, 4501: 3550, 4502: 3551, 4503: 3552, 4506: 3553, 4508: 3554, 4509: 3555, 4511: 3556, 4515: 3557, 4516: 3558, 4518: 3559, 4519: 3560, 4520: 3561, 4521: 3562, 4522: 3563, 4523: 3564, 4524: 3565, 4526: 3566, 4527: 3567, 4528: 3568, 4529: 3569, 4531: 3570, 4532: 3571, 4533: 3572, 4534: 3573, 4535: 3574, 4537: 3575, 4538: 3576, 4539: 3577, 4541: 3578, 4543: 3579, 4544: 3580, 4545: 3581, 4546: 3582, 4550: 3583, 4552: 3584, 4553: 3585, 4555: 3586, 4557: 3587, 4558: 3588, 4559: 3589, 4560: 3590, 4561: 3591, 4562: 3592, 4563: 3593, 4564: 3594, 4565: 3595, 4566: 3596, 4567: 3597, 4568: 3598, 4569: 3599, 4570: 3600, 4571: 3601, 4572: 3602, 4573: 3603, 4577: 3604, 4578: 3605, 4584: 3606, 4585: 3607, 4587: 3608, 4589: 3609, 4590: 3610, 4591: 3611, 4592: 3612, 4593: 3613, 4600: 3614, 4602: 3615, 4603: 3616, 4605: 3617, 4606: 3618, 4608: 3619, 4610: 3620, 4612: 3621, 4614: 3622, 4615: 3623, 4616: 3624, 4617: 3625, 4618: 3626, 4619: 3627, 4621: 3628, 4622: 3629, 4623: 3630, 4624: 3631, 4625: 3632, 4626: 3633, 4627: 3634, 4628: 3635, 4629: 3636, 4630: 3637, 4632: 3638, 4634: 3639, 4636: 3640, 4638: 3641, 4639: 3642, 4640: 3643, 4641: 3644, 4642: 3645, 4643: 3646, 4644: 3647, 4645: 3648, 4649: 3649, 4652: 3650, 4654: 3651, 4655: 3652, 4658: 3653, 4659: 3654, 4660: 3655, 4661: 3656, 4662: 3657, 4663: 3658, 4664: 3659, 4666: 3660, 4667: 3661, 4670: 3662, 4673: 3663, 4674: 3664, 4675: 3665, 4676: 3666, 4677: 3667, 4678: 3668, 4679: 3669, 4680: 3670, 4681: 3671, 4682: 3672, 4684: 3673, 4686: 3674, 4687: 3675, 4688: 3676, 4690: 3677, 4691: 3678, 4692: 3679, 4696: 3680, 4697: 3681, 4698: 3682, 4699: 3683, 4700: 3684, 4701: 3685, 4703: 3686, 4704: 3687, 4705: 3688, 4706: 3689, 4709: 3690, 4710: 3691, 4711: 3692, 4713: 3693, 4714: 3694, 4716: 3695, 4717: 3696, 4718: 3697, 4719: 3698, 4720: 3699, 4721: 3700, 4722: 3701, 4723: 3702, 4724: 3703, 4725: 3704, 4727: 3705, 4728: 3706, 4731: 3707, 4732: 3708, 4733: 3709, 4734: 3710, 4735: 3711, 4736: 3712, 4737: 3713, 4738: 3714, 4740: 3715, 4741: 3716, 4743: 3717, 4744: 3718, 4745: 3719, 4748: 3720, 4749: 3721, 4750: 3722, 4751: 3723, 4752: 3724, 4753: 3725, 4754: 3726, 4755: 3727, 4756: 3728, 4757: 3729, 4761: 3730, 4765: 3731, 4766: 3732, 4767: 3733, 4768: 3734, 4769: 3735, 4770: 3736, 4771: 3737, 4772: 3738, 4774: 3739, 4775: 3740, 4776: 3741, 4782: 3742, 4783: 3743, 4784: 3744, 4787: 3745, 4789: 3746, 4792: 3747, 4795: 3748, 4796: 3749, 4798: 3750, 4799: 3751, 4800: 3752, 4801: 3753, 4802: 3754, 4803: 3755, 4804: 3756, 4806: 3757, 4809: 3758, 4810: 3759, 4811: 3760, 4812: 3761, 4814: 3762, 4815: 3763, 4816: 3764, 4818: 3765, 4821: 3766, 4822: 3767, 4823: 3768, 4826: 3769, 4830: 3770, 4831: 3771, 4832: 3772, 4833: 3773, 4834: 3774, 4835: 3775, 4836: 3776, 4837: 3777, 4840: 3778, 4842: 3779, 4844: 3780, 4846: 3781, 4848: 3782, 4849: 3783, 4851: 3784, 4854: 3785, 4855: 3786, 4857: 3787, 4859: 3788, 4861: 3789, 4862: 3790, 4863: 3791, 4865: 3792, 4866: 3793, 4867: 3794, 4873: 3795, 4874: 3796, 4875: 3797, 4876: 3798, 4878: 3799, 4880: 3800, 4881: 3801, 4885: 3802, 4886: 3803, 4887: 3804, 4888: 3805, 4889: 3806, 4890: 3807, 4893: 3808, 4895: 3809, 4896: 3810, 4897: 3811, 4898: 3812, 4899: 3813, 4901: 3814, 4902: 3815, 4903: 3816, 4911: 3817, 4912: 3818, 4914: 3819, 4915: 3820, 4920: 3821, 4921: 3822, 4923: 3823, 4925: 3824, 4927: 3825, 4928: 3826, 4929: 3827, 4930: 3828, 4932: 3829, 4933: 3830, 4936: 3831, 4941: 3832, 4945: 3833, 4947: 3834, 4948: 3835, 4949: 3836, 4951: 3837, 4952: 3838, 4954: 3839, 4956: 3840, 4957: 3841, 4958: 3842, 4960: 3843, 4961: 3844, 4963: 3845, 4964: 3846, 4965: 3847, 4967: 3848, 4968: 3849, 4969: 3850, 4970: 3851, 4971: 3852, 4972: 3853, 4973: 3854, 4974: 3855, 4975: 3856, 4976: 3857, 4977: 3858, 4978: 3859, 4979: 3860, 4980: 3861, 4981: 3862, 4984: 3863, 4987: 3864, 4988: 3865, 4989: 3866, 4990: 3867, 4992: 3868, 4993: 3869, 4994: 3870, 4995: 3871, 4996: 3872, 4998: 3873, 4999: 3874, 5000: 3875, 5001: 3876, 5002: 3877, 5003: 3878, 5004: 3879, 5008: 3880, 5009: 3881, 5010: 3882, 5012: 3883, 5013: 3884, 5014: 3885, 5015: 3886, 5016: 3887, 5017: 3888, 5018: 3889, 5021: 3890, 5022: 3891, 5023: 3892, 5025: 3893, 5026: 3894, 5027: 3895, 5028: 3896, 5033: 3897, 5034: 3898, 5038: 3899, 5039: 3900, 5040: 3901, 5041: 3902, 5042: 3903, 5043: 3904, 5046: 3905, 5047: 3906, 5048: 3907, 5049: 3908, 5051: 3909, 5053: 3910, 5054: 3911, 5055: 3912, 5056: 3913, 5057: 3914, 5059: 3915, 5060: 3916, 5061: 3917, 5062: 3918, 5063: 3919, 5064: 3920, 5065: 3921, 5066: 3922, 5069: 3923, 5071: 3924, 5072: 3925, 5073: 3926, 5074: 3927, 5075: 3928, 5076: 3929, 5079: 3930, 5080: 3931, 5081: 3932, 5083: 3933, 5085: 3934, 5087: 3935, 5088: 3936, 5092: 3937, 5093: 3938, 5094: 3939, 5095: 3940, 5096: 3941, 5097: 3942, 5098: 3943, 5099: 3944, 5101: 3945, 5102: 3946, 5103: 3947, 5105: 3948, 5106: 3949, 5107: 3950, 5108: 3951, 5109: 3952, 5110: 3953, 5111: 3954, 5114: 3955, 5117: 3956, 5119: 3957, 5120: 3958, 5121: 3959, 5122: 3960, 5125: 3961, 5127: 3962, 5128: 3963, 5134: 3964, 5135: 3965, 5137: 3966, 5139: 3967, 5141: 3968, 5142: 3969, 5146: 3970, 5147: 3971, 5151: 3972, 5152: 3973, 5153: 3974, 5159: 3975, 5161: 3976, 5164: 3977, 5165: 3978, 5167: 3979, 5168: 3980, 5170: 3981, 5171: 3982, 5172: 3983, 5177: 3984, 5179: 3985, 5180: 3986, 5182: 3987, 5186: 3988, 5187: 3989, 5193: 3990, 5198: 3991, 5199: 3992, 5202: 3993, 5203: 3994, 5205: 3995, 5208: 3996, 5210: 3997, 5214: 3998, 5218: 3999, 5219: 4000, 5220: 4001, 5222: 4002, 5223: 4003, 5224: 4004, 5225: 4005, 5226: 4006, 5227: 4007, 5229: 4008, 5230: 4009, 5231: 4010, 5232: 4011, 5233: 4012, 5234: 4013, 5236: 4014, 5237: 4015, 5238: 4016, 5241: 4017, 5242: 4018, 5243: 4019, 5244: 4020, 5246: 4021, 5247: 4022, 5248: 4023, 5250: 4024, 5254: 4025, 5255: 4026, 5256: 4027, 5258: 4028, 5264: 4029, 5265: 4030, 5266: 4031, 5267: 4032, 5269: 4033, 5271: 4034, 5275: 4035, 5276: 4036, 5277: 4037, 5278: 4038, 5279: 4039, 5282: 4040, 5283: 4041, 5285: 4042, 5288: 4043, 5291: 4044, 5292: 4045, 5293: 4046, 5294: 4047, 5296: 4048, 5297: 4049, 5298: 4050, 5299: 4051, 5300: 4052, 5301: 4053, 5302: 4054, 5303: 4055, 5304: 4056, 5305: 4057, 5307: 4058, 5308: 4059, 5309: 4060, 5312: 4061, 5313: 4062, 5315: 4063, 5316: 4064, 5319: 4065, 5323: 4066, 5324: 4067, 5325: 4068, 5329: 4069, 5333: 4070, 5334: 4071, 5335: 4072, 5337: 4073, 5339: 4074, 5341: 4075, 5342: 4076, 5343: 4077, 5344: 4078, 5346: 4079, 5348: 4080, 5349: 4081, 5352: 4082, 5353: 4083, 5354: 4084, 5356: 4085, 5357: 4086, 5359: 4087, 5360: 4088, 5361: 4089, 5363: 4090, 5364: 4091, 5365: 4092, 5366: 4093, 5367: 4094, 5372: 4095, 5373: 4096, 5375: 4097, 5377: 4098, 5378: 4099, 5379: 4100, 5380: 4101, 5382: 4102, 5383: 4103, 5384: 4104, 5385: 4105, 5387: 4106, 5388: 4107, 5389: 4108, 5391: 4109, 5395: 4110, 5398: 4111, 5400: 4112, 5401: 4113, 5404: 4114, 5410: 4115, 5413: 4116, 5414: 4117, 5415: 4118, 5416: 4119, 5417: 4120, 5418: 4121, 5419: 4122, 5420: 4123, 5421: 4124, 5422: 4125, 5425: 4126, 5427: 4127, 5428: 4128, 5433: 4129, 5434: 4130, 5438: 4131, 5440: 4132, 5443: 4133, 5444: 4134, 5445: 4135, 5446: 4136, 5447: 4137, 5448: 4138, 5449: 4139, 5450: 4140, 5452: 4141, 5458: 4142, 5459: 4143, 5460: 4144, 5462: 4145, 5463: 4146, 5464: 4147, 5466: 4148, 5470: 4149, 5471: 4150, 5473: 4151, 5475: 4152, 5477: 4153, 5478: 4154, 5479: 4155, 5480: 4156, 5481: 4157, 5483: 4158, 5489: 4159, 5490: 4160, 5498: 4161, 5500: 4162, 5501: 4163, 5502: 4164, 5503: 4165, 5504: 4166, 5505: 4167, 5506: 4168, 5507: 4169, 5508: 4170, 5515: 4171, 5516: 4172, 5517: 4173, 5518: 4174, 5521: 4175, 5522: 4176, 5523: 4177, 5524: 4178, 5525: 4179, 5527: 4180, 5528: 4181, 5530: 4182, 5531: 4183, 5534: 4184, 5535: 4185, 5538: 4186, 5539: 4187, 5540: 4188, 5541: 4189, 5544: 4190, 5548: 4191, 5553: 4192, 5556: 4193, 5558: 4194, 5560: 4195, 5561: 4196, 5562: 4197, 5564: 4198, 5568: 4199, 5569: 4200, 5570: 4201, 5572: 4202, 5573: 4203, 5574: 4204, 5575: 4205, 5577: 4206, 5581: 4207, 5582: 4208, 5585: 4209, 5588: 4210, 5597: 4211, 5599: 4212, 5600: 4213, 5601: 4214, 5602: 4215, 5603: 4216, 5604: 4217, 5605: 4218, 5607: 4219, 5608: 4220, 5609: 4221, 5611: 4222, 5612: 4223, 5613: 4224, 5615: 4225, 5617: 4226, 5618: 4227, 5619: 4228, 5620: 4229, 5621: 4230, 5622: 4231, 5625: 4232, 5628: 4233, 5629: 4234, 5630: 4235, 5632: 4236, 5633: 4237, 5636: 4238, 5637: 4239, 5638: 4240, 5641: 4241, 5642: 4242, 5643: 4243, 5644: 4244, 5646: 4245, 5649: 4246, 5650: 4247, 5651: 4248, 5655: 4249, 5662: 4250, 5663: 4251, 5666: 4252, 5667: 4253, 5668: 4254, 5669: 4255, 5670: 4256, 5672: 4257, 5673: 4258, 5675: 4259, 5677: 4260, 5678: 4261, 5679: 4262, 5680: 4263, 5682: 4264, 5684: 4265, 5685: 4266, 5686: 4267, 5689: 4268, 5690: 4269, 5691: 4270, 5693: 4271, 5694: 4272, 5696: 4273, 5699: 4274, 5700: 4275, 5703: 4276, 5705: 4277, 5707: 4278, 5710: 4279, 5712: 4280, 5715: 4281, 5718: 4282, 5723: 4283, 5729: 4284, 5732: 4285, 5734: 4286, 5735: 4287, 5736: 4288, 5737: 4289, 5742: 4290, 5745: 4291, 5746: 4292, 5747: 4293, 5752: 4294, 5754: 4295, 5765: 4296, 5768: 4297, 5772: 4298, 5773: 4299, 5777: 4300, 5778: 4301, 5779: 4302, 5780: 4303, 5782: 4304, 5784: 4305, 5785: 4306, 5787: 4307, 5788: 4308, 5791: 4309, 5792: 4310, 5795: 4311, 5796: 4312, 5799: 4313, 5801: 4314, 5803: 4315, 5808: 4316, 5809: 4317, 5810: 4318, 5812: 4319, 5815: 4320, 5816: 4321, 5818: 4322, 5819: 4323, 5820: 4324, 5825: 4325, 5826: 4326, 5828: 4327, 5829: 4328, 5830: 4329, 5832: 4330, 5833: 4331, 5834: 4332, 5836: 4333, 5839: 4334, 5840: 4335, 5841: 4336, 5843: 4337, 5846: 4338, 5847: 4339, 5850: 4340, 5853: 4341, 5854: 4342, 5857: 4343, 5859: 4344, 5864: 4345, 5866: 4346, 5867: 4347, 5868: 4348, 5869: 4349, 5872: 4350, 5873: 4351, 5874: 4352, 5875: 4353, 5876: 4354, 5878: 4355, 5879: 4356, 5880: 4357, 5881: 4358, 5882: 4359, 5883: 4360, 5888: 4361, 5891: 4362, 5893: 4363, 5899: 4364, 5900: 4365, 5901: 4366, 5902: 4367, 5903: 4368, 5909: 4369, 5910: 4370, 5913: 4371, 5914: 4372, 5915: 4373, 5917: 4374, 5918: 4375, 5923: 4376, 5926: 4377, 5927: 4378, 5932: 4379, 5933: 4380, 5936: 4381, 5938: 4382, 5940: 4383, 5941: 4384, 5942: 4385, 5943: 4386, 5944: 4387, 5945: 4388, 5947: 4389, 5949: 4390, 5952: 4391, 5954: 4392, 5955: 4393, 5956: 4394, 5957: 4395, 5958: 4396, 5959: 4397, 5960: 4398, 5961: 4399, 5962: 4400, 5963: 4401, 5965: 4402, 5966: 4403, 5968: 4404, 5969: 4405, 5970: 4406, 5971: 4407, 5980: 4408, 5981: 4409, 5985: 4410, 5986: 4411, 5989: 4412, 5991: 4413, 5992: 4414, 5993: 4415, 5994: 4416, 5995: 4417, 6000: 4418, 6001: 4419, 6003: 4420, 6005: 4421, 6006: 4422, 6008: 4423, 6012: 4424, 6013: 4425, 6014: 4426, 6016: 4427, 6021: 4428, 6022: 4429, 6025: 4430, 6027: 4431, 6031: 4432, 6032: 4433, 6033: 4434, 6035: 4435, 6037: 4436, 6039: 4437, 6040: 4438, 6042: 4439, 6047: 4440, 6051: 4441, 6056: 4442, 6057: 4443, 6058: 4444, 6059: 4445, 6060: 4446, 6062: 4447, 6063: 4448, 6064: 4449, 6073: 4450, 6077: 4451, 6078: 4452, 6084: 4453, 6091: 4454, 6092: 4455, 6093: 4456, 6095: 4457, 6096: 4458, 6100: 4459, 6101: 4460, 6103: 4461, 6104: 4462, 6105: 4463, 6107: 4464, 6109: 4465, 6114: 4466, 6115: 4467, 6116: 4468, 6121: 4469, 6122: 4470, 6123: 4471, 6124: 4472, 6125: 4473, 6126: 4474, 6127: 4475, 6132: 4476, 6133: 4477, 6140: 4478, 6143: 4479, 6148: 4480, 6154: 4481, 6155: 4482, 6156: 4483, 6157: 4484, 6159: 4485, 6162: 4486, 6163: 4487, 6166: 4488, 6170: 4489, 6178: 4490, 6180: 4491, 6182: 4492, 6183: 4493, 6184: 4494, 6185: 4495, 6186: 4496, 6187: 4497, 6188: 4498, 6195: 4499, 6197: 4500, 6198: 4501, 6201: 4502, 6203: 4503, 6204: 4504, 6207: 4505, 6211: 4506, 6212: 4507, 6213: 4508, 6214: 4509, 6215: 4510, 6216: 4511, 6218: 4512, 6219: 4513, 6223: 4514, 6225: 4515, 6227: 4516, 6228: 4517, 6230: 4518, 6231: 4519, 6232: 4520, 6233: 4521, 6234: 4522, 6235: 4523, 6237: 4524, 6238: 4525, 6239: 4526, 6240: 4527, 6242: 4528, 6243: 4529, 6244: 4530, 6245: 4531, 6247: 4532, 6249: 4533, 6250: 4534, 6252: 4535, 6254: 4536, 6256: 4537, 6257: 4538, 6260: 4539, 6261: 4540, 6263: 4541, 6264: 4542, 6265: 4543, 6266: 4544, 6268: 4545, 6269: 4546, 6271: 4547, 6273: 4548, 6276: 4549, 6279: 4550, 6281: 4551, 6283: 4552, 6284: 4553, 6286: 4554, 6287: 4555, 6290: 4556, 6291: 4557, 6294: 4558, 6295: 4559, 6296: 4560, 6297: 4561, 6298: 4562, 6299: 4563, 6300: 4564, 6301: 4565, 6302: 4566, 6303: 4567, 6305: 4568, 6306: 4569, 6308: 4570, 6314: 4571, 6315: 4572, 6316: 4573, 6318: 4574, 6322: 4575, 6323: 4576, 6327: 4577, 6329: 4578, 6331: 4579, 6332: 4580, 6333: 4581, 6335: 4582, 6337: 4583, 6338: 4584, 6339: 4585, 6341: 4586, 6342: 4587, 6344: 4588, 6345: 4589, 6348: 4590, 6349: 4591, 6350: 4592, 6355: 4593, 6356: 4594, 6357: 4595, 6358: 4596, 6365: 4597, 6367: 4598, 6368: 4599, 6369: 4600, 6370: 4601, 6373: 4602, 6375: 4603, 6377: 4604, 6378: 4605, 6379: 4606, 6380: 4607, 6383: 4608, 6384: 4609, 6385: 4610, 6386: 4611, 6387: 4612, 6390: 4613, 6395: 4614, 6400: 4615, 6404: 4616, 6405: 4617, 6408: 4618, 6410: 4619, 6412: 4620, 6413: 4621, 6414: 4622, 6415: 4623, 6416: 4624, 6419: 4625, 6422: 4626, 6423: 4627, 6424: 4628, 6425: 4629, 6426: 4630, 6427: 4631, 6428: 4632, 6429: 4633, 6431: 4634, 6432: 4635, 6433: 4636, 6436: 4637, 6440: 4638, 6442: 4639, 6446: 4640, 6447: 4641, 6448: 4642, 6449: 4643, 6450: 4644, 6452: 4645, 6454: 4646, 6458: 4647, 6460: 4648, 6461: 4649, 6464: 4650, 6465: 4651, 6466: 4652, 6467: 4653, 6468: 4654, 6470: 4655, 6473: 4656, 6474: 4657, 6476: 4658, 6477: 4659, 6480: 4660, 6482: 4661, 6484: 4662, 6493: 4663, 6498: 4664, 6502: 4665, 6503: 4666, 6506: 4667, 6509: 4668, 6513: 4669, 6514: 4670, 6516: 4671, 6518: 4672, 6521: 4673, 6522: 4674, 6525: 4675, 6527: 4676, 6528: 4677, 6530: 4678, 6531: 4679, 6533: 4680, 6534: 4681, 6535: 4682, 6536: 4683, 6537: 4684, 6538: 4685, 6539: 4686, 6541: 4687, 6547: 4688, 6548: 4689, 6550: 4690, 6552: 4691, 6559: 4692, 6561: 4693, 6562: 4694, 6564: 4695, 6565: 4696, 6566: 4697, 6568: 4698, 6571: 4699, 6579: 4700, 6582: 4701, 6584: 4702, 6585: 4703, 6586: 4704, 6587: 4705, 6591: 4706, 6592: 4707, 6593: 4708, 6595: 4709, 6596: 4710, 6598: 4711, 6599: 4712, 6600: 4713, 6602: 4714, 6603: 4715, 6609: 4716, 6611: 4717, 6612: 4718, 6613: 4719, 6615: 4720, 6617: 4721, 6618: 4722, 6620: 4723, 6624: 4724, 6628: 4725, 6629: 4726, 6630: 4727, 6636: 4728, 6638: 4729, 6639: 4730, 6641: 4731, 6643: 4732, 6644: 4733, 6645: 4734, 6646: 4735, 6650: 4736, 6658: 4737, 6659: 4738, 6662: 4739, 6663: 4740, 6664: 4741, 6665: 4742, 6666: 4743, 6669: 4744, 6671: 4745, 6676: 4746, 6678: 4747, 6679: 4748, 6684: 4749, 6686: 4750, 6690: 4751, 6695: 4752, 6703: 4753, 6706: 4754, 6707: 4755, 6708: 4756, 6709: 4757, 6710: 4758, 6711: 4759, 6713: 4760, 6718: 4761, 6721: 4762, 6722: 4763, 6723: 4764, 6724: 4765, 6725: 4766, 6728: 4767, 6730: 4768, 6731: 4769, 6732: 4770, 6735: 4771, 6739: 4772, 6743: 4773, 6744: 4774, 6748: 4775, 6751: 4776, 6753: 4777, 6754: 4778, 6755: 4779, 6757: 4780, 6760: 4781, 6762: 4782, 6763: 4783, 6764: 4784, 6765: 4785, 6768: 4786, 6769: 4787, 6770: 4788, 6771: 4789, 6772: 4790, 6773: 4791, 6774: 4792, 6776: 4793, 6777: 4794, 6779: 4795, 6780: 4796, 6782: 4797, 6783: 4798, 6785: 4799, 6786: 4800, 6787: 4801, 6788: 4802, 6790: 4803, 6791: 4804, 6793: 4805, 6794: 4806, 6796: 4807, 6797: 4808, 6798: 4809, 6800: 4810, 6803: 4811, 6806: 4812, 6807: 4813, 6808: 4814, 6810: 4815, 6811: 4816, 6812: 4817, 6813: 4818, 6814: 4819, 6816: 4820, 6818: 4821, 6820: 4822, 6822: 4823, 6826: 4824, 6827: 4825, 6828: 4826, 6829: 4827, 6832: 4828, 6835: 4829, 6840: 4830, 6850: 4831, 6851: 4832, 6852: 4833, 6856: 4834, 6857: 4835, 6858: 4836, 6862: 4837, 6863: 4838, 6864: 4839, 6867: 4840, 6868: 4841, 6869: 4842, 6870: 4843, 6872: 4844, 6873: 4845, 6874: 4846, 6875: 4847, 6877: 4848, 6879: 4849, 6880: 4850, 6881: 4851, 6883: 4852, 6884: 4853, 6885: 4854, 6887: 4855, 6888: 4856, 6889: 4857, 6890: 4858, 6892: 4859, 6893: 4860, 6896: 4861, 6898: 4862, 6902: 4863, 6906: 4864, 6909: 4865, 6918: 4866, 6920: 4867, 6927: 4868, 6930: 4869, 6932: 4870, 6934: 4871, 6935: 4872, 6936: 4873, 6940: 4874, 6942: 4875, 6944: 4876, 6945: 4877, 6947: 4878, 6950: 4879, 6951: 4880, 6952: 4881, 6953: 4882, 6954: 4883, 6957: 4884, 6958: 4885, 6959: 4886, 6961: 4887, 6963: 4888, 6964: 4889, 6966: 4890, 6970: 4891, 6971: 4892, 6974: 4893, 6975: 4894, 6977: 4895, 6978: 4896, 6979: 4897, 6981: 4898, 6982: 4899, 6983: 4900, 6985: 4901, 6986: 4902, 6987: 4903, 6989: 4904, 6990: 4905, 6991: 4906, 6992: 4907, 6993: 4908, 6995: 4909, 6996: 4910, 6997: 4911, 6999: 4912, 7000: 4913, 7001: 4914, 7002: 4915, 7003: 4916, 7004: 4917, 7005: 4918, 7007: 4919, 7008: 4920, 7009: 4921, 7010: 4922, 7011: 4923, 7012: 4924, 7013: 4925, 7016: 4926, 7017: 4927, 7018: 4928, 7020: 4929, 7022: 4930, 7023: 4931, 7024: 4932, 7025: 4933, 7026: 4934, 7027: 4935, 7028: 4936, 7029: 4937, 7034: 4938, 7036: 4939, 7038: 4940, 7040: 4941, 7042: 4942, 7043: 4943, 7044: 4944, 7045: 4945, 7046: 4946, 7048: 4947, 7050: 4948, 7051: 4949, 7055: 4950, 7056: 4951, 7058: 4952, 7059: 4953, 7060: 4954, 7061: 4955, 7062: 4956, 7063: 4957, 7064: 4958, 7065: 4959, 7067: 4960, 7068: 4961, 7069: 4962, 7070: 4963, 7071: 4964, 7072: 4965, 7073: 4966, 7074: 4967, 7075: 4968, 7076: 4969, 7078: 4970, 7079: 4971, 7080: 4972, 7081: 4973, 7082: 4974, 7083: 4975, 7084: 4976, 7085: 4977, 7086: 4978, 7087: 4979, 7088: 4980, 7089: 4981, 7090: 4982, 7091: 4983, 7093: 4984, 7095: 4985, 7096: 4986, 7099: 4987, 7101: 4988, 7102: 4989, 7104: 4990, 7107: 4991, 7108: 4992, 7110: 4993, 7111: 4994, 7115: 4995, 7116: 4996, 7117: 4997, 7121: 4998, 7122: 4999, 7123: 5000, 7125: 5001, 7126: 5002, 7130: 5003, 7131: 5004, 7132: 5005, 7135: 5006, 7136: 5007, 7137: 5008, 7139: 5009, 7142: 5010, 7143: 5011, 7147: 5012, 7149: 5013, 7150: 5014, 7151: 5015, 7152: 5016, 7153: 5017, 7154: 5018, 7155: 5019, 7156: 5020, 7158: 5021, 7160: 5022, 7161: 5023, 7162: 5024, 7163: 5025, 7164: 5026, 7165: 5027, 7171: 5028, 7172: 5029, 7173: 5030, 7177: 5031, 7178: 5032, 7179: 5033, 7180: 5034, 7182: 5035, 7186: 5036, 7189: 5037, 7190: 5038, 7192: 5039, 7193: 5040, 7195: 5041, 7196: 5042, 7198: 5043, 7199: 5044, 7204: 5045, 7206: 5046, 7207: 5047, 7208: 5048, 7209: 5049, 7210: 5050, 7211: 5051, 7212: 5052, 7215: 5053, 7216: 5054, 7217: 5055, 7219: 5056, 7222: 5057, 7223: 5058, 7228: 5059, 7234: 5060, 7235: 5061, 7236: 5062, 7238: 5063, 7245: 5064, 7247: 5065, 7248: 5066, 7250: 5067, 7254: 5068, 7255: 5069, 7256: 5070, 7257: 5071, 7258: 5072, 7260: 5073, 7263: 5074, 7265: 5075, 7266: 5076, 7272: 5077, 7282: 5078, 7283: 5079, 7285: 5080, 7293: 5081, 7294: 5082, 7299: 5083, 7300: 5084, 7302: 5085, 7303: 5086, 7305: 5087, 7307: 5088, 7308: 5089, 7309: 5090, 7311: 5091, 7312: 5092, 7315: 5093, 7316: 5094, 7317: 5095, 7318: 5096, 7319: 5097, 7320: 5098, 7323: 5099, 7324: 5100, 7325: 5101, 7327: 5102, 7334: 5103, 7340: 5104, 7343: 5105, 7346: 5106, 7347: 5107, 7348: 5108, 7349: 5109, 7352: 5110, 7354: 5111, 7355: 5112, 7357: 5113, 7358: 5114, 7360: 5115, 7361: 5116, 7362: 5117, 7366: 5118, 7367: 5119, 7369: 5120, 7371: 5121, 7372: 5122, 7373: 5123, 7374: 5124, 7375: 5125, 7376: 5126, 7379: 5127, 7380: 5128, 7381: 5129, 7382: 5130, 7386: 5131, 7387: 5132, 7394: 5133, 7395: 5134, 7396: 5135, 7407: 5136, 7411: 5137, 7415: 5138, 7419: 5139, 7437: 5140, 7438: 5141, 7439: 5142, 7444: 5143, 7445: 5144, 7448: 5145, 7449: 5146, 7450: 5147, 7451: 5148, 7453: 5149, 7454: 5150, 7456: 5151, 7458: 5152, 7459: 5153, 7460: 5154, 7478: 5155, 7481: 5156, 7482: 5157, 7484: 5158, 7487: 5159, 7492: 5160, 7493: 5161, 7502: 5162, 7505: 5163, 7541: 5164, 7560: 5165, 7564: 5166, 7566: 5167, 7569: 5168, 7570: 5169, 7571: 5170, 7572: 5171, 7573: 5172, 7574: 5173, 7577: 5174, 7579: 5175, 7583: 5176, 7584: 5177, 7585: 5178, 7586: 5179, 7587: 5180, 7613: 5181, 7614: 5182, 7615: 5183, 7616: 5184, 7619: 5185, 7620: 5186, 7624: 5187, 7625: 5188, 7627: 5189, 7636: 5190, 7649: 5191, 7650: 5192, 7669: 5193, 7697: 5194, 7698: 5195, 7700: 5196, 7701: 5197, 7702: 5198, 7705: 5199, 7706: 5200, 7708: 5201, 7713: 5202, 7714: 5203, 7720: 5204, 7728: 5205, 7738: 5206, 7743: 5207, 7748: 5208, 7753: 5209, 7757: 5210, 7759: 5211, 7762: 5212, 7764: 5213, 7766: 5214, 7767: 5215, 7771: 5216, 7773: 5217, 7774: 5218, 7782: 5219, 7786: 5220, 7787: 5221, 7789: 5222, 7790: 5223, 7791: 5224, 7792: 5225, 7802: 5226, 7809: 5227, 7810: 5228, 7811: 5229, 7812: 5230, 7815: 5231, 7817: 5232, 7818: 5233, 7820: 5234, 7822: 5235, 7826: 5236, 7827: 5237, 7831: 5238, 7832: 5239, 7833: 5240, 7834: 5241, 7835: 5242, 7836: 5243, 7840: 5244, 7841: 5245, 7842: 5246, 7843: 5247, 7844: 5248, 7845: 5249, 7846: 5250, 7872: 5251, 7878: 5252, 7881: 5253, 7882: 5254, 7883: 5255, 7888: 5256, 7889: 5257, 7892: 5258, 7894: 5259, 7895: 5260, 7897: 5261, 7899: 5262, 7914: 5263, 7915: 5264, 7916: 5265, 7919: 5266, 7920: 5267, 7921: 5268, 7922: 5269, 7924: 5270, 7925: 5271, 7926: 5272, 7932: 5273, 7934: 5274, 7935: 5275, 7936: 5276, 7938: 5277, 7939: 5278, 7941: 5279, 7942: 5280, 7943: 5281, 7944: 5282, 7946: 5283, 7947: 5284, 7948: 5285, 7951: 5286, 7958: 5287, 7959: 5288, 7976: 5289, 7979: 5290, 7980: 5291, 7981: 5292, 7982: 5293, 7983: 5294, 7984: 5295, 7987: 5296, 7990: 5297, 7991: 5298, 7995: 5299, 8003: 5300, 8008: 5301, 8009: 5302, 8010: 5303, 8011: 5304, 8012: 5305, 8014: 5306, 8015: 5307, 8016: 5308, 8019: 5309, 8033: 5310, 8039: 5311, 8042: 5312, 8044: 5313, 8056: 5314, 8057: 5315, 8070: 5316, 8093: 5317, 8094: 5318, 8117: 5319, 8121: 5320, 8123: 5321, 8125: 5322, 8126: 5323, 8128: 5324, 8129: 5325, 8130: 5326, 8131: 5327, 8132: 5328, 8133: 5329, 8136: 5330, 8137: 5331, 8138: 5332, 8142: 5333, 8143: 5334, 8147: 5335, 8154: 5336, 8157: 5337, 8158: 5338, 8167: 5339, 8169: 5340, 8183: 5341, 8187: 5342, 8188: 5343, 8189: 5344, 8190: 5345, 8191: 5346, 8194: 5347, 8195: 5348, 8196: 5349, 8197: 5350, 8199: 5351, 8207: 5352, 8208: 5353, 8225: 5354, 8228: 5355, 8235: 5356, 8239: 5357, 8240: 5358, 8253: 5359, 8254: 5360, 8256: 5361, 8257: 5362, 8261: 5363, 8263: 5364, 8264: 5365, 8266: 5366, 8267: 5367, 8268: 5368, 8273: 5369, 8275: 5370, 8290: 5371, 8327: 5372, 8331: 5373, 8332: 5374, 8336: 5375, 8337: 5376, 8338: 5377, 8340: 5378, 8341: 5379, 8360: 5380, 8361: 5381, 8362: 5382, 8363: 5383, 8364: 5384, 8366: 5385, 8367: 5386, 8368: 5387, 8369: 5388, 8370: 5389, 8371: 5390, 8372: 5391, 8373: 5392, 8376: 5393, 8385: 5394, 8387: 5395, 8388: 5396, 8392: 5397, 8403: 5398, 8404: 5399, 8410: 5400, 8420: 5401, 8422: 5402, 8423: 5403, 8447: 5404, 8451: 5405, 8453: 5406, 8459: 5407, 8460: 5408, 8462: 5409, 8463: 5410, 8464: 5411, 8465: 5412, 8477: 5413, 8482: 5414, 8484: 5415, 8485: 5416, 8487: 5417, 8491: 5418, 8492: 5419, 8493: 5420, 8499: 5421, 8502: 5422, 8504: 5423, 8507: 5424, 8511: 5425, 8522: 5426, 8524: 5427, 8525: 5428, 8526: 5429, 8527: 5430, 8528: 5431, 8529: 5432, 8530: 5433, 8531: 5434, 8533: 5435, 8534: 5436, 8535: 5437, 8537: 5438, 8542: 5439, 8544: 5440, 8571: 5441, 8572: 5442, 8574: 5443, 8575: 5444, 8576: 5445, 8577: 5446, 8580: 5447, 8581: 5448, 8582: 5449, 8583: 5450, 8584: 5451, 8589: 5452, 8591: 5453, 8596: 5454, 8600: 5455, 8604: 5456, 8607: 5457, 8609: 5458, 8610: 5459, 8611: 5460, 8612: 5461, 8614: 5462, 8616: 5463, 8617: 5464, 8618: 5465, 8620: 5466, 8622: 5467, 8623: 5468, 8625: 5469, 8629: 5470, 8633: 5471, 8636: 5472, 8638: 5473, 8640: 5474, 8641: 5475, 8642: 5476, 8643: 5477, 8644: 5478, 8645: 5479, 8650: 5480, 8654: 5481, 8656: 5482, 8657: 5483, 8661: 5484, 8665: 5485, 8666: 5486, 8667: 5487, 8670: 5488, 8672: 5489, 8675: 5490, 8684: 5491, 8689: 5492, 8690: 5493, 8695: 5494, 8699: 5495, 8700: 5496, 8709: 5497, 8711: 5498, 8712: 5499, 8713: 5500, 8718: 5501, 8720: 5502, 8722: 5503, 8724: 5504, 8725: 5505, 8727: 5506, 8730: 5507, 8743: 5508, 8745: 5509, 8751: 5510, 8752: 5511, 8753: 5512, 8754: 5513, 8761: 5514, 8763: 5515, 8765: 5516, 8768: 5517, 8772: 5518, 8777: 5519, 8779: 5520, 8781: 5521, 8783: 5522, 8784: 5523, 8785: 5524, 8790: 5525, 8795: 5526, 8796: 5527, 8797: 5528, 8798: 5529, 8799: 5530, 8800: 5531, 8807: 5532, 8808: 5533, 8810: 5534, 8811: 5535, 8813: 5536, 8814: 5537, 8819: 5538, 8820: 5539, 8821: 5540, 8823: 5541, 8827: 5542, 8828: 5543, 8830: 5544, 8831: 5545, 8832: 5546, 8833: 5547, 8835: 5548, 8836: 5549, 8838: 5550, 8839: 5551, 8840: 5552, 8848: 5553, 8850: 5554, 8851: 5555, 8853: 5556, 8854: 5557, 8857: 5558, 8859: 5559, 8860: 5560, 8861: 5561, 8864: 5562, 8865: 5563, 8866: 5564, 8870: 5565, 8871: 5566, 8872: 5567, 8873: 5568, 8874: 5569, 8879: 5570, 8880: 5571, 8882: 5572, 8884: 5573, 8892: 5574, 8893: 5575, 8899: 5576, 8903: 5577, 8906: 5578, 8907: 5579, 8908: 5580, 8910: 5581, 8911: 5582, 8914: 5583, 8915: 5584, 8916: 5585, 8917: 5586, 8918: 5587, 8920: 5588, 8921: 5589, 8923: 5590, 8927: 5591, 8928: 5592, 8929: 5593, 8930: 5594, 8931: 5595, 8933: 5596, 8935: 5597, 8937: 5598, 8938: 5599, 8943: 5600, 8946: 5601, 8947: 5602, 8948: 5603, 8949: 5604, 8950: 5605, 8951: 5606, 8954: 5607, 8955: 5608, 8957: 5609, 8958: 5610, 8961: 5611, 8963: 5612, 8964: 5613, 8965: 5614, 8966: 5615, 8968: 5616, 8969: 5617, 8970: 5618, 8972: 5619, 8973: 5620, 8974: 5621, 8977: 5622, 8979: 5623, 8981: 5624, 8982: 5625, 8983: 5626, 8984: 5627, 8985: 5628, 8986: 5629, 8987: 5630, 8988: 5631, 8989: 5632, 8998: 5633, 8999: 5634, 9000: 5635, 9001: 5636, 9004: 5637, 9005: 5638, 9010: 5639, 9012: 5640, 9018: 5641, 25737: 5642, 25744: 5643, 25750: 5644, 25752: 5645, 25753: 5646, 25755: 5647, 25763: 5648, 25764: 5649, 25769: 5650, 25771: 5651, 25773: 5652, 25774: 5653, 25777: 5654, 25788: 5655, 25792: 5656, 25795: 5657, 25801: 5658, 25805: 5659, 25807: 5660, 25825: 5661, 25826: 5662, 25827: 5663, 25828: 5664, 25839: 5665, 25841: 5666, 25842: 5667, 25850: 5668, 25852: 5669, 25856: 5670, 25865: 5671, 25868: 5672, 25874: 5673, 25882: 5674, 25886: 5675, 25891: 5676, 25898: 5677, 25900: 5678, 25901: 5679, 25904: 5680, 25906: 5681, 25911: 5682, 25916: 5683, 25920: 5684, 25929: 5685, 25930: 5686, 25937: 5687, 25940: 5688, 25941: 5689, 25945: 5690, 25947: 5691, 25952: 5692, 25962: 5693, 25965: 5694, 25971: 5695, 25972: 5696, 25993: 5697, 25995: 5698, 25996: 5699, 25999: 5700, 26003: 5701, 26005: 5702, 26007: 5703, 26009: 5704, 26010: 5705, 26012: 5706, 26013: 5707, 26025: 5708, 26052: 5709, 26079: 5710, 26082: 5711, 26084: 5712, 26085: 5713, 26086: 5714, 26093: 5715, 26094: 5716, 26111: 5717, 26116: 5718, 26117: 5719, 26122: 5720, 26125: 5721, 26131: 5722, 26133: 5723, 26147: 5724, 26150: 5725, 26151: 5726, 26152: 5727, 26157: 5728, 26160: 5729, 26163: 5730, 26164: 5731, 26171: 5732, 26172: 5733, 26176: 5734, 26178: 5735, 26180: 5736, 26188: 5737, 26198: 5738, 26199: 5739, 26208: 5740, 26228: 5741, 26229: 5742, 26231: 5743, 26241: 5744, 26242: 5745, 26251: 5746, 26258: 5747, 26265: 5748, 26268: 5749, 26271: 5750, 26294: 5751, 26302: 5752, 26303: 5753, 26313: 5754, 26317: 5755, 26318: 5756, 26320: 5757, 26322: 5758, 26323: 5759, 26324: 5760, 26325: 5761, 26326: 5762, 26338: 5763, 26342: 5764, 26346: 5765, 26349: 5766, 26350: 5767, 26366: 5768, 26371: 5769, 26375: 5770, 26386: 5771, 26391: 5772, 26393: 5773, 26394: 5774, 26400: 5775, 26403: 5776, 26404: 5777, 26409: 5778, 26413: 5779, 26414: 5780, 26422: 5781, 26425: 5782, 26430: 5783, 26435: 5784, 26462: 5785, 26464: 5786, 26467: 5787, 26471: 5788, 26472: 5789, 26480: 5790, 26485: 5791, 26487: 5792, 26492: 5793, 26494: 5794, 26501: 5795, 26505: 5796, 26509: 5797, 26513: 5798, 26524: 5799, 26528: 5800, 26547: 5801, 26554: 5802, 26555: 5803, 26562: 5804, 26564: 5805, 26574: 5806, 26578: 5807, 26581: 5808, 26585: 5809, 26587: 5810, 26599: 5811, 26603: 5812, 26606: 5813, 26614: 5814, 26622: 5815, 26631: 5816, 26649: 5817, 26655: 5818, 26662: 5819, 26663: 5820, 26680: 5821, 26684: 5822, 26686: 5823, 26689: 5824, 26693: 5825, 26694: 5826, 26695: 5827, 26700: 5828, 26701: 5829, 26702: 5830, 26704: 5831, 26712: 5832, 26726: 5833, 26729: 5834, 26731: 5835, 26732: 5836, 26736: 5837, 26737: 5838, 26749: 5839, 26750: 5840, 26775: 5841, 26776: 5842, 26782: 5843, 26784: 5844, 26788: 5845, 26791: 5846, 26797: 5847, 26809: 5848, 26810: 5849, 26812: 5850, 26819: 5851, 26835: 5852, 26838: 5853, 26840: 5854, 26842: 5855, 26843: 5856, 26850: 5857, 26854: 5858, 26865: 5859, 26870: 5860, 26886: 5861, 26903: 5862, 26915: 5863, 26947: 5864, 26974: 5865, 26999: 5866, 27002: 5867, 27005: 5868, 27020: 5869, 27022: 5870, 27032: 5871, 27075: 5872, 27109: 5873, 27156: 5874, 27178: 5875, 27186: 5876, 27193: 5877, 27251: 5878, 27253: 5879, 27255: 5880, 27266: 5881, 27317: 5882, 27322: 5883, 27329: 5884, 27334: 5885, 27338: 5886, 27351: 5887, 27369: 5888, 27373: 5889, 27376: 5890, 27397: 5891, 27410: 5892, 27416: 5893, 27423: 5894, 27441: 5895, 27478: 5896, 27482: 5897, 27523: 5898, 27544: 5899, 27555: 5900, 27592: 5901, 27604: 5902, 27611: 5903, 27646: 5904, 27648: 5905, 27660: 5906, 27664: 5907, 27674: 5908, 27685: 5909, 27689: 5910, 27700: 5911, 27704: 5912, 27706: 5913, 27713: 5914, 27721: 5915, 27722: 5916, 27724: 5917, 27727: 5918, 27728: 5919, 27731: 5920, 27741: 5921, 27751: 5922, 27768: 5923, 27772: 5924, 27773: 5925, 27778: 5926, 27783: 5927, 27784: 5928, 27788: 5929, 27790: 5930, 27792: 5931, 27793: 5932, 27798: 5933, 27800: 5934, 27801: 5935, 27802: 5936, 27803: 5937, 27808: 5938, 27812: 5939, 27815: 5940, 27816: 5941, 27821: 5942, 27822: 5943, 27826: 5944, 27831: 5945, 27834: 5946, 27837: 5947, 27838: 5948, 27839: 5949, 27846: 5950, 27850: 5951, 27851: 5952, 27857: 5953, 27867: 5954, 27869: 5955, 27871: 5956, 27873: 5957, 27875: 5958, 27876: 5959, 27878: 5960, 27879: 5961, 27882: 5962, 27899: 5963, 27904: 5964, 27912: 5965, 27922: 5966, 30707: 5967, 30712: 5968, 30723: 5969, 30745: 5970, 30749: 5971, 30783: 5972, 30793: 5973, 30803: 5974, 30810: 5975, 30812: 5976, 30816: 5977, 30818: 5978, 30820: 5979, 30822: 5980, 30825: 5981, 30846: 5982, 30848: 5983, 30850: 5984, 30867: 5985, 30883: 5986, 30892: 5987, 30894: 5988, 30898: 5989, 31000: 5990, 31026: 5991, 31035: 5992, 31101: 5993, 31104: 5994, 31109: 5995, 31114: 5996, 31116: 5997, 31150: 5998, 31156: 5999, 31162: 6000, 31184: 6001, 31193: 6002, 31221: 6003, 31225: 6004, 31270: 6005, 31284: 6006, 31290: 6007, 31364: 6008, 31374: 6009, 31408: 6010, 31410: 6011, 31413: 6012, 31420: 6013, 31422: 6014, 31427: 6015, 31431: 6016, 31433: 6017, 31435: 6018, 31437: 6019, 31445: 6020, 31502: 6021, 31522: 6022, 31524: 6023, 31547: 6024, 31549: 6025, 31658: 6026, 31660: 6027, 31682: 6028, 31685: 6029, 31689: 6030, 31694: 6031, 31696: 6032, 31700: 6033, 31724: 6034, 31737: 6035, 31747: 6036, 31770: 6037, 31804: 6038, 31878: 6039, 31903: 6040, 31921: 6041, 31923: 6042, 31930: 6043, 31952: 6044, 31956: 6045, 31963: 6046, 31973: 6047, 32017: 6048, 32019: 6049, 32022: 6050, 32025: 6051, 32029: 6052, 32031: 6053, 32078: 6054, 32139: 6055, 32153: 6056, 32160: 6057, 32170: 6058, 32174: 6059, 32203: 6060, 32211: 6061, 32234: 6062, 32280: 6063, 32289: 6064, 32291: 6065, 32296: 6066, 32298: 6067, 32302: 6068, 32349: 6069, 32352: 6070, 32369: 6071, 32371: 6072, 32381: 6073, 32387: 6074, 32395: 6075, 32444: 6076, 32456: 6077, 32460: 6078, 32464: 6079, 32469: 6080, 32515: 6081, 32525: 6082, 32554: 6083, 32562: 6084, 32582: 6085, 32587: 6086, 32591: 6087, 32596: 6088, 32598: 6089, 32632: 6090, 32666: 6091, 32686: 6092, 32728: 6093, 32735: 6094, 32743: 6095, 32797: 6096, 32825: 6097, 32840: 6098, 32844: 6099, 32853: 6100, 32882: 6101, 32892: 6102, 32898: 6103, 32914: 6104, 32943: 6105, 33004: 6106, 33021: 6107, 33085: 6108, 33124: 6109, 33138: 6110, 33145: 6111, 33154: 6112, 33158: 6113, 33162: 6114, 33164: 6115, 33166: 6116, 33171: 6117, 33296: 6118, 33312: 6119, 33358: 6120, 33380: 6121, 33437: 6122, 33493: 6123, 33495: 6124, 33499: 6125, 33558: 6126, 33587: 6127, 33592: 6128, 33615: 6129, 33621: 6130, 33639: 6131, 33646: 6132, 33660: 6133, 33669: 6134, 33672: 6135, 33679: 6136, 33681: 6137, 33683: 6138, 33688: 6139, 33750: 6140, 33760: 6141, 33794: 6142, 33817: 6143, 33826: 6144, 33830: 6145, 33834: 6146, 33836: 6147, 33838: 6148, 33880: 6149, 33896: 6150, 33903: 6151, 33912: 6152, 33917: 6153, 34002: 6154, 34018: 6155, 34048: 6156, 34072: 6157, 34129: 6158, 34143: 6159, 34150: 6160, 34153: 6161, 34162: 6162, 34164: 6163, 34198: 6164, 34271: 6165, 34319: 6166, 34321: 6167, 34323: 6168, 34326: 6169, 34332: 6170, 34334: 6171, 34336: 6172, 34338: 6173, 34359: 6174, 34364: 6175, 34405: 6176, 34435: 6177, 34437: 6178, 34520: 6179, 34523: 6180, 34528: 6181, 34530: 6182, 34532: 6183, 34534: 6184, 34536: 6185, 34542: 6186, 34552: 6187, 34583: 6188, 34608: 6189, 35836: 6190, 35957: 6191, 36152: 6192, 36276: 6193, 36289: 6194, 36397: 6195, 36401: 6196, 36509: 6197, 36517: 6198, 36519: 6199, 36525: 6200, 36527: 6201, 36529: 6202, 36533: 6203, 36535: 6204, 36553: 6205, 36708: 6206, 36931: 6207, 37211: 6208, 37240: 6209, 37277: 6210, 37380: 6211, 37382: 6212, 37384: 6213, 37386: 6214, 37475: 6215, 37477: 6216, 37720: 6217, 37727: 6218, 37729: 6219, 37731: 6220, 37733: 6221, 37736: 6222, 37739: 6223, 37741: 6224, 37785: 6225, 37830: 6226, 37853: 6227, 37855: 6228, 37857: 6229, 38038: 6230, 38061: 6231, 38304: 6232, 38384: 6233, 38499: 6234, 38798: 6235, 38886: 6236, 38992: 6237, 38994: 6238, 39052: 6239, 39183: 6240, 39231: 6241, 39234: 6242, 39292: 6243, 39307: 6244, 39381: 6245, 39398: 6246, 39408: 6247, 39414: 6248, 39416: 6249, 39419: 6250, 39427: 6251, 39435: 6252, 39444: 6253, 39446: 6254, 39659: 6255, 39715: 6256, 39768: 6257, 39779: 6258, 39869: 6259, 39941: 6260, 40148: 6261, 40226: 6262, 40278: 6263, 40339: 6264, 40412: 6265, 40414: 6266, 40491: 6267, 40574: 6268, 40581: 6269, 40583: 6270, 40597: 6271, 40614: 6272, 40629: 6273, 40723: 6274, 40732: 6275, 40815: 6276, 40817: 6277, 40819: 6278, 40826: 6279, 40833: 6280, 40851: 6281, 40870: 6282, 40946: 6283, 40959: 6284, 41226: 6285, 41285: 6286, 41336: 6287, 41527: 6288, 41566: 6289, 41569: 6290, 41571: 6291, 41573: 6292, 41714: 6293, 41716: 6294, 41769: 6295, 41863: 6296, 41912: 6297, 41997: 6298, 42002: 6299, 42004: 6300, 42007: 6301, 42009: 6302, 42011: 6303, 42013: 6304, 42015: 6305, 42163: 6306, 42191: 6307, 42197: 6308, 42351: 6309, 42418: 6310, 42632: 6311, 42677: 6312, 42681: 6313, 42718: 6314, 42721: 6315, 42723: 6316, 42725: 6317, 42728: 6318, 42730: 6319, 42732: 6320, 42734: 6321, 42738: 6322, 42740: 6323, 42783: 6324, 42900: 6325, 42935: 6326, 42946: 6327, 42958: 6328, 43177: 6329, 43267: 6330, 43333: 6331, 43351: 6332, 43376: 6333, 43391: 6334, 43396: 6335, 43419: 6336, 43556: 6337, 43558: 6338, 43560: 6339, 43635: 6340, 43679: 6341, 43708: 6342, 43744: 6343, 43832: 6344, 43836: 6345, 43838: 6346, 43869: 6347, 43871: 6348, 43899: 6349, 43904: 6350, 43908: 6351, 43910: 6352, 43917: 6353, 43919: 6354, 43921: 6355, 43928: 6356, 43930: 6357, 43932: 6358, 43936: 6359, 44004: 6360, 44022: 6361, 44073: 6362, 44191: 6363, 44193: 6364, 44195: 6365, 44197: 6366, 44199: 6367, 44204: 6368, 44225: 6369, 44245: 6370, 44301: 6371, 44317: 6372, 44397: 6373, 44421: 6374, 44511: 6375, 44555: 6376, 44587: 6377, 44597: 6378, 44613: 6379, 44633: 6380, 44665: 6381, 44671: 6382, 44694: 6383, 44709: 6384, 44717: 6385, 44731: 6386, 44759: 6387, 44761: 6388, 44788: 6389, 44828: 6390, 44840: 6391, 44849: 6392, 44864: 6393, 44911: 6394, 44972: 6395, 44974: 6396, 45000: 6397, 45028: 6398, 45062: 6399, 45081: 6400, 45172: 6401, 45179: 6402, 45183: 6403, 45186: 6404, 45208: 6405, 45210: 6406, 45221: 6407, 45382: 6408, 45431: 6409, 45440: 6410, 45442: 6411, 45447: 6412, 45499: 6413, 45501: 6414, 45506: 6415, 45517: 6416, 45521: 6417, 45662: 6418, 45666: 6419, 45668: 6420, 45672: 6421, 45679: 6422, 45720: 6423, 45722: 6424, 45726: 6425, 45728: 6426, 45730: 6427, 45732: 6428, 45837: 6429, 45880: 6430, 45928: 6431, 45942: 6432, 45950: 6433, 45969: 6434, 45987: 6435, 46062: 6436, 46322: 6437, 46335: 6438, 46337: 6439, 46347: 6440, 46530: 6441, 46544: 6442, 46559: 6443, 46561: 6444, 46574: 6445, 46578: 6446, 46664: 6447, 46723: 6448, 46772: 6449, 46850: 6450, 46855: 6451, 46865: 6452, 46919: 6453, 46948: 6454, 46965: 6455, 46967: 6456, 46970: 6457, 46972: 6458, 46974: 6459, 46976: 6460, 47044: 6461, 47092: 6462, 47099: 6463, 47122: 6464, 47124: 6465, 47148: 6466, 47152: 6467, 47196: 6468, 47200: 6469, 47202: 6470, 47254: 6471, 47261: 6472, 47274: 6473, 47287: 6474, 47330: 6475, 47382: 6476, 47384: 6477, 47404: 6478, 47423: 6479, 47465: 6480, 47491: 6481, 47493: 6482, 47518: 6483, 47606: 6484, 47610: 6485, 47629: 6486, 47640: 6487, 47714: 6488, 47721: 6489, 47728: 6490, 47810: 6491, 47815: 6492, 47894: 6493, 47937: 6494, 47950: 6495, 47952: 6496, 47978: 6497, 47997: 6498, 47999: 6499, 48032: 6500, 48043: 6501, 48061: 6502, 48082: 6503, 48142: 6504, 48159: 6505, 48165: 6506, 48198: 6507, 48231: 6508, 48262: 6509, 48268: 6510, 48301: 6511, 48304: 6512, 48319: 6513, 48322: 6514, 48385: 6515, 48394: 6516, 48414: 6517, 48501: 6518, 48516: 6519, 48518: 6520, 48520: 6521, 48522: 6522, 48560: 6523, 48591: 6524, 48593: 6525, 48596: 6526, 48660: 6527, 48682: 6528, 48696: 6529, 48698: 6530, 48738: 6531, 48741: 6532, 48744: 6533, 48774: 6534, 48780: 6535, 48783: 6536, 48791: 6537, 48817: 6538, 48856: 6539, 48872: 6540, 48877: 6541, 48972: 6542, 48982: 6543, 48997: 6544, 49013: 6545, 49132: 6546, 49220: 6547, 49225: 6548, 49265: 6549, 49272: 6550, 49274: 6551, 49278: 6552, 49280: 6553, 49284: 6554, 49286: 6555, 49299: 6556, 49314: 6557, 49394: 6558, 49396: 6559, 49526: 6560, 49528: 6561, 49530: 6562, 49647: 6563, 49649: 6564, 49651: 6565, 49688: 6566, 49772: 6567, 49817: 6568, 49822: 6569, 49824: 6570, 49902: 6571, 49910: 6572, 49932: 6573, 49957: 6574, 49961: 6575, 50005: 6576, 50011: 6577, 50064: 6578, 50068: 6579, 50147: 6580, 50160: 6581, 50162: 6582, 50189: 6583, 50245: 6584, 50259: 6585, 50442: 6586, 50445: 6587, 50514: 6588, 50583: 6589, 50601: 6590, 50641: 6591, 50651: 6592, 50658: 6593, 50685: 6594, 50703: 6595, 50740: 6596, 50742: 6597, 50792: 6598, 50794: 6599, 50798: 6600, 50802: 6601, 50804: 6602, 50806: 6603, 50842: 6604, 50851: 6605, 50872: 6606, 50912: 6607, 50923: 6608, 50954: 6609, 51044: 6610, 51077: 6611, 51080: 6612, 51084: 6613, 51086: 6614, 51088: 6615, 51091: 6616, 51094: 6617, 51127: 6618, 51174: 6619, 51207: 6620, 51255: 6621, 51277: 6622, 51304: 6623, 51357: 6624, 51372: 6625, 51380: 6626, 51412: 6627, 51418: 6628, 51471: 6629, 51540: 6630, 51575: 6631, 51662: 6632, 51698: 6633, 51705: 6634, 51709: 6635, 51773: 6636, 51834: 6637, 51884: 6638, 51925: 6639, 51927: 6640, 51931: 6641, 51935: 6642, 51937: 6643, 51939: 6644, 52241: 6645, 52245: 6646, 52281: 6647, 52287: 6648, 52319: 6649, 52328: 6650, 52378: 6651, 52435: 6652, 52456: 6653, 52458: 6654, 52460: 6655, 52462: 6656, 52528: 6657, 52545: 6658, 52579: 6659, 52604: 6660, 52606: 6661, 52617: 6662, 52644: 6663, 52666: 6664, 52668: 6665, 52694: 6666, 52712: 6667, 52717: 6668, 52722: 6669, 52730: 6670, 52767: 6671, 52831: 6672, 52885: 6673, 52913: 6674, 52950: 6675, 52952: 6676, 52967: 6677, 52973: 6678, 52975: 6679, 53000: 6680, 53024: 6681, 53038: 6682, 53121: 6683, 53123: 6684, 53125: 6685, 53129: 6686, 53133: 6687, 53138: 6688, 53189: 6689, 53207: 6690, 53318: 6691, 53322: 6692, 53326: 6693, 53435: 6694, 53447: 6695, 53460: 6696, 53464: 6697, 53466: 6698, 53468: 6699, 53519: 6700, 53550: 6701, 53737: 6702, 53883: 6703, 53887: 6704, 53894: 6705, 53953: 6706, 53956: 6707, 53972: 6708, 53974: 6709, 53993: 6710, 53996: 6711, 53999: 6712, 54001: 6713, 54004: 6714, 54190: 6715, 54220: 6716, 54251: 6717, 54256: 6718, 54259: 6719, 54270: 6720, 54272: 6721, 54276: 6722, 54281: 6723, 54286: 6724, 54290: 6725, 54328: 6726, 54331: 6727, 54372: 6728, 54419: 6729, 54426: 6730, 54503: 6731, 54513: 6732, 54648: 6733, 54732: 6734, 54734: 6735, 54736: 6736, 54745: 6737, 54768: 6738, 54771: 6739, 54775: 6740, 54780: 6741, 54785: 6742, 54787: 6743, 54881: 6744, 54910: 6745, 54995: 6746, 54997: 6747, 54999: 6748, 55031: 6749, 55052: 6750, 55063: 6751, 55069: 6752, 55071: 6753, 55078: 6754, 55094: 6755, 55100: 6756, 55110: 6757, 55116: 6758, 55118: 6759, 55156: 6760, 55167: 6761, 55207: 6762, 55232: 6763, 55245: 6764, 55247: 6765, 55250: 6766, 55253: 6767, 55259: 6768, 55261: 6769, 55267: 6770, 55269: 6771, 55272: 6772, 55274: 6773, 55276: 6774, 55280: 6775, 55282: 6776, 55290: 6777, 55294: 6778, 55363: 6779, 55417: 6780, 55442: 6781, 55444: 6782, 55451: 6783, 55498: 6784, 55555: 6785, 55566: 6786, 55577: 6787, 55652: 6788, 55684: 6789, 55687: 6790, 55721: 6791, 55732: 6792, 55757: 6793, 55765: 6794, 55768: 6795, 55805: 6796, 55814: 6797, 55820: 6798, 55830: 6799, 55851: 6800, 55872: 6801, 55895: 6802, 55908: 6803, 55995: 6804, 55999: 6805, 56003: 6806, 56030: 6807, 56069: 6808, 56079: 6809, 56095: 6810, 56145: 6811, 56152: 6812, 56156: 6813, 56169: 6814, 56171: 6815, 56174: 6816, 56176: 6817, 56251: 6818, 56274: 6819, 56286: 6820, 56333: 6821, 56336: 6822, 56339: 6823, 56367: 6824, 56563: 6825, 56587: 6826, 56607: 6827, 56633: 6828, 56715: 6829, 56757: 6830, 56775: 6831, 56782: 6832, 56788: 6833, 56801: 6834, 56805: 6835, 56869: 6836, 56885: 6837, 56908: 6838, 56915: 6839, 56921: 6840, 56941: 6841, 56949: 6842, 57038: 6843, 57223: 6844, 57243: 6845, 57274: 6846, 57326: 6847, 57353: 6848, 57368: 6849, 57401: 6850, 57418: 6851, 57430: 6852, 57453: 6853, 57504: 6854, 57526: 6855, 57528: 6856, 57532: 6857, 57640: 6858, 57669: 6859, 57792: 6860, 57845: 6861, 57910: 6862, 57951: 6863, 57972: 6864, 57980: 6865, 58025: 6866, 58029: 6867, 58047: 6868, 58103: 6869, 58105: 6870, 58107: 6871, 58146: 6872, 58154: 6873, 58156: 6874, 58191: 6875, 58293: 6876, 58295: 6877, 58297: 6878, 58299: 6879, 58301: 6880, 58303: 6881, 58306: 6882, 58315: 6883, 58347: 6884, 58351: 6885, 58365: 6886, 58376: 6887, 58425: 6888, 58432: 6889, 58520: 6890, 58554: 6891, 58559: 6892, 58627: 6893, 58649: 6894, 58655: 6895, 58706: 6896, 58803: 6897, 58839: 6898, 58879: 6899, 58889: 6900, 58904: 6901, 58964: 6902, 58972: 6903, 58975: 6904, 58998: 6905, 59014: 6906, 59016: 6907, 59018: 6908, 59022: 6909, 59037: 6910, 59103: 6911, 59118: 6912, 59126: 6913, 59141: 6914, 59143: 6915, 59180: 6916, 59258: 6917, 59273: 6918, 59306: 6919, 59315: 6920, 59333: 6921, 59339: 6922, 59369: 6923, 59387: 6924, 59392: 6925, 59418: 6926, 59421: 6927, 59429: 6928, 59447: 6929, 59501: 6930, 59519: 6931, 59549: 6932, 59590: 6933, 59594: 6934, 59615: 6935, 59669: 6936, 59684: 6937, 59721: 6938, 59725: 6939, 59727: 6940, 59731: 6941, 59784: 6942, 59805: 6943, 59810: 6944, 59814: 6945, 59832: 6946, 59834: 6947, 59846: 6948, 59900: 6949, 59935: 6950, 59945: 6951, 59985: 6952, 59995: 6953, 60037: 6954, 60040: 6955, 60069: 6956, 60072: 6957, 60074: 6958, 60086: 6959, 60126: 6960, 60128: 6961, 60135: 6962, 60137: 6963, 60161: 6964, 60291: 6965, 60293: 6966, 60295: 6967, 60333: 6968, 60343: 6969, 60382: 6970, 60384: 6971, 60397: 6972, 60471: 6973, 60487: 6974, 60514: 6975, 60516: 6976, 60609: 6977, 60649: 6978, 60674: 6979, 60684: 6980, 60753: 6981, 60756: 6982, 60760: 6983, 60763: 6984, 60766: 6985, 60832: 6986, 60857: 6987, 60937: 6988, 60943: 6989, 60950: 6990, 60990: 6991, 61013: 6992, 61024: 6993, 61026: 6994, 61071: 6995, 61075: 6996, 61123: 6997, 61132: 6998, 61160: 6999, 61167: 7000, 61206: 7001, 61210: 7002, 61236: 7003, 61240: 7004, 61248: 7005, 61250: 7006, 61289: 7007, 61323: 7008, 61348: 7009, 61350: 7010, 61352: 7011, 61357: 7012, 61361: 7013, 61394: 7014, 61401: 7015, 61465: 7016, 61634: 7017, 61646: 7018, 61705: 7019, 61729: 7020, 62049: 7021, 62081: 7022, 62113: 7023, 62115: 7024, 62155: 7025, 62203: 7026, 62250: 7027, 62331: 7028, 62336: 7029, 62344: 7030, 62374: 7031, 62376: 7032, 62378: 7033, 62383: 7034, 62394: 7035, 62434: 7036, 62437: 7037, 62511: 7038, 62644: 7039, 62718: 7040, 62733: 7041, 62764: 7042, 62792: 7043, 62801: 7044, 62849: 7045, 62912: 7046, 62956: 7047, 62999: 7048, 63062: 7049, 63072: 7050, 63082: 7051, 63113: 7052, 63131: 7053, 63179: 7054, 63239: 7055, 63276: 7056, 63393: 7057, 63436: 7058, 63479: 7059, 63481: 7060, 63515: 7061, 63540: 7062, 63629: 7063, 63808: 7064, 63826: 7065, 63836: 7066, 63853: 7067, 63859: 7068, 63876: 7069, 63992: 7070, 64030: 7071, 64032: 7072, 64034: 7073, 64114: 7074, 64116: 7075, 64153: 7076, 64197: 7077, 64229: 7078, 64249: 7079, 64278: 7080, 64285: 7081, 64321: 7082, 64338: 7083, 64497: 7084, 64499: 7085, 64501: 7086, 64508: 7087, 64575: 7088, 64614: 7089, 64620: 7090, 64622: 7091, 64660: 7092, 64695: 7093, 64701: 7094, 64716: 7095, 64839: 7096, 64900: 7097, 64957: 7098, 64969: 7099, 64983: 7100, 64990: 7101, 64993: 7102, 64997: 7103, 65037: 7104, 65088: 7105, 65126: 7106, 65130: 7107, 65133: 7108, 65135: 7109, 65188: 7110, 65193: 7111, 65216: 7112, 65230: 7113, 65259: 7114, 65261: 7115, 65310: 7116, 65418: 7117, 65465: 7118, 65514: 7119, 65552: 7120, 65567: 7121, 65577: 7122, 65585: 7123, 65601: 7124, 65638: 7125, 65642: 7126, 65665: 7127, 65682: 7128, 65685: 7129, 65802: 7130, 65982: 7131, 66019: 7132, 66066: 7133, 66090: 7134, 66097: 7135, 66130: 7136, 66171: 7137, 66198: 7138, 66200: 7139, 66203: 7140, 66246: 7141, 66297: 7142, 66310: 7143, 66317: 7144, 66335: 7145, 66371: 7146, 66427: 7147, 66509: 7148, 66544: 7149, 66596: 7150, 66659: 7151, 66665: 7152, 66686: 7153, 66744: 7154, 66785: 7155, 66798: 7156, 66808: 7157, 66915: 7158, 66934: 7159, 67087: 7160, 67193: 7161, 67197: 7162, 67252: 7163, 67255: 7164, 67267: 7165, 67295: 7166, 67361: 7167, 67408: 7168, 67429: 7169, 67504: 7170, 67508: 7171, 67665: 7172, 67695: 7173, 67734: 7174, 67788: 7175, 67799: 7176, 67867: 7177, 67923: 7178, 67957: 7179, 67997: 7180, 68073: 7181, 68099: 7182, 68135: 7183, 68137: 7184, 68157: 7185, 68159: 7186, 68194: 7187, 68205: 7188, 68237: 7189, 68269: 7190, 68319: 7191, 68324: 7192, 68347: 7193, 68358: 7194, 68444: 7195, 68486: 7196, 68536: 7197, 68554: 7198, 68614: 7199, 68659: 7200, 68791: 7201, 68793: 7202, 68835: 7203, 68838: 7204, 68848: 7205, 68872: 7206, 68884: 7207, 68901: 7208, 68932: 7209, 68945: 7210, 68952: 7211, 68954: 7212, 68959: 7213, 68965: 7214, 68967: 7215, 69069: 7216, 69118: 7217, 69122: 7218, 69134: 7219, 69241: 7220, 69253: 7221, 69275: 7222, 69278: 7223, 69280: 7224, 69306: 7225, 69406: 7226, 69436: 7227, 69458: 7228, 69481: 7229, 69495: 7230, 69516: 7231, 69524: 7232, 69526: 7233, 69529: 7234, 69559: 7235, 69604: 7236, 69606: 7237, 69640: 7238, 69644: 7239, 69654: 7240, 69685: 7241, 69712: 7242, 69720: 7243, 69746: 7244, 69757: 7245, 69761: 7246, 69784: 7247, 69805: 7248, 69821: 7249, 69844: 7250, 69849: 7251, 69908: 7252, 69945: 7253, 69951: 7254, 69974: 7255, 70121: 7256, 70159: 7257, 70183: 7258, 70188: 7259, 70201: 7260, 70282: 7261, 70286: 7262, 70293: 7263, 70305: 7264, 70336: 7265, 70344: 7266, 70418: 7267, 70465: 7268, 70488: 7269, 70533: 7270, 70545: 7271, 70565: 7272, 70567: 7273, 70597: 7274, 70599: 7275, 70663: 7276, 70678: 7277, 70697: 7278, 70728: 7279, 70751: 7280, 70762: 7281, 70846: 7282, 70862: 7283, 70898: 7284, 70927: 7285, 70946: 7286, 70984: 7287, 70994: 7288, 71033: 7289, 71057: 7290, 71102: 7291, 71106: 7292, 71108: 7293, 71131: 7294, 71135: 7295, 71156: 7296, 71180: 7297, 71205: 7298, 71211: 7299, 71248: 7300, 71252: 7301, 71254: 7302, 71264: 7303, 71282: 7304, 71304: 7305, 71318: 7306, 71379: 7307, 71390: 7308, 71404: 7309, 71429: 7310, 71433: 7311, 71438: 7312, 71460: 7313, 71462: 7314, 71464: 7315, 71466: 7316, 71468: 7317, 71490: 7318, 71494: 7319, 71518: 7320, 71520: 7321, 71525: 7322, 71530: 7323, 71533: 7324, 71535: 7325, 71573: 7326, 71579: 7327, 71640: 7328, 71650: 7329, 71668: 7330, 71700: 7331, 71732: 7332, 71745: 7333, 71755: 7334, 71804: 7335, 71810: 7336, 71823: 7337, 71838: 7338, 71876: 7339, 71899: 7340, 72011: 7341, 72043: 7342, 72104: 7343, 72109: 7344, 72129: 7345, 72131: 7346, 72165: 7347, 72169: 7348, 72171: 7349, 72176: 7350, 72209: 7351, 72224: 7352, 72226: 7353, 72294: 7354, 72308: 7355, 72356: 7356, 72367: 7357, 72378: 7358, 72380: 7359, 72386: 7360, 72393: 7361, 72395: 7362, 72405: 7363, 72407: 7364, 72479: 7365, 72489: 7366, 72603: 7367, 72605: 7368, 72612: 7369, 72626: 7370, 72630: 7371, 72641: 7372, 72647: 7373, 72683: 7374, 72694: 7375, 72696: 7376, 72701: 7377, 72720: 7378, 72731: 7379, 72733: 7380, 72737: 7381, 72741: 7382, 72762: 7383, 72781: 7384, 72880: 7385, 72919: 7386, 72947: 7387, 72998: 7388, 73015: 7389, 73017: 7390, 73023: 7391, 73042: 7392, 73101: 7393, 73106: 7394, 73168: 7395, 73211: 7396, 73266: 7397, 73268: 7398, 73276: 7399, 73290: 7400, 73319: 7401, 73321: 7402, 73323: 7403, 73344: 7404, 73386: 7405, 73392: 7406, 73469: 7407, 73488: 7408, 73531: 7409, 73572: 7410, 73587: 7411, 73664: 7412, 73741: 7413, 73759: 7414, 73808: 7415, 73854: 7416, 73860: 7417, 73881: 7418, 73929: 7419, 74089: 7420, 74115: 7421, 74152: 7422, 74154: 7423, 74156: 7424, 74228: 7425, 74275: 7426, 74282: 7427, 74324: 7428, 74327: 7429, 74370: 7430, 74416: 7431, 74438: 7432, 74450: 7433, 74452: 7434, 74458: 7435, 74486: 7436, 74508: 7437, 74510: 7438, 74530: 7439, 74532: 7440, 74545: 7441, 74580: 7442, 74624: 7443, 74630: 7444, 74649: 7445, 74668: 7446, 74677: 7447, 74685: 7448, 74688: 7449, 74698: 7450, 74727: 7451, 74740: 7452, 74754: 7453, 74787: 7454, 74789: 7455, 74795: 7456, 74851: 7457, 74868: 7458, 74916: 7459, 74944: 7460, 74946: 7461, 74948: 7462, 75341: 7463, 75349: 7464, 75440: 7465, 75803: 7466, 75805: 7467, 75813: 7468, 75816: 7469, 75823: 7470, 75983: 7471, 75985: 7472, 75990: 7473, 76030: 7474, 76054: 7475, 76060: 7476, 76077: 7477, 76091: 7478, 76093: 7479, 76111: 7480, 76173: 7481, 76175: 7482, 76210: 7483, 76251: 7484, 76272: 7485, 76293: 7486, 76303: 7487, 76738: 7488, 76763: 7489, 77191: 7490, 77201: 7491, 77206: 7492, 77291: 7493, 77307: 7494, 77359: 7495, 77364: 7496, 77414: 7497, 77421: 7498, 77427: 7499, 77435: 7500, 77455: 7501, 77561: 7502, 77658: 7503, 77798: 7504, 77800: 7505, 77808: 7506, 77810: 7507, 77837: 7508, 77846: 7509, 77866: 7510, 77907: 7511, 78034: 7512, 78039: 7513, 78041: 7514, 78088: 7515, 78101: 7516, 78105: 7517, 78111: 7518, 78116: 7519, 78122: 7520, 78160: 7521, 78174: 7522, 78209: 7523, 78218: 7524, 78264: 7525, 78266: 7526, 78316: 7527, 78321: 7528, 78349: 7529, 78467: 7530, 78469: 7531, 78499: 7532, 78517: 7533, 78544: 7534, 78574: 7535, 78637: 7536, 78653: 7537, 78703: 7538, 78729: 7539, 78772: 7540, 78829: 7541, 78836: 7542, 78893: 7543, 78903: 7544, 78967: 7545, 79006: 7546, 79008: 7547, 79029: 7548, 79057: 7549, 79091: 7550, 79132: 7551, 79134: 7552, 79136: 7553, 79139: 7554, 79163: 7555, 79185: 7556, 79203: 7557, 79224: 7558, 79242: 7559, 79251: 7560, 79259: 7561, 79274: 7562, 79293: 7563, 79299: 7564, 79318: 7565, 79357: 7566, 79428: 7567, 79469: 7568, 79553: 7569, 79588: 7570, 79590: 7571, 79592: 7572, 79677: 7573, 79686: 7574, 79695: 7575, 79702: 7576, 79720: 7577, 79796: 7578, 79824: 7579, 79868: 7580, 79879: 7581, 79946: 7582, 80026: 7583, 80083: 7584, 80126: 7585, 80166: 7586, 80185: 7587, 80217: 7588, 80219: 7589, 80241: 7590, 80346: 7591, 80350: 7592, 80363: 7593, 80463: 7594, 80489: 7595, 80549: 7596, 80551: 7597, 80553: 7598, 80572: 7599, 80584: 7600, 80586: 7601, 80590: 7602, 80599: 7603, 80615: 7604, 80693: 7605, 80717: 7606, 80727: 7607, 80736: 7608, 80748: 7609, 80831: 7610, 80839: 7611, 80844: 7612, 80846: 7613, 80858: 7614, 80860: 7615, 80862: 7616, 80864: 7617, 80906: 7618, 80917: 7619, 80969: 7620, 81018: 7621, 81054: 7622, 81083: 7623, 81132: 7624, 81138: 7625, 81156: 7626, 81158: 7627, 81191: 7628, 81229: 7629, 81417: 7630, 81512: 7631, 81516: 7632, 81535: 7633, 81537: 7634, 81562: 7635, 81564: 7636, 81591: 7637, 81641: 7638, 81660: 7639, 81782: 7640, 81784: 7641, 81786: 7642, 81788: 7643, 81819: 7644, 81831: 7645, 81834: 7646, 81845: 7647, 81847: 7648, 81898: 7649, 81910: 7650, 81932: 7651, 81949: 7652, 82035: 7653, 82037: 7654, 82041: 7655, 82093: 7656, 82095: 7657, 82150: 7658, 82152: 7659, 82167: 7660, 82169: 7661, 82173: 7662, 82202: 7663, 82242: 7664, 82378: 7665, 82459: 7666, 82461: 7667, 82463: 7668, 82499: 7669, 82527: 7670, 82534: 7671, 82608: 7672, 82667: 7673, 82852: 7674, 82854: 7675, 82931: 7676, 82934: 7677, 83086: 7678, 83096: 7679, 83132: 7680, 83134: 7681, 83177: 7682, 83270: 7683, 83293: 7684, 83318: 7685, 83322: 7686, 83332: 7687, 83349: 7688, 83359: 7689, 83361: 7690, 83374: 7691, 83411: 7692, 83480: 7693, 83506: 7694, 83603: 7695, 83613: 7696, 83803: 7697, 83827: 7698, 83829: 7699, 83910: 7700, 83976: 7701, 84098: 7702, 84116: 7703, 84152: 7704, 84154: 7705, 84160: 7706, 84187: 7707, 84236: 7708, 84304: 7709, 84312: 7710, 84374: 7711, 84392: 7712, 84395: 7713, 84414: 7714, 84506: 7715, 84601: 7716, 84615: 7717, 84637: 7718, 84696: 7719, 84772: 7720, 84844: 7721, 84847: 7722, 84944: 7723, 84950: 7724, 84952: 7725, 84954: 7726, 85016: 7727, 85020: 7728, 85022: 7729, 85025: 7730, 85056: 7731, 85131: 7732, 85179: 7733, 85213: 7734, 85261: 7735, 85316: 7736, 85342: 7737, 85367: 7738, 85394: 7739, 85397: 7740, 85399: 7741, 85401: 7742, 85412: 7743, 85414: 7744, 85438: 7745, 85510: 7746, 85572: 7747, 85612: 7748, 85736: 7749, 85774: 7750, 85780: 7751, 85788: 7752, 85796: 7753, 85881: 7754, 86000: 7755, 86014: 7756, 86028: 7757, 86059: 7758, 86142: 7759, 86190: 7760, 86290: 7761, 86293: 7762, 86298: 7763, 86320: 7764, 86332: 7765, 86345: 7766, 86347: 7767, 86377: 7768, 86487: 7769, 86504: 7770, 86548: 7771, 86593: 7772, 86626: 7773, 86644: 7774, 86721: 7775, 86781: 7776, 86817: 7777, 86833: 7778, 86835: 7779, 86852: 7780, 86864: 7781, 86880: 7782, 86882: 7783, 86884: 7784, 86892: 7785, 86898: 7786, 86911: 7787, 86982: 7788, 87192: 7789, 87205: 7790, 87218: 7791, 87222: 7792, 87232: 7793, 87234: 7794, 87298: 7795, 87304: 7796, 87306: 7797, 87383: 7798, 87430: 7799, 87444: 7800, 87483: 7801, 87485: 7802, 87520: 7803, 87522: 7804, 87529: 7805, 87598: 7806, 87660: 7807, 87785: 7808, 87869: 7809, 87876: 7810, 87884: 7811, 87930: 7812, 87975: 7813, 88024: 7814, 88106: 7815, 88118: 7816, 88125: 7817, 88129: 7818, 88140: 7819, 88163: 7820, 88179: 7821, 88235: 7822, 88267: 7823, 88272: 7824, 88345: 7825, 88356: 7826, 88380: 7827, 88405: 7828, 88672: 7829, 88682: 7830, 88744: 7831, 88785: 7832, 88810: 7833, 88812: 7834, 88879: 7835, 88932: 7836, 88950: 7837, 88954: 7838, 89000: 7839, 89030: 7840, 89039: 7841, 89045: 7842, 89047: 7843, 89072: 7844, 89085: 7845, 89087: 7846, 89090: 7847, 89102: 7848, 89118: 7849, 89194: 7850, 89203: 7851, 89260: 7852, 89300: 7853, 89305: 7854, 89321: 7855, 89337: 7856, 89343: 7857, 89356: 7858, 89388: 7859, 89408: 7860, 89427: 7861, 89470: 7862, 89492: 7863, 89678: 7864, 89745: 7865, 89753: 7866, 89759: 7867, 89761: 7868, 89774: 7869, 89804: 7870, 89837: 7871, 89840: 7872, 89864: 7873, 89870: 7874, 89881: 7875, 89904: 7876, 90057: 7877, 90061: 7878, 90249: 7879, 90266: 7880, 90343: 7881, 90345: 7882, 90357: 7883, 90374: 7884, 90376: 7885, 90403: 7886, 90405: 7887, 90428: 7888, 90430: 7889, 90439: 7890, 90469: 7891, 90522: 7892, 90524: 7893, 90531: 7894, 90576: 7895, 90600: 7896, 90603: 7897, 90647: 7898, 90717: 7899, 90719: 7900, 90738: 7901, 90746: 7902, 90863: 7903, 90866: 7904, 90870: 7905, 90888: 7906, 90890: 7907, 90947: 7908, 91077: 7909, 91094: 7910, 91104: 7911, 91126: 7912, 91128: 7913, 91134: 7914, 91199: 7915, 91273: 7916, 91286: 7917, 91323: 7918, 91325: 7919, 91355: 7920, 91414: 7921, 91470: 7922, 91483: 7923, 91485: 7924, 91488: 7925, 91500: 7926, 91505: 7927, 91529: 7928, 91535: 7929, 91542: 7930, 91548: 7931, 91582: 7932, 91610: 7933, 91622: 7934, 91628: 7935, 91630: 7936, 91653: 7937, 91658: 7938, 91660: 7939, 91673: 7940, 91688: 7941, 91690: 7942, 91842: 7943, 91869: 7944, 91873: 7945, 91886: 7946, 91890: 7947, 91935: 7948, 91947: 7949, 91974: 7950, 91976: 7951, 91978: 7952, 92004: 7953, 92008: 7954, 92048: 7955, 92058: 7956, 92163: 7957, 92198: 7958, 92206: 7959, 92210: 7960, 92234: 7961, 92259: 7962, 92264: 7963, 92309: 7964, 92420: 7965, 92424: 7966, 92439: 7967, 92494: 7968, 92496: 7969, 92498: 7970, 92507: 7971, 92509: 7972, 92535: 7973, 92613: 7974, 92665: 7975, 92681: 7976, 92694: 7977, 92751: 7978, 92756: 7979, 92938: 7980, 92954: 7981, 92966: 7982, 93040: 7983, 93061: 7984, 93242: 7985, 93265: 7986, 93270: 7987, 93272: 7988, 93287: 7989, 93320: 7990, 93324: 7991, 93326: 7992, 93363: 7993, 93422: 7994, 93432: 7995, 93443: 7996, 93498: 7997, 93510: 7998, 93512: 7999, 93563: 8000, 93693: 8001, 93700: 8002, 93721: 8003, 93766: 8004, 93805: 8005, 93831: 8006, 93838: 8007, 93840: 8008, 93855: 8009, 93980: 8010, 93982: 8011, 94011: 8012, 94015: 8013, 94018: 8014, 94024: 8015, 94070: 8016, 94266: 8017, 94323: 8018, 94325: 8019, 94466: 8020, 94478: 8021, 94480: 8022, 94494: 8023, 94672: 8024, 94677: 8025, 94777: 8026, 94780: 8027, 94799: 8028, 94833: 8029, 94864: 8030, 94896: 8031, 94919: 8032, 94931: 8033, 94939: 8034, 94953: 8035, 94959: 8036, 95067: 8037, 95088: 8038, 95105: 8039, 95113: 8040, 95115: 8041, 95135: 8042, 95147: 8043, 95165: 8044, 95167: 8045, 95182: 8046, 95199: 8047, 95201: 8048, 95207: 8049, 95307: 8050, 95309: 8051, 95311: 8052, 95313: 8053, 95375: 8054, 95377: 8055, 95441: 8056, 95443: 8057, 95449: 8058, 95473: 8059, 95475: 8060, 95499: 8061, 95508: 8062, 95510: 8063, 95543: 8064, 95558: 8065, 95567: 8066, 95583: 8067, 95654: 8068, 95720: 8069, 95740: 8070, 95744: 8071, 95752: 8072, 95761: 8073, 95780: 8074, 95782: 8075, 95858: 8076, 95873: 8077, 95875: 8078, 95949: 8079, 95963: 8080, 95965: 8081, 96004: 8082, 96007: 8083, 96020: 8084, 96075: 8085, 96079: 8086, 96110: 8087, 96114: 8088, 96150: 8089, 96281: 8090, 96314: 8091, 96373: 8092, 96417: 8093, 96432: 8094, 96448: 8095, 96467: 8096, 96488: 8097, 96490: 8098, 96530: 8099, 96563: 8100, 96565: 8101, 96588: 8102, 96590: 8103, 96606: 8104, 96610: 8105, 96616: 8106, 96634: 8107, 96655: 8108, 96667: 8109, 96691: 8110, 96726: 8111, 96728: 8112, 96737: 8113, 96792: 8114, 96811: 8115, 96815: 8116, 96821: 8117, 96829: 8118, 96832: 8119, 96849: 8120, 96861: 8121, 96863: 8122, 96901: 8123, 96911: 8124, 97057: 8125, 97168: 8126, 97188: 8127, 97225: 8128, 97230: 8129, 97254: 8130, 97304: 8131, 97306: 8132, 97328: 8133, 97393: 8134, 97395: 8135, 97470: 8136, 97593: 8137, 97639: 8138, 97673: 8139, 97742: 8140, 97744: 8141, 97752: 8142, 97757: 8143, 97817: 8144, 97826: 8145, 97836: 8146, 97858: 8147, 97860: 8148, 97866: 8149, 97870: 8150, 97895: 8151, 97913: 8152, 97921: 8153, 97923: 8154, 97936: 8155, 97938: 8156, 97957: 8157, 97994: 8158, 98000: 8159, 98056: 8160, 98083: 8161, 98122: 8162, 98124: 8163, 98126: 8164, 98154: 8165, 98160: 8166, 98175: 8167, 98230: 8168, 98243: 8169, 98279: 8170, 98296: 8171, 98369: 8172, 98441: 8173, 98458: 8174, 98473: 8175, 98491: 8176, 98585: 8177, 98587: 8178, 98604: 8179, 98607: 8180, 98611: 8181, 98615: 8182, 98795: 8183, 98803: 8184, 98809: 8185, 98829: 8186, 98836: 8187, 98908: 8188, 98913: 8189, 98933: 8190, 98961: 8191, 98963: 8192, 99005: 8193, 99007: 8194, 99030: 8195, 99085: 8196, 99089: 8197, 99106: 8198, 99112: 8199, 99114: 8200, 99117: 8201, 99145: 8202, 99149: 8203, 99220: 8204, 99270: 8205, 99273: 8206, 99276: 8207, 99296: 8208, 99320: 8209, 99415: 8210, 99437: 8211, 99468: 8212, 99470: 8213, 99574: 8214, 99609: 8215, 99615: 8216, 99669: 8217, 99675: 8218, 99728: 8219, 99741: 8220, 99764: 8221, 99795: 8222, 99811: 8223, 99813: 8224, 99839: 8225, 99846: 8226, 99912: 8227, 99917: 8228, 99992: 8229, 100017: 8230, 100032: 8231, 100034: 8232, 100083: 8233, 100106: 8234, 100159: 8235, 100163: 8236, 100226: 8237, 100272: 8238, 100304: 8239, 100306: 8240, 100326: 8241, 100365: 8242, 100383: 8243, 100390: 8244, 100450: 8245, 100487: 8246, 100498: 8247, 100517: 8248, 100527: 8249, 100553: 8250, 100556: 8251, 100581: 8252, 100714: 8253, 100745: 8254, 100843: 8255, 101025: 8256, 101070: 8257, 101076: 8258, 101088: 8259, 101106: 8260, 101112: 8261, 101142: 8262, 101283: 8263, 101285: 8264, 101360: 8265, 101362: 8266, 101415: 8267, 101525: 8268, 101529: 8269, 101531: 8270, 101577: 8271, 101612: 8272, 101741: 8273, 101850: 8274, 101864: 8275, 101884: 8276, 101895: 8277, 101904: 8278, 101947: 8279, 101962: 8280, 102033: 8281, 102123: 8282, 102125: 8283, 102165: 8284, 102194: 8285, 102217: 8286, 102252: 8287, 102278: 8288, 102378: 8289, 102396: 8290, 102407: 8291, 102445: 8292, 102481: 8293, 102588: 8294, 102666: 8295, 102684: 8296, 102686: 8297, 102716: 8298, 102720: 8299, 102753: 8300, 102792: 8301, 102800: 8302, 102819: 8303, 102880: 8304, 102903: 8305, 102905: 8306, 102993: 8307, 102995: 8308, 103042: 8309, 103048: 8310, 103107: 8311, 103137: 8312, 103141: 8313, 103210: 8314, 103221: 8315, 103228: 8316, 103235: 8317, 103249: 8318, 103253: 8319, 103279: 8320, 103299: 8321, 103335: 8322, 103339: 8323, 103341: 8324, 103372: 8325, 103384: 8326, 103444: 8327, 103502: 8328, 103539: 8329, 103543: 8330, 103596: 8331, 103624: 8332, 103655: 8333, 103659: 8334, 103671: 8335, 103688: 8336, 103731: 8337, 103755: 8338, 103772: 8339, 103801: 8340, 103810: 8341, 103813: 8342, 103819: 8343, 103865: 8344, 103883: 8345, 103980: 8346, 103984: 8347, 104069: 8348, 104074: 8349, 104076: 8350, 104078: 8351, 104119: 8352, 104129: 8353, 104211: 8354, 104218: 8355, 104241: 8356, 104243: 8357, 104245: 8358, 104272: 8359, 104283: 8360, 104303: 8361, 104312: 8362, 104321: 8363, 104337: 8364, 104339: 8365, 104374: 8366, 104419: 8367, 104441: 8368, 104457: 8369, 104590: 8370, 104595: 8371, 104597: 8372, 104662: 8373, 104726: 8374, 104757: 8375, 104760: 8376, 104841: 8377, 104863: 8378, 104879: 8379, 104881: 8380, 104906: 8381, 104913: 8382, 104925: 8383, 104944: 8384, 105037: 8385, 105121: 8386, 105197: 8387, 105211: 8388, 105213: 8389, 105246: 8390, 105254: 8391, 105351: 8392, 105355: 8393, 105429: 8394, 105468: 8395, 105504: 8396, 105585: 8397, 105593: 8398, 105715: 8399, 105731: 8400, 105755: 8401, 105763: 8402, 105769: 8403, 105844: 8404, 105954: 8405, 106002: 8406, 106004: 8407, 106011: 8408, 106022: 8409, 106062: 8410, 106072: 8411, 106100: 8412, 106111: 8413, 106144: 8414, 106204: 8415, 106236: 8416, 106330: 8417, 106332: 8418, 106397: 8419, 106417: 8420, 106438: 8421, 106441: 8422, 106452: 8423, 106471: 8424, 106473: 8425, 106487: 8426, 106489: 8427, 106491: 8428, 106540: 8429, 106542: 8430, 106642: 8431, 106696: 8432, 106762: 8433, 106766: 8434, 106782: 8435, 106839: 8436, 106870: 8437, 106873: 8438, 106883: 8439, 106916: 8440, 106918: 8441, 106920: 8442, 107042: 8443, 107057: 8444, 107069: 8445, 107081: 8446, 107083: 8447, 107141: 8448, 107314: 8449, 107348: 8450, 107382: 8451, 107406: 8452, 107412: 8453, 107447: 8454, 107516: 8455, 107555: 8456, 107559: 8457, 107649: 8458, 107702: 8459, 107769: 8460, 107771: 8461, 107910: 8462, 107945: 8463, 107953: 8464, 107978: 8465, 107999: 8466, 108076: 8467, 108090: 8468, 108156: 8469, 108188: 8470, 108190: 8471, 108192: 8472, 108447: 8473, 108506: 8474, 108514: 8475, 108548: 8476, 108551: 8477, 108583: 8478, 108601: 8479, 108689: 8480, 108709: 8481, 108715: 8482, 108727: 8483, 108729: 8484, 108795: 8485, 108873: 8486, 108928: 8487, 108932: 8488, 108945: 8489, 108949: 8490, 108979: 8491, 108981: 8492, 109042: 8493, 109074: 8494, 109161: 8495, 109183: 8496, 109187: 8497, 109191: 8498, 109205: 8499, 109249: 8500, 109295: 8501, 109317: 8502, 109359: 8503, 109372: 8504, 109374: 8505, 109483: 8506, 109487: 8507, 109576: 8508, 109578: 8509, 109673: 8510, 109687: 8511, 109740: 8512, 109742: 8513, 109846: 8514, 109848: 8515, 109850: 8516, 109853: 8517, 109864: 8518, 109895: 8519, 110058: 8520, 110102: 8521, 110110: 8522, 110127: 8523, 110194: 8524, 110297: 8525, 110348: 8526, 110352: 8527, 110453: 8528, 110461: 8529, 110501: 8530, 110553: 8531, 110586: 8532, 110591: 8533, 110611: 8534, 110645: 8535, 110655: 8536, 110730: 8537, 110748: 8538, 110752: 8539, 110771: 8540, 110781: 8541, 110826: 8542, 110858: 8543, 110873: 8544, 110882: 8545, 111113: 8546, 111228: 8547, 111235: 8548, 111360: 8549, 111362: 8550, 111364: 8551, 111384: 8552, 111443: 8553, 111486: 8554, 111529: 8555, 111617: 8556, 111622: 8557, 111624: 8558, 111659: 8559, 111663: 8560, 111680: 8561, 111743: 8562, 111759: 8563, 111781: 8564, 111795: 8565, 111913: 8566, 111921: 8567, 111931: 8568, 112006: 8569, 112062: 8570, 112070: 8571, 112112: 8572, 112138: 8573, 112171: 8574, 112175: 8575, 112183: 8576, 112277: 8577, 112290: 8578, 112303: 8579, 112334: 8580, 112370: 8581, 112399: 8582, 112421: 8583, 112450: 8584, 112460: 8585, 112497: 8586, 112515: 8587, 112552: 8588, 112556: 8589, 112577: 8590, 112582: 8591, 112623: 8592, 112653: 8593, 112655: 8594, 112689: 8595, 112735: 8596, 112749: 8597, 112767: 8598, 112788: 8599, 112804: 8600, 112818: 8601, 112850: 8602, 112852: 8603, 112897: 8604, 112911: 8605, 112921: 8606, 112940: 8607, 113064: 8608, 113186: 8609, 113207: 8610, 113220: 8611, 113225: 8612, 113252: 8613, 113275: 8614, 113345: 8615, 113348: 8616, 113378: 8617, 113416: 8618, 113453: 8619, 113532: 8620, 113565: 8621, 113573: 8622, 113640: 8623, 113705: 8624, 113741: 8625, 113780: 8626, 113829: 8627, 113862: 8628, 113938: 8629, 114028: 8630, 114044: 8631, 114060: 8632, 114074: 8633, 114082: 8634, 114122: 8635, 114180: 8636, 114265: 8637, 114342: 8638, 114464: 8639, 114552: 8640, 114601: 8641, 114635: 8642, 114662: 8643, 114670: 8644, 114707: 8645, 114762: 8646, 114766: 8647, 114795: 8648, 114818: 8649, 114925: 8650, 114935: 8651, 115122: 8652, 115147: 8653, 115149: 8654, 115151: 8655, 115170: 8656, 115174: 8657, 115210: 8658, 115216: 8659, 115231: 8660, 115502: 8661, 115534: 8662, 115569: 8663, 115617: 8664, 115624: 8665, 115664: 8666, 115680: 8667, 115713: 8668, 115877: 8669, 115881: 8670, 115927: 8671, 116012: 8672, 116136: 8673, 116161: 8674, 116207: 8675, 116397: 8676, 116413: 8677, 116419: 8678, 116503: 8679, 116660: 8680, 116797: 8681, 116799: 8682, 116823: 8683, 116849: 8684, 116855: 8685, 116887: 8686, 116897: 8687, 116939: 8688, 116977: 8689, 116985: 8690, 117107: 8691, 117121: 8692, 117123: 8693, 117176: 8694, 117192: 8695, 117434: 8696, 117444: 8697, 117456: 8698, 117511: 8699, 117529: 8700, 117533: 8701, 117590: 8702, 117851: 8703, 117871: 8704, 117895: 8705, 118082: 8706, 118105: 8707, 118248: 8708, 118260: 8709, 118326: 8710, 118334: 8711, 118354: 8712, 118468: 8713, 118696: 8714, 118702: 8715, 118814: 8716, 118880: 8717, 118890: 8718, 118898: 8719, 118900: 8720, 118924: 8721, 118985: 8722, 118997: 8723, 119068: 8724, 119141: 8725, 119145: 8726, 119155: 8727, 119655: 8728, 120392: 8729, 120466: 8730, 120635: 8731, 120637: 8732, 120783: 8733, 120799: 8734, 120805: 8735, 120821: 8736, 121113: 8737, 121126: 8738, 121171: 8739, 121231: 8740, 121491: 8741, 121618: 8742, 122490: 8743, 122882: 8744, 122886: 8745, 122888: 8746, 122890: 8747, 122892: 8748, 122900: 8749, 122902: 8750, 122904: 8751, 122920: 8752, 122924: 8753, 122932: 8754, 123947: 8755, 124859: 8756, 125916: 8757, 126006: 8758, 126106: 8759, 126420: 8760, 126430: 8761, 126548: 8762, 127052: 8763, 127096: 8764, 127098: 8765, 127108: 8766, 127114: 8767, 127124: 8768, 127136: 8769, 127152: 8770, 127158: 8771, 127164: 8772, 127178: 8773, 127194: 8774, 127198: 8775, 127202: 8776, 127204: 8777, 127206: 8778, 127319: 8779, 127728: 8780, 128360: 8781, 128512: 8782, 128520: 8783, 128592: 8784, 128606: 8785, 128616: 8786, 128620: 8787, 128846: 8788, 129009: 8789, 129191: 8790, 129250: 8791, 129313: 8792, 129354: 8793, 129364: 8794, 129428: 8795, 129514: 8796, 129653: 8797, 129657: 8798, 129659: 8799, 129737: 8800, 129937: 8801, 130073: 8802, 130083: 8803, 130087: 8804, 130351: 8805, 130448: 8806, 130450: 8807, 130452: 8808, 130490: 8809, 130520: 8810, 130522: 8811, 130576: 8812, 130580: 8813, 130628: 8814, 130634: 8815, 130642: 8816, 130682: 8817, 130960: 8818, 130970: 8819, 130980: 8820, 131013: 8821, 131168: 8822, 131451: 8823, 131714: 8824, 131724: 8825, 131830: 8826, 132046: 8827, 132074: 8828, 132146: 8829, 132157: 8830, 132333: 8831, 132462: 8832, 132480: 8833, 132488: 8834, 132496: 8835, 132618: 8836, 132796: 8837, 132888: 8838, 132952: 8839, 132961: 8840, 133195: 8841, 133281: 8842, 133295: 8843, 133365: 8844, 133377: 8845, 133419: 8846, 133545: 8847, 133645: 8848, 133771: 8849, 133782: 8850, 133798: 8851, 133824: 8852, 134025: 8853, 134130: 8854, 134158: 8855, 134170: 8856, 134246: 8857, 134368: 8858, 134393: 8859, 134528: 8860, 134569: 8861, 134783: 8862, 134853: 8863, 134859: 8864, 134881: 8865, 135133: 8866, 135137: 8867, 135264: 8868, 135266: 8869, 135268: 8870, 135436: 8871, 135508: 8872, 135518: 8873, 135532: 8874, 135536: 8875, 135567: 8876, 135569: 8877, 135861: 8878, 135887: 8879, 136016: 8880, 136018: 8881, 136020: 8882, 136305: 8883, 136445: 8884, 136447: 8885, 136449: 8886, 136562: 8887, 136592: 8888, 136598: 8889, 136602: 8890, 136654: 8891, 136666: 8892, 136800: 8893, 136816: 8894, 136864: 8895, 137337: 8896, 137403: 8897, 137595: 8898, 137857: 8899, 138036: 8900, 138204: 8901, 138208: 8902, 138258: 8903, 138546: 8904, 138696: 8905, 138698: 8906, 139116: 8907, 139130: 8908, 139385: 8909, 139415: 8910, 139620: 8911, 139642: 8912, 139644: 8913, 139757: 8914, 139855: 8915, 139915: 8916, 140110: 8917, 140152: 8918, 140174: 8919, 140237: 8920, 140247: 8921, 140265: 8922, 140267: 8923, 140523: 8924, 140711: 8925, 140715: 8926, 140725: 8927, 140739: 8928, 140741: 8929, 140743: 8930, 140745: 8931, 140747: 8932, 140749: 8933, 140751: 8934, 140753: 8935, 140755: 8936, 140757: 8937, 140759: 8938, 140761: 8939, 140763: 8940, 140816: 8941, 140880: 8942, 140928: 8943, 141124: 8944, 141422: 8945, 141668: 8946, 141688: 8947, 141718: 8948, 141749: 8949, 141866: 8950, 141886: 8951, 141890: 8952, 141956: 8953, 142068: 8954, 142192: 8955, 142240: 8956, 142258: 8957, 142422: 8958, 142448: 8959, 142488: 8960, 142507: 8961, 142536: 8962, 142997: 8963, 143255: 8964, 143257: 8965, 143377: 8966, 143385: 8967, 143410: 8968, 143472: 8969, 143657: 8970, 143859: 8971, 144620: 8972, 144714: 8973, 144976: 8974, 145150: 8975, 145307: 8976, 145775: 8977, 145839: 8978, 145935: 8979, 146309: 8980, 146443: 8981, 146501: 8982, 146604: 8983, 146656: 8984, 146682: 8985, 146688: 8986, 147006: 8987, 147010: 8988, 147037: 8989, 147426: 8990, 147845: 8991, 148168: 8992, 148238: 8993, 148372: 8994, 148626: 8995, 148652: 8996, 148881: 8997, 148888: 8998, 148956: 8999, 149352: 9000, 149354: 9001, 149406: 9002, 149532: 9003, 149572: 9004, 149590: 9005, 149606: 9006, 149612: 9007, 149830: 9008, 150401: 9009, 150548: 9010, 150856: 9011, 151307: 9012, 151639: 9013, 152017: 9014, 152025: 9015, 152057: 9016, 152077: 9017, 152079: 9018, 152081: 9019, 152091: 9020, 152173: 9021, 152844: 9022, 153584: 9023, 155392: 9024, 155611: 9025, 155820: 9026, 156025: 9027, 156387: 9028, 156607: 9029, 156609: 9030, 156726: 9031, 157200: 9032, 157296: 9033, 157407: 9034, 157667: 9035, 158238: 9036, 158314: 9037, 158528: 9038, 158956: 9039, 159093: 9040, 159462: 9041, 159690: 9042, 159755: 9043, 159858: 9044, 159972: 9045, 160080: 9046, 160271: 9047, 160438: 9048, 160440: 9049, 160563: 9050, 160565: 9051, 160567: 9052, 160590: 9053, 160656: 9054, 160718: 9055, 161084: 9056, 161155: 9057, 161594: 9058, 161830: 9059, 161918: 9060, 161944: 9061, 162376: 9062, 162542: 9063, 162672: 9064, 163949: 9065}\n"
          ]
        }
      ]
    },
    {
      "cell_type": "markdown",
      "source": [
        "* Melakukan proses *encoding* angka ke *movieId*"
      ],
      "metadata": {
        "id": "Y8h4nILSNklP"
      }
    },
    {
      "cell_type": "code",
      "source": [
        " movie_encoded_to_movie = {i: x for i, x in enumerate(movie_id)}\n",
        "print('encoded angka ke userId: ', movie_encoded_to_movie)"
      ],
      "metadata": {
        "colab": {
          "base_uri": "https://localhost:8080/"
        },
        "id": "bIQvkgMHNilk",
        "outputId": "20711b59-6d23-44ee-cbf6-8069902489b6"
      },
      "execution_count": 37,
      "outputs": [
        {
          "output_type": "stream",
          "name": "stdout",
          "text": [
            "encoded angka ke userId:  {0: 1, 1: 2, 2: 3, 3: 4, 4: 5, 5: 6, 6: 7, 7: 8, 8: 9, 9: 10, 10: 11, 11: 12, 12: 13, 13: 14, 14: 15, 15: 16, 16: 17, 17: 18, 18: 19, 19: 20, 20: 21, 21: 22, 22: 23, 23: 24, 24: 25, 25: 26, 26: 27, 27: 28, 28: 29, 29: 30, 30: 31, 31: 32, 32: 34, 33: 35, 34: 36, 35: 37, 36: 38, 37: 39, 38: 40, 39: 41, 40: 42, 41: 43, 42: 44, 43: 45, 44: 46, 45: 47, 46: 48, 47: 49, 48: 50, 49: 52, 50: 53, 51: 54, 52: 55, 53: 57, 54: 58, 55: 59, 56: 60, 57: 61, 58: 62, 59: 63, 60: 64, 61: 65, 62: 66, 63: 68, 64: 69, 65: 70, 66: 71, 67: 72, 68: 73, 69: 74, 70: 76, 71: 77, 72: 78, 73: 79, 74: 80, 75: 81, 76: 82, 77: 83, 78: 84, 79: 85, 80: 86, 81: 87, 82: 88, 83: 89, 84: 92, 85: 93, 86: 94, 87: 95, 88: 96, 89: 97, 90: 98, 91: 99, 92: 100, 93: 101, 94: 102, 95: 103, 96: 104, 97: 105, 98: 107, 99: 108, 100: 110, 101: 111, 102: 112, 103: 113, 104: 114, 105: 116, 106: 117, 107: 118, 108: 119, 109: 121, 110: 122, 111: 123, 112: 124, 113: 125, 114: 126, 115: 129, 116: 130, 117: 131, 118: 132, 119: 135, 120: 137, 121: 140, 122: 141, 123: 144, 124: 145, 125: 146, 126: 147, 127: 148, 128: 149, 129: 150, 130: 151, 131: 152, 132: 153, 133: 154, 134: 155, 135: 156, 136: 157, 137: 158, 138: 159, 139: 160, 140: 161, 141: 162, 142: 163, 143: 164, 144: 165, 145: 166, 146: 167, 147: 168, 148: 169, 149: 170, 150: 171, 151: 172, 152: 173, 153: 174, 154: 175, 155: 176, 156: 177, 157: 178, 158: 179, 159: 180, 160: 181, 161: 183, 162: 184, 163: 185, 164: 186, 165: 187, 166: 188, 167: 189, 168: 190, 169: 191, 170: 193, 171: 194, 172: 195, 173: 196, 174: 198, 175: 199, 176: 200, 177: 201, 178: 202, 179: 203, 180: 204, 181: 205, 182: 206, 183: 207, 184: 208, 185: 209, 186: 211, 187: 213, 188: 214, 189: 215, 190: 216, 191: 217, 192: 218, 193: 219, 194: 220, 195: 222, 196: 223, 197: 224, 198: 225, 199: 227, 200: 228, 201: 229, 202: 230, 203: 231, 204: 232, 205: 233, 206: 234, 207: 235, 208: 236, 209: 237, 210: 238, 211: 239, 212: 240, 213: 241, 214: 242, 215: 243, 216: 244, 217: 245, 218: 246, 219: 247, 220: 248, 221: 249, 222: 250, 223: 251, 224: 252, 225: 253, 226: 254, 227: 255, 228: 256, 229: 257, 230: 258, 231: 259, 232: 260, 233: 261, 234: 262, 235: 263, 236: 264, 237: 265, 238: 266, 239: 267, 240: 268, 241: 269, 242: 270, 243: 271, 244: 272, 245: 273, 246: 274, 247: 275, 248: 276, 249: 277, 250: 278, 251: 279, 252: 280, 253: 281, 254: 282, 255: 283, 256: 285, 257: 287, 258: 288, 259: 289, 260: 290, 261: 291, 262: 292, 263: 293, 264: 294, 265: 295, 266: 296, 267: 299, 268: 300, 269: 301, 270: 302, 271: 303, 272: 304, 273: 305, 274: 306, 275: 307, 276: 308, 277: 309, 278: 312, 279: 313, 280: 314, 281: 315, 282: 316, 283: 317, 284: 318, 285: 319, 286: 320, 287: 321, 288: 322, 289: 324, 290: 325, 291: 326, 292: 327, 293: 328, 294: 329, 295: 330, 296: 331, 297: 332, 298: 333, 299: 334, 300: 335, 301: 336, 302: 337, 303: 338, 304: 339, 305: 340, 306: 341, 307: 342, 308: 343, 309: 344, 310: 345, 311: 346, 312: 347, 313: 348, 314: 349, 315: 350, 316: 351, 317: 352, 318: 353, 319: 354, 320: 355, 321: 356, 322: 357, 323: 358, 324: 360, 325: 361, 326: 362, 327: 363, 328: 364, 329: 365, 330: 366, 331: 367, 332: 368, 333: 369, 334: 370, 335: 371, 336: 372, 337: 373, 338: 374, 339: 375, 340: 376, 341: 377, 342: 378, 343: 379, 344: 380, 345: 381, 346: 382, 347: 383, 348: 384, 349: 387, 350: 388, 351: 389, 352: 390, 353: 391, 354: 392, 355: 393, 356: 401, 357: 405, 358: 407, 359: 408, 360: 409, 361: 410, 362: 412, 363: 413, 364: 414, 365: 415, 366: 416, 367: 417, 368: 418, 369: 419, 370: 420, 371: 421, 372: 422, 373: 423, 374: 424, 375: 425, 376: 426, 377: 427, 378: 428, 379: 429, 380: 431, 381: 432, 382: 433, 383: 434, 384: 435, 385: 436, 386: 437, 387: 438, 388: 439, 389: 440, 390: 441, 391: 442, 392: 443, 393: 444, 394: 445, 395: 446, 396: 447, 397: 448, 398: 449, 399: 450, 400: 451, 401: 452, 402: 453, 403: 454, 404: 455, 405: 456, 406: 457, 407: 458, 408: 459, 409: 460, 410: 461, 411: 463, 412: 464, 413: 465, 414: 466, 415: 467, 416: 468, 417: 469, 418: 470, 419: 471, 420: 472, 421: 473, 422: 474, 423: 475, 424: 476, 425: 477, 426: 479, 427: 480, 428: 481, 429: 482, 430: 483, 431: 484, 432: 485, 433: 486, 434: 487, 435: 488, 436: 489, 437: 490, 438: 491, 439: 492, 440: 493, 441: 494, 442: 495, 443: 496, 444: 497, 445: 498, 446: 499, 447: 500, 448: 501, 449: 502, 450: 504, 451: 505, 452: 506, 453: 507, 454: 508, 455: 509, 456: 510, 457: 511, 458: 512, 459: 513, 460: 514, 461: 515, 462: 516, 463: 517, 464: 518, 465: 519, 466: 520, 467: 521, 468: 522, 469: 523, 470: 524, 471: 526, 472: 527, 473: 528, 474: 529, 475: 531, 476: 532, 477: 533, 478: 534, 479: 535, 480: 536, 481: 537, 482: 538, 483: 539, 484: 540, 485: 541, 486: 542, 487: 543, 488: 544, 489: 546, 490: 547, 491: 548, 492: 549, 493: 550, 494: 551, 495: 552, 496: 553, 497: 554, 498: 555, 499: 556, 500: 558, 501: 559, 502: 561, 503: 562, 504: 563, 505: 564, 506: 565, 507: 567, 508: 568, 509: 569, 510: 571, 511: 573, 512: 574, 513: 575, 514: 577, 515: 580, 516: 581, 517: 582, 518: 585, 519: 586, 520: 587, 521: 588, 522: 589, 523: 590, 524: 592, 525: 593, 526: 594, 527: 595, 528: 596, 529: 597, 530: 599, 531: 600, 532: 603, 533: 605, 534: 606, 535: 608, 536: 609, 537: 610, 538: 611, 539: 612, 540: 613, 541: 614, 542: 615, 543: 616, 544: 617, 545: 619, 546: 620, 547: 621, 548: 626, 549: 627, 550: 628, 551: 630, 552: 631, 553: 632, 554: 633, 555: 635, 556: 637, 557: 638, 558: 639, 559: 640, 560: 647, 561: 648, 562: 650, 563: 651, 564: 653, 565: 656, 566: 659, 567: 661, 568: 662, 569: 663, 570: 664, 571: 665, 572: 667, 573: 668, 574: 670, 575: 671, 576: 673, 577: 674, 578: 678, 579: 679, 580: 680, 581: 681, 582: 685, 583: 687, 584: 688, 585: 690, 586: 691, 587: 692, 588: 694, 589: 695, 590: 696, 591: 697, 592: 698, 593: 700, 594: 702, 595: 703, 596: 704, 597: 705, 598: 707, 599: 708, 600: 709, 601: 710, 602: 711, 603: 714, 604: 715, 605: 718, 606: 719, 607: 720, 608: 721, 609: 722, 610: 724, 611: 725, 612: 726, 613: 728, 614: 731, 615: 733, 616: 735, 617: 736, 618: 737, 619: 741, 620: 742, 621: 743, 622: 745, 623: 746, 624: 747, 625: 748, 626: 750, 627: 753, 628: 754, 629: 755, 630: 756, 631: 757, 632: 759, 633: 760, 634: 761, 635: 762, 636: 764, 637: 765, 638: 766, 639: 767, 640: 769, 641: 775, 642: 778, 643: 779, 644: 780, 645: 781, 646: 782, 647: 783, 648: 784, 649: 785, 650: 786, 651: 787, 652: 788, 653: 793, 654: 798, 655: 799, 656: 800, 657: 801, 658: 802, 659: 803, 660: 804, 661: 805, 662: 806, 663: 808, 664: 809, 665: 810, 666: 813, 667: 816, 668: 818, 669: 820, 670: 824, 671: 828, 672: 829, 673: 830, 674: 831, 675: 832, 676: 833, 677: 834, 678: 835, 679: 836, 680: 837, 681: 838, 682: 839, 683: 840, 684: 841, 685: 842, 686: 844, 687: 845, 688: 846, 689: 848, 690: 849, 691: 850, 692: 851, 693: 852, 694: 854, 695: 858, 696: 861, 697: 864, 698: 865, 699: 866, 700: 867, 701: 869, 702: 870, 703: 872, 704: 875, 705: 876, 706: 879, 707: 880, 708: 881, 709: 882, 710: 885, 711: 886, 712: 888, 713: 889, 714: 891, 715: 892, 716: 893, 717: 896, 718: 897, 719: 898, 720: 899, 721: 900, 722: 901, 723: 902, 724: 903, 725: 904, 726: 905, 727: 906, 728: 907, 729: 908, 730: 909, 731: 910, 732: 911, 733: 912, 734: 913, 735: 914, 736: 915, 737: 916, 738: 917, 739: 918, 740: 919, 741: 920, 742: 921, 743: 922, 744: 923, 745: 924, 746: 926, 747: 927, 748: 928, 749: 929, 750: 930, 751: 931, 752: 932, 753: 933, 754: 934, 755: 935, 756: 936, 757: 937, 758: 938, 759: 939, 760: 940, 761: 941, 762: 942, 763: 943, 764: 944, 765: 945, 766: 946, 767: 947, 768: 948, 769: 949, 770: 950, 771: 951, 772: 952, 773: 953, 774: 954, 775: 955, 776: 956, 777: 957, 778: 960, 779: 961, 780: 962, 781: 963, 782: 964, 783: 965, 784: 966, 785: 968, 786: 969, 787: 970, 788: 971, 789: 972, 790: 973, 791: 976, 792: 980, 793: 981, 794: 982, 795: 984, 796: 986, 797: 987, 798: 988, 799: 990, 800: 991, 801: 992, 802: 994, 803: 996, 804: 997, 805: 998, 806: 999, 807: 1003, 808: 1004, 809: 1005, 810: 1006, 811: 1007, 812: 1008, 813: 1009, 814: 1010, 815: 1011, 816: 1012, 817: 1013, 818: 1014, 819: 1015, 820: 1016, 821: 1017, 822: 1018, 823: 1019, 824: 1020, 825: 1021, 826: 1022, 827: 1023, 828: 1024, 829: 1025, 830: 1026, 831: 1027, 832: 1028, 833: 1029, 834: 1030, 835: 1031, 836: 1032, 837: 1033, 838: 1034, 839: 1035, 840: 1036, 841: 1037, 842: 1040, 843: 1041, 844: 1042, 845: 1043, 846: 1044, 847: 1046, 848: 1047, 849: 1049, 850: 1050, 851: 1051, 852: 1053, 853: 1054, 854: 1055, 855: 1056, 856: 1057, 857: 1059, 858: 1060, 859: 1061, 860: 1063, 861: 1064, 862: 1066, 863: 1067, 864: 1068, 865: 1069, 866: 1073, 867: 1076, 868: 1077, 869: 1078, 870: 1079, 871: 1080, 872: 1081, 873: 1082, 874: 1083, 875: 1084, 876: 1085, 877: 1086, 878: 1087, 879: 1088, 880: 1089, 881: 1090, 882: 1091, 883: 1092, 884: 1093, 885: 1094, 886: 1095, 887: 1096, 888: 1097, 889: 1099, 890: 1100, 891: 1101, 892: 1103, 893: 1104, 894: 1105, 895: 1111, 896: 1112, 897: 1113, 898: 1114, 899: 1120, 900: 1123, 901: 1124, 902: 1125, 903: 1126, 904: 1127, 905: 1128, 906: 1129, 907: 1130, 908: 1131, 909: 1132, 910: 1133, 911: 1135, 912: 1136, 913: 1137, 914: 1145, 915: 1147, 916: 1148, 917: 1150, 918: 1151, 919: 1152, 920: 1153, 921: 1154, 922: 1161, 923: 1162, 924: 1163, 925: 1164, 926: 1165, 927: 1167, 928: 1168, 929: 1169, 930: 1171, 931: 1172, 932: 1173, 933: 1174, 934: 1175, 935: 1176, 936: 1177, 937: 1178, 938: 1179, 939: 1180, 940: 1181, 941: 1183, 942: 1184, 943: 1185, 944: 1186, 945: 1187, 946: 1188, 947: 1189, 948: 1190, 949: 1191, 950: 1192, 951: 1193, 952: 1194, 953: 1196, 954: 1197, 955: 1198, 956: 1199, 957: 1200, 958: 1201, 959: 1202, 960: 1203, 961: 1204, 962: 1206, 963: 1207, 964: 1208, 965: 1209, 966: 1210, 967: 1211, 968: 1212, 969: 1213, 970: 1214, 971: 1215, 972: 1216, 973: 1217, 974: 1218, 975: 1219, 976: 1220, 977: 1221, 978: 1222, 979: 1223, 980: 1224, 981: 1225, 982: 1226, 983: 1227, 984: 1228, 985: 1230, 986: 1231, 987: 1232, 988: 1233, 989: 1234, 990: 1235, 991: 1236, 992: 1237, 993: 1238, 994: 1240, 995: 1241, 996: 1242, 997: 1243, 998: 1244, 999: 1245, 1000: 1246, 1001: 1247, 1002: 1248, 1003: 1249, 1004: 1250, 1005: 1251, 1006: 1252, 1007: 1253, 1008: 1254, 1009: 1255, 1010: 1256, 1011: 1257, 1012: 1258, 1013: 1259, 1014: 1260, 1015: 1261, 1016: 1262, 1017: 1263, 1018: 1264, 1019: 1265, 1020: 1266, 1021: 1267, 1022: 1268, 1023: 1269, 1024: 1270, 1025: 1271, 1026: 1272, 1027: 1273, 1028: 1274, 1029: 1275, 1030: 1276, 1031: 1277, 1032: 1278, 1033: 1279, 1034: 1280, 1035: 1281, 1036: 1282, 1037: 1283, 1038: 1284, 1039: 1285, 1040: 1286, 1041: 1287, 1042: 1288, 1043: 1289, 1044: 1290, 1045: 1291, 1046: 1292, 1047: 1293, 1048: 1295, 1049: 1296, 1050: 1297, 1051: 1298, 1052: 1299, 1053: 1300, 1054: 1301, 1055: 1302, 1056: 1303, 1057: 1304, 1058: 1305, 1059: 1306, 1060: 1307, 1061: 1310, 1062: 1311, 1063: 1312, 1064: 1317, 1065: 1320, 1066: 1321, 1067: 1322, 1068: 1323, 1069: 1324, 1070: 1325, 1071: 1326, 1072: 1327, 1073: 1328, 1074: 1329, 1075: 1330, 1076: 1331, 1077: 1332, 1078: 1333, 1079: 1334, 1080: 1335, 1081: 1336, 1082: 1337, 1083: 1339, 1084: 1340, 1085: 1341, 1086: 1342, 1087: 1343, 1088: 1344, 1089: 1345, 1090: 1346, 1091: 1347, 1092: 1348, 1093: 1349, 1094: 1350, 1095: 1351, 1096: 1352, 1097: 1353, 1098: 1354, 1099: 1355, 1100: 1356, 1101: 1357, 1102: 1358, 1103: 1359, 1104: 1361, 1105: 1363, 1106: 1365, 1107: 1366, 1108: 1367, 1109: 1369, 1110: 1370, 1111: 1371, 1112: 1372, 1113: 1373, 1114: 1374, 1115: 1375, 1116: 1376, 1117: 1377, 1118: 1378, 1119: 1379, 1120: 1380, 1121: 1381, 1122: 1382, 1123: 1384, 1124: 1385, 1125: 1387, 1126: 1388, 1127: 1389, 1128: 1390, 1129: 1391, 1130: 1392, 1131: 1393, 1132: 1394, 1133: 1395, 1134: 1396, 1135: 1397, 1136: 1398, 1137: 1399, 1138: 1401, 1139: 1404, 1140: 1405, 1141: 1406, 1142: 1407, 1143: 1408, 1144: 1409, 1145: 1410, 1146: 1411, 1147: 1413, 1148: 1414, 1149: 1415, 1150: 1416, 1151: 1417, 1152: 1419, 1153: 1420, 1154: 1422, 1155: 1423, 1156: 1425, 1157: 1427, 1158: 1428, 1159: 1429, 1160: 1430, 1161: 1431, 1162: 1432, 1163: 1433, 1164: 1437, 1165: 1438, 1166: 1440, 1167: 1441, 1168: 1442, 1169: 1444, 1170: 1445, 1171: 1446, 1172: 1447, 1173: 1449, 1174: 1450, 1175: 1453, 1176: 1454, 1177: 1455, 1178: 1456, 1179: 1457, 1180: 1458, 1181: 1459, 1182: 1460, 1183: 1461, 1184: 1463, 1185: 1464, 1186: 1465, 1187: 1466, 1188: 1468, 1189: 1472, 1190: 1473, 1191: 1474, 1192: 1475, 1193: 1476, 1194: 1479, 1195: 1480, 1196: 1482, 1197: 1483, 1198: 1484, 1199: 1485, 1200: 1487, 1201: 1488, 1202: 1489, 1203: 1490, 1204: 1493, 1205: 1495, 1206: 1497, 1207: 1498, 1208: 1499, 1209: 1500, 1210: 1501, 1211: 1502, 1212: 1503, 1213: 1504, 1214: 1507, 1215: 1508, 1216: 1513, 1217: 1515, 1218: 1516, 1219: 1517, 1220: 1518, 1221: 1523, 1222: 1525, 1223: 1526, 1224: 1527, 1225: 1529, 1226: 1531, 1227: 1532, 1228: 1535, 1229: 1537, 1230: 1539, 1231: 1541, 1232: 1542, 1233: 1543, 1234: 1544, 1235: 1545, 1236: 1546, 1237: 1549, 1238: 1550, 1239: 1552, 1240: 1554, 1241: 1555, 1242: 1556, 1243: 1562, 1244: 1563, 1245: 1564, 1246: 1566, 1247: 1569, 1248: 1570, 1249: 1571, 1250: 1572, 1251: 1573, 1252: 1575, 1253: 1580, 1254: 1581, 1255: 1582, 1256: 1583, 1257: 1584, 1258: 1586, 1259: 1587, 1260: 1588, 1261: 1589, 1262: 1590, 1263: 1591, 1264: 1592, 1265: 1593, 1266: 1594, 1267: 1595, 1268: 1596, 1269: 1597, 1270: 1598, 1271: 1599, 1272: 1600, 1273: 1601, 1274: 1602, 1275: 1603, 1276: 1604, 1277: 1605, 1278: 1606, 1279: 1608, 1280: 1609, 1281: 1610, 1282: 1611, 1283: 1612, 1284: 1613, 1285: 1614, 1286: 1615, 1287: 1616, 1288: 1617, 1289: 1619, 1290: 1620, 1291: 1621, 1292: 1623, 1293: 1624, 1294: 1625, 1295: 1626, 1296: 1627, 1297: 1629, 1298: 1631, 1299: 1632, 1300: 1633, 1301: 1635, 1302: 1636, 1303: 1639, 1304: 1640, 1305: 1641, 1306: 1642, 1307: 1643, 1308: 1644, 1309: 1645, 1310: 1646, 1311: 1647, 1312: 1648, 1313: 1649, 1314: 1652, 1315: 1653, 1316: 1654, 1317: 1655, 1318: 1657, 1319: 1658, 1320: 1660, 1321: 1661, 1322: 1663, 1323: 1665, 1324: 1667, 1325: 1668, 1326: 1669, 1327: 1670, 1328: 1671, 1329: 1672, 1330: 1673, 1331: 1674, 1332: 1676, 1333: 1678, 1334: 1680, 1335: 1681, 1336: 1682, 1337: 1683, 1338: 1684, 1339: 1686, 1340: 1687, 1341: 1688, 1342: 1689, 1343: 1690, 1344: 1692, 1345: 1693, 1346: 1694, 1347: 1696, 1348: 1699, 1349: 1701, 1350: 1702, 1351: 1703, 1352: 1704, 1353: 1707, 1354: 1711, 1355: 1713, 1356: 1715, 1357: 1717, 1358: 1719, 1359: 1721, 1360: 1722, 1361: 1726, 1362: 1727, 1363: 1728, 1364: 1729, 1365: 1730, 1366: 1731, 1367: 1732, 1368: 1733, 1369: 1734, 1370: 1735, 1371: 1739, 1372: 1744, 1373: 1746, 1374: 1747, 1375: 1748, 1376: 1750, 1377: 1752, 1378: 1753, 1379: 1754, 1380: 1755, 1381: 1756, 1382: 1757, 1383: 1759, 1384: 1760, 1385: 1762, 1386: 1767, 1387: 1769, 1388: 1771, 1389: 1772, 1390: 1777, 1391: 1779, 1392: 1783, 1393: 1784, 1394: 1785, 1395: 1788, 1396: 1791, 1397: 1792, 1398: 1794, 1399: 1795, 1400: 1796, 1401: 1797, 1402: 1798, 1403: 1799, 1404: 1801, 1405: 1804, 1406: 1805, 1407: 1806, 1408: 1807, 1409: 1809, 1410: 1810, 1411: 1812, 1412: 1816, 1413: 1819, 1414: 1821, 1415: 1822, 1416: 1824, 1417: 1826, 1418: 1827, 1419: 1831, 1420: 1833, 1421: 1834, 1422: 1835, 1423: 1836, 1424: 1837, 1425: 1839, 1426: 1840, 1427: 1841, 1428: 1844, 1429: 1845, 1430: 1846, 1431: 1848, 1432: 1852, 1433: 1854, 1434: 1855, 1435: 1856, 1436: 1858, 1437: 1859, 1438: 1860, 1439: 1861, 1440: 1862, 1441: 1863, 1442: 1864, 1443: 1865, 1444: 1866, 1445: 1870, 1446: 1873, 1447: 1874, 1448: 1875, 1449: 1876, 1450: 1878, 1451: 1880, 1452: 1881, 1453: 1882, 1454: 1883, 1455: 1884, 1456: 1885, 1457: 1886, 1458: 1887, 1459: 1888, 1460: 1889, 1461: 1891, 1462: 1892, 1463: 1894, 1464: 1895, 1465: 1896, 1466: 1897, 1467: 1900, 1468: 1901, 1469: 1902, 1470: 1903, 1471: 1904, 1472: 1907, 1473: 1909, 1474: 1910, 1475: 1911, 1476: 1912, 1477: 1913, 1478: 1914, 1479: 1916, 1480: 1917, 1481: 1918, 1482: 1919, 1483: 1920, 1484: 1921, 1485: 1922, 1486: 1923, 1487: 1924, 1488: 1925, 1489: 1926, 1490: 1927, 1491: 1928, 1492: 1929, 1493: 1931, 1494: 1932, 1495: 1933, 1496: 1934, 1497: 1935, 1498: 1936, 1499: 1937, 1500: 1938, 1501: 1939, 1502: 1940, 1503: 1941, 1504: 1942, 1505: 1943, 1506: 1944, 1507: 1945, 1508: 1946, 1509: 1947, 1510: 1948, 1511: 1949, 1512: 1950, 1513: 1951, 1514: 1952, 1515: 1953, 1516: 1954, 1517: 1955, 1518: 1956, 1519: 1957, 1520: 1958, 1521: 1959, 1522: 1960, 1523: 1961, 1524: 1962, 1525: 1963, 1526: 1964, 1527: 1965, 1528: 1966, 1529: 1967, 1530: 1968, 1531: 1969, 1532: 1970, 1533: 1971, 1534: 1972, 1535: 1973, 1536: 1974, 1537: 1975, 1538: 1976, 1539: 1977, 1540: 1978, 1541: 1979, 1542: 1980, 1543: 1981, 1544: 1982, 1545: 1983, 1546: 1984, 1547: 1985, 1548: 1986, 1549: 1987, 1550: 1988, 1551: 1989, 1552: 1990, 1553: 1991, 1554: 1992, 1555: 1993, 1556: 1994, 1557: 1995, 1558: 1996, 1559: 1997, 1560: 1998, 1561: 1999, 1562: 2000, 1563: 2001, 1564: 2002, 1565: 2003, 1566: 2004, 1567: 2005, 1568: 2006, 1569: 2007, 1570: 2008, 1571: 2009, 1572: 2010, 1573: 2011, 1574: 2012, 1575: 2013, 1576: 2014, 1577: 2015, 1578: 2016, 1579: 2017, 1580: 2018, 1581: 2019, 1582: 2020, 1583: 2021, 1584: 2022, 1585: 2023, 1586: 2024, 1587: 2025, 1588: 2026, 1589: 2027, 1590: 2028, 1591: 2029, 1592: 2031, 1593: 2032, 1594: 2033, 1595: 2034, 1596: 2035, 1597: 2036, 1598: 2037, 1599: 2038, 1600: 2039, 1601: 2040, 1602: 2041, 1603: 2042, 1604: 2043, 1605: 2044, 1606: 2045, 1607: 2046, 1608: 2047, 1609: 2048, 1610: 2049, 1611: 2050, 1612: 2051, 1613: 2052, 1614: 2053, 1615: 2054, 1616: 2055, 1617: 2056, 1618: 2057, 1619: 2058, 1620: 2059, 1621: 2060, 1622: 2062, 1623: 2063, 1624: 2064, 1625: 2065, 1626: 2066, 1627: 2067, 1628: 2068, 1629: 2069, 1630: 2070, 1631: 2071, 1632: 2072, 1633: 2073, 1634: 2074, 1635: 2075, 1636: 2076, 1637: 2077, 1638: 2078, 1639: 2079, 1640: 2080, 1641: 2081, 1642: 2082, 1643: 2083, 1644: 2084, 1645: 2085, 1646: 2086, 1647: 2087, 1648: 2088, 1649: 2089, 1650: 2090, 1651: 2091, 1652: 2092, 1653: 2093, 1654: 2094, 1655: 2095, 1656: 2096, 1657: 2097, 1658: 2098, 1659: 2099, 1660: 2100, 1661: 2101, 1662: 2102, 1663: 2103, 1664: 2104, 1665: 2105, 1666: 2106, 1667: 2107, 1668: 2108, 1669: 2109, 1670: 2110, 1671: 2111, 1672: 2112, 1673: 2113, 1674: 2114, 1675: 2115, 1676: 2116, 1677: 2117, 1678: 2118, 1679: 2119, 1680: 2120, 1681: 2121, 1682: 2122, 1683: 2123, 1684: 2124, 1685: 2125, 1686: 2126, 1687: 2128, 1688: 2130, 1689: 2131, 1690: 2132, 1691: 2133, 1692: 2134, 1693: 2135, 1694: 2136, 1695: 2137, 1696: 2138, 1697: 2139, 1698: 2140, 1699: 2141, 1700: 2142, 1701: 2143, 1702: 2144, 1703: 2145, 1704: 2146, 1705: 2147, 1706: 2148, 1707: 2149, 1708: 2150, 1709: 2151, 1710: 2152, 1711: 2153, 1712: 2154, 1713: 2155, 1714: 2159, 1715: 2160, 1716: 2161, 1717: 2162, 1718: 2163, 1719: 2164, 1720: 2165, 1721: 2166, 1722: 2167, 1723: 2168, 1724: 2169, 1725: 2170, 1726: 2171, 1727: 2173, 1728: 2174, 1729: 2176, 1730: 2177, 1731: 2178, 1732: 2180, 1733: 2181, 1734: 2182, 1735: 2183, 1736: 2184, 1737: 2186, 1738: 2187, 1739: 2188, 1740: 2189, 1741: 2190, 1742: 2191, 1743: 2193, 1744: 2194, 1745: 2195, 1746: 2197, 1747: 2200, 1748: 2201, 1749: 2202, 1750: 2203, 1751: 2204, 1752: 2205, 1753: 2206, 1754: 2207, 1755: 2208, 1756: 2210, 1757: 2212, 1758: 2214, 1759: 2215, 1760: 2219, 1761: 2221, 1762: 2227, 1763: 2231, 1764: 2232, 1765: 2236, 1766: 2237, 1767: 2238, 1768: 2239, 1769: 2240, 1770: 2241, 1771: 2243, 1772: 2244, 1773: 2245, 1774: 2246, 1775: 2247, 1776: 2248, 1777: 2249, 1778: 2250, 1779: 2252, 1780: 2253, 1781: 2254, 1782: 2255, 1783: 2256, 1784: 2257, 1785: 2259, 1786: 2260, 1787: 2261, 1788: 2262, 1789: 2263, 1790: 2264, 1791: 2265, 1792: 2266, 1793: 2267, 1794: 2268, 1795: 2269, 1796: 2271, 1797: 2272, 1798: 2273, 1799: 2275, 1800: 2276, 1801: 2278, 1802: 2279, 1803: 2280, 1804: 2282, 1805: 2283, 1806: 2284, 1807: 2285, 1808: 2286, 1809: 2287, 1810: 2288, 1811: 2289, 1812: 2290, 1813: 2291, 1814: 2292, 1815: 2294, 1816: 2295, 1817: 2296, 1818: 2297, 1819: 2300, 1820: 2301, 1821: 2302, 1822: 2303, 1823: 2304, 1824: 2305, 1825: 2306, 1826: 2307, 1827: 2310, 1828: 2311, 1829: 2312, 1830: 2313, 1831: 2314, 1832: 2315, 1833: 2316, 1834: 2318, 1835: 2320, 1836: 2321, 1837: 2322, 1838: 2323, 1839: 2324, 1840: 2325, 1841: 2327, 1842: 2328, 1843: 2329, 1844: 2330, 1845: 2331, 1846: 2333, 1847: 2334, 1848: 2335, 1849: 2336, 1850: 2337, 1851: 2338, 1852: 2339, 1853: 2340, 1854: 2342, 1855: 2344, 1856: 2345, 1857: 2346, 1858: 2347, 1859: 2348, 1860: 2349, 1861: 2350, 1862: 2351, 1863: 2352, 1864: 2353, 1865: 2354, 1866: 2355, 1867: 2356, 1868: 2357, 1869: 2359, 1870: 2360, 1871: 2361, 1872: 2362, 1873: 2363, 1874: 2364, 1875: 2365, 1876: 2366, 1877: 2367, 1878: 2368, 1879: 2369, 1880: 2370, 1881: 2371, 1882: 2372, 1883: 2373, 1884: 2374, 1885: 2375, 1886: 2376, 1887: 2377, 1888: 2378, 1889: 2379, 1890: 2380, 1891: 2381, 1892: 2382, 1893: 2383, 1894: 2384, 1895: 2385, 1896: 2386, 1897: 2387, 1898: 2388, 1899: 2389, 1900: 2390, 1901: 2391, 1902: 2392, 1903: 2393, 1904: 2394, 1905: 2395, 1906: 2396, 1907: 2397, 1908: 2398, 1909: 2399, 1910: 2400, 1911: 2401, 1912: 2402, 1913: 2403, 1914: 2404, 1915: 2405, 1916: 2406, 1917: 2407, 1918: 2408, 1919: 2409, 1920: 2410, 1921: 2411, 1922: 2412, 1923: 2413, 1924: 2414, 1925: 2415, 1926: 2416, 1927: 2417, 1928: 2418, 1929: 2419, 1930: 2420, 1931: 2421, 1932: 2422, 1933: 2423, 1934: 2424, 1935: 2425, 1936: 2427, 1937: 2428, 1938: 2429, 1939: 2430, 1940: 2431, 1941: 2432, 1942: 2433, 1943: 2434, 1944: 2435, 1945: 2436, 1946: 2437, 1947: 2438, 1948: 2439, 1949: 2440, 1950: 2441, 1951: 2442, 1952: 2443, 1953: 2445, 1954: 2446, 1955: 2447, 1956: 2448, 1957: 2449, 1958: 2450, 1959: 2451, 1960: 2453, 1961: 2454, 1962: 2455, 1963: 2456, 1964: 2457, 1965: 2458, 1966: 2459, 1967: 2460, 1968: 2461, 1969: 2462, 1970: 2463, 1971: 2464, 1972: 2465, 1973: 2467, 1974: 2468, 1975: 2469, 1976: 2470, 1977: 2471, 1978: 2472, 1979: 2473, 1980: 2474, 1981: 2475, 1982: 2476, 1983: 2478, 1984: 2479, 1985: 2481, 1986: 2482, 1987: 2483, 1988: 2485, 1989: 2486, 1990: 2487, 1991: 2488, 1992: 2490, 1993: 2491, 1994: 2492, 1995: 2493, 1996: 2494, 1997: 2495, 1998: 2496, 1999: 2497, 2000: 2498, 2001: 2499, 2002: 2500, 2003: 2501, 2004: 2502, 2005: 2504, 2006: 2505, 2007: 2506, 2008: 2507, 2009: 2511, 2010: 2513, 2011: 2514, 2012: 2515, 2013: 2516, 2014: 2517, 2015: 2518, 2016: 2519, 2017: 2520, 2018: 2521, 2019: 2522, 2020: 2523, 2021: 2524, 2022: 2525, 2023: 2526, 2024: 2527, 2025: 2528, 2026: 2529, 2027: 2530, 2028: 2531, 2029: 2532, 2030: 2533, 2031: 2534, 2032: 2535, 2033: 2536, 2034: 2537, 2035: 2539, 2036: 2540, 2037: 2541, 2038: 2542, 2039: 2545, 2040: 2546, 2041: 2548, 2042: 2549, 2043: 2550, 2044: 2551, 2045: 2552, 2046: 2553, 2047: 2554, 2048: 2555, 2049: 2557, 2050: 2558, 2051: 2559, 2052: 2560, 2053: 2561, 2054: 2562, 2055: 2563, 2056: 2565, 2057: 2566, 2058: 2567, 2059: 2568, 2060: 2569, 2061: 2570, 2062: 2571, 2063: 2572, 2064: 2573, 2065: 2574, 2066: 2575, 2067: 2577, 2068: 2579, 2069: 2580, 2070: 2581, 2071: 2582, 2072: 2583, 2073: 2585, 2074: 2586, 2075: 2587, 2076: 2589, 2077: 2590, 2078: 2594, 2079: 2596, 2080: 2597, 2081: 2598, 2082: 2599, 2083: 2600, 2084: 2605, 2085: 2606, 2086: 2607, 2087: 2609, 2088: 2610, 2089: 2611, 2090: 2612, 2091: 2613, 2092: 2615, 2093: 2616, 2094: 2617, 2095: 2618, 2096: 2620, 2097: 2621, 2098: 2622, 2099: 2624, 2100: 2625, 2101: 2626, 2102: 2627, 2103: 2628, 2104: 2629, 2105: 2630, 2106: 2631, 2107: 2633, 2108: 2634, 2109: 2635, 2110: 2636, 2111: 2637, 2112: 2638, 2113: 2639, 2114: 2640, 2115: 2641, 2116: 2642, 2117: 2643, 2118: 2644, 2119: 2647, 2120: 2648, 2121: 2649, 2122: 2650, 2123: 2651, 2124: 2652, 2125: 2653, 2126: 2654, 2127: 2655, 2128: 2656, 2129: 2657, 2130: 2659, 2131: 2660, 2132: 2661, 2133: 2662, 2134: 2664, 2135: 2668, 2136: 2669, 2137: 2670, 2138: 2671, 2139: 2672, 2140: 2673, 2141: 2674, 2142: 2676, 2143: 2677, 2144: 2678, 2145: 2681, 2146: 2682, 2147: 2683, 2148: 2686, 2149: 2687, 2150: 2688, 2151: 2689, 2152: 2690, 2153: 2691, 2154: 2692, 2155: 2693, 2156: 2694, 2157: 2696, 2158: 2697, 2159: 2699, 2160: 2700, 2161: 2701, 2162: 2702, 2163: 2704, 2164: 2706, 2165: 2707, 2166: 2708, 2167: 2709, 2168: 2710, 2169: 2712, 2170: 2713, 2171: 2714, 2172: 2715, 2173: 2716, 2174: 2717, 2175: 2718, 2176: 2719, 2177: 2720, 2178: 2721, 2179: 2722, 2180: 2723, 2181: 2724, 2182: 2725, 2183: 2726, 2184: 2727, 2185: 2728, 2186: 2729, 2187: 2730, 2188: 2731, 2189: 2732, 2190: 2733, 2191: 2734, 2192: 2735, 2193: 2736, 2194: 2738, 2195: 2739, 2196: 2741, 2197: 2745, 2198: 2746, 2199: 2747, 2200: 2748, 2201: 2749, 2202: 2750, 2203: 2751, 2204: 2752, 2205: 2753, 2206: 2754, 2207: 2755, 2208: 2757, 2209: 2758, 2210: 2759, 2211: 2761, 2212: 2762, 2213: 2763, 2214: 2764, 2215: 2766, 2216: 2767, 2217: 2769, 2218: 2770, 2219: 2771, 2220: 2772, 2221: 2774, 2222: 2775, 2223: 2776, 2224: 2779, 2225: 2780, 2226: 2781, 2227: 2782, 2228: 2783, 2229: 2784, 2230: 2786, 2231: 2787, 2232: 2788, 2233: 2789, 2234: 2790, 2235: 2791, 2236: 2792, 2237: 2793, 2238: 2794, 2239: 2795, 2240: 2796, 2241: 2797, 2242: 2798, 2243: 2799, 2244: 2800, 2245: 2801, 2246: 2802, 2247: 2803, 2248: 2804, 2249: 2805, 2250: 2806, 2251: 2807, 2252: 2808, 2253: 2809, 2254: 2810, 2255: 2812, 2256: 2815, 2257: 2816, 2258: 2817, 2259: 2819, 2260: 2820, 2261: 2822, 2262: 2824, 2263: 2826, 2264: 2827, 2265: 2828, 2266: 2829, 2267: 2832, 2268: 2835, 2269: 2836, 2270: 2837, 2271: 2839, 2272: 2840, 2273: 2841, 2274: 2843, 2275: 2844, 2276: 2845, 2277: 2846, 2278: 2847, 2279: 2848, 2280: 2849, 2281: 2850, 2282: 2851, 2283: 2852, 2284: 2853, 2285: 2855, 2286: 2856, 2287: 2857, 2288: 2858, 2289: 2859, 2290: 2860, 2291: 2861, 2292: 2862, 2293: 2863, 2294: 2864, 2295: 2866, 2296: 2867, 2297: 2868, 2298: 2869, 2299: 2870, 2300: 2871, 2301: 2872, 2302: 2874, 2303: 2875, 2304: 2876, 2305: 2877, 2306: 2878, 2307: 2879, 2308: 2880, 2309: 2881, 2310: 2882, 2311: 2883, 2312: 2884, 2313: 2885, 2314: 2886, 2315: 2887, 2316: 2888, 2317: 2889, 2318: 2890, 2319: 2891, 2320: 2892, 2321: 2893, 2322: 2894, 2323: 2897, 2324: 2898, 2325: 2899, 2326: 2900, 2327: 2901, 2328: 2902, 2329: 2903, 2330: 2904, 2331: 2905, 2332: 2906, 2333: 2907, 2334: 2908, 2335: 2912, 2336: 2913, 2337: 2915, 2338: 2916, 2339: 2917, 2340: 2918, 2341: 2919, 2342: 2920, 2343: 2921, 2344: 2922, 2345: 2923, 2346: 2924, 2347: 2925, 2348: 2926, 2349: 2927, 2350: 2928, 2351: 2929, 2352: 2930, 2353: 2932, 2354: 2935, 2355: 2936, 2356: 2937, 2357: 2938, 2358: 2939, 2359: 2940, 2360: 2941, 2361: 2942, 2362: 2943, 2363: 2944, 2364: 2945, 2365: 2946, 2366: 2947, 2367: 2948, 2368: 2949, 2369: 2950, 2370: 2951, 2371: 2952, 2372: 2953, 2373: 2956, 2374: 2959, 2375: 2961, 2376: 2962, 2377: 2964, 2378: 2966, 2379: 2967, 2380: 2968, 2381: 2969, 2382: 2970, 2383: 2971, 2384: 2972, 2385: 2973, 2386: 2974, 2387: 2975, 2388: 2976, 2389: 2977, 2390: 2978, 2391: 2979, 2392: 2981, 2393: 2982, 2394: 2983, 2395: 2984, 2396: 2985, 2397: 2986, 2398: 2987, 2399: 2988, 2400: 2989, 2401: 2990, 2402: 2991, 2403: 2992, 2404: 2993, 2405: 2995, 2406: 2996, 2407: 2997, 2408: 2998, 2409: 3000, 2410: 3001, 2411: 3002, 2412: 3003, 2413: 3004, 2414: 3005, 2415: 3006, 2416: 3007, 2417: 3008, 2418: 3010, 2419: 3011, 2420: 3013, 2421: 3015, 2422: 3016, 2423: 3017, 2424: 3018, 2425: 3019, 2426: 3020, 2427: 3021, 2428: 3022, 2429: 3024, 2430: 3025, 2431: 3028, 2432: 3029, 2433: 3030, 2434: 3031, 2435: 3032, 2436: 3033, 2437: 3034, 2438: 3035, 2439: 3036, 2440: 3037, 2441: 3038, 2442: 3039, 2443: 3040, 2444: 3041, 2445: 3042, 2446: 3043, 2447: 3044, 2448: 3045, 2449: 3046, 2450: 3047, 2451: 3048, 2452: 3051, 2453: 3052, 2454: 3053, 2455: 3054, 2456: 3055, 2457: 3057, 2458: 3060, 2459: 3061, 2460: 3062, 2461: 3063, 2462: 3064, 2463: 3066, 2464: 3067, 2465: 3068, 2466: 3069, 2467: 3070, 2468: 3071, 2469: 3072, 2470: 3074, 2471: 3075, 2472: 3076, 2473: 3077, 2474: 3078, 2475: 3079, 2476: 3081, 2477: 3082, 2478: 3083, 2479: 3086, 2480: 3087, 2481: 3088, 2482: 3089, 2483: 3090, 2484: 3091, 2485: 3093, 2486: 3094, 2487: 3095, 2488: 3096, 2489: 3097, 2490: 3098, 2491: 3099, 2492: 3100, 2493: 3101, 2494: 3102, 2495: 3103, 2496: 3104, 2497: 3105, 2498: 3106, 2499: 3107, 2500: 3108, 2501: 3109, 2502: 3110, 2503: 3111, 2504: 3112, 2505: 3113, 2506: 3114, 2507: 3115, 2508: 3116, 2509: 3117, 2510: 3118, 2511: 3120, 2512: 3121, 2513: 3122, 2514: 3125, 2515: 3127, 2516: 3128, 2517: 3129, 2518: 3130, 2519: 3133, 2520: 3134, 2521: 3135, 2522: 3136, 2523: 3138, 2524: 3140, 2525: 3141, 2526: 3142, 2527: 3143, 2528: 3144, 2529: 3145, 2530: 3146, 2531: 3147, 2532: 3148, 2533: 3150, 2534: 3152, 2535: 3153, 2536: 3155, 2537: 3156, 2538: 3157, 2539: 3158, 2540: 3159, 2541: 3160, 2542: 3161, 2543: 3163, 2544: 3165, 2545: 3166, 2546: 3167, 2547: 3168, 2548: 3169, 2549: 3171, 2550: 3173, 2551: 3174, 2552: 3175, 2553: 3176, 2554: 3177, 2555: 3178, 2556: 3179, 2557: 3180, 2558: 3181, 2559: 3182, 2560: 3183, 2561: 3185, 2562: 3186, 2563: 3188, 2564: 3189, 2565: 3190, 2566: 3192, 2567: 3194, 2568: 3196, 2569: 3197, 2570: 3198, 2571: 3199, 2572: 3200, 2573: 3201, 2574: 3202, 2575: 3203, 2576: 3204, 2577: 3205, 2578: 3206, 2579: 3207, 2580: 3208, 2581: 3210, 2582: 3211, 2583: 3213, 2584: 3214, 2585: 3216, 2586: 3217, 2587: 3218, 2588: 3219, 2589: 3221, 2590: 3223, 2591: 3224, 2592: 3225, 2593: 3232, 2594: 3235, 2595: 3238, 2596: 3239, 2597: 3240, 2598: 3241, 2599: 3243, 2600: 3244, 2601: 3245, 2602: 3246, 2603: 3247, 2604: 3248, 2605: 3249, 2606: 3250, 2607: 3251, 2608: 3252, 2609: 3253, 2610: 3254, 2611: 3255, 2612: 3256, 2613: 3257, 2614: 3258, 2615: 3259, 2616: 3260, 2617: 3261, 2618: 3262, 2619: 3263, 2620: 3264, 2621: 3265, 2622: 3266, 2623: 3267, 2624: 3268, 2625: 3269, 2626: 3270, 2627: 3271, 2628: 3272, 2629: 3273, 2630: 3274, 2631: 3275, 2632: 3276, 2633: 3281, 2634: 3282, 2635: 3284, 2636: 3285, 2637: 3286, 2638: 3287, 2639: 3289, 2640: 3292, 2641: 3294, 2642: 3296, 2643: 3298, 2644: 3299, 2645: 3300, 2646: 3301, 2647: 3302, 2648: 3303, 2649: 3304, 2650: 3306, 2651: 3307, 2652: 3308, 2653: 3309, 2654: 3310, 2655: 3313, 2656: 3314, 2657: 3316, 2658: 3317, 2659: 3318, 2660: 3320, 2661: 3324, 2662: 3325, 2663: 3326, 2664: 3327, 2665: 3328, 2666: 3329, 2667: 3330, 2668: 3331, 2669: 3334, 2670: 3338, 2671: 3339, 2672: 3340, 2673: 3341, 2674: 3342, 2675: 3343, 2676: 3344, 2677: 3347, 2678: 3349, 2679: 3350, 2680: 3351, 2681: 3354, 2682: 3355, 2683: 3357, 2684: 3358, 2685: 3359, 2686: 3360, 2687: 3361, 2688: 3362, 2689: 3363, 2690: 3364, 2691: 3365, 2692: 3368, 2693: 3370, 2694: 3371, 2695: 3377, 2696: 3379, 2697: 3380, 2698: 3384, 2699: 3385, 2700: 3386, 2701: 3387, 2702: 3388, 2703: 3390, 2704: 3391, 2705: 3392, 2706: 3393, 2707: 3394, 2708: 3395, 2709: 3396, 2710: 3397, 2711: 3398, 2712: 3399, 2713: 3400, 2714: 3401, 2715: 3402, 2716: 3404, 2717: 3405, 2718: 3406, 2719: 3408, 2720: 3409, 2721: 3412, 2722: 3414, 2723: 3415, 2724: 3417, 2725: 3418, 2726: 3420, 2727: 3421, 2728: 3422, 2729: 3423, 2730: 3424, 2731: 3425, 2732: 3426, 2733: 3427, 2734: 3428, 2735: 3429, 2736: 3430, 2737: 3431, 2738: 3432, 2739: 3434, 2740: 3435, 2741: 3436, 2742: 3437, 2743: 3438, 2744: 3439, 2745: 3440, 2746: 3441, 2747: 3442, 2748: 3444, 2749: 3445, 2750: 3446, 2751: 3447, 2752: 3448, 2753: 3449, 2754: 3450, 2755: 3451, 2756: 3452, 2757: 3453, 2758: 3454, 2759: 3456, 2760: 3457, 2761: 3459, 2762: 3460, 2763: 3461, 2764: 3462, 2765: 3463, 2766: 3465, 2767: 3466, 2768: 3467, 2769: 3468, 2770: 3469, 2771: 3470, 2772: 3471, 2773: 3474, 2774: 3475, 2775: 3476, 2776: 3477, 2777: 3478, 2778: 3479, 2779: 3480, 2780: 3481, 2781: 3483, 2782: 3484, 2783: 3487, 2784: 3489, 2785: 3490, 2786: 3491, 2787: 3492, 2788: 3494, 2789: 3495, 2790: 3496, 2791: 3497, 2792: 3498, 2793: 3499, 2794: 3500, 2795: 3501, 2796: 3502, 2797: 3503, 2798: 3504, 2799: 3505, 2800: 3506, 2801: 3507, 2802: 3508, 2803: 3509, 2804: 3510, 2805: 3511, 2806: 3512, 2807: 3513, 2808: 3515, 2809: 3516, 2810: 3518, 2811: 3519, 2812: 3520, 2813: 3521, 2814: 3522, 2815: 3524, 2816: 3525, 2817: 3526, 2818: 3527, 2819: 3528, 2820: 3529, 2821: 3531, 2822: 3534, 2823: 3535, 2824: 3536, 2825: 3537, 2826: 3538, 2827: 3539, 2828: 3540, 2829: 3543, 2830: 3544, 2831: 3545, 2832: 3546, 2833: 3547, 2834: 3548, 2835: 3549, 2836: 3550, 2837: 3551, 2838: 3552, 2839: 3553, 2840: 3554, 2841: 3555, 2842: 3556, 2843: 3557, 2844: 3559, 2845: 3560, 2846: 3563, 2847: 3564, 2848: 3565, 2849: 3566, 2850: 3567, 2851: 3568, 2852: 3569, 2853: 3571, 2854: 3572, 2855: 3573, 2856: 3574, 2857: 3575, 2858: 3576, 2859: 3577, 2860: 3578, 2861: 3579, 2862: 3580, 2863: 3581, 2864: 3584, 2865: 3587, 2866: 3588, 2867: 3590, 2868: 3591, 2869: 3593, 2870: 3594, 2871: 3596, 2872: 3598, 2873: 3599, 2874: 3600, 2875: 3602, 2876: 3604, 2877: 3605, 2878: 3606, 2879: 3608, 2880: 3609, 2881: 3611, 2882: 3612, 2883: 3613, 2884: 3614, 2885: 3615, 2886: 3616, 2887: 3617, 2888: 3618, 2889: 3619, 2890: 3620, 2891: 3621, 2892: 3622, 2893: 3623, 2894: 3624, 2895: 3626, 2896: 3627, 2897: 3628, 2898: 3629, 2899: 3632, 2900: 3633, 2901: 3634, 2902: 3635, 2903: 3637, 2904: 3638, 2905: 3639, 2906: 3640, 2907: 3643, 2908: 3646, 2909: 3649, 2910: 3653, 2911: 3654, 2912: 3655, 2913: 3656, 2914: 3657, 2915: 3658, 2916: 3659, 2917: 3660, 2918: 3661, 2919: 3662, 2920: 3663, 2921: 3664, 2922: 3665, 2923: 3668, 2924: 3669, 2925: 3671, 2926: 3672, 2927: 3673, 2928: 3674, 2929: 3675, 2930: 3676, 2931: 3677, 2932: 3678, 2933: 3679, 2934: 3680, 2935: 3681, 2936: 3682, 2937: 3683, 2938: 3684, 2939: 3685, 2940: 3686, 2941: 3687, 2942: 3688, 2943: 3689, 2944: 3690, 2945: 3691, 2946: 3692, 2947: 3693, 2948: 3694, 2949: 3695, 2950: 3696, 2951: 3697, 2952: 3698, 2953: 3699, 2954: 3700, 2955: 3701, 2956: 3702, 2957: 3703, 2958: 3704, 2959: 3705, 2960: 3706, 2961: 3707, 2962: 3708, 2963: 3709, 2964: 3710, 2965: 3712, 2966: 3713, 2967: 3714, 2968: 3715, 2969: 3716, 2970: 3717, 2971: 3718, 2972: 3719, 2973: 3720, 2974: 3721, 2975: 3723, 2976: 3724, 2977: 3725, 2978: 3726, 2979: 3727, 2980: 3728, 2981: 3729, 2982: 3730, 2983: 3731, 2984: 3732, 2985: 3733, 2986: 3734, 2987: 3735, 2988: 3736, 2989: 3737, 2990: 3738, 2991: 3739, 2992: 3740, 2993: 3741, 2994: 3742, 2995: 3743, 2996: 3744, 2997: 3745, 2998: 3746, 2999: 3747, 3000: 3751, 3001: 3752, 3002: 3753, 3003: 3754, 3004: 3755, 3005: 3757, 3006: 3758, 3007: 3759, 3008: 3760, 3009: 3761, 3010: 3763, 3011: 3764, 3012: 3765, 3013: 3766, 3014: 3768, 3015: 3769, 3016: 3770, 3017: 3771, 3018: 3773, 3019: 3774, 3020: 3775, 3021: 3777, 3022: 3780, 3023: 3783, 3024: 3784, 3025: 3785, 3026: 3786, 3027: 3787, 3028: 3788, 3029: 3789, 3030: 3790, 3031: 3791, 3032: 3792, 3033: 3793, 3034: 3794, 3035: 3795, 3036: 3798, 3037: 3799, 3038: 3800, 3039: 3801, 3040: 3802, 3041: 3804, 3042: 3805, 3043: 3806, 3044: 3807, 3045: 3809, 3046: 3810, 3047: 3811, 3048: 3812, 3049: 3813, 3050: 3814, 3051: 3816, 3052: 3819, 3053: 3820, 3054: 3821, 3055: 3822, 3056: 3823, 3057: 3824, 3058: 3825, 3059: 3826, 3060: 3827, 3061: 3829, 3062: 3831, 3063: 3832, 3064: 3833, 3065: 3834, 3066: 3835, 3067: 3836, 3068: 3837, 3069: 3838, 3070: 3839, 3071: 3840, 3072: 3841, 3073: 3843, 3074: 3844, 3075: 3845, 3076: 3846, 3077: 3847, 3078: 3848, 3079: 3849, 3080: 3851, 3081: 3852, 3082: 3854, 3083: 3855, 3084: 3857, 3085: 3858, 3086: 3859, 3087: 3860, 3088: 3861, 3089: 3863, 3090: 3864, 3091: 3865, 3092: 3868, 3093: 3869, 3094: 3870, 3095: 3871, 3096: 3872, 3097: 3873, 3098: 3875, 3099: 3877, 3100: 3879, 3101: 3880, 3102: 3882, 3103: 3883, 3104: 3885, 3105: 3886, 3106: 3889, 3107: 3890, 3108: 3891, 3109: 3892, 3110: 3893, 3111: 3895, 3112: 3896, 3113: 3897, 3114: 3900, 3115: 3901, 3116: 3902, 3117: 3903, 3118: 3905, 3119: 3906, 3120: 3908, 3121: 3909, 3122: 3910, 3123: 3911, 3124: 3913, 3125: 3914, 3126: 3915, 3127: 3916, 3128: 3917, 3129: 3918, 3130: 3919, 3131: 3920, 3132: 3921, 3133: 3922, 3134: 3923, 3135: 3924, 3136: 3925, 3137: 3926, 3138: 3927, 3139: 3928, 3140: 3929, 3141: 3930, 3142: 3932, 3143: 3933, 3144: 3934, 3145: 3936, 3146: 3937, 3147: 3938, 3148: 3939, 3149: 3940, 3150: 3941, 3151: 3942, 3152: 3943, 3153: 3945, 3154: 3946, 3155: 3947, 3156: 3948, 3157: 3949, 3158: 3950, 3159: 3951, 3160: 3952, 3161: 3953, 3162: 3955, 3163: 3956, 3164: 3957, 3165: 3959, 3166: 3960, 3167: 3961, 3168: 3962, 3169: 3963, 3170: 3964, 3171: 3965, 3172: 3966, 3173: 3967, 3174: 3968, 3175: 3969, 3176: 3970, 3177: 3971, 3178: 3972, 3179: 3973, 3180: 3975, 3181: 3976, 3182: 3977, 3183: 3978, 3184: 3979, 3185: 3980, 3186: 3981, 3187: 3983, 3188: 3984, 3189: 3985, 3190: 3986, 3191: 3987, 3192: 3988, 3193: 3989, 3194: 3990, 3195: 3991, 3196: 3992, 3197: 3993, 3198: 3994, 3199: 3996, 3200: 3997, 3201: 3998, 3202: 3999, 3203: 4000, 3204: 4001, 3205: 4002, 3206: 4003, 3207: 4005, 3208: 4006, 3209: 4007, 3210: 4008, 3211: 4009, 3212: 4010, 3213: 4011, 3214: 4012, 3215: 4014, 3216: 4015, 3217: 4016, 3218: 4017, 3219: 4018, 3220: 4019, 3221: 4020, 3222: 4021, 3223: 4022, 3224: 4023, 3225: 4024, 3226: 4025, 3227: 4026, 3228: 4027, 3229: 4029, 3230: 4030, 3231: 4031, 3232: 4033, 3233: 4034, 3234: 4035, 3235: 4036, 3236: 4037, 3237: 4039, 3238: 4040, 3239: 4041, 3240: 4042, 3241: 4043, 3242: 4045, 3243: 4046, 3244: 4047, 3245: 4048, 3246: 4051, 3247: 4052, 3248: 4053, 3249: 4054, 3250: 4055, 3251: 4056, 3252: 4060, 3253: 4061, 3254: 4062, 3255: 4063, 3256: 4066, 3257: 4067, 3258: 4068, 3259: 4069, 3260: 4073, 3261: 4076, 3262: 4077, 3263: 4079, 3264: 4080, 3265: 4081, 3266: 4082, 3267: 4084, 3268: 4085, 3269: 4086, 3270: 4088, 3271: 4089, 3272: 4090, 3273: 4091, 3274: 4092, 3275: 4095, 3276: 4098, 3277: 4101, 3278: 4102, 3279: 4103, 3280: 4104, 3281: 4105, 3282: 4106, 3283: 4108, 3284: 4109, 3285: 4111, 3286: 4114, 3287: 4115, 3288: 4116, 3289: 4117, 3290: 4121, 3291: 4122, 3292: 4123, 3293: 4124, 3294: 4126, 3295: 4128, 3296: 4130, 3297: 4131, 3298: 4132, 3299: 4133, 3300: 4135, 3301: 4136, 3302: 4139, 3303: 4140, 3304: 4141, 3305: 4142, 3306: 4143, 3307: 4144, 3308: 4146, 3309: 4148, 3310: 4149, 3311: 4151, 3312: 4153, 3313: 4155, 3314: 4156, 3315: 4158, 3316: 4159, 3317: 4161, 3318: 4162, 3319: 4166, 3320: 4167, 3321: 4168, 3322: 4169, 3323: 4171, 3324: 4173, 3325: 4174, 3326: 4175, 3327: 4177, 3328: 4178, 3329: 4179, 3330: 4180, 3331: 4181, 3332: 4183, 3333: 4184, 3334: 4185, 3335: 4186, 3336: 4187, 3337: 4188, 3338: 4189, 3339: 4190, 3340: 4191, 3341: 4194, 3342: 4195, 3343: 4197, 3344: 4198, 3345: 4200, 3346: 4201, 3347: 4203, 3348: 4205, 3349: 4207, 3350: 4208, 3351: 4210, 3352: 4211, 3353: 4212, 3354: 4213, 3355: 4214, 3356: 4215, 3357: 4216, 3358: 4217, 3359: 4218, 3360: 4219, 3361: 4220, 3362: 4221, 3363: 4222, 3364: 4223, 3365: 4224, 3366: 4225, 3367: 4226, 3368: 4228, 3369: 4229, 3370: 4231, 3371: 4232, 3372: 4233, 3373: 4234, 3374: 4235, 3375: 4236, 3376: 4237, 3377: 4238, 3378: 4239, 3379: 4241, 3380: 4246, 3381: 4247, 3382: 4248, 3383: 4251, 3384: 4252, 3385: 4254, 3386: 4255, 3387: 4262, 3388: 4263, 3389: 4265, 3390: 4266, 3391: 4267, 3392: 4268, 3393: 4270, 3394: 4271, 3395: 4273, 3396: 4274, 3397: 4275, 3398: 4276, 3399: 4277, 3400: 4278, 3401: 4279, 3402: 4280, 3403: 4281, 3404: 4282, 3405: 4284, 3406: 4290, 3407: 4291, 3408: 4292, 3409: 4293, 3410: 4294, 3411: 4296, 3412: 4297, 3413: 4298, 3414: 4299, 3415: 4300, 3416: 4302, 3417: 4304, 3418: 4305, 3419: 4306, 3420: 4308, 3421: 4310, 3422: 4312, 3423: 4316, 3424: 4317, 3425: 4318, 3426: 4319, 3427: 4321, 3428: 4322, 3429: 4324, 3430: 4326, 3431: 4327, 3432: 4329, 3433: 4332, 3434: 4333, 3435: 4334, 3436: 4337, 3437: 4338, 3438: 4339, 3439: 4340, 3440: 4342, 3441: 4343, 3442: 4344, 3443: 4345, 3444: 4347, 3445: 4349, 3446: 4350, 3447: 4351, 3448: 4352, 3449: 4353, 3450: 4354, 3451: 4355, 3452: 4356, 3453: 4357, 3454: 4359, 3455: 4360, 3456: 4361, 3457: 4366, 3458: 4367, 3459: 4368, 3460: 4369, 3461: 4370, 3462: 4371, 3463: 4372, 3464: 4375, 3465: 4378, 3466: 4380, 3467: 4381, 3468: 4383, 3469: 4384, 3470: 4386, 3471: 4387, 3472: 4388, 3473: 4389, 3474: 4390, 3475: 4391, 3476: 4392, 3477: 4394, 3478: 4396, 3479: 4397, 3480: 4399, 3481: 4401, 3482: 4402, 3483: 4403, 3484: 4404, 3485: 4405, 3486: 4406, 3487: 4407, 3488: 4409, 3489: 4410, 3490: 4411, 3491: 4414, 3492: 4415, 3493: 4417, 3494: 4420, 3495: 4422, 3496: 4424, 3497: 4426, 3498: 4427, 3499: 4428, 3500: 4432, 3501: 4433, 3502: 4437, 3503: 4438, 3504: 4440, 3505: 4441, 3506: 4442, 3507: 4443, 3508: 4444, 3509: 4445, 3510: 4446, 3511: 4447, 3512: 4448, 3513: 4450, 3514: 4451, 3515: 4452, 3516: 4453, 3517: 4454, 3518: 4458, 3519: 4459, 3520: 4462, 3521: 4464, 3522: 4465, 3523: 4466, 3524: 4467, 3525: 4469, 3526: 4470, 3527: 4471, 3528: 4473, 3529: 4474, 3530: 4475, 3531: 4477, 3532: 4478, 3533: 4479, 3534: 4480, 3535: 4482, 3536: 4483, 3537: 4486, 3538: 4487, 3539: 4488, 3540: 4489, 3541: 4490, 3542: 4491, 3543: 4492, 3544: 4493, 3545: 4495, 3546: 4496, 3547: 4498, 3548: 4499, 3549: 4500, 3550: 4501, 3551: 4502, 3552: 4503, 3553: 4506, 3554: 4508, 3555: 4509, 3556: 4511, 3557: 4515, 3558: 4516, 3559: 4518, 3560: 4519, 3561: 4520, 3562: 4521, 3563: 4522, 3564: 4523, 3565: 4524, 3566: 4526, 3567: 4527, 3568: 4528, 3569: 4529, 3570: 4531, 3571: 4532, 3572: 4533, 3573: 4534, 3574: 4535, 3575: 4537, 3576: 4538, 3577: 4539, 3578: 4541, 3579: 4543, 3580: 4544, 3581: 4545, 3582: 4546, 3583: 4550, 3584: 4552, 3585: 4553, 3586: 4555, 3587: 4557, 3588: 4558, 3589: 4559, 3590: 4560, 3591: 4561, 3592: 4562, 3593: 4563, 3594: 4564, 3595: 4565, 3596: 4566, 3597: 4567, 3598: 4568, 3599: 4569, 3600: 4570, 3601: 4571, 3602: 4572, 3603: 4573, 3604: 4577, 3605: 4578, 3606: 4584, 3607: 4585, 3608: 4587, 3609: 4589, 3610: 4590, 3611: 4591, 3612: 4592, 3613: 4593, 3614: 4600, 3615: 4602, 3616: 4603, 3617: 4605, 3618: 4606, 3619: 4608, 3620: 4610, 3621: 4612, 3622: 4614, 3623: 4615, 3624: 4616, 3625: 4617, 3626: 4618, 3627: 4619, 3628: 4621, 3629: 4622, 3630: 4623, 3631: 4624, 3632: 4625, 3633: 4626, 3634: 4627, 3635: 4628, 3636: 4629, 3637: 4630, 3638: 4632, 3639: 4634, 3640: 4636, 3641: 4638, 3642: 4639, 3643: 4640, 3644: 4641, 3645: 4642, 3646: 4643, 3647: 4644, 3648: 4645, 3649: 4649, 3650: 4652, 3651: 4654, 3652: 4655, 3653: 4658, 3654: 4659, 3655: 4660, 3656: 4661, 3657: 4662, 3658: 4663, 3659: 4664, 3660: 4666, 3661: 4667, 3662: 4670, 3663: 4673, 3664: 4674, 3665: 4675, 3666: 4676, 3667: 4677, 3668: 4678, 3669: 4679, 3670: 4680, 3671: 4681, 3672: 4682, 3673: 4684, 3674: 4686, 3675: 4687, 3676: 4688, 3677: 4690, 3678: 4691, 3679: 4692, 3680: 4696, 3681: 4697, 3682: 4698, 3683: 4699, 3684: 4700, 3685: 4701, 3686: 4703, 3687: 4704, 3688: 4705, 3689: 4706, 3690: 4709, 3691: 4710, 3692: 4711, 3693: 4713, 3694: 4714, 3695: 4716, 3696: 4717, 3697: 4718, 3698: 4719, 3699: 4720, 3700: 4721, 3701: 4722, 3702: 4723, 3703: 4724, 3704: 4725, 3705: 4727, 3706: 4728, 3707: 4731, 3708: 4732, 3709: 4733, 3710: 4734, 3711: 4735, 3712: 4736, 3713: 4737, 3714: 4738, 3715: 4740, 3716: 4741, 3717: 4743, 3718: 4744, 3719: 4745, 3720: 4748, 3721: 4749, 3722: 4750, 3723: 4751, 3724: 4752, 3725: 4753, 3726: 4754, 3727: 4755, 3728: 4756, 3729: 4757, 3730: 4761, 3731: 4765, 3732: 4766, 3733: 4767, 3734: 4768, 3735: 4769, 3736: 4770, 3737: 4771, 3738: 4772, 3739: 4774, 3740: 4775, 3741: 4776, 3742: 4782, 3743: 4783, 3744: 4784, 3745: 4787, 3746: 4789, 3747: 4792, 3748: 4795, 3749: 4796, 3750: 4798, 3751: 4799, 3752: 4800, 3753: 4801, 3754: 4802, 3755: 4803, 3756: 4804, 3757: 4806, 3758: 4809, 3759: 4810, 3760: 4811, 3761: 4812, 3762: 4814, 3763: 4815, 3764: 4816, 3765: 4818, 3766: 4821, 3767: 4822, 3768: 4823, 3769: 4826, 3770: 4830, 3771: 4831, 3772: 4832, 3773: 4833, 3774: 4834, 3775: 4835, 3776: 4836, 3777: 4837, 3778: 4840, 3779: 4842, 3780: 4844, 3781: 4846, 3782: 4848, 3783: 4849, 3784: 4851, 3785: 4854, 3786: 4855, 3787: 4857, 3788: 4859, 3789: 4861, 3790: 4862, 3791: 4863, 3792: 4865, 3793: 4866, 3794: 4867, 3795: 4873, 3796: 4874, 3797: 4875, 3798: 4876, 3799: 4878, 3800: 4880, 3801: 4881, 3802: 4885, 3803: 4886, 3804: 4887, 3805: 4888, 3806: 4889, 3807: 4890, 3808: 4893, 3809: 4895, 3810: 4896, 3811: 4897, 3812: 4898, 3813: 4899, 3814: 4901, 3815: 4902, 3816: 4903, 3817: 4911, 3818: 4912, 3819: 4914, 3820: 4915, 3821: 4920, 3822: 4921, 3823: 4923, 3824: 4925, 3825: 4927, 3826: 4928, 3827: 4929, 3828: 4930, 3829: 4932, 3830: 4933, 3831: 4936, 3832: 4941, 3833: 4945, 3834: 4947, 3835: 4948, 3836: 4949, 3837: 4951, 3838: 4952, 3839: 4954, 3840: 4956, 3841: 4957, 3842: 4958, 3843: 4960, 3844: 4961, 3845: 4963, 3846: 4964, 3847: 4965, 3848: 4967, 3849: 4968, 3850: 4969, 3851: 4970, 3852: 4971, 3853: 4972, 3854: 4973, 3855: 4974, 3856: 4975, 3857: 4976, 3858: 4977, 3859: 4978, 3860: 4979, 3861: 4980, 3862: 4981, 3863: 4984, 3864: 4987, 3865: 4988, 3866: 4989, 3867: 4990, 3868: 4992, 3869: 4993, 3870: 4994, 3871: 4995, 3872: 4996, 3873: 4998, 3874: 4999, 3875: 5000, 3876: 5001, 3877: 5002, 3878: 5003, 3879: 5004, 3880: 5008, 3881: 5009, 3882: 5010, 3883: 5012, 3884: 5013, 3885: 5014, 3886: 5015, 3887: 5016, 3888: 5017, 3889: 5018, 3890: 5021, 3891: 5022, 3892: 5023, 3893: 5025, 3894: 5026, 3895: 5027, 3896: 5028, 3897: 5033, 3898: 5034, 3899: 5038, 3900: 5039, 3901: 5040, 3902: 5041, 3903: 5042, 3904: 5043, 3905: 5046, 3906: 5047, 3907: 5048, 3908: 5049, 3909: 5051, 3910: 5053, 3911: 5054, 3912: 5055, 3913: 5056, 3914: 5057, 3915: 5059, 3916: 5060, 3917: 5061, 3918: 5062, 3919: 5063, 3920: 5064, 3921: 5065, 3922: 5066, 3923: 5069, 3924: 5071, 3925: 5072, 3926: 5073, 3927: 5074, 3928: 5075, 3929: 5076, 3930: 5079, 3931: 5080, 3932: 5081, 3933: 5083, 3934: 5085, 3935: 5087, 3936: 5088, 3937: 5092, 3938: 5093, 3939: 5094, 3940: 5095, 3941: 5096, 3942: 5097, 3943: 5098, 3944: 5099, 3945: 5101, 3946: 5102, 3947: 5103, 3948: 5105, 3949: 5106, 3950: 5107, 3951: 5108, 3952: 5109, 3953: 5110, 3954: 5111, 3955: 5114, 3956: 5117, 3957: 5119, 3958: 5120, 3959: 5121, 3960: 5122, 3961: 5125, 3962: 5127, 3963: 5128, 3964: 5134, 3965: 5135, 3966: 5137, 3967: 5139, 3968: 5141, 3969: 5142, 3970: 5146, 3971: 5147, 3972: 5151, 3973: 5152, 3974: 5153, 3975: 5159, 3976: 5161, 3977: 5164, 3978: 5165, 3979: 5167, 3980: 5168, 3981: 5170, 3982: 5171, 3983: 5172, 3984: 5177, 3985: 5179, 3986: 5180, 3987: 5182, 3988: 5186, 3989: 5187, 3990: 5193, 3991: 5198, 3992: 5199, 3993: 5202, 3994: 5203, 3995: 5205, 3996: 5208, 3997: 5210, 3998: 5214, 3999: 5218, 4000: 5219, 4001: 5220, 4002: 5222, 4003: 5223, 4004: 5224, 4005: 5225, 4006: 5226, 4007: 5227, 4008: 5229, 4009: 5230, 4010: 5231, 4011: 5232, 4012: 5233, 4013: 5234, 4014: 5236, 4015: 5237, 4016: 5238, 4017: 5241, 4018: 5242, 4019: 5243, 4020: 5244, 4021: 5246, 4022: 5247, 4023: 5248, 4024: 5250, 4025: 5254, 4026: 5255, 4027: 5256, 4028: 5258, 4029: 5264, 4030: 5265, 4031: 5266, 4032: 5267, 4033: 5269, 4034: 5271, 4035: 5275, 4036: 5276, 4037: 5277, 4038: 5278, 4039: 5279, 4040: 5282, 4041: 5283, 4042: 5285, 4043: 5288, 4044: 5291, 4045: 5292, 4046: 5293, 4047: 5294, 4048: 5296, 4049: 5297, 4050: 5298, 4051: 5299, 4052: 5300, 4053: 5301, 4054: 5302, 4055: 5303, 4056: 5304, 4057: 5305, 4058: 5307, 4059: 5308, 4060: 5309, 4061: 5312, 4062: 5313, 4063: 5315, 4064: 5316, 4065: 5319, 4066: 5323, 4067: 5324, 4068: 5325, 4069: 5329, 4070: 5333, 4071: 5334, 4072: 5335, 4073: 5337, 4074: 5339, 4075: 5341, 4076: 5342, 4077: 5343, 4078: 5344, 4079: 5346, 4080: 5348, 4081: 5349, 4082: 5352, 4083: 5353, 4084: 5354, 4085: 5356, 4086: 5357, 4087: 5359, 4088: 5360, 4089: 5361, 4090: 5363, 4091: 5364, 4092: 5365, 4093: 5366, 4094: 5367, 4095: 5372, 4096: 5373, 4097: 5375, 4098: 5377, 4099: 5378, 4100: 5379, 4101: 5380, 4102: 5382, 4103: 5383, 4104: 5384, 4105: 5385, 4106: 5387, 4107: 5388, 4108: 5389, 4109: 5391, 4110: 5395, 4111: 5398, 4112: 5400, 4113: 5401, 4114: 5404, 4115: 5410, 4116: 5413, 4117: 5414, 4118: 5415, 4119: 5416, 4120: 5417, 4121: 5418, 4122: 5419, 4123: 5420, 4124: 5421, 4125: 5422, 4126: 5425, 4127: 5427, 4128: 5428, 4129: 5433, 4130: 5434, 4131: 5438, 4132: 5440, 4133: 5443, 4134: 5444, 4135: 5445, 4136: 5446, 4137: 5447, 4138: 5448, 4139: 5449, 4140: 5450, 4141: 5452, 4142: 5458, 4143: 5459, 4144: 5460, 4145: 5462, 4146: 5463, 4147: 5464, 4148: 5466, 4149: 5470, 4150: 5471, 4151: 5473, 4152: 5475, 4153: 5477, 4154: 5478, 4155: 5479, 4156: 5480, 4157: 5481, 4158: 5483, 4159: 5489, 4160: 5490, 4161: 5498, 4162: 5500, 4163: 5501, 4164: 5502, 4165: 5503, 4166: 5504, 4167: 5505, 4168: 5506, 4169: 5507, 4170: 5508, 4171: 5515, 4172: 5516, 4173: 5517, 4174: 5518, 4175: 5521, 4176: 5522, 4177: 5523, 4178: 5524, 4179: 5525, 4180: 5527, 4181: 5528, 4182: 5530, 4183: 5531, 4184: 5534, 4185: 5535, 4186: 5538, 4187: 5539, 4188: 5540, 4189: 5541, 4190: 5544, 4191: 5548, 4192: 5553, 4193: 5556, 4194: 5558, 4195: 5560, 4196: 5561, 4197: 5562, 4198: 5564, 4199: 5568, 4200: 5569, 4201: 5570, 4202: 5572, 4203: 5573, 4204: 5574, 4205: 5575, 4206: 5577, 4207: 5581, 4208: 5582, 4209: 5585, 4210: 5588, 4211: 5597, 4212: 5599, 4213: 5600, 4214: 5601, 4215: 5602, 4216: 5603, 4217: 5604, 4218: 5605, 4219: 5607, 4220: 5608, 4221: 5609, 4222: 5611, 4223: 5612, 4224: 5613, 4225: 5615, 4226: 5617, 4227: 5618, 4228: 5619, 4229: 5620, 4230: 5621, 4231: 5622, 4232: 5625, 4233: 5628, 4234: 5629, 4235: 5630, 4236: 5632, 4237: 5633, 4238: 5636, 4239: 5637, 4240: 5638, 4241: 5641, 4242: 5642, 4243: 5643, 4244: 5644, 4245: 5646, 4246: 5649, 4247: 5650, 4248: 5651, 4249: 5655, 4250: 5662, 4251: 5663, 4252: 5666, 4253: 5667, 4254: 5668, 4255: 5669, 4256: 5670, 4257: 5672, 4258: 5673, 4259: 5675, 4260: 5677, 4261: 5678, 4262: 5679, 4263: 5680, 4264: 5682, 4265: 5684, 4266: 5685, 4267: 5686, 4268: 5689, 4269: 5690, 4270: 5691, 4271: 5693, 4272: 5694, 4273: 5696, 4274: 5699, 4275: 5700, 4276: 5703, 4277: 5705, 4278: 5707, 4279: 5710, 4280: 5712, 4281: 5715, 4282: 5718, 4283: 5723, 4284: 5729, 4285: 5732, 4286: 5734, 4287: 5735, 4288: 5736, 4289: 5737, 4290: 5742, 4291: 5745, 4292: 5746, 4293: 5747, 4294: 5752, 4295: 5754, 4296: 5765, 4297: 5768, 4298: 5772, 4299: 5773, 4300: 5777, 4301: 5778, 4302: 5779, 4303: 5780, 4304: 5782, 4305: 5784, 4306: 5785, 4307: 5787, 4308: 5788, 4309: 5791, 4310: 5792, 4311: 5795, 4312: 5796, 4313: 5799, 4314: 5801, 4315: 5803, 4316: 5808, 4317: 5809, 4318: 5810, 4319: 5812, 4320: 5815, 4321: 5816, 4322: 5818, 4323: 5819, 4324: 5820, 4325: 5825, 4326: 5826, 4327: 5828, 4328: 5829, 4329: 5830, 4330: 5832, 4331: 5833, 4332: 5834, 4333: 5836, 4334: 5839, 4335: 5840, 4336: 5841, 4337: 5843, 4338: 5846, 4339: 5847, 4340: 5850, 4341: 5853, 4342: 5854, 4343: 5857, 4344: 5859, 4345: 5864, 4346: 5866, 4347: 5867, 4348: 5868, 4349: 5869, 4350: 5872, 4351: 5873, 4352: 5874, 4353: 5875, 4354: 5876, 4355: 5878, 4356: 5879, 4357: 5880, 4358: 5881, 4359: 5882, 4360: 5883, 4361: 5888, 4362: 5891, 4363: 5893, 4364: 5899, 4365: 5900, 4366: 5901, 4367: 5902, 4368: 5903, 4369: 5909, 4370: 5910, 4371: 5913, 4372: 5914, 4373: 5915, 4374: 5917, 4375: 5918, 4376: 5923, 4377: 5926, 4378: 5927, 4379: 5932, 4380: 5933, 4381: 5936, 4382: 5938, 4383: 5940, 4384: 5941, 4385: 5942, 4386: 5943, 4387: 5944, 4388: 5945, 4389: 5947, 4390: 5949, 4391: 5952, 4392: 5954, 4393: 5955, 4394: 5956, 4395: 5957, 4396: 5958, 4397: 5959, 4398: 5960, 4399: 5961, 4400: 5962, 4401: 5963, 4402: 5965, 4403: 5966, 4404: 5968, 4405: 5969, 4406: 5970, 4407: 5971, 4408: 5980, 4409: 5981, 4410: 5985, 4411: 5986, 4412: 5989, 4413: 5991, 4414: 5992, 4415: 5993, 4416: 5994, 4417: 5995, 4418: 6000, 4419: 6001, 4420: 6003, 4421: 6005, 4422: 6006, 4423: 6008, 4424: 6012, 4425: 6013, 4426: 6014, 4427: 6016, 4428: 6021, 4429: 6022, 4430: 6025, 4431: 6027, 4432: 6031, 4433: 6032, 4434: 6033, 4435: 6035, 4436: 6037, 4437: 6039, 4438: 6040, 4439: 6042, 4440: 6047, 4441: 6051, 4442: 6056, 4443: 6057, 4444: 6058, 4445: 6059, 4446: 6060, 4447: 6062, 4448: 6063, 4449: 6064, 4450: 6073, 4451: 6077, 4452: 6078, 4453: 6084, 4454: 6091, 4455: 6092, 4456: 6093, 4457: 6095, 4458: 6096, 4459: 6100, 4460: 6101, 4461: 6103, 4462: 6104, 4463: 6105, 4464: 6107, 4465: 6109, 4466: 6114, 4467: 6115, 4468: 6116, 4469: 6121, 4470: 6122, 4471: 6123, 4472: 6124, 4473: 6125, 4474: 6126, 4475: 6127, 4476: 6132, 4477: 6133, 4478: 6140, 4479: 6143, 4480: 6148, 4481: 6154, 4482: 6155, 4483: 6156, 4484: 6157, 4485: 6159, 4486: 6162, 4487: 6163, 4488: 6166, 4489: 6170, 4490: 6178, 4491: 6180, 4492: 6182, 4493: 6183, 4494: 6184, 4495: 6185, 4496: 6186, 4497: 6187, 4498: 6188, 4499: 6195, 4500: 6197, 4501: 6198, 4502: 6201, 4503: 6203, 4504: 6204, 4505: 6207, 4506: 6211, 4507: 6212, 4508: 6213, 4509: 6214, 4510: 6215, 4511: 6216, 4512: 6218, 4513: 6219, 4514: 6223, 4515: 6225, 4516: 6227, 4517: 6228, 4518: 6230, 4519: 6231, 4520: 6232, 4521: 6233, 4522: 6234, 4523: 6235, 4524: 6237, 4525: 6238, 4526: 6239, 4527: 6240, 4528: 6242, 4529: 6243, 4530: 6244, 4531: 6245, 4532: 6247, 4533: 6249, 4534: 6250, 4535: 6252, 4536: 6254, 4537: 6256, 4538: 6257, 4539: 6260, 4540: 6261, 4541: 6263, 4542: 6264, 4543: 6265, 4544: 6266, 4545: 6268, 4546: 6269, 4547: 6271, 4548: 6273, 4549: 6276, 4550: 6279, 4551: 6281, 4552: 6283, 4553: 6284, 4554: 6286, 4555: 6287, 4556: 6290, 4557: 6291, 4558: 6294, 4559: 6295, 4560: 6296, 4561: 6297, 4562: 6298, 4563: 6299, 4564: 6300, 4565: 6301, 4566: 6302, 4567: 6303, 4568: 6305, 4569: 6306, 4570: 6308, 4571: 6314, 4572: 6315, 4573: 6316, 4574: 6318, 4575: 6322, 4576: 6323, 4577: 6327, 4578: 6329, 4579: 6331, 4580: 6332, 4581: 6333, 4582: 6335, 4583: 6337, 4584: 6338, 4585: 6339, 4586: 6341, 4587: 6342, 4588: 6344, 4589: 6345, 4590: 6348, 4591: 6349, 4592: 6350, 4593: 6355, 4594: 6356, 4595: 6357, 4596: 6358, 4597: 6365, 4598: 6367, 4599: 6368, 4600: 6369, 4601: 6370, 4602: 6373, 4603: 6375, 4604: 6377, 4605: 6378, 4606: 6379, 4607: 6380, 4608: 6383, 4609: 6384, 4610: 6385, 4611: 6386, 4612: 6387, 4613: 6390, 4614: 6395, 4615: 6400, 4616: 6404, 4617: 6405, 4618: 6408, 4619: 6410, 4620: 6412, 4621: 6413, 4622: 6414, 4623: 6415, 4624: 6416, 4625: 6419, 4626: 6422, 4627: 6423, 4628: 6424, 4629: 6425, 4630: 6426, 4631: 6427, 4632: 6428, 4633: 6429, 4634: 6431, 4635: 6432, 4636: 6433, 4637: 6436, 4638: 6440, 4639: 6442, 4640: 6446, 4641: 6447, 4642: 6448, 4643: 6449, 4644: 6450, 4645: 6452, 4646: 6454, 4647: 6458, 4648: 6460, 4649: 6461, 4650: 6464, 4651: 6465, 4652: 6466, 4653: 6467, 4654: 6468, 4655: 6470, 4656: 6473, 4657: 6474, 4658: 6476, 4659: 6477, 4660: 6480, 4661: 6482, 4662: 6484, 4663: 6493, 4664: 6498, 4665: 6502, 4666: 6503, 4667: 6506, 4668: 6509, 4669: 6513, 4670: 6514, 4671: 6516, 4672: 6518, 4673: 6521, 4674: 6522, 4675: 6525, 4676: 6527, 4677: 6528, 4678: 6530, 4679: 6531, 4680: 6533, 4681: 6534, 4682: 6535, 4683: 6536, 4684: 6537, 4685: 6538, 4686: 6539, 4687: 6541, 4688: 6547, 4689: 6548, 4690: 6550, 4691: 6552, 4692: 6559, 4693: 6561, 4694: 6562, 4695: 6564, 4696: 6565, 4697: 6566, 4698: 6568, 4699: 6571, 4700: 6579, 4701: 6582, 4702: 6584, 4703: 6585, 4704: 6586, 4705: 6587, 4706: 6591, 4707: 6592, 4708: 6593, 4709: 6595, 4710: 6596, 4711: 6598, 4712: 6599, 4713: 6600, 4714: 6602, 4715: 6603, 4716: 6609, 4717: 6611, 4718: 6612, 4719: 6613, 4720: 6615, 4721: 6617, 4722: 6618, 4723: 6620, 4724: 6624, 4725: 6628, 4726: 6629, 4727: 6630, 4728: 6636, 4729: 6638, 4730: 6639, 4731: 6641, 4732: 6643, 4733: 6644, 4734: 6645, 4735: 6646, 4736: 6650, 4737: 6658, 4738: 6659, 4739: 6662, 4740: 6663, 4741: 6664, 4742: 6665, 4743: 6666, 4744: 6669, 4745: 6671, 4746: 6676, 4747: 6678, 4748: 6679, 4749: 6684, 4750: 6686, 4751: 6690, 4752: 6695, 4753: 6703, 4754: 6706, 4755: 6707, 4756: 6708, 4757: 6709, 4758: 6710, 4759: 6711, 4760: 6713, 4761: 6718, 4762: 6721, 4763: 6722, 4764: 6723, 4765: 6724, 4766: 6725, 4767: 6728, 4768: 6730, 4769: 6731, 4770: 6732, 4771: 6735, 4772: 6739, 4773: 6743, 4774: 6744, 4775: 6748, 4776: 6751, 4777: 6753, 4778: 6754, 4779: 6755, 4780: 6757, 4781: 6760, 4782: 6762, 4783: 6763, 4784: 6764, 4785: 6765, 4786: 6768, 4787: 6769, 4788: 6770, 4789: 6771, 4790: 6772, 4791: 6773, 4792: 6774, 4793: 6776, 4794: 6777, 4795: 6779, 4796: 6780, 4797: 6782, 4798: 6783, 4799: 6785, 4800: 6786, 4801: 6787, 4802: 6788, 4803: 6790, 4804: 6791, 4805: 6793, 4806: 6794, 4807: 6796, 4808: 6797, 4809: 6798, 4810: 6800, 4811: 6803, 4812: 6806, 4813: 6807, 4814: 6808, 4815: 6810, 4816: 6811, 4817: 6812, 4818: 6813, 4819: 6814, 4820: 6816, 4821: 6818, 4822: 6820, 4823: 6822, 4824: 6826, 4825: 6827, 4826: 6828, 4827: 6829, 4828: 6832, 4829: 6835, 4830: 6840, 4831: 6850, 4832: 6851, 4833: 6852, 4834: 6856, 4835: 6857, 4836: 6858, 4837: 6862, 4838: 6863, 4839: 6864, 4840: 6867, 4841: 6868, 4842: 6869, 4843: 6870, 4844: 6872, 4845: 6873, 4846: 6874, 4847: 6875, 4848: 6877, 4849: 6879, 4850: 6880, 4851: 6881, 4852: 6883, 4853: 6884, 4854: 6885, 4855: 6887, 4856: 6888, 4857: 6889, 4858: 6890, 4859: 6892, 4860: 6893, 4861: 6896, 4862: 6898, 4863: 6902, 4864: 6906, 4865: 6909, 4866: 6918, 4867: 6920, 4868: 6927, 4869: 6930, 4870: 6932, 4871: 6934, 4872: 6935, 4873: 6936, 4874: 6940, 4875: 6942, 4876: 6944, 4877: 6945, 4878: 6947, 4879: 6950, 4880: 6951, 4881: 6952, 4882: 6953, 4883: 6954, 4884: 6957, 4885: 6958, 4886: 6959, 4887: 6961, 4888: 6963, 4889: 6964, 4890: 6966, 4891: 6970, 4892: 6971, 4893: 6974, 4894: 6975, 4895: 6977, 4896: 6978, 4897: 6979, 4898: 6981, 4899: 6982, 4900: 6983, 4901: 6985, 4902: 6986, 4903: 6987, 4904: 6989, 4905: 6990, 4906: 6991, 4907: 6992, 4908: 6993, 4909: 6995, 4910: 6996, 4911: 6997, 4912: 6999, 4913: 7000, 4914: 7001, 4915: 7002, 4916: 7003, 4917: 7004, 4918: 7005, 4919: 7007, 4920: 7008, 4921: 7009, 4922: 7010, 4923: 7011, 4924: 7012, 4925: 7013, 4926: 7016, 4927: 7017, 4928: 7018, 4929: 7020, 4930: 7022, 4931: 7023, 4932: 7024, 4933: 7025, 4934: 7026, 4935: 7027, 4936: 7028, 4937: 7029, 4938: 7034, 4939: 7036, 4940: 7038, 4941: 7040, 4942: 7042, 4943: 7043, 4944: 7044, 4945: 7045, 4946: 7046, 4947: 7048, 4948: 7050, 4949: 7051, 4950: 7055, 4951: 7056, 4952: 7058, 4953: 7059, 4954: 7060, 4955: 7061, 4956: 7062, 4957: 7063, 4958: 7064, 4959: 7065, 4960: 7067, 4961: 7068, 4962: 7069, 4963: 7070, 4964: 7071, 4965: 7072, 4966: 7073, 4967: 7074, 4968: 7075, 4969: 7076, 4970: 7078, 4971: 7079, 4972: 7080, 4973: 7081, 4974: 7082, 4975: 7083, 4976: 7084, 4977: 7085, 4978: 7086, 4979: 7087, 4980: 7088, 4981: 7089, 4982: 7090, 4983: 7091, 4984: 7093, 4985: 7095, 4986: 7096, 4987: 7099, 4988: 7101, 4989: 7102, 4990: 7104, 4991: 7107, 4992: 7108, 4993: 7110, 4994: 7111, 4995: 7115, 4996: 7116, 4997: 7117, 4998: 7121, 4999: 7122, 5000: 7123, 5001: 7125, 5002: 7126, 5003: 7130, 5004: 7131, 5005: 7132, 5006: 7135, 5007: 7136, 5008: 7137, 5009: 7139, 5010: 7142, 5011: 7143, 5012: 7147, 5013: 7149, 5014: 7150, 5015: 7151, 5016: 7152, 5017: 7153, 5018: 7154, 5019: 7155, 5020: 7156, 5021: 7158, 5022: 7160, 5023: 7161, 5024: 7162, 5025: 7163, 5026: 7164, 5027: 7165, 5028: 7171, 5029: 7172, 5030: 7173, 5031: 7177, 5032: 7178, 5033: 7179, 5034: 7180, 5035: 7182, 5036: 7186, 5037: 7189, 5038: 7190, 5039: 7192, 5040: 7193, 5041: 7195, 5042: 7196, 5043: 7198, 5044: 7199, 5045: 7204, 5046: 7206, 5047: 7207, 5048: 7208, 5049: 7209, 5050: 7210, 5051: 7211, 5052: 7212, 5053: 7215, 5054: 7216, 5055: 7217, 5056: 7219, 5057: 7222, 5058: 7223, 5059: 7228, 5060: 7234, 5061: 7235, 5062: 7236, 5063: 7238, 5064: 7245, 5065: 7247, 5066: 7248, 5067: 7250, 5068: 7254, 5069: 7255, 5070: 7256, 5071: 7257, 5072: 7258, 5073: 7260, 5074: 7263, 5075: 7265, 5076: 7266, 5077: 7272, 5078: 7282, 5079: 7283, 5080: 7285, 5081: 7293, 5082: 7294, 5083: 7299, 5084: 7300, 5085: 7302, 5086: 7303, 5087: 7305, 5088: 7307, 5089: 7308, 5090: 7309, 5091: 7311, 5092: 7312, 5093: 7315, 5094: 7316, 5095: 7317, 5096: 7318, 5097: 7319, 5098: 7320, 5099: 7323, 5100: 7324, 5101: 7325, 5102: 7327, 5103: 7334, 5104: 7340, 5105: 7343, 5106: 7346, 5107: 7347, 5108: 7348, 5109: 7349, 5110: 7352, 5111: 7354, 5112: 7355, 5113: 7357, 5114: 7358, 5115: 7360, 5116: 7361, 5117: 7362, 5118: 7366, 5119: 7367, 5120: 7369, 5121: 7371, 5122: 7372, 5123: 7373, 5124: 7374, 5125: 7375, 5126: 7376, 5127: 7379, 5128: 7380, 5129: 7381, 5130: 7382, 5131: 7386, 5132: 7387, 5133: 7394, 5134: 7395, 5135: 7396, 5136: 7407, 5137: 7411, 5138: 7415, 5139: 7419, 5140: 7437, 5141: 7438, 5142: 7439, 5143: 7444, 5144: 7445, 5145: 7448, 5146: 7449, 5147: 7450, 5148: 7451, 5149: 7453, 5150: 7454, 5151: 7456, 5152: 7458, 5153: 7459, 5154: 7460, 5155: 7478, 5156: 7481, 5157: 7482, 5158: 7484, 5159: 7487, 5160: 7492, 5161: 7493, 5162: 7502, 5163: 7505, 5164: 7541, 5165: 7560, 5166: 7564, 5167: 7566, 5168: 7569, 5169: 7570, 5170: 7571, 5171: 7572, 5172: 7573, 5173: 7574, 5174: 7577, 5175: 7579, 5176: 7583, 5177: 7584, 5178: 7585, 5179: 7586, 5180: 7587, 5181: 7613, 5182: 7614, 5183: 7615, 5184: 7616, 5185: 7619, 5186: 7620, 5187: 7624, 5188: 7625, 5189: 7627, 5190: 7636, 5191: 7649, 5192: 7650, 5193: 7669, 5194: 7697, 5195: 7698, 5196: 7700, 5197: 7701, 5198: 7702, 5199: 7705, 5200: 7706, 5201: 7708, 5202: 7713, 5203: 7714, 5204: 7720, 5205: 7728, 5206: 7738, 5207: 7743, 5208: 7748, 5209: 7753, 5210: 7757, 5211: 7759, 5212: 7762, 5213: 7764, 5214: 7766, 5215: 7767, 5216: 7771, 5217: 7773, 5218: 7774, 5219: 7782, 5220: 7786, 5221: 7787, 5222: 7789, 5223: 7790, 5224: 7791, 5225: 7792, 5226: 7802, 5227: 7809, 5228: 7810, 5229: 7811, 5230: 7812, 5231: 7815, 5232: 7817, 5233: 7818, 5234: 7820, 5235: 7822, 5236: 7826, 5237: 7827, 5238: 7831, 5239: 7832, 5240: 7833, 5241: 7834, 5242: 7835, 5243: 7836, 5244: 7840, 5245: 7841, 5246: 7842, 5247: 7843, 5248: 7844, 5249: 7845, 5250: 7846, 5251: 7872, 5252: 7878, 5253: 7881, 5254: 7882, 5255: 7883, 5256: 7888, 5257: 7889, 5258: 7892, 5259: 7894, 5260: 7895, 5261: 7897, 5262: 7899, 5263: 7914, 5264: 7915, 5265: 7916, 5266: 7919, 5267: 7920, 5268: 7921, 5269: 7922, 5270: 7924, 5271: 7925, 5272: 7926, 5273: 7932, 5274: 7934, 5275: 7935, 5276: 7936, 5277: 7938, 5278: 7939, 5279: 7941, 5280: 7942, 5281: 7943, 5282: 7944, 5283: 7946, 5284: 7947, 5285: 7948, 5286: 7951, 5287: 7958, 5288: 7959, 5289: 7976, 5290: 7979, 5291: 7980, 5292: 7981, 5293: 7982, 5294: 7983, 5295: 7984, 5296: 7987, 5297: 7990, 5298: 7991, 5299: 7995, 5300: 8003, 5301: 8008, 5302: 8009, 5303: 8010, 5304: 8011, 5305: 8012, 5306: 8014, 5307: 8015, 5308: 8016, 5309: 8019, 5310: 8033, 5311: 8039, 5312: 8042, 5313: 8044, 5314: 8056, 5315: 8057, 5316: 8070, 5317: 8093, 5318: 8094, 5319: 8117, 5320: 8121, 5321: 8123, 5322: 8125, 5323: 8126, 5324: 8128, 5325: 8129, 5326: 8130, 5327: 8131, 5328: 8132, 5329: 8133, 5330: 8136, 5331: 8137, 5332: 8138, 5333: 8142, 5334: 8143, 5335: 8147, 5336: 8154, 5337: 8157, 5338: 8158, 5339: 8167, 5340: 8169, 5341: 8183, 5342: 8187, 5343: 8188, 5344: 8189, 5345: 8190, 5346: 8191, 5347: 8194, 5348: 8195, 5349: 8196, 5350: 8197, 5351: 8199, 5352: 8207, 5353: 8208, 5354: 8225, 5355: 8228, 5356: 8235, 5357: 8239, 5358: 8240, 5359: 8253, 5360: 8254, 5361: 8256, 5362: 8257, 5363: 8261, 5364: 8263, 5365: 8264, 5366: 8266, 5367: 8267, 5368: 8268, 5369: 8273, 5370: 8275, 5371: 8290, 5372: 8327, 5373: 8331, 5374: 8332, 5375: 8336, 5376: 8337, 5377: 8338, 5378: 8340, 5379: 8341, 5380: 8360, 5381: 8361, 5382: 8362, 5383: 8363, 5384: 8364, 5385: 8366, 5386: 8367, 5387: 8368, 5388: 8369, 5389: 8370, 5390: 8371, 5391: 8372, 5392: 8373, 5393: 8376, 5394: 8385, 5395: 8387, 5396: 8388, 5397: 8392, 5398: 8403, 5399: 8404, 5400: 8410, 5401: 8420, 5402: 8422, 5403: 8423, 5404: 8447, 5405: 8451, 5406: 8453, 5407: 8459, 5408: 8460, 5409: 8462, 5410: 8463, 5411: 8464, 5412: 8465, 5413: 8477, 5414: 8482, 5415: 8484, 5416: 8485, 5417: 8487, 5418: 8491, 5419: 8492, 5420: 8493, 5421: 8499, 5422: 8502, 5423: 8504, 5424: 8507, 5425: 8511, 5426: 8522, 5427: 8524, 5428: 8525, 5429: 8526, 5430: 8527, 5431: 8528, 5432: 8529, 5433: 8530, 5434: 8531, 5435: 8533, 5436: 8534, 5437: 8535, 5438: 8537, 5439: 8542, 5440: 8544, 5441: 8571, 5442: 8572, 5443: 8574, 5444: 8575, 5445: 8576, 5446: 8577, 5447: 8580, 5448: 8581, 5449: 8582, 5450: 8583, 5451: 8584, 5452: 8589, 5453: 8591, 5454: 8596, 5455: 8600, 5456: 8604, 5457: 8607, 5458: 8609, 5459: 8610, 5460: 8611, 5461: 8612, 5462: 8614, 5463: 8616, 5464: 8617, 5465: 8618, 5466: 8620, 5467: 8622, 5468: 8623, 5469: 8625, 5470: 8629, 5471: 8633, 5472: 8636, 5473: 8638, 5474: 8640, 5475: 8641, 5476: 8642, 5477: 8643, 5478: 8644, 5479: 8645, 5480: 8650, 5481: 8654, 5482: 8656, 5483: 8657, 5484: 8661, 5485: 8665, 5486: 8666, 5487: 8667, 5488: 8670, 5489: 8672, 5490: 8675, 5491: 8684, 5492: 8689, 5493: 8690, 5494: 8695, 5495: 8699, 5496: 8700, 5497: 8709, 5498: 8711, 5499: 8712, 5500: 8713, 5501: 8718, 5502: 8720, 5503: 8722, 5504: 8724, 5505: 8725, 5506: 8727, 5507: 8730, 5508: 8743, 5509: 8745, 5510: 8751, 5511: 8752, 5512: 8753, 5513: 8754, 5514: 8761, 5515: 8763, 5516: 8765, 5517: 8768, 5518: 8772, 5519: 8777, 5520: 8779, 5521: 8781, 5522: 8783, 5523: 8784, 5524: 8785, 5525: 8790, 5526: 8795, 5527: 8796, 5528: 8797, 5529: 8798, 5530: 8799, 5531: 8800, 5532: 8807, 5533: 8808, 5534: 8810, 5535: 8811, 5536: 8813, 5537: 8814, 5538: 8819, 5539: 8820, 5540: 8821, 5541: 8823, 5542: 8827, 5543: 8828, 5544: 8830, 5545: 8831, 5546: 8832, 5547: 8833, 5548: 8835, 5549: 8836, 5550: 8838, 5551: 8839, 5552: 8840, 5553: 8848, 5554: 8850, 5555: 8851, 5556: 8853, 5557: 8854, 5558: 8857, 5559: 8859, 5560: 8860, 5561: 8861, 5562: 8864, 5563: 8865, 5564: 8866, 5565: 8870, 5566: 8871, 5567: 8872, 5568: 8873, 5569: 8874, 5570: 8879, 5571: 8880, 5572: 8882, 5573: 8884, 5574: 8892, 5575: 8893, 5576: 8899, 5577: 8903, 5578: 8906, 5579: 8907, 5580: 8908, 5581: 8910, 5582: 8911, 5583: 8914, 5584: 8915, 5585: 8916, 5586: 8917, 5587: 8918, 5588: 8920, 5589: 8921, 5590: 8923, 5591: 8927, 5592: 8928, 5593: 8929, 5594: 8930, 5595: 8931, 5596: 8933, 5597: 8935, 5598: 8937, 5599: 8938, 5600: 8943, 5601: 8946, 5602: 8947, 5603: 8948, 5604: 8949, 5605: 8950, 5606: 8951, 5607: 8954, 5608: 8955, 5609: 8957, 5610: 8958, 5611: 8961, 5612: 8963, 5613: 8964, 5614: 8965, 5615: 8966, 5616: 8968, 5617: 8969, 5618: 8970, 5619: 8972, 5620: 8973, 5621: 8974, 5622: 8977, 5623: 8979, 5624: 8981, 5625: 8982, 5626: 8983, 5627: 8984, 5628: 8985, 5629: 8986, 5630: 8987, 5631: 8988, 5632: 8989, 5633: 8998, 5634: 8999, 5635: 9000, 5636: 9001, 5637: 9004, 5638: 9005, 5639: 9010, 5640: 9012, 5641: 9018, 5642: 25737, 5643: 25744, 5644: 25750, 5645: 25752, 5646: 25753, 5647: 25755, 5648: 25763, 5649: 25764, 5650: 25769, 5651: 25771, 5652: 25773, 5653: 25774, 5654: 25777, 5655: 25788, 5656: 25792, 5657: 25795, 5658: 25801, 5659: 25805, 5660: 25807, 5661: 25825, 5662: 25826, 5663: 25827, 5664: 25828, 5665: 25839, 5666: 25841, 5667: 25842, 5668: 25850, 5669: 25852, 5670: 25856, 5671: 25865, 5672: 25868, 5673: 25874, 5674: 25882, 5675: 25886, 5676: 25891, 5677: 25898, 5678: 25900, 5679: 25901, 5680: 25904, 5681: 25906, 5682: 25911, 5683: 25916, 5684: 25920, 5685: 25929, 5686: 25930, 5687: 25937, 5688: 25940, 5689: 25941, 5690: 25945, 5691: 25947, 5692: 25952, 5693: 25962, 5694: 25965, 5695: 25971, 5696: 25972, 5697: 25993, 5698: 25995, 5699: 25996, 5700: 25999, 5701: 26003, 5702: 26005, 5703: 26007, 5704: 26009, 5705: 26010, 5706: 26012, 5707: 26013, 5708: 26025, 5709: 26052, 5710: 26079, 5711: 26082, 5712: 26084, 5713: 26085, 5714: 26086, 5715: 26093, 5716: 26094, 5717: 26111, 5718: 26116, 5719: 26117, 5720: 26122, 5721: 26125, 5722: 26131, 5723: 26133, 5724: 26147, 5725: 26150, 5726: 26151, 5727: 26152, 5728: 26157, 5729: 26160, 5730: 26163, 5731: 26164, 5732: 26171, 5733: 26172, 5734: 26176, 5735: 26178, 5736: 26180, 5737: 26188, 5738: 26198, 5739: 26199, 5740: 26208, 5741: 26228, 5742: 26229, 5743: 26231, 5744: 26241, 5745: 26242, 5746: 26251, 5747: 26258, 5748: 26265, 5749: 26268, 5750: 26271, 5751: 26294, 5752: 26302, 5753: 26303, 5754: 26313, 5755: 26317, 5756: 26318, 5757: 26320, 5758: 26322, 5759: 26323, 5760: 26324, 5761: 26325, 5762: 26326, 5763: 26338, 5764: 26342, 5765: 26346, 5766: 26349, 5767: 26350, 5768: 26366, 5769: 26371, 5770: 26375, 5771: 26386, 5772: 26391, 5773: 26393, 5774: 26394, 5775: 26400, 5776: 26403, 5777: 26404, 5778: 26409, 5779: 26413, 5780: 26414, 5781: 26422, 5782: 26425, 5783: 26430, 5784: 26435, 5785: 26462, 5786: 26464, 5787: 26467, 5788: 26471, 5789: 26472, 5790: 26480, 5791: 26485, 5792: 26487, 5793: 26492, 5794: 26494, 5795: 26501, 5796: 26505, 5797: 26509, 5798: 26513, 5799: 26524, 5800: 26528, 5801: 26547, 5802: 26554, 5803: 26555, 5804: 26562, 5805: 26564, 5806: 26574, 5807: 26578, 5808: 26581, 5809: 26585, 5810: 26587, 5811: 26599, 5812: 26603, 5813: 26606, 5814: 26614, 5815: 26622, 5816: 26631, 5817: 26649, 5818: 26655, 5819: 26662, 5820: 26663, 5821: 26680, 5822: 26684, 5823: 26686, 5824: 26689, 5825: 26693, 5826: 26694, 5827: 26695, 5828: 26700, 5829: 26701, 5830: 26702, 5831: 26704, 5832: 26712, 5833: 26726, 5834: 26729, 5835: 26731, 5836: 26732, 5837: 26736, 5838: 26737, 5839: 26749, 5840: 26750, 5841: 26775, 5842: 26776, 5843: 26782, 5844: 26784, 5845: 26788, 5846: 26791, 5847: 26797, 5848: 26809, 5849: 26810, 5850: 26812, 5851: 26819, 5852: 26835, 5853: 26838, 5854: 26840, 5855: 26842, 5856: 26843, 5857: 26850, 5858: 26854, 5859: 26865, 5860: 26870, 5861: 26886, 5862: 26903, 5863: 26915, 5864: 26947, 5865: 26974, 5866: 26999, 5867: 27002, 5868: 27005, 5869: 27020, 5870: 27022, 5871: 27032, 5872: 27075, 5873: 27109, 5874: 27156, 5875: 27178, 5876: 27186, 5877: 27193, 5878: 27251, 5879: 27253, 5880: 27255, 5881: 27266, 5882: 27317, 5883: 27322, 5884: 27329, 5885: 27334, 5886: 27338, 5887: 27351, 5888: 27369, 5889: 27373, 5890: 27376, 5891: 27397, 5892: 27410, 5893: 27416, 5894: 27423, 5895: 27441, 5896: 27478, 5897: 27482, 5898: 27523, 5899: 27544, 5900: 27555, 5901: 27592, 5902: 27604, 5903: 27611, 5904: 27646, 5905: 27648, 5906: 27660, 5907: 27664, 5908: 27674, 5909: 27685, 5910: 27689, 5911: 27700, 5912: 27704, 5913: 27706, 5914: 27713, 5915: 27721, 5916: 27722, 5917: 27724, 5918: 27727, 5919: 27728, 5920: 27731, 5921: 27741, 5922: 27751, 5923: 27768, 5924: 27772, 5925: 27773, 5926: 27778, 5927: 27783, 5928: 27784, 5929: 27788, 5930: 27790, 5931: 27792, 5932: 27793, 5933: 27798, 5934: 27800, 5935: 27801, 5936: 27802, 5937: 27803, 5938: 27808, 5939: 27812, 5940: 27815, 5941: 27816, 5942: 27821, 5943: 27822, 5944: 27826, 5945: 27831, 5946: 27834, 5947: 27837, 5948: 27838, 5949: 27839, 5950: 27846, 5951: 27850, 5952: 27851, 5953: 27857, 5954: 27867, 5955: 27869, 5956: 27871, 5957: 27873, 5958: 27875, 5959: 27876, 5960: 27878, 5961: 27879, 5962: 27882, 5963: 27899, 5964: 27904, 5965: 27912, 5966: 27922, 5967: 30707, 5968: 30712, 5969: 30723, 5970: 30745, 5971: 30749, 5972: 30783, 5973: 30793, 5974: 30803, 5975: 30810, 5976: 30812, 5977: 30816, 5978: 30818, 5979: 30820, 5980: 30822, 5981: 30825, 5982: 30846, 5983: 30848, 5984: 30850, 5985: 30867, 5986: 30883, 5987: 30892, 5988: 30894, 5989: 30898, 5990: 31000, 5991: 31026, 5992: 31035, 5993: 31101, 5994: 31104, 5995: 31109, 5996: 31114, 5997: 31116, 5998: 31150, 5999: 31156, 6000: 31162, 6001: 31184, 6002: 31193, 6003: 31221, 6004: 31225, 6005: 31270, 6006: 31284, 6007: 31290, 6008: 31364, 6009: 31374, 6010: 31408, 6011: 31410, 6012: 31413, 6013: 31420, 6014: 31422, 6015: 31427, 6016: 31431, 6017: 31433, 6018: 31435, 6019: 31437, 6020: 31445, 6021: 31502, 6022: 31522, 6023: 31524, 6024: 31547, 6025: 31549, 6026: 31658, 6027: 31660, 6028: 31682, 6029: 31685, 6030: 31689, 6031: 31694, 6032: 31696, 6033: 31700, 6034: 31724, 6035: 31737, 6036: 31747, 6037: 31770, 6038: 31804, 6039: 31878, 6040: 31903, 6041: 31921, 6042: 31923, 6043: 31930, 6044: 31952, 6045: 31956, 6046: 31963, 6047: 31973, 6048: 32017, 6049: 32019, 6050: 32022, 6051: 32025, 6052: 32029, 6053: 32031, 6054: 32078, 6055: 32139, 6056: 32153, 6057: 32160, 6058: 32170, 6059: 32174, 6060: 32203, 6061: 32211, 6062: 32234, 6063: 32280, 6064: 32289, 6065: 32291, 6066: 32296, 6067: 32298, 6068: 32302, 6069: 32349, 6070: 32352, 6071: 32369, 6072: 32371, 6073: 32381, 6074: 32387, 6075: 32395, 6076: 32444, 6077: 32456, 6078: 32460, 6079: 32464, 6080: 32469, 6081: 32515, 6082: 32525, 6083: 32554, 6084: 32562, 6085: 32582, 6086: 32587, 6087: 32591, 6088: 32596, 6089: 32598, 6090: 32632, 6091: 32666, 6092: 32686, 6093: 32728, 6094: 32735, 6095: 32743, 6096: 32797, 6097: 32825, 6098: 32840, 6099: 32844, 6100: 32853, 6101: 32882, 6102: 32892, 6103: 32898, 6104: 32914, 6105: 32943, 6106: 33004, 6107: 33021, 6108: 33085, 6109: 33124, 6110: 33138, 6111: 33145, 6112: 33154, 6113: 33158, 6114: 33162, 6115: 33164, 6116: 33166, 6117: 33171, 6118: 33296, 6119: 33312, 6120: 33358, 6121: 33380, 6122: 33437, 6123: 33493, 6124: 33495, 6125: 33499, 6126: 33558, 6127: 33587, 6128: 33592, 6129: 33615, 6130: 33621, 6131: 33639, 6132: 33646, 6133: 33660, 6134: 33669, 6135: 33672, 6136: 33679, 6137: 33681, 6138: 33683, 6139: 33688, 6140: 33750, 6141: 33760, 6142: 33794, 6143: 33817, 6144: 33826, 6145: 33830, 6146: 33834, 6147: 33836, 6148: 33838, 6149: 33880, 6150: 33896, 6151: 33903, 6152: 33912, 6153: 33917, 6154: 34002, 6155: 34018, 6156: 34048, 6157: 34072, 6158: 34129, 6159: 34143, 6160: 34150, 6161: 34153, 6162: 34162, 6163: 34164, 6164: 34198, 6165: 34271, 6166: 34319, 6167: 34321, 6168: 34323, 6169: 34326, 6170: 34332, 6171: 34334, 6172: 34336, 6173: 34338, 6174: 34359, 6175: 34364, 6176: 34405, 6177: 34435, 6178: 34437, 6179: 34520, 6180: 34523, 6181: 34528, 6182: 34530, 6183: 34532, 6184: 34534, 6185: 34536, 6186: 34542, 6187: 34552, 6188: 34583, 6189: 34608, 6190: 35836, 6191: 35957, 6192: 36152, 6193: 36276, 6194: 36289, 6195: 36397, 6196: 36401, 6197: 36509, 6198: 36517, 6199: 36519, 6200: 36525, 6201: 36527, 6202: 36529, 6203: 36533, 6204: 36535, 6205: 36553, 6206: 36708, 6207: 36931, 6208: 37211, 6209: 37240, 6210: 37277, 6211: 37380, 6212: 37382, 6213: 37384, 6214: 37386, 6215: 37475, 6216: 37477, 6217: 37720, 6218: 37727, 6219: 37729, 6220: 37731, 6221: 37733, 6222: 37736, 6223: 37739, 6224: 37741, 6225: 37785, 6226: 37830, 6227: 37853, 6228: 37855, 6229: 37857, 6230: 38038, 6231: 38061, 6232: 38304, 6233: 38384, 6234: 38499, 6235: 38798, 6236: 38886, 6237: 38992, 6238: 38994, 6239: 39052, 6240: 39183, 6241: 39231, 6242: 39234, 6243: 39292, 6244: 39307, 6245: 39381, 6246: 39398, 6247: 39408, 6248: 39414, 6249: 39416, 6250: 39419, 6251: 39427, 6252: 39435, 6253: 39444, 6254: 39446, 6255: 39659, 6256: 39715, 6257: 39768, 6258: 39779, 6259: 39869, 6260: 39941, 6261: 40148, 6262: 40226, 6263: 40278, 6264: 40339, 6265: 40412, 6266: 40414, 6267: 40491, 6268: 40574, 6269: 40581, 6270: 40583, 6271: 40597, 6272: 40614, 6273: 40629, 6274: 40723, 6275: 40732, 6276: 40815, 6277: 40817, 6278: 40819, 6279: 40826, 6280: 40833, 6281: 40851, 6282: 40870, 6283: 40946, 6284: 40959, 6285: 41226, 6286: 41285, 6287: 41336, 6288: 41527, 6289: 41566, 6290: 41569, 6291: 41571, 6292: 41573, 6293: 41714, 6294: 41716, 6295: 41769, 6296: 41863, 6297: 41912, 6298: 41997, 6299: 42002, 6300: 42004, 6301: 42007, 6302: 42009, 6303: 42011, 6304: 42013, 6305: 42015, 6306: 42163, 6307: 42191, 6308: 42197, 6309: 42351, 6310: 42418, 6311: 42632, 6312: 42677, 6313: 42681, 6314: 42718, 6315: 42721, 6316: 42723, 6317: 42725, 6318: 42728, 6319: 42730, 6320: 42732, 6321: 42734, 6322: 42738, 6323: 42740, 6324: 42783, 6325: 42900, 6326: 42935, 6327: 42946, 6328: 42958, 6329: 43177, 6330: 43267, 6331: 43333, 6332: 43351, 6333: 43376, 6334: 43391, 6335: 43396, 6336: 43419, 6337: 43556, 6338: 43558, 6339: 43560, 6340: 43635, 6341: 43679, 6342: 43708, 6343: 43744, 6344: 43832, 6345: 43836, 6346: 43838, 6347: 43869, 6348: 43871, 6349: 43899, 6350: 43904, 6351: 43908, 6352: 43910, 6353: 43917, 6354: 43919, 6355: 43921, 6356: 43928, 6357: 43930, 6358: 43932, 6359: 43936, 6360: 44004, 6361: 44022, 6362: 44073, 6363: 44191, 6364: 44193, 6365: 44195, 6366: 44197, 6367: 44199, 6368: 44204, 6369: 44225, 6370: 44245, 6371: 44301, 6372: 44317, 6373: 44397, 6374: 44421, 6375: 44511, 6376: 44555, 6377: 44587, 6378: 44597, 6379: 44613, 6380: 44633, 6381: 44665, 6382: 44671, 6383: 44694, 6384: 44709, 6385: 44717, 6386: 44731, 6387: 44759, 6388: 44761, 6389: 44788, 6390: 44828, 6391: 44840, 6392: 44849, 6393: 44864, 6394: 44911, 6395: 44972, 6396: 44974, 6397: 45000, 6398: 45028, 6399: 45062, 6400: 45081, 6401: 45172, 6402: 45179, 6403: 45183, 6404: 45186, 6405: 45208, 6406: 45210, 6407: 45221, 6408: 45382, 6409: 45431, 6410: 45440, 6411: 45442, 6412: 45447, 6413: 45499, 6414: 45501, 6415: 45506, 6416: 45517, 6417: 45521, 6418: 45662, 6419: 45666, 6420: 45668, 6421: 45672, 6422: 45679, 6423: 45720, 6424: 45722, 6425: 45726, 6426: 45728, 6427: 45730, 6428: 45732, 6429: 45837, 6430: 45880, 6431: 45928, 6432: 45942, 6433: 45950, 6434: 45969, 6435: 45987, 6436: 46062, 6437: 46322, 6438: 46335, 6439: 46337, 6440: 46347, 6441: 46530, 6442: 46544, 6443: 46559, 6444: 46561, 6445: 46574, 6446: 46578, 6447: 46664, 6448: 46723, 6449: 46772, 6450: 46850, 6451: 46855, 6452: 46865, 6453: 46919, 6454: 46948, 6455: 46965, 6456: 46967, 6457: 46970, 6458: 46972, 6459: 46974, 6460: 46976, 6461: 47044, 6462: 47092, 6463: 47099, 6464: 47122, 6465: 47124, 6466: 47148, 6467: 47152, 6468: 47196, 6469: 47200, 6470: 47202, 6471: 47254, 6472: 47261, 6473: 47274, 6474: 47287, 6475: 47330, 6476: 47382, 6477: 47384, 6478: 47404, 6479: 47423, 6480: 47465, 6481: 47491, 6482: 47493, 6483: 47518, 6484: 47606, 6485: 47610, 6486: 47629, 6487: 47640, 6488: 47714, 6489: 47721, 6490: 47728, 6491: 47810, 6492: 47815, 6493: 47894, 6494: 47937, 6495: 47950, 6496: 47952, 6497: 47978, 6498: 47997, 6499: 47999, 6500: 48032, 6501: 48043, 6502: 48061, 6503: 48082, 6504: 48142, 6505: 48159, 6506: 48165, 6507: 48198, 6508: 48231, 6509: 48262, 6510: 48268, 6511: 48301, 6512: 48304, 6513: 48319, 6514: 48322, 6515: 48385, 6516: 48394, 6517: 48414, 6518: 48501, 6519: 48516, 6520: 48518, 6521: 48520, 6522: 48522, 6523: 48560, 6524: 48591, 6525: 48593, 6526: 48596, 6527: 48660, 6528: 48682, 6529: 48696, 6530: 48698, 6531: 48738, 6532: 48741, 6533: 48744, 6534: 48774, 6535: 48780, 6536: 48783, 6537: 48791, 6538: 48817, 6539: 48856, 6540: 48872, 6541: 48877, 6542: 48972, 6543: 48982, 6544: 48997, 6545: 49013, 6546: 49132, 6547: 49220, 6548: 49225, 6549: 49265, 6550: 49272, 6551: 49274, 6552: 49278, 6553: 49280, 6554: 49284, 6555: 49286, 6556: 49299, 6557: 49314, 6558: 49394, 6559: 49396, 6560: 49526, 6561: 49528, 6562: 49530, 6563: 49647, 6564: 49649, 6565: 49651, 6566: 49688, 6567: 49772, 6568: 49817, 6569: 49822, 6570: 49824, 6571: 49902, 6572: 49910, 6573: 49932, 6574: 49957, 6575: 49961, 6576: 50005, 6577: 50011, 6578: 50064, 6579: 50068, 6580: 50147, 6581: 50160, 6582: 50162, 6583: 50189, 6584: 50245, 6585: 50259, 6586: 50442, 6587: 50445, 6588: 50514, 6589: 50583, 6590: 50601, 6591: 50641, 6592: 50651, 6593: 50658, 6594: 50685, 6595: 50703, 6596: 50740, 6597: 50742, 6598: 50792, 6599: 50794, 6600: 50798, 6601: 50802, 6602: 50804, 6603: 50806, 6604: 50842, 6605: 50851, 6606: 50872, 6607: 50912, 6608: 50923, 6609: 50954, 6610: 51044, 6611: 51077, 6612: 51080, 6613: 51084, 6614: 51086, 6615: 51088, 6616: 51091, 6617: 51094, 6618: 51127, 6619: 51174, 6620: 51207, 6621: 51255, 6622: 51277, 6623: 51304, 6624: 51357, 6625: 51372, 6626: 51380, 6627: 51412, 6628: 51418, 6629: 51471, 6630: 51540, 6631: 51575, 6632: 51662, 6633: 51698, 6634: 51705, 6635: 51709, 6636: 51773, 6637: 51834, 6638: 51884, 6639: 51925, 6640: 51927, 6641: 51931, 6642: 51935, 6643: 51937, 6644: 51939, 6645: 52241, 6646: 52245, 6647: 52281, 6648: 52287, 6649: 52319, 6650: 52328, 6651: 52378, 6652: 52435, 6653: 52456, 6654: 52458, 6655: 52460, 6656: 52462, 6657: 52528, 6658: 52545, 6659: 52579, 6660: 52604, 6661: 52606, 6662: 52617, 6663: 52644, 6664: 52666, 6665: 52668, 6666: 52694, 6667: 52712, 6668: 52717, 6669: 52722, 6670: 52730, 6671: 52767, 6672: 52831, 6673: 52885, 6674: 52913, 6675: 52950, 6676: 52952, 6677: 52967, 6678: 52973, 6679: 52975, 6680: 53000, 6681: 53024, 6682: 53038, 6683: 53121, 6684: 53123, 6685: 53125, 6686: 53129, 6687: 53133, 6688: 53138, 6689: 53189, 6690: 53207, 6691: 53318, 6692: 53322, 6693: 53326, 6694: 53435, 6695: 53447, 6696: 53460, 6697: 53464, 6698: 53466, 6699: 53468, 6700: 53519, 6701: 53550, 6702: 53737, 6703: 53883, 6704: 53887, 6705: 53894, 6706: 53953, 6707: 53956, 6708: 53972, 6709: 53974, 6710: 53993, 6711: 53996, 6712: 53999, 6713: 54001, 6714: 54004, 6715: 54190, 6716: 54220, 6717: 54251, 6718: 54256, 6719: 54259, 6720: 54270, 6721: 54272, 6722: 54276, 6723: 54281, 6724: 54286, 6725: 54290, 6726: 54328, 6727: 54331, 6728: 54372, 6729: 54419, 6730: 54426, 6731: 54503, 6732: 54513, 6733: 54648, 6734: 54732, 6735: 54734, 6736: 54736, 6737: 54745, 6738: 54768, 6739: 54771, 6740: 54775, 6741: 54780, 6742: 54785, 6743: 54787, 6744: 54881, 6745: 54910, 6746: 54995, 6747: 54997, 6748: 54999, 6749: 55031, 6750: 55052, 6751: 55063, 6752: 55069, 6753: 55071, 6754: 55078, 6755: 55094, 6756: 55100, 6757: 55110, 6758: 55116, 6759: 55118, 6760: 55156, 6761: 55167, 6762: 55207, 6763: 55232, 6764: 55245, 6765: 55247, 6766: 55250, 6767: 55253, 6768: 55259, 6769: 55261, 6770: 55267, 6771: 55269, 6772: 55272, 6773: 55274, 6774: 55276, 6775: 55280, 6776: 55282, 6777: 55290, 6778: 55294, 6779: 55363, 6780: 55417, 6781: 55442, 6782: 55444, 6783: 55451, 6784: 55498, 6785: 55555, 6786: 55566, 6787: 55577, 6788: 55652, 6789: 55684, 6790: 55687, 6791: 55721, 6792: 55732, 6793: 55757, 6794: 55765, 6795: 55768, 6796: 55805, 6797: 55814, 6798: 55820, 6799: 55830, 6800: 55851, 6801: 55872, 6802: 55895, 6803: 55908, 6804: 55995, 6805: 55999, 6806: 56003, 6807: 56030, 6808: 56069, 6809: 56079, 6810: 56095, 6811: 56145, 6812: 56152, 6813: 56156, 6814: 56169, 6815: 56171, 6816: 56174, 6817: 56176, 6818: 56251, 6819: 56274, 6820: 56286, 6821: 56333, 6822: 56336, 6823: 56339, 6824: 56367, 6825: 56563, 6826: 56587, 6827: 56607, 6828: 56633, 6829: 56715, 6830: 56757, 6831: 56775, 6832: 56782, 6833: 56788, 6834: 56801, 6835: 56805, 6836: 56869, 6837: 56885, 6838: 56908, 6839: 56915, 6840: 56921, 6841: 56941, 6842: 56949, 6843: 57038, 6844: 57223, 6845: 57243, 6846: 57274, 6847: 57326, 6848: 57353, 6849: 57368, 6850: 57401, 6851: 57418, 6852: 57430, 6853: 57453, 6854: 57504, 6855: 57526, 6856: 57528, 6857: 57532, 6858: 57640, 6859: 57669, 6860: 57792, 6861: 57845, 6862: 57910, 6863: 57951, 6864: 57972, 6865: 57980, 6866: 58025, 6867: 58029, 6868: 58047, 6869: 58103, 6870: 58105, 6871: 58107, 6872: 58146, 6873: 58154, 6874: 58156, 6875: 58191, 6876: 58293, 6877: 58295, 6878: 58297, 6879: 58299, 6880: 58301, 6881: 58303, 6882: 58306, 6883: 58315, 6884: 58347, 6885: 58351, 6886: 58365, 6887: 58376, 6888: 58425, 6889: 58432, 6890: 58520, 6891: 58554, 6892: 58559, 6893: 58627, 6894: 58649, 6895: 58655, 6896: 58706, 6897: 58803, 6898: 58839, 6899: 58879, 6900: 58889, 6901: 58904, 6902: 58964, 6903: 58972, 6904: 58975, 6905: 58998, 6906: 59014, 6907: 59016, 6908: 59018, 6909: 59022, 6910: 59037, 6911: 59103, 6912: 59118, 6913: 59126, 6914: 59141, 6915: 59143, 6916: 59180, 6917: 59258, 6918: 59273, 6919: 59306, 6920: 59315, 6921: 59333, 6922: 59339, 6923: 59369, 6924: 59387, 6925: 59392, 6926: 59418, 6927: 59421, 6928: 59429, 6929: 59447, 6930: 59501, 6931: 59519, 6932: 59549, 6933: 59590, 6934: 59594, 6935: 59615, 6936: 59669, 6937: 59684, 6938: 59721, 6939: 59725, 6940: 59727, 6941: 59731, 6942: 59784, 6943: 59805, 6944: 59810, 6945: 59814, 6946: 59832, 6947: 59834, 6948: 59846, 6949: 59900, 6950: 59935, 6951: 59945, 6952: 59985, 6953: 59995, 6954: 60037, 6955: 60040, 6956: 60069, 6957: 60072, 6958: 60074, 6959: 60086, 6960: 60126, 6961: 60128, 6962: 60135, 6963: 60137, 6964: 60161, 6965: 60291, 6966: 60293, 6967: 60295, 6968: 60333, 6969: 60343, 6970: 60382, 6971: 60384, 6972: 60397, 6973: 60471, 6974: 60487, 6975: 60514, 6976: 60516, 6977: 60609, 6978: 60649, 6979: 60674, 6980: 60684, 6981: 60753, 6982: 60756, 6983: 60760, 6984: 60763, 6985: 60766, 6986: 60832, 6987: 60857, 6988: 60937, 6989: 60943, 6990: 60950, 6991: 60990, 6992: 61013, 6993: 61024, 6994: 61026, 6995: 61071, 6996: 61075, 6997: 61123, 6998: 61132, 6999: 61160, 7000: 61167, 7001: 61206, 7002: 61210, 7003: 61236, 7004: 61240, 7005: 61248, 7006: 61250, 7007: 61289, 7008: 61323, 7009: 61348, 7010: 61350, 7011: 61352, 7012: 61357, 7013: 61361, 7014: 61394, 7015: 61401, 7016: 61465, 7017: 61634, 7018: 61646, 7019: 61705, 7020: 61729, 7021: 62049, 7022: 62081, 7023: 62113, 7024: 62115, 7025: 62155, 7026: 62203, 7027: 62250, 7028: 62331, 7029: 62336, 7030: 62344, 7031: 62374, 7032: 62376, 7033: 62378, 7034: 62383, 7035: 62394, 7036: 62434, 7037: 62437, 7038: 62511, 7039: 62644, 7040: 62718, 7041: 62733, 7042: 62764, 7043: 62792, 7044: 62801, 7045: 62849, 7046: 62912, 7047: 62956, 7048: 62999, 7049: 63062, 7050: 63072, 7051: 63082, 7052: 63113, 7053: 63131, 7054: 63179, 7055: 63239, 7056: 63276, 7057: 63393, 7058: 63436, 7059: 63479, 7060: 63481, 7061: 63515, 7062: 63540, 7063: 63629, 7064: 63808, 7065: 63826, 7066: 63836, 7067: 63853, 7068: 63859, 7069: 63876, 7070: 63992, 7071: 64030, 7072: 64032, 7073: 64034, 7074: 64114, 7075: 64116, 7076: 64153, 7077: 64197, 7078: 64229, 7079: 64249, 7080: 64278, 7081: 64285, 7082: 64321, 7083: 64338, 7084: 64497, 7085: 64499, 7086: 64501, 7087: 64508, 7088: 64575, 7089: 64614, 7090: 64620, 7091: 64622, 7092: 64660, 7093: 64695, 7094: 64701, 7095: 64716, 7096: 64839, 7097: 64900, 7098: 64957, 7099: 64969, 7100: 64983, 7101: 64990, 7102: 64993, 7103: 64997, 7104: 65037, 7105: 65088, 7106: 65126, 7107: 65130, 7108: 65133, 7109: 65135, 7110: 65188, 7111: 65193, 7112: 65216, 7113: 65230, 7114: 65259, 7115: 65261, 7116: 65310, 7117: 65418, 7118: 65465, 7119: 65514, 7120: 65552, 7121: 65567, 7122: 65577, 7123: 65585, 7124: 65601, 7125: 65638, 7126: 65642, 7127: 65665, 7128: 65682, 7129: 65685, 7130: 65802, 7131: 65982, 7132: 66019, 7133: 66066, 7134: 66090, 7135: 66097, 7136: 66130, 7137: 66171, 7138: 66198, 7139: 66200, 7140: 66203, 7141: 66246, 7142: 66297, 7143: 66310, 7144: 66317, 7145: 66335, 7146: 66371, 7147: 66427, 7148: 66509, 7149: 66544, 7150: 66596, 7151: 66659, 7152: 66665, 7153: 66686, 7154: 66744, 7155: 66785, 7156: 66798, 7157: 66808, 7158: 66915, 7159: 66934, 7160: 67087, 7161: 67193, 7162: 67197, 7163: 67252, 7164: 67255, 7165: 67267, 7166: 67295, 7167: 67361, 7168: 67408, 7169: 67429, 7170: 67504, 7171: 67508, 7172: 67665, 7173: 67695, 7174: 67734, 7175: 67788, 7176: 67799, 7177: 67867, 7178: 67923, 7179: 67957, 7180: 67997, 7181: 68073, 7182: 68099, 7183: 68135, 7184: 68137, 7185: 68157, 7186: 68159, 7187: 68194, 7188: 68205, 7189: 68237, 7190: 68269, 7191: 68319, 7192: 68324, 7193: 68347, 7194: 68358, 7195: 68444, 7196: 68486, 7197: 68536, 7198: 68554, 7199: 68614, 7200: 68659, 7201: 68791, 7202: 68793, 7203: 68835, 7204: 68838, 7205: 68848, 7206: 68872, 7207: 68884, 7208: 68901, 7209: 68932, 7210: 68945, 7211: 68952, 7212: 68954, 7213: 68959, 7214: 68965, 7215: 68967, 7216: 69069, 7217: 69118, 7218: 69122, 7219: 69134, 7220: 69241, 7221: 69253, 7222: 69275, 7223: 69278, 7224: 69280, 7225: 69306, 7226: 69406, 7227: 69436, 7228: 69458, 7229: 69481, 7230: 69495, 7231: 69516, 7232: 69524, 7233: 69526, 7234: 69529, 7235: 69559, 7236: 69604, 7237: 69606, 7238: 69640, 7239: 69644, 7240: 69654, 7241: 69685, 7242: 69712, 7243: 69720, 7244: 69746, 7245: 69757, 7246: 69761, 7247: 69784, 7248: 69805, 7249: 69821, 7250: 69844, 7251: 69849, 7252: 69908, 7253: 69945, 7254: 69951, 7255: 69974, 7256: 70121, 7257: 70159, 7258: 70183, 7259: 70188, 7260: 70201, 7261: 70282, 7262: 70286, 7263: 70293, 7264: 70305, 7265: 70336, 7266: 70344, 7267: 70418, 7268: 70465, 7269: 70488, 7270: 70533, 7271: 70545, 7272: 70565, 7273: 70567, 7274: 70597, 7275: 70599, 7276: 70663, 7277: 70678, 7278: 70697, 7279: 70728, 7280: 70751, 7281: 70762, 7282: 70846, 7283: 70862, 7284: 70898, 7285: 70927, 7286: 70946, 7287: 70984, 7288: 70994, 7289: 71033, 7290: 71057, 7291: 71102, 7292: 71106, 7293: 71108, 7294: 71131, 7295: 71135, 7296: 71156, 7297: 71180, 7298: 71205, 7299: 71211, 7300: 71248, 7301: 71252, 7302: 71254, 7303: 71264, 7304: 71282, 7305: 71304, 7306: 71318, 7307: 71379, 7308: 71390, 7309: 71404, 7310: 71429, 7311: 71433, 7312: 71438, 7313: 71460, 7314: 71462, 7315: 71464, 7316: 71466, 7317: 71468, 7318: 71490, 7319: 71494, 7320: 71518, 7321: 71520, 7322: 71525, 7323: 71530, 7324: 71533, 7325: 71535, 7326: 71573, 7327: 71579, 7328: 71640, 7329: 71650, 7330: 71668, 7331: 71700, 7332: 71732, 7333: 71745, 7334: 71755, 7335: 71804, 7336: 71810, 7337: 71823, 7338: 71838, 7339: 71876, 7340: 71899, 7341: 72011, 7342: 72043, 7343: 72104, 7344: 72109, 7345: 72129, 7346: 72131, 7347: 72165, 7348: 72169, 7349: 72171, 7350: 72176, 7351: 72209, 7352: 72224, 7353: 72226, 7354: 72294, 7355: 72308, 7356: 72356, 7357: 72367, 7358: 72378, 7359: 72380, 7360: 72386, 7361: 72393, 7362: 72395, 7363: 72405, 7364: 72407, 7365: 72479, 7366: 72489, 7367: 72603, 7368: 72605, 7369: 72612, 7370: 72626, 7371: 72630, 7372: 72641, 7373: 72647, 7374: 72683, 7375: 72694, 7376: 72696, 7377: 72701, 7378: 72720, 7379: 72731, 7380: 72733, 7381: 72737, 7382: 72741, 7383: 72762, 7384: 72781, 7385: 72880, 7386: 72919, 7387: 72947, 7388: 72998, 7389: 73015, 7390: 73017, 7391: 73023, 7392: 73042, 7393: 73101, 7394: 73106, 7395: 73168, 7396: 73211, 7397: 73266, 7398: 73268, 7399: 73276, 7400: 73290, 7401: 73319, 7402: 73321, 7403: 73323, 7404: 73344, 7405: 73386, 7406: 73392, 7407: 73469, 7408: 73488, 7409: 73531, 7410: 73572, 7411: 73587, 7412: 73664, 7413: 73741, 7414: 73759, 7415: 73808, 7416: 73854, 7417: 73860, 7418: 73881, 7419: 73929, 7420: 74089, 7421: 74115, 7422: 74152, 7423: 74154, 7424: 74156, 7425: 74228, 7426: 74275, 7427: 74282, 7428: 74324, 7429: 74327, 7430: 74370, 7431: 74416, 7432: 74438, 7433: 74450, 7434: 74452, 7435: 74458, 7436: 74486, 7437: 74508, 7438: 74510, 7439: 74530, 7440: 74532, 7441: 74545, 7442: 74580, 7443: 74624, 7444: 74630, 7445: 74649, 7446: 74668, 7447: 74677, 7448: 74685, 7449: 74688, 7450: 74698, 7451: 74727, 7452: 74740, 7453: 74754, 7454: 74787, 7455: 74789, 7456: 74795, 7457: 74851, 7458: 74868, 7459: 74916, 7460: 74944, 7461: 74946, 7462: 74948, 7463: 75341, 7464: 75349, 7465: 75440, 7466: 75803, 7467: 75805, 7468: 75813, 7469: 75816, 7470: 75823, 7471: 75983, 7472: 75985, 7473: 75990, 7474: 76030, 7475: 76054, 7476: 76060, 7477: 76077, 7478: 76091, 7479: 76093, 7480: 76111, 7481: 76173, 7482: 76175, 7483: 76210, 7484: 76251, 7485: 76272, 7486: 76293, 7487: 76303, 7488: 76738, 7489: 76763, 7490: 77191, 7491: 77201, 7492: 77206, 7493: 77291, 7494: 77307, 7495: 77359, 7496: 77364, 7497: 77414, 7498: 77421, 7499: 77427, 7500: 77435, 7501: 77455, 7502: 77561, 7503: 77658, 7504: 77798, 7505: 77800, 7506: 77808, 7507: 77810, 7508: 77837, 7509: 77846, 7510: 77866, 7511: 77907, 7512: 78034, 7513: 78039, 7514: 78041, 7515: 78088, 7516: 78101, 7517: 78105, 7518: 78111, 7519: 78116, 7520: 78122, 7521: 78160, 7522: 78174, 7523: 78209, 7524: 78218, 7525: 78264, 7526: 78266, 7527: 78316, 7528: 78321, 7529: 78349, 7530: 78467, 7531: 78469, 7532: 78499, 7533: 78517, 7534: 78544, 7535: 78574, 7536: 78637, 7537: 78653, 7538: 78703, 7539: 78729, 7540: 78772, 7541: 78829, 7542: 78836, 7543: 78893, 7544: 78903, 7545: 78967, 7546: 79006, 7547: 79008, 7548: 79029, 7549: 79057, 7550: 79091, 7551: 79132, 7552: 79134, 7553: 79136, 7554: 79139, 7555: 79163, 7556: 79185, 7557: 79203, 7558: 79224, 7559: 79242, 7560: 79251, 7561: 79259, 7562: 79274, 7563: 79293, 7564: 79299, 7565: 79318, 7566: 79357, 7567: 79428, 7568: 79469, 7569: 79553, 7570: 79588, 7571: 79590, 7572: 79592, 7573: 79677, 7574: 79686, 7575: 79695, 7576: 79702, 7577: 79720, 7578: 79796, 7579: 79824, 7580: 79868, 7581: 79879, 7582: 79946, 7583: 80026, 7584: 80083, 7585: 80126, 7586: 80166, 7587: 80185, 7588: 80217, 7589: 80219, 7590: 80241, 7591: 80346, 7592: 80350, 7593: 80363, 7594: 80463, 7595: 80489, 7596: 80549, 7597: 80551, 7598: 80553, 7599: 80572, 7600: 80584, 7601: 80586, 7602: 80590, 7603: 80599, 7604: 80615, 7605: 80693, 7606: 80717, 7607: 80727, 7608: 80736, 7609: 80748, 7610: 80831, 7611: 80839, 7612: 80844, 7613: 80846, 7614: 80858, 7615: 80860, 7616: 80862, 7617: 80864, 7618: 80906, 7619: 80917, 7620: 80969, 7621: 81018, 7622: 81054, 7623: 81083, 7624: 81132, 7625: 81138, 7626: 81156, 7627: 81158, 7628: 81191, 7629: 81229, 7630: 81417, 7631: 81512, 7632: 81516, 7633: 81535, 7634: 81537, 7635: 81562, 7636: 81564, 7637: 81591, 7638: 81641, 7639: 81660, 7640: 81782, 7641: 81784, 7642: 81786, 7643: 81788, 7644: 81819, 7645: 81831, 7646: 81834, 7647: 81845, 7648: 81847, 7649: 81898, 7650: 81910, 7651: 81932, 7652: 81949, 7653: 82035, 7654: 82037, 7655: 82041, 7656: 82093, 7657: 82095, 7658: 82150, 7659: 82152, 7660: 82167, 7661: 82169, 7662: 82173, 7663: 82202, 7664: 82242, 7665: 82378, 7666: 82459, 7667: 82461, 7668: 82463, 7669: 82499, 7670: 82527, 7671: 82534, 7672: 82608, 7673: 82667, 7674: 82852, 7675: 82854, 7676: 82931, 7677: 82934, 7678: 83086, 7679: 83096, 7680: 83132, 7681: 83134, 7682: 83177, 7683: 83270, 7684: 83293, 7685: 83318, 7686: 83322, 7687: 83332, 7688: 83349, 7689: 83359, 7690: 83361, 7691: 83374, 7692: 83411, 7693: 83480, 7694: 83506, 7695: 83603, 7696: 83613, 7697: 83803, 7698: 83827, 7699: 83829, 7700: 83910, 7701: 83976, 7702: 84098, 7703: 84116, 7704: 84152, 7705: 84154, 7706: 84160, 7707: 84187, 7708: 84236, 7709: 84304, 7710: 84312, 7711: 84374, 7712: 84392, 7713: 84395, 7714: 84414, 7715: 84506, 7716: 84601, 7717: 84615, 7718: 84637, 7719: 84696, 7720: 84772, 7721: 84844, 7722: 84847, 7723: 84944, 7724: 84950, 7725: 84952, 7726: 84954, 7727: 85016, 7728: 85020, 7729: 85022, 7730: 85025, 7731: 85056, 7732: 85131, 7733: 85179, 7734: 85213, 7735: 85261, 7736: 85316, 7737: 85342, 7738: 85367, 7739: 85394, 7740: 85397, 7741: 85399, 7742: 85401, 7743: 85412, 7744: 85414, 7745: 85438, 7746: 85510, 7747: 85572, 7748: 85612, 7749: 85736, 7750: 85774, 7751: 85780, 7752: 85788, 7753: 85796, 7754: 85881, 7755: 86000, 7756: 86014, 7757: 86028, 7758: 86059, 7759: 86142, 7760: 86190, 7761: 86290, 7762: 86293, 7763: 86298, 7764: 86320, 7765: 86332, 7766: 86345, 7767: 86347, 7768: 86377, 7769: 86487, 7770: 86504, 7771: 86548, 7772: 86593, 7773: 86626, 7774: 86644, 7775: 86721, 7776: 86781, 7777: 86817, 7778: 86833, 7779: 86835, 7780: 86852, 7781: 86864, 7782: 86880, 7783: 86882, 7784: 86884, 7785: 86892, 7786: 86898, 7787: 86911, 7788: 86982, 7789: 87192, 7790: 87205, 7791: 87218, 7792: 87222, 7793: 87232, 7794: 87234, 7795: 87298, 7796: 87304, 7797: 87306, 7798: 87383, 7799: 87430, 7800: 87444, 7801: 87483, 7802: 87485, 7803: 87520, 7804: 87522, 7805: 87529, 7806: 87598, 7807: 87660, 7808: 87785, 7809: 87869, 7810: 87876, 7811: 87884, 7812: 87930, 7813: 87975, 7814: 88024, 7815: 88106, 7816: 88118, 7817: 88125, 7818: 88129, 7819: 88140, 7820: 88163, 7821: 88179, 7822: 88235, 7823: 88267, 7824: 88272, 7825: 88345, 7826: 88356, 7827: 88380, 7828: 88405, 7829: 88672, 7830: 88682, 7831: 88744, 7832: 88785, 7833: 88810, 7834: 88812, 7835: 88879, 7836: 88932, 7837: 88950, 7838: 88954, 7839: 89000, 7840: 89030, 7841: 89039, 7842: 89045, 7843: 89047, 7844: 89072, 7845: 89085, 7846: 89087, 7847: 89090, 7848: 89102, 7849: 89118, 7850: 89194, 7851: 89203, 7852: 89260, 7853: 89300, 7854: 89305, 7855: 89321, 7856: 89337, 7857: 89343, 7858: 89356, 7859: 89388, 7860: 89408, 7861: 89427, 7862: 89470, 7863: 89492, 7864: 89678, 7865: 89745, 7866: 89753, 7867: 89759, 7868: 89761, 7869: 89774, 7870: 89804, 7871: 89837, 7872: 89840, 7873: 89864, 7874: 89870, 7875: 89881, 7876: 89904, 7877: 90057, 7878: 90061, 7879: 90249, 7880: 90266, 7881: 90343, 7882: 90345, 7883: 90357, 7884: 90374, 7885: 90376, 7886: 90403, 7887: 90405, 7888: 90428, 7889: 90430, 7890: 90439, 7891: 90469, 7892: 90522, 7893: 90524, 7894: 90531, 7895: 90576, 7896: 90600, 7897: 90603, 7898: 90647, 7899: 90717, 7900: 90719, 7901: 90738, 7902: 90746, 7903: 90863, 7904: 90866, 7905: 90870, 7906: 90888, 7907: 90890, 7908: 90947, 7909: 91077, 7910: 91094, 7911: 91104, 7912: 91126, 7913: 91128, 7914: 91134, 7915: 91199, 7916: 91273, 7917: 91286, 7918: 91323, 7919: 91325, 7920: 91355, 7921: 91414, 7922: 91470, 7923: 91483, 7924: 91485, 7925: 91488, 7926: 91500, 7927: 91505, 7928: 91529, 7929: 91535, 7930: 91542, 7931: 91548, 7932: 91582, 7933: 91610, 7934: 91622, 7935: 91628, 7936: 91630, 7937: 91653, 7938: 91658, 7939: 91660, 7940: 91673, 7941: 91688, 7942: 91690, 7943: 91842, 7944: 91869, 7945: 91873, 7946: 91886, 7947: 91890, 7948: 91935, 7949: 91947, 7950: 91974, 7951: 91976, 7952: 91978, 7953: 92004, 7954: 92008, 7955: 92048, 7956: 92058, 7957: 92163, 7958: 92198, 7959: 92206, 7960: 92210, 7961: 92234, 7962: 92259, 7963: 92264, 7964: 92309, 7965: 92420, 7966: 92424, 7967: 92439, 7968: 92494, 7969: 92496, 7970: 92498, 7971: 92507, 7972: 92509, 7973: 92535, 7974: 92613, 7975: 92665, 7976: 92681, 7977: 92694, 7978: 92751, 7979: 92756, 7980: 92938, 7981: 92954, 7982: 92966, 7983: 93040, 7984: 93061, 7985: 93242, 7986: 93265, 7987: 93270, 7988: 93272, 7989: 93287, 7990: 93320, 7991: 93324, 7992: 93326, 7993: 93363, 7994: 93422, 7995: 93432, 7996: 93443, 7997: 93498, 7998: 93510, 7999: 93512, 8000: 93563, 8001: 93693, 8002: 93700, 8003: 93721, 8004: 93766, 8005: 93805, 8006: 93831, 8007: 93838, 8008: 93840, 8009: 93855, 8010: 93980, 8011: 93982, 8012: 94011, 8013: 94015, 8014: 94018, 8015: 94024, 8016: 94070, 8017: 94266, 8018: 94323, 8019: 94325, 8020: 94466, 8021: 94478, 8022: 94480, 8023: 94494, 8024: 94672, 8025: 94677, 8026: 94777, 8027: 94780, 8028: 94799, 8029: 94833, 8030: 94864, 8031: 94896, 8032: 94919, 8033: 94931, 8034: 94939, 8035: 94953, 8036: 94959, 8037: 95067, 8038: 95088, 8039: 95105, 8040: 95113, 8041: 95115, 8042: 95135, 8043: 95147, 8044: 95165, 8045: 95167, 8046: 95182, 8047: 95199, 8048: 95201, 8049: 95207, 8050: 95307, 8051: 95309, 8052: 95311, 8053: 95313, 8054: 95375, 8055: 95377, 8056: 95441, 8057: 95443, 8058: 95449, 8059: 95473, 8060: 95475, 8061: 95499, 8062: 95508, 8063: 95510, 8064: 95543, 8065: 95558, 8066: 95567, 8067: 95583, 8068: 95654, 8069: 95720, 8070: 95740, 8071: 95744, 8072: 95752, 8073: 95761, 8074: 95780, 8075: 95782, 8076: 95858, 8077: 95873, 8078: 95875, 8079: 95949, 8080: 95963, 8081: 95965, 8082: 96004, 8083: 96007, 8084: 96020, 8085: 96075, 8086: 96079, 8087: 96110, 8088: 96114, 8089: 96150, 8090: 96281, 8091: 96314, 8092: 96373, 8093: 96417, 8094: 96432, 8095: 96448, 8096: 96467, 8097: 96488, 8098: 96490, 8099: 96530, 8100: 96563, 8101: 96565, 8102: 96588, 8103: 96590, 8104: 96606, 8105: 96610, 8106: 96616, 8107: 96634, 8108: 96655, 8109: 96667, 8110: 96691, 8111: 96726, 8112: 96728, 8113: 96737, 8114: 96792, 8115: 96811, 8116: 96815, 8117: 96821, 8118: 96829, 8119: 96832, 8120: 96849, 8121: 96861, 8122: 96863, 8123: 96901, 8124: 96911, 8125: 97057, 8126: 97168, 8127: 97188, 8128: 97225, 8129: 97230, 8130: 97254, 8131: 97304, 8132: 97306, 8133: 97328, 8134: 97393, 8135: 97395, 8136: 97470, 8137: 97593, 8138: 97639, 8139: 97673, 8140: 97742, 8141: 97744, 8142: 97752, 8143: 97757, 8144: 97817, 8145: 97826, 8146: 97836, 8147: 97858, 8148: 97860, 8149: 97866, 8150: 97870, 8151: 97895, 8152: 97913, 8153: 97921, 8154: 97923, 8155: 97936, 8156: 97938, 8157: 97957, 8158: 97994, 8159: 98000, 8160: 98056, 8161: 98083, 8162: 98122, 8163: 98124, 8164: 98126, 8165: 98154, 8166: 98160, 8167: 98175, 8168: 98230, 8169: 98243, 8170: 98279, 8171: 98296, 8172: 98369, 8173: 98441, 8174: 98458, 8175: 98473, 8176: 98491, 8177: 98585, 8178: 98587, 8179: 98604, 8180: 98607, 8181: 98611, 8182: 98615, 8183: 98795, 8184: 98803, 8185: 98809, 8186: 98829, 8187: 98836, 8188: 98908, 8189: 98913, 8190: 98933, 8191: 98961, 8192: 98963, 8193: 99005, 8194: 99007, 8195: 99030, 8196: 99085, 8197: 99089, 8198: 99106, 8199: 99112, 8200: 99114, 8201: 99117, 8202: 99145, 8203: 99149, 8204: 99220, 8205: 99270, 8206: 99273, 8207: 99276, 8208: 99296, 8209: 99320, 8210: 99415, 8211: 99437, 8212: 99468, 8213: 99470, 8214: 99574, 8215: 99609, 8216: 99615, 8217: 99669, 8218: 99675, 8219: 99728, 8220: 99741, 8221: 99764, 8222: 99795, 8223: 99811, 8224: 99813, 8225: 99839, 8226: 99846, 8227: 99912, 8228: 99917, 8229: 99992, 8230: 100017, 8231: 100032, 8232: 100034, 8233: 100083, 8234: 100106, 8235: 100159, 8236: 100163, 8237: 100226, 8238: 100272, 8239: 100304, 8240: 100306, 8241: 100326, 8242: 100365, 8243: 100383, 8244: 100390, 8245: 100450, 8246: 100487, 8247: 100498, 8248: 100517, 8249: 100527, 8250: 100553, 8251: 100556, 8252: 100581, 8253: 100714, 8254: 100745, 8255: 100843, 8256: 101025, 8257: 101070, 8258: 101076, 8259: 101088, 8260: 101106, 8261: 101112, 8262: 101142, 8263: 101283, 8264: 101285, 8265: 101360, 8266: 101362, 8267: 101415, 8268: 101525, 8269: 101529, 8270: 101531, 8271: 101577, 8272: 101612, 8273: 101741, 8274: 101850, 8275: 101864, 8276: 101884, 8277: 101895, 8278: 101904, 8279: 101947, 8280: 101962, 8281: 102033, 8282: 102123, 8283: 102125, 8284: 102165, 8285: 102194, 8286: 102217, 8287: 102252, 8288: 102278, 8289: 102378, 8290: 102396, 8291: 102407, 8292: 102445, 8293: 102481, 8294: 102588, 8295: 102666, 8296: 102684, 8297: 102686, 8298: 102716, 8299: 102720, 8300: 102753, 8301: 102792, 8302: 102800, 8303: 102819, 8304: 102880, 8305: 102903, 8306: 102905, 8307: 102993, 8308: 102995, 8309: 103042, 8310: 103048, 8311: 103107, 8312: 103137, 8313: 103141, 8314: 103210, 8315: 103221, 8316: 103228, 8317: 103235, 8318: 103249, 8319: 103253, 8320: 103279, 8321: 103299, 8322: 103335, 8323: 103339, 8324: 103341, 8325: 103372, 8326: 103384, 8327: 103444, 8328: 103502, 8329: 103539, 8330: 103543, 8331: 103596, 8332: 103624, 8333: 103655, 8334: 103659, 8335: 103671, 8336: 103688, 8337: 103731, 8338: 103755, 8339: 103772, 8340: 103801, 8341: 103810, 8342: 103813, 8343: 103819, 8344: 103865, 8345: 103883, 8346: 103980, 8347: 103984, 8348: 104069, 8349: 104074, 8350: 104076, 8351: 104078, 8352: 104119, 8353: 104129, 8354: 104211, 8355: 104218, 8356: 104241, 8357: 104243, 8358: 104245, 8359: 104272, 8360: 104283, 8361: 104303, 8362: 104312, 8363: 104321, 8364: 104337, 8365: 104339, 8366: 104374, 8367: 104419, 8368: 104441, 8369: 104457, 8370: 104590, 8371: 104595, 8372: 104597, 8373: 104662, 8374: 104726, 8375: 104757, 8376: 104760, 8377: 104841, 8378: 104863, 8379: 104879, 8380: 104881, 8381: 104906, 8382: 104913, 8383: 104925, 8384: 104944, 8385: 105037, 8386: 105121, 8387: 105197, 8388: 105211, 8389: 105213, 8390: 105246, 8391: 105254, 8392: 105351, 8393: 105355, 8394: 105429, 8395: 105468, 8396: 105504, 8397: 105585, 8398: 105593, 8399: 105715, 8400: 105731, 8401: 105755, 8402: 105763, 8403: 105769, 8404: 105844, 8405: 105954, 8406: 106002, 8407: 106004, 8408: 106011, 8409: 106022, 8410: 106062, 8411: 106072, 8412: 106100, 8413: 106111, 8414: 106144, 8415: 106204, 8416: 106236, 8417: 106330, 8418: 106332, 8419: 106397, 8420: 106417, 8421: 106438, 8422: 106441, 8423: 106452, 8424: 106471, 8425: 106473, 8426: 106487, 8427: 106489, 8428: 106491, 8429: 106540, 8430: 106542, 8431: 106642, 8432: 106696, 8433: 106762, 8434: 106766, 8435: 106782, 8436: 106839, 8437: 106870, 8438: 106873, 8439: 106883, 8440: 106916, 8441: 106918, 8442: 106920, 8443: 107042, 8444: 107057, 8445: 107069, 8446: 107081, 8447: 107083, 8448: 107141, 8449: 107314, 8450: 107348, 8451: 107382, 8452: 107406, 8453: 107412, 8454: 107447, 8455: 107516, 8456: 107555, 8457: 107559, 8458: 107649, 8459: 107702, 8460: 107769, 8461: 107771, 8462: 107910, 8463: 107945, 8464: 107953, 8465: 107978, 8466: 107999, 8467: 108076, 8468: 108090, 8469: 108156, 8470: 108188, 8471: 108190, 8472: 108192, 8473: 108447, 8474: 108506, 8475: 108514, 8476: 108548, 8477: 108551, 8478: 108583, 8479: 108601, 8480: 108689, 8481: 108709, 8482: 108715, 8483: 108727, 8484: 108729, 8485: 108795, 8486: 108873, 8487: 108928, 8488: 108932, 8489: 108945, 8490: 108949, 8491: 108979, 8492: 108981, 8493: 109042, 8494: 109074, 8495: 109161, 8496: 109183, 8497: 109187, 8498: 109191, 8499: 109205, 8500: 109249, 8501: 109295, 8502: 109317, 8503: 109359, 8504: 109372, 8505: 109374, 8506: 109483, 8507: 109487, 8508: 109576, 8509: 109578, 8510: 109673, 8511: 109687, 8512: 109740, 8513: 109742, 8514: 109846, 8515: 109848, 8516: 109850, 8517: 109853, 8518: 109864, 8519: 109895, 8520: 110058, 8521: 110102, 8522: 110110, 8523: 110127, 8524: 110194, 8525: 110297, 8526: 110348, 8527: 110352, 8528: 110453, 8529: 110461, 8530: 110501, 8531: 110553, 8532: 110586, 8533: 110591, 8534: 110611, 8535: 110645, 8536: 110655, 8537: 110730, 8538: 110748, 8539: 110752, 8540: 110771, 8541: 110781, 8542: 110826, 8543: 110858, 8544: 110873, 8545: 110882, 8546: 111113, 8547: 111228, 8548: 111235, 8549: 111360, 8550: 111362, 8551: 111364, 8552: 111384, 8553: 111443, 8554: 111486, 8555: 111529, 8556: 111617, 8557: 111622, 8558: 111624, 8559: 111659, 8560: 111663, 8561: 111680, 8562: 111743, 8563: 111759, 8564: 111781, 8565: 111795, 8566: 111913, 8567: 111921, 8568: 111931, 8569: 112006, 8570: 112062, 8571: 112070, 8572: 112112, 8573: 112138, 8574: 112171, 8575: 112175, 8576: 112183, 8577: 112277, 8578: 112290, 8579: 112303, 8580: 112334, 8581: 112370, 8582: 112399, 8583: 112421, 8584: 112450, 8585: 112460, 8586: 112497, 8587: 112515, 8588: 112552, 8589: 112556, 8590: 112577, 8591: 112582, 8592: 112623, 8593: 112653, 8594: 112655, 8595: 112689, 8596: 112735, 8597: 112749, 8598: 112767, 8599: 112788, 8600: 112804, 8601: 112818, 8602: 112850, 8603: 112852, 8604: 112897, 8605: 112911, 8606: 112921, 8607: 112940, 8608: 113064, 8609: 113186, 8610: 113207, 8611: 113220, 8612: 113225, 8613: 113252, 8614: 113275, 8615: 113345, 8616: 113348, 8617: 113378, 8618: 113416, 8619: 113453, 8620: 113532, 8621: 113565, 8622: 113573, 8623: 113640, 8624: 113705, 8625: 113741, 8626: 113780, 8627: 113829, 8628: 113862, 8629: 113938, 8630: 114028, 8631: 114044, 8632: 114060, 8633: 114074, 8634: 114082, 8635: 114122, 8636: 114180, 8637: 114265, 8638: 114342, 8639: 114464, 8640: 114552, 8641: 114601, 8642: 114635, 8643: 114662, 8644: 114670, 8645: 114707, 8646: 114762, 8647: 114766, 8648: 114795, 8649: 114818, 8650: 114925, 8651: 114935, 8652: 115122, 8653: 115147, 8654: 115149, 8655: 115151, 8656: 115170, 8657: 115174, 8658: 115210, 8659: 115216, 8660: 115231, 8661: 115502, 8662: 115534, 8663: 115569, 8664: 115617, 8665: 115624, 8666: 115664, 8667: 115680, 8668: 115713, 8669: 115877, 8670: 115881, 8671: 115927, 8672: 116012, 8673: 116136, 8674: 116161, 8675: 116207, 8676: 116397, 8677: 116413, 8678: 116419, 8679: 116503, 8680: 116660, 8681: 116797, 8682: 116799, 8683: 116823, 8684: 116849, 8685: 116855, 8686: 116887, 8687: 116897, 8688: 116939, 8689: 116977, 8690: 116985, 8691: 117107, 8692: 117121, 8693: 117123, 8694: 117176, 8695: 117192, 8696: 117434, 8697: 117444, 8698: 117456, 8699: 117511, 8700: 117529, 8701: 117533, 8702: 117590, 8703: 117851, 8704: 117871, 8705: 117895, 8706: 118082, 8707: 118105, 8708: 118248, 8709: 118260, 8710: 118326, 8711: 118334, 8712: 118354, 8713: 118468, 8714: 118696, 8715: 118702, 8716: 118814, 8717: 118880, 8718: 118890, 8719: 118898, 8720: 118900, 8721: 118924, 8722: 118985, 8723: 118997, 8724: 119068, 8725: 119141, 8726: 119145, 8727: 119155, 8728: 119655, 8729: 120392, 8730: 120466, 8731: 120635, 8732: 120637, 8733: 120783, 8734: 120799, 8735: 120805, 8736: 120821, 8737: 121113, 8738: 121126, 8739: 121171, 8740: 121231, 8741: 121491, 8742: 121618, 8743: 122490, 8744: 122882, 8745: 122886, 8746: 122888, 8747: 122890, 8748: 122892, 8749: 122900, 8750: 122902, 8751: 122904, 8752: 122920, 8753: 122924, 8754: 122932, 8755: 123947, 8756: 124859, 8757: 125916, 8758: 126006, 8759: 126106, 8760: 126420, 8761: 126430, 8762: 126548, 8763: 127052, 8764: 127096, 8765: 127098, 8766: 127108, 8767: 127114, 8768: 127124, 8769: 127136, 8770: 127152, 8771: 127158, 8772: 127164, 8773: 127178, 8774: 127194, 8775: 127198, 8776: 127202, 8777: 127204, 8778: 127206, 8779: 127319, 8780: 127728, 8781: 128360, 8782: 128512, 8783: 128520, 8784: 128592, 8785: 128606, 8786: 128616, 8787: 128620, 8788: 128846, 8789: 129009, 8790: 129191, 8791: 129250, 8792: 129313, 8793: 129354, 8794: 129364, 8795: 129428, 8796: 129514, 8797: 129653, 8798: 129657, 8799: 129659, 8800: 129737, 8801: 129937, 8802: 130073, 8803: 130083, 8804: 130087, 8805: 130351, 8806: 130448, 8807: 130450, 8808: 130452, 8809: 130490, 8810: 130520, 8811: 130522, 8812: 130576, 8813: 130580, 8814: 130628, 8815: 130634, 8816: 130642, 8817: 130682, 8818: 130960, 8819: 130970, 8820: 130980, 8821: 131013, 8822: 131168, 8823: 131451, 8824: 131714, 8825: 131724, 8826: 131830, 8827: 132046, 8828: 132074, 8829: 132146, 8830: 132157, 8831: 132333, 8832: 132462, 8833: 132480, 8834: 132488, 8835: 132496, 8836: 132618, 8837: 132796, 8838: 132888, 8839: 132952, 8840: 132961, 8841: 133195, 8842: 133281, 8843: 133295, 8844: 133365, 8845: 133377, 8846: 133419, 8847: 133545, 8848: 133645, 8849: 133771, 8850: 133782, 8851: 133798, 8852: 133824, 8853: 134025, 8854: 134130, 8855: 134158, 8856: 134170, 8857: 134246, 8858: 134368, 8859: 134393, 8860: 134528, 8861: 134569, 8862: 134783, 8863: 134853, 8864: 134859, 8865: 134881, 8866: 135133, 8867: 135137, 8868: 135264, 8869: 135266, 8870: 135268, 8871: 135436, 8872: 135508, 8873: 135518, 8874: 135532, 8875: 135536, 8876: 135567, 8877: 135569, 8878: 135861, 8879: 135887, 8880: 136016, 8881: 136018, 8882: 136020, 8883: 136305, 8884: 136445, 8885: 136447, 8886: 136449, 8887: 136562, 8888: 136592, 8889: 136598, 8890: 136602, 8891: 136654, 8892: 136666, 8893: 136800, 8894: 136816, 8895: 136864, 8896: 137337, 8897: 137403, 8898: 137595, 8899: 137857, 8900: 138036, 8901: 138204, 8902: 138208, 8903: 138258, 8904: 138546, 8905: 138696, 8906: 138698, 8907: 139116, 8908: 139130, 8909: 139385, 8910: 139415, 8911: 139620, 8912: 139642, 8913: 139644, 8914: 139757, 8915: 139855, 8916: 139915, 8917: 140110, 8918: 140152, 8919: 140174, 8920: 140237, 8921: 140247, 8922: 140265, 8923: 140267, 8924: 140523, 8925: 140711, 8926: 140715, 8927: 140725, 8928: 140739, 8929: 140741, 8930: 140743, 8931: 140745, 8932: 140747, 8933: 140749, 8934: 140751, 8935: 140753, 8936: 140755, 8937: 140757, 8938: 140759, 8939: 140761, 8940: 140763, 8941: 140816, 8942: 140880, 8943: 140928, 8944: 141124, 8945: 141422, 8946: 141668, 8947: 141688, 8948: 141718, 8949: 141749, 8950: 141866, 8951: 141886, 8952: 141890, 8953: 141956, 8954: 142068, 8955: 142192, 8956: 142240, 8957: 142258, 8958: 142422, 8959: 142448, 8960: 142488, 8961: 142507, 8962: 142536, 8963: 142997, 8964: 143255, 8965: 143257, 8966: 143377, 8967: 143385, 8968: 143410, 8969: 143472, 8970: 143657, 8971: 143859, 8972: 144620, 8973: 144714, 8974: 144976, 8975: 145150, 8976: 145307, 8977: 145775, 8978: 145839, 8979: 145935, 8980: 146309, 8981: 146443, 8982: 146501, 8983: 146604, 8984: 146656, 8985: 146682, 8986: 146688, 8987: 147006, 8988: 147010, 8989: 147037, 8990: 147426, 8991: 147845, 8992: 148168, 8993: 148238, 8994: 148372, 8995: 148626, 8996: 148652, 8997: 148881, 8998: 148888, 8999: 148956, 9000: 149352, 9001: 149354, 9002: 149406, 9003: 149532, 9004: 149572, 9005: 149590, 9006: 149606, 9007: 149612, 9008: 149830, 9009: 150401, 9010: 150548, 9011: 150856, 9012: 151307, 9013: 151639, 9014: 152017, 9015: 152025, 9016: 152057, 9017: 152077, 9018: 152079, 9019: 152081, 9020: 152091, 9021: 152173, 9022: 152844, 9023: 153584, 9024: 155392, 9025: 155611, 9026: 155820, 9027: 156025, 9028: 156387, 9029: 156607, 9030: 156609, 9031: 156726, 9032: 157200, 9033: 157296, 9034: 157407, 9035: 157667, 9036: 158238, 9037: 158314, 9038: 158528, 9039: 158956, 9040: 159093, 9041: 159462, 9042: 159690, 9043: 159755, 9044: 159858, 9045: 159972, 9046: 160080, 9047: 160271, 9048: 160438, 9049: 160440, 9050: 160563, 9051: 160565, 9052: 160567, 9053: 160590, 9054: 160656, 9055: 160718, 9056: 161084, 9057: 161155, 9058: 161594, 9059: 161830, 9060: 161918, 9061: 161944, 9062: 162376, 9063: 162542, 9064: 162672, 9065: 163949}\n"
          ]
        }
      ]
    },
    {
      "cell_type": "markdown",
      "source": [
        "####***Mapping data user***"
      ],
      "metadata": {
        "id": "7EZIPFxNlXJR"
      }
    },
    {
      "cell_type": "markdown",
      "source": [
        "* *Mapping userId* ke *dataframe user*"
      ],
      "metadata": {
        "id": "URR0NWbVO5KZ"
      }
    },
    {
      "cell_type": "code",
      "source": [
        "movie_df['user'] = movie_df['userId'].map(user_to_user_encoded)"
      ],
      "metadata": {
        "id": "sIz0uWM2aTrw"
      },
      "execution_count": 38,
      "outputs": []
    },
    {
      "cell_type": "markdown",
      "source": [
        "* Mendapatkan jumlah *user*"
      ],
      "metadata": {
        "id": "bu13x_csPBZ1"
      }
    },
    {
      "cell_type": "code",
      "source": [
        "num_users = len(user_to_user_encoded)\n",
        "print(num_users)"
      ],
      "metadata": {
        "colab": {
          "base_uri": "https://localhost:8080/"
        },
        "id": "wA71dGEAO_YD",
        "outputId": "56f9a016-766a-48f1-8396-ab6f6d461498"
      },
      "execution_count": 39,
      "outputs": [
        {
          "output_type": "stream",
          "name": "stdout",
          "text": [
            "671\n"
          ]
        }
      ]
    },
    {
      "cell_type": "markdown",
      "source": [
        "####***Mapping data movieId***"
      ],
      "metadata": {
        "id": "kcGWbb9Tl6PX"
      }
    },
    {
      "cell_type": "markdown",
      "source": [
        "*  *Mapping movieId* ke *dataframe movie*"
      ],
      "metadata": {
        "id": "Ox5C59pvPRm0"
      }
    },
    {
      "cell_type": "code",
      "source": [
        "movie_df['movie'] = movie_df['movieId'].map(movie_to_movie_encoded)"
      ],
      "metadata": {
        "id": "rw-AkeqkPPKQ"
      },
      "execution_count": 40,
      "outputs": []
    },
    {
      "cell_type": "markdown",
      "source": [
        "* Mendapatkan jumlah *movie*"
      ],
      "metadata": {
        "id": "9ao3aAlMPW0P"
      }
    },
    {
      "cell_type": "code",
      "source": [
        "num_movie = len(movie_encoded_to_movie)\n",
        "print(num_movie)"
      ],
      "metadata": {
        "colab": {
          "base_uri": "https://localhost:8080/"
        },
        "id": "YTEC0z98l5Fk",
        "outputId": "79773380-3263-4090-f5e0-c749b96179e3"
      },
      "execution_count": 41,
      "outputs": [
        {
          "output_type": "stream",
          "name": "stdout",
          "text": [
            "9066\n"
          ]
        }
      ]
    },
    {
      "cell_type": "markdown",
      "metadata": {
        "id": "jChUsHMqkpTm"
      },
      "source": [
        "###***.6 Split Dataset***"
      ]
    },
    {
      "cell_type": "markdown",
      "source": [
        "* Mengacak dataset"
      ],
      "metadata": {
        "id": "fwQbwjuGtmly"
      }
    },
    {
      "cell_type": "code",
      "execution_count": 42,
      "metadata": {
        "id": "YEgUrOisTsRW"
      },
      "outputs": [],
      "source": [
        "movie_df = movie_df.sample(frac=1, random_state=3)"
      ]
    },
    {
      "cell_type": "markdown",
      "source": [
        "* Membuat variabel x untuk mencocokkan data *user* dan *movie* menjadi satu value"
      ],
      "metadata": {
        "id": "VFaOxyWORLO3"
      }
    },
    {
      "cell_type": "code",
      "execution_count": 43,
      "metadata": {
        "id": "J1tdX5D3OqgH"
      },
      "outputs": [],
      "source": [
        "x = movie_df[['user', 'movie']].values"
      ]
    },
    {
      "cell_type": "markdown",
      "source": [
        "*  Membuat variabel y untuk membuat rating dari hasil "
      ],
      "metadata": {
        "id": "ENOvdJq2RcM8"
      }
    },
    {
      "cell_type": "code",
      "source": [
        "y = movie_df['rating'].apply(lambda x: (x - min_rating) / (max_rating - min_rating)).values"
      ],
      "metadata": {
        "id": "11ha3PPpRZAC"
      },
      "execution_count": 44,
      "outputs": []
    },
    {
      "cell_type": "markdown",
      "source": [
        "* Membagi komposisi data latih dan data test adalah 80% data latih dan 20% data validasi"
      ],
      "metadata": {
        "id": "zyQPdt4uuGiH"
      }
    },
    {
      "cell_type": "code",
      "source": [
        "train_indices = int(0.8 * dfr.shape[0])\n",
        "x_train, x_val, y_train, y_val = (\n",
        "    x[:train_indices],\n",
        "    x[train_indices:],\n",
        "    y[:train_indices],\n",
        "    y[train_indices:]\n",
        ")\n",
        "\n",
        "print(x, y)"
      ],
      "metadata": {
        "colab": {
          "base_uri": "https://localhost:8080/"
        },
        "id": "CtFgWS-WRjvk",
        "outputId": "5bae8410-81c6-46ef-e7be-1eb5b7afc3b2"
      },
      "execution_count": 45,
      "outputs": [
        {
          "output_type": "stream",
          "name": "stdout",
          "text": [
            "[[ 252  543]\n",
            " [ 447 4983]\n",
            " [ 184 1036]\n",
            " ...\n",
            " [  62 4412]\n",
            " [ 184 3182]\n",
            " [ 354 3699]] [0.77777778 1.         0.66666667 ... 0.66666667 0.33333333 0.77777778]\n"
          ]
        }
      ]
    },
    {
      "cell_type": "markdown",
      "metadata": {
        "id": "Ve8zo47QAPFX"
      },
      "source": [
        "# **E. MODEL *DEVELOPMENT***"
      ]
    },
    {
      "cell_type": "markdown",
      "metadata": {
        "id": "Ql2MTrMSfBO0"
      },
      "source": [
        "• Membuat dan merancang model *machine learning* yang tepat agar dapat memberikan solusi permasalahan.\n",
        "\n",
        "• Menjelaskan apa saja parameter yang digunakan pada model dan fungsi dari penggunaan parameter tersebut\n",
        "\n",
        "• Menjelaskan kelebihan dan kekurangan algoritma *machine learning* yang digunakan.\n",
        "\n",
        "• Memberikan penilaian akurasi dari setiap model yang digunakan terhadap data *test* untuk mengetahui model mana yang memberikan hasil akurasi terbaik.\n",
        "\n"
      ]
    },
    {
      "cell_type": "markdown",
      "metadata": {
        "id": "VQQYrigxe63s"
      },
      "source": [
        "###***10. Beberapa Pendekatan yang akan digunakan dan diuji pada proyek ini***\n",
        "\n",
        "\n",
        "1.   *Content Based Filtring*\n",
        "2.   *Collaborative Filtering dengan RecommenderNet*\n",
        "\n",
        "\n",
        "\n"
      ]
    },
    {
      "cell_type": "markdown",
      "source": [
        "####***Content Based Filtering menggunakan Jaccard Similarity***"
      ],
      "metadata": {
        "id": "WGdGZknytMHA"
      }
    },
    {
      "cell_type": "markdown",
      "source": [
        "* Karena rekomendasi akan diberikan berdasarkan genre film yang ditonton sebelumnya oleh *user*, maka pisahkan masing-masing genre dengan fungsi *.explode()*"
      ],
      "metadata": {
        "id": "YqKMk_PbST2U"
      }
    },
    {
      "cell_type": "code",
      "source": [
        "dfm['genres'] = dfm['genres'].str.split(\"|\")\n",
        "dfm = dfm.explode('genres')\n",
        "dfm.head()  "
      ],
      "metadata": {
        "colab": {
          "base_uri": "https://localhost:8080/",
          "height": 206
        },
        "id": "DDXNCGTGUvoN",
        "outputId": "9ba79d46-6858-432f-c153-5354574ff1df"
      },
      "execution_count": 46,
      "outputs": [
        {
          "output_type": "execute_result",
          "data": {
            "text/plain": [
              "   movieId             title     genres\n",
              "0        1  Toy Story (1995)  Adventure\n",
              "0        1  Toy Story (1995)  Animation\n",
              "0        1  Toy Story (1995)   Children\n",
              "0        1  Toy Story (1995)     Comedy\n",
              "0        1  Toy Story (1995)    Fantasy"
            ],
            "text/html": [
              "\n",
              "  <div id=\"df-ad59e4c3-7309-4428-86b4-911d2d4012b0\">\n",
              "    <div class=\"colab-df-container\">\n",
              "      <div>\n",
              "<style scoped>\n",
              "    .dataframe tbody tr th:only-of-type {\n",
              "        vertical-align: middle;\n",
              "    }\n",
              "\n",
              "    .dataframe tbody tr th {\n",
              "        vertical-align: top;\n",
              "    }\n",
              "\n",
              "    .dataframe thead th {\n",
              "        text-align: right;\n",
              "    }\n",
              "</style>\n",
              "<table border=\"1\" class=\"dataframe\">\n",
              "  <thead>\n",
              "    <tr style=\"text-align: right;\">\n",
              "      <th></th>\n",
              "      <th>movieId</th>\n",
              "      <th>title</th>\n",
              "      <th>genres</th>\n",
              "    </tr>\n",
              "  </thead>\n",
              "  <tbody>\n",
              "    <tr>\n",
              "      <th>0</th>\n",
              "      <td>1</td>\n",
              "      <td>Toy Story (1995)</td>\n",
              "      <td>Adventure</td>\n",
              "    </tr>\n",
              "    <tr>\n",
              "      <th>0</th>\n",
              "      <td>1</td>\n",
              "      <td>Toy Story (1995)</td>\n",
              "      <td>Animation</td>\n",
              "    </tr>\n",
              "    <tr>\n",
              "      <th>0</th>\n",
              "      <td>1</td>\n",
              "      <td>Toy Story (1995)</td>\n",
              "      <td>Children</td>\n",
              "    </tr>\n",
              "    <tr>\n",
              "      <th>0</th>\n",
              "      <td>1</td>\n",
              "      <td>Toy Story (1995)</td>\n",
              "      <td>Comedy</td>\n",
              "    </tr>\n",
              "    <tr>\n",
              "      <th>0</th>\n",
              "      <td>1</td>\n",
              "      <td>Toy Story (1995)</td>\n",
              "      <td>Fantasy</td>\n",
              "    </tr>\n",
              "  </tbody>\n",
              "</table>\n",
              "</div>\n",
              "      <button class=\"colab-df-convert\" onclick=\"convertToInteractive('df-ad59e4c3-7309-4428-86b4-911d2d4012b0')\"\n",
              "              title=\"Convert this dataframe to an interactive table.\"\n",
              "              style=\"display:none;\">\n",
              "        \n",
              "  <svg xmlns=\"http://www.w3.org/2000/svg\" height=\"24px\"viewBox=\"0 0 24 24\"\n",
              "       width=\"24px\">\n",
              "    <path d=\"M0 0h24v24H0V0z\" fill=\"none\"/>\n",
              "    <path d=\"M18.56 5.44l.94 2.06.94-2.06 2.06-.94-2.06-.94-.94-2.06-.94 2.06-2.06.94zm-11 1L8.5 8.5l.94-2.06 2.06-.94-2.06-.94L8.5 2.5l-.94 2.06-2.06.94zm10 10l.94 2.06.94-2.06 2.06-.94-2.06-.94-.94-2.06-.94 2.06-2.06.94z\"/><path d=\"M17.41 7.96l-1.37-1.37c-.4-.4-.92-.59-1.43-.59-.52 0-1.04.2-1.43.59L10.3 9.45l-7.72 7.72c-.78.78-.78 2.05 0 2.83L4 21.41c.39.39.9.59 1.41.59.51 0 1.02-.2 1.41-.59l7.78-7.78 2.81-2.81c.8-.78.8-2.07 0-2.86zM5.41 20L4 18.59l7.72-7.72 1.47 1.35L5.41 20z\"/>\n",
              "  </svg>\n",
              "      </button>\n",
              "      \n",
              "  <style>\n",
              "    .colab-df-container {\n",
              "      display:flex;\n",
              "      flex-wrap:wrap;\n",
              "      gap: 12px;\n",
              "    }\n",
              "\n",
              "    .colab-df-convert {\n",
              "      background-color: #E8F0FE;\n",
              "      border: none;\n",
              "      border-radius: 50%;\n",
              "      cursor: pointer;\n",
              "      display: none;\n",
              "      fill: #1967D2;\n",
              "      height: 32px;\n",
              "      padding: 0 0 0 0;\n",
              "      width: 32px;\n",
              "    }\n",
              "\n",
              "    .colab-df-convert:hover {\n",
              "      background-color: #E2EBFA;\n",
              "      box-shadow: 0px 1px 2px rgba(60, 64, 67, 0.3), 0px 1px 3px 1px rgba(60, 64, 67, 0.15);\n",
              "      fill: #174EA6;\n",
              "    }\n",
              "\n",
              "    [theme=dark] .colab-df-convert {\n",
              "      background-color: #3B4455;\n",
              "      fill: #D2E3FC;\n",
              "    }\n",
              "\n",
              "    [theme=dark] .colab-df-convert:hover {\n",
              "      background-color: #434B5C;\n",
              "      box-shadow: 0px 1px 3px 1px rgba(0, 0, 0, 0.15);\n",
              "      filter: drop-shadow(0px 1px 2px rgba(0, 0, 0, 0.3));\n",
              "      fill: #FFFFFF;\n",
              "    }\n",
              "  </style>\n",
              "\n",
              "      <script>\n",
              "        const buttonEl =\n",
              "          document.querySelector('#df-ad59e4c3-7309-4428-86b4-911d2d4012b0 button.colab-df-convert');\n",
              "        buttonEl.style.display =\n",
              "          google.colab.kernel.accessAllowed ? 'block' : 'none';\n",
              "\n",
              "        async function convertToInteractive(key) {\n",
              "          const element = document.querySelector('#df-ad59e4c3-7309-4428-86b4-911d2d4012b0');\n",
              "          const dataTable =\n",
              "            await google.colab.kernel.invokeFunction('convertToInteractive',\n",
              "                                                     [key], {});\n",
              "          if (!dataTable) return;\n",
              "\n",
              "          const docLinkHtml = 'Like what you see? Visit the ' +\n",
              "            '<a target=\"_blank\" href=https://colab.research.google.com/notebooks/data_table.ipynb>data table notebook</a>'\n",
              "            + ' to learn more about interactive tables.';\n",
              "          element.innerHTML = '';\n",
              "          dataTable['output_type'] = 'display_data';\n",
              "          await google.colab.output.renderOutput(dataTable, element);\n",
              "          const docLink = document.createElement('div');\n",
              "          docLink.innerHTML = docLinkHtml;\n",
              "          element.appendChild(docLink);\n",
              "        }\n",
              "      </script>\n",
              "    </div>\n",
              "  </div>\n",
              "  "
            ]
          },
          "metadata": {},
          "execution_count": 46
        }
      ]
    },
    {
      "cell_type": "markdown",
      "source": [
        "* Pindahkan fitur *title* dan *genres* ke dalam *crosstab*"
      ],
      "metadata": {
        "id": "cJjQmvrZGKib"
      }
    },
    {
      "cell_type": "code",
      "source": [
        "title_genre = pd.crosstab(dfm['title'], dfm['genres'])\n",
        "title_genre.head()"
      ],
      "metadata": {
        "colab": {
          "base_uri": "https://localhost:8080/",
          "height": 351
        },
        "id": "T9DtgpWA1acX",
        "outputId": "f9258c16-08f0-45f3-d33b-56f0b4dc5528"
      },
      "execution_count": 47,
      "outputs": [
        {
          "output_type": "execute_result",
          "data": {
            "text/plain": [
              "genres                                   (no genres listed)  Action  \\\n",
              "title                                                                 \n",
              "\"Great Performances\" Cats (1998)                          0       0   \n",
              "$9.99 (2008)                                              0       0   \n",
              "'Hellboy': The Seeds of Creation (2004)                   0       1   \n",
              "'Neath the Arizona Skies (1934)                           0       0   \n",
              "'Round Midnight (1986)                                    0       0   \n",
              "\n",
              "genres                                   Adventure  Animation  Children  \\\n",
              "title                                                                     \n",
              "\"Great Performances\" Cats (1998)                 0          0         0   \n",
              "$9.99 (2008)                                     0          1         0   \n",
              "'Hellboy': The Seeds of Creation (2004)          1          0         0   \n",
              "'Neath the Arizona Skies (1934)                  0          0         0   \n",
              "'Round Midnight (1986)                           0          0         0   \n",
              "\n",
              "genres                                   Comedy  Crime  Documentary  Drama  \\\n",
              "title                                                                        \n",
              "\"Great Performances\" Cats (1998)              0      0            0      0   \n",
              "$9.99 (2008)                                  0      0            0      0   \n",
              "'Hellboy': The Seeds of Creation (2004)       1      0            1      0   \n",
              "'Neath the Arizona Skies (1934)               0      0            0      0   \n",
              "'Round Midnight (1986)                        0      0            0      1   \n",
              "\n",
              "genres                                   Fantasy  Film-Noir  Horror  IMAX  \\\n",
              "title                                                                       \n",
              "\"Great Performances\" Cats (1998)               0          0       0     0   \n",
              "$9.99 (2008)                                   0          0       0     0   \n",
              "'Hellboy': The Seeds of Creation (2004)        1          0       0     0   \n",
              "'Neath the Arizona Skies (1934)                0          0       0     0   \n",
              "'Round Midnight (1986)                         0          0       0     0   \n",
              "\n",
              "genres                                   Musical  Mystery  Romance  Sci-Fi  \\\n",
              "title                                                                        \n",
              "\"Great Performances\" Cats (1998)               1        0        0       0   \n",
              "$9.99 (2008)                                   0        0        0       0   \n",
              "'Hellboy': The Seeds of Creation (2004)        0        0        0       0   \n",
              "'Neath the Arizona Skies (1934)                0        0        0       0   \n",
              "'Round Midnight (1986)                         1        0        0       0   \n",
              "\n",
              "genres                                   Thriller  War  Western  \n",
              "title                                                            \n",
              "\"Great Performances\" Cats (1998)                0    0        0  \n",
              "$9.99 (2008)                                    0    0        0  \n",
              "'Hellboy': The Seeds of Creation (2004)         0    0        0  \n",
              "'Neath the Arizona Skies (1934)                 0    0        1  \n",
              "'Round Midnight (1986)                          0    0        0  "
            ],
            "text/html": [
              "\n",
              "  <div id=\"df-f6e32c4b-31a5-4186-8b81-92bf7d263d01\">\n",
              "    <div class=\"colab-df-container\">\n",
              "      <div>\n",
              "<style scoped>\n",
              "    .dataframe tbody tr th:only-of-type {\n",
              "        vertical-align: middle;\n",
              "    }\n",
              "\n",
              "    .dataframe tbody tr th {\n",
              "        vertical-align: top;\n",
              "    }\n",
              "\n",
              "    .dataframe thead th {\n",
              "        text-align: right;\n",
              "    }\n",
              "</style>\n",
              "<table border=\"1\" class=\"dataframe\">\n",
              "  <thead>\n",
              "    <tr style=\"text-align: right;\">\n",
              "      <th>genres</th>\n",
              "      <th>(no genres listed)</th>\n",
              "      <th>Action</th>\n",
              "      <th>Adventure</th>\n",
              "      <th>Animation</th>\n",
              "      <th>Children</th>\n",
              "      <th>Comedy</th>\n",
              "      <th>Crime</th>\n",
              "      <th>Documentary</th>\n",
              "      <th>Drama</th>\n",
              "      <th>Fantasy</th>\n",
              "      <th>Film-Noir</th>\n",
              "      <th>Horror</th>\n",
              "      <th>IMAX</th>\n",
              "      <th>Musical</th>\n",
              "      <th>Mystery</th>\n",
              "      <th>Romance</th>\n",
              "      <th>Sci-Fi</th>\n",
              "      <th>Thriller</th>\n",
              "      <th>War</th>\n",
              "      <th>Western</th>\n",
              "    </tr>\n",
              "    <tr>\n",
              "      <th>title</th>\n",
              "      <th></th>\n",
              "      <th></th>\n",
              "      <th></th>\n",
              "      <th></th>\n",
              "      <th></th>\n",
              "      <th></th>\n",
              "      <th></th>\n",
              "      <th></th>\n",
              "      <th></th>\n",
              "      <th></th>\n",
              "      <th></th>\n",
              "      <th></th>\n",
              "      <th></th>\n",
              "      <th></th>\n",
              "      <th></th>\n",
              "      <th></th>\n",
              "      <th></th>\n",
              "      <th></th>\n",
              "      <th></th>\n",
              "      <th></th>\n",
              "    </tr>\n",
              "  </thead>\n",
              "  <tbody>\n",
              "    <tr>\n",
              "      <th>\"Great Performances\" Cats (1998)</th>\n",
              "      <td>0</td>\n",
              "      <td>0</td>\n",
              "      <td>0</td>\n",
              "      <td>0</td>\n",
              "      <td>0</td>\n",
              "      <td>0</td>\n",
              "      <td>0</td>\n",
              "      <td>0</td>\n",
              "      <td>0</td>\n",
              "      <td>0</td>\n",
              "      <td>0</td>\n",
              "      <td>0</td>\n",
              "      <td>0</td>\n",
              "      <td>1</td>\n",
              "      <td>0</td>\n",
              "      <td>0</td>\n",
              "      <td>0</td>\n",
              "      <td>0</td>\n",
              "      <td>0</td>\n",
              "      <td>0</td>\n",
              "    </tr>\n",
              "    <tr>\n",
              "      <th>$9.99 (2008)</th>\n",
              "      <td>0</td>\n",
              "      <td>0</td>\n",
              "      <td>0</td>\n",
              "      <td>1</td>\n",
              "      <td>0</td>\n",
              "      <td>0</td>\n",
              "      <td>0</td>\n",
              "      <td>0</td>\n",
              "      <td>0</td>\n",
              "      <td>0</td>\n",
              "      <td>0</td>\n",
              "      <td>0</td>\n",
              "      <td>0</td>\n",
              "      <td>0</td>\n",
              "      <td>0</td>\n",
              "      <td>0</td>\n",
              "      <td>0</td>\n",
              "      <td>0</td>\n",
              "      <td>0</td>\n",
              "      <td>0</td>\n",
              "    </tr>\n",
              "    <tr>\n",
              "      <th>'Hellboy': The Seeds of Creation (2004)</th>\n",
              "      <td>0</td>\n",
              "      <td>1</td>\n",
              "      <td>1</td>\n",
              "      <td>0</td>\n",
              "      <td>0</td>\n",
              "      <td>1</td>\n",
              "      <td>0</td>\n",
              "      <td>1</td>\n",
              "      <td>0</td>\n",
              "      <td>1</td>\n",
              "      <td>0</td>\n",
              "      <td>0</td>\n",
              "      <td>0</td>\n",
              "      <td>0</td>\n",
              "      <td>0</td>\n",
              "      <td>0</td>\n",
              "      <td>0</td>\n",
              "      <td>0</td>\n",
              "      <td>0</td>\n",
              "      <td>0</td>\n",
              "    </tr>\n",
              "    <tr>\n",
              "      <th>'Neath the Arizona Skies (1934)</th>\n",
              "      <td>0</td>\n",
              "      <td>0</td>\n",
              "      <td>0</td>\n",
              "      <td>0</td>\n",
              "      <td>0</td>\n",
              "      <td>0</td>\n",
              "      <td>0</td>\n",
              "      <td>0</td>\n",
              "      <td>0</td>\n",
              "      <td>0</td>\n",
              "      <td>0</td>\n",
              "      <td>0</td>\n",
              "      <td>0</td>\n",
              "      <td>0</td>\n",
              "      <td>0</td>\n",
              "      <td>0</td>\n",
              "      <td>0</td>\n",
              "      <td>0</td>\n",
              "      <td>0</td>\n",
              "      <td>1</td>\n",
              "    </tr>\n",
              "    <tr>\n",
              "      <th>'Round Midnight (1986)</th>\n",
              "      <td>0</td>\n",
              "      <td>0</td>\n",
              "      <td>0</td>\n",
              "      <td>0</td>\n",
              "      <td>0</td>\n",
              "      <td>0</td>\n",
              "      <td>0</td>\n",
              "      <td>0</td>\n",
              "      <td>1</td>\n",
              "      <td>0</td>\n",
              "      <td>0</td>\n",
              "      <td>0</td>\n",
              "      <td>0</td>\n",
              "      <td>1</td>\n",
              "      <td>0</td>\n",
              "      <td>0</td>\n",
              "      <td>0</td>\n",
              "      <td>0</td>\n",
              "      <td>0</td>\n",
              "      <td>0</td>\n",
              "    </tr>\n",
              "  </tbody>\n",
              "</table>\n",
              "</div>\n",
              "      <button class=\"colab-df-convert\" onclick=\"convertToInteractive('df-f6e32c4b-31a5-4186-8b81-92bf7d263d01')\"\n",
              "              title=\"Convert this dataframe to an interactive table.\"\n",
              "              style=\"display:none;\">\n",
              "        \n",
              "  <svg xmlns=\"http://www.w3.org/2000/svg\" height=\"24px\"viewBox=\"0 0 24 24\"\n",
              "       width=\"24px\">\n",
              "    <path d=\"M0 0h24v24H0V0z\" fill=\"none\"/>\n",
              "    <path d=\"M18.56 5.44l.94 2.06.94-2.06 2.06-.94-2.06-.94-.94-2.06-.94 2.06-2.06.94zm-11 1L8.5 8.5l.94-2.06 2.06-.94-2.06-.94L8.5 2.5l-.94 2.06-2.06.94zm10 10l.94 2.06.94-2.06 2.06-.94-2.06-.94-.94-2.06-.94 2.06-2.06.94z\"/><path d=\"M17.41 7.96l-1.37-1.37c-.4-.4-.92-.59-1.43-.59-.52 0-1.04.2-1.43.59L10.3 9.45l-7.72 7.72c-.78.78-.78 2.05 0 2.83L4 21.41c.39.39.9.59 1.41.59.51 0 1.02-.2 1.41-.59l7.78-7.78 2.81-2.81c.8-.78.8-2.07 0-2.86zM5.41 20L4 18.59l7.72-7.72 1.47 1.35L5.41 20z\"/>\n",
              "  </svg>\n",
              "      </button>\n",
              "      \n",
              "  <style>\n",
              "    .colab-df-container {\n",
              "      display:flex;\n",
              "      flex-wrap:wrap;\n",
              "      gap: 12px;\n",
              "    }\n",
              "\n",
              "    .colab-df-convert {\n",
              "      background-color: #E8F0FE;\n",
              "      border: none;\n",
              "      border-radius: 50%;\n",
              "      cursor: pointer;\n",
              "      display: none;\n",
              "      fill: #1967D2;\n",
              "      height: 32px;\n",
              "      padding: 0 0 0 0;\n",
              "      width: 32px;\n",
              "    }\n",
              "\n",
              "    .colab-df-convert:hover {\n",
              "      background-color: #E2EBFA;\n",
              "      box-shadow: 0px 1px 2px rgba(60, 64, 67, 0.3), 0px 1px 3px 1px rgba(60, 64, 67, 0.15);\n",
              "      fill: #174EA6;\n",
              "    }\n",
              "\n",
              "    [theme=dark] .colab-df-convert {\n",
              "      background-color: #3B4455;\n",
              "      fill: #D2E3FC;\n",
              "    }\n",
              "\n",
              "    [theme=dark] .colab-df-convert:hover {\n",
              "      background-color: #434B5C;\n",
              "      box-shadow: 0px 1px 3px 1px rgba(0, 0, 0, 0.15);\n",
              "      filter: drop-shadow(0px 1px 2px rgba(0, 0, 0, 0.3));\n",
              "      fill: #FFFFFF;\n",
              "    }\n",
              "  </style>\n",
              "\n",
              "      <script>\n",
              "        const buttonEl =\n",
              "          document.querySelector('#df-f6e32c4b-31a5-4186-8b81-92bf7d263d01 button.colab-df-convert');\n",
              "        buttonEl.style.display =\n",
              "          google.colab.kernel.accessAllowed ? 'block' : 'none';\n",
              "\n",
              "        async function convertToInteractive(key) {\n",
              "          const element = document.querySelector('#df-f6e32c4b-31a5-4186-8b81-92bf7d263d01');\n",
              "          const dataTable =\n",
              "            await google.colab.kernel.invokeFunction('convertToInteractive',\n",
              "                                                     [key], {});\n",
              "          if (!dataTable) return;\n",
              "\n",
              "          const docLinkHtml = 'Like what you see? Visit the ' +\n",
              "            '<a target=\"_blank\" href=https://colab.research.google.com/notebooks/data_table.ipynb>data table notebook</a>'\n",
              "            + ' to learn more about interactive tables.';\n",
              "          element.innerHTML = '';\n",
              "          dataTable['output_type'] = 'display_data';\n",
              "          await google.colab.output.renderOutput(dataTable, element);\n",
              "          const docLink = document.createElement('div');\n",
              "          docLink.innerHTML = docLinkHtml;\n",
              "          element.appendChild(docLink);\n",
              "        }\n",
              "      </script>\n",
              "    </div>\n",
              "  </div>\n",
              "  "
            ]
          },
          "metadata": {},
          "execution_count": 47
        }
      ]
    },
    {
      "cell_type": "markdown",
      "source": [
        "* Definisikan variabel untuk *Jaccard Similarity Measure* dan masukkan ke dalam dataframe"
      ],
      "metadata": {
        "id": "8rW4nDA7TSFm"
      }
    },
    {
      "cell_type": "code",
      "source": [
        "jaccard_similarity_df = pd.DataFrame(1 - squareform(pdist(title_genre.values, metric='jaccard')), \n",
        "                                     index=title_genre.index, columns=title_genre.index)"
      ],
      "metadata": {
        "id": "qbQR6kHaU2qM"
      },
      "execution_count": 48,
      "outputs": []
    },
    {
      "cell_type": "markdown",
      "source": [
        "* Cek dataframe *Jaccard Similarity* yang telah dibuat"
      ],
      "metadata": {
        "id": "33wXqiR7UGEC"
      }
    },
    {
      "cell_type": "code",
      "source": [
        "jaccard_similarity_df.head()"
      ],
      "metadata": {
        "colab": {
          "base_uri": "https://localhost:8080/",
          "height": 574
        },
        "id": "8ftZHruvU4zK",
        "outputId": "e75eef78-9f3a-460e-fa58-c6199c089188"
      },
      "execution_count": 49,
      "outputs": [
        {
          "output_type": "execute_result",
          "data": {
            "text/plain": [
              "title                                    \"Great Performances\" Cats (1998)  \\\n",
              "title                                                                       \n",
              "\"Great Performances\" Cats (1998)                                      1.0   \n",
              "$9.99 (2008)                                                          0.0   \n",
              "'Hellboy': The Seeds of Creation (2004)                               0.0   \n",
              "'Neath the Arizona Skies (1934)                                       0.0   \n",
              "'Round Midnight (1986)                                                0.5   \n",
              "\n",
              "title                                    $9.99 (2008)  \\\n",
              "title                                                   \n",
              "\"Great Performances\" Cats (1998)                  0.0   \n",
              "$9.99 (2008)                                      1.0   \n",
              "'Hellboy': The Seeds of Creation (2004)           0.0   \n",
              "'Neath the Arizona Skies (1934)                   0.0   \n",
              "'Round Midnight (1986)                            0.0   \n",
              "\n",
              "title                                    'Hellboy': The Seeds of Creation (2004)  \\\n",
              "title                                                                              \n",
              "\"Great Performances\" Cats (1998)                                             0.0   \n",
              "$9.99 (2008)                                                                 0.0   \n",
              "'Hellboy': The Seeds of Creation (2004)                                      1.0   \n",
              "'Neath the Arizona Skies (1934)                                              0.0   \n",
              "'Round Midnight (1986)                                                       0.0   \n",
              "\n",
              "title                                    'Neath the Arizona Skies (1934)  \\\n",
              "title                                                                      \n",
              "\"Great Performances\" Cats (1998)                                     0.0   \n",
              "$9.99 (2008)                                                         0.0   \n",
              "'Hellboy': The Seeds of Creation (2004)                              0.0   \n",
              "'Neath the Arizona Skies (1934)                                      1.0   \n",
              "'Round Midnight (1986)                                               0.0   \n",
              "\n",
              "title                                    'Round Midnight (1986)  \\\n",
              "title                                                             \n",
              "\"Great Performances\" Cats (1998)                            0.5   \n",
              "$9.99 (2008)                                                0.0   \n",
              "'Hellboy': The Seeds of Creation (2004)                     0.0   \n",
              "'Neath the Arizona Skies (1934)                             0.0   \n",
              "'Round Midnight (1986)                                      1.0   \n",
              "\n",
              "title                                    'Salem's Lot (2004)  \\\n",
              "title                                                          \n",
              "\"Great Performances\" Cats (1998)                         0.0   \n",
              "$9.99 (2008)                                             0.0   \n",
              "'Hellboy': The Seeds of Creation (2004)                  0.0   \n",
              "'Neath the Arizona Skies (1934)                          0.0   \n",
              "'Round Midnight (1986)                                   0.2   \n",
              "\n",
              "title                                    'Til There Was You (1997)  \\\n",
              "title                                                                \n",
              "\"Great Performances\" Cats (1998)                          0.000000   \n",
              "$9.99 (2008)                                              0.000000   \n",
              "'Hellboy': The Seeds of Creation (2004)                   0.000000   \n",
              "'Neath the Arizona Skies (1934)                           0.000000   \n",
              "'Round Midnight (1986)                                    0.333333   \n",
              "\n",
              "title                                    'burbs, The (1989)  \\\n",
              "title                                                         \n",
              "\"Great Performances\" Cats (1998)                        0.0   \n",
              "$9.99 (2008)                                            0.0   \n",
              "'Hellboy': The Seeds of Creation (2004)                 0.2   \n",
              "'Neath the Arizona Skies (1934)                         0.0   \n",
              "'Round Midnight (1986)                                  0.0   \n",
              "\n",
              "title                                    'night Mother (1986)  \\\n",
              "title                                                           \n",
              "\"Great Performances\" Cats (1998)                          0.0   \n",
              "$9.99 (2008)                                              0.0   \n",
              "'Hellboy': The Seeds of Creation (2004)                   0.0   \n",
              "'Neath the Arizona Skies (1934)                           0.0   \n",
              "'Round Midnight (1986)                                    0.5   \n",
              "\n",
              "title                                    (500) Days of Summer (2009)  ...  \\\n",
              "title                                                                 ...   \n",
              "\"Great Performances\" Cats (1998)                            0.000000  ...   \n",
              "$9.99 (2008)                                                0.000000  ...   \n",
              "'Hellboy': The Seeds of Creation (2004)                     0.142857  ...   \n",
              "'Neath the Arizona Skies (1934)                             0.000000  ...   \n",
              "'Round Midnight (1986)                                      0.250000  ...   \n",
              "\n",
              "title                                    Zulu (1964)  Zulu (2013)  \\\n",
              "title                                                               \n",
              "\"Great Performances\" Cats (1998)            0.000000         0.00   \n",
              "$9.99 (2008)                                0.000000         0.00   \n",
              "'Hellboy': The Seeds of Creation (2004)     0.142857         0.00   \n",
              "'Neath the Arizona Skies (1934)             0.000000         0.00   \n",
              "'Round Midnight (1986)                      0.250000         0.25   \n",
              "\n",
              "title                                    [REC] (2007)  eXistenZ (1999)  \\\n",
              "title                                                                    \n",
              "\"Great Performances\" Cats (1998)                 0.00         0.000000   \n",
              "$9.99 (2008)                                     0.00         0.000000   \n",
              "'Hellboy': The Seeds of Creation (2004)          0.00         0.142857   \n",
              "'Neath the Arizona Skies (1934)                  0.00         0.000000   \n",
              "'Round Midnight (1986)                           0.25         0.000000   \n",
              "\n",
              "title                                    loudQUIETloud: A Film About the Pixies (2006)  \\\n",
              "title                                                                                    \n",
              "\"Great Performances\" Cats (1998)                                                   0.0   \n",
              "$9.99 (2008)                                                                       0.0   \n",
              "'Hellboy': The Seeds of Creation (2004)                                            0.2   \n",
              "'Neath the Arizona Skies (1934)                                                    0.0   \n",
              "'Round Midnight (1986)                                                             0.0   \n",
              "\n",
              "title                                    xXx (2002)  \\\n",
              "title                                                 \n",
              "\"Great Performances\" Cats (1998)           0.000000   \n",
              "$9.99 (2008)                               0.000000   \n",
              "'Hellboy': The Seeds of Creation (2004)    0.142857   \n",
              "'Neath the Arizona Skies (1934)            0.000000   \n",
              "'Round Midnight (1986)                     0.000000   \n",
              "\n",
              "title                                    xXx: State of the Union (2005)  \\\n",
              "title                                                                     \n",
              "\"Great Performances\" Cats (1998)                               0.000000   \n",
              "$9.99 (2008)                                                   0.000000   \n",
              "'Hellboy': The Seeds of Creation (2004)                        0.142857   \n",
              "'Neath the Arizona Skies (1934)                                0.000000   \n",
              "'Round Midnight (1986)                                         0.000000   \n",
              "\n",
              "title                                    ¡Three Amigos! (1986)  \\\n",
              "title                                                            \n",
              "\"Great Performances\" Cats (1998)                      0.000000   \n",
              "$9.99 (2008)                                          0.000000   \n",
              "'Hellboy': The Seeds of Creation (2004)               0.166667   \n",
              "'Neath the Arizona Skies (1934)                       0.500000   \n",
              "'Round Midnight (1986)                                0.000000   \n",
              "\n",
              "title                                    À nous la liberté (Freedom for Us) (1931)  \\\n",
              "title                                                                                \n",
              "\"Great Performances\" Cats (1998)                                          0.500000   \n",
              "$9.99 (2008)                                                              0.000000   \n",
              "'Hellboy': The Seeds of Creation (2004)                                   0.166667   \n",
              "'Neath the Arizona Skies (1934)                                           0.000000   \n",
              "'Round Midnight (1986)                                                    0.333333   \n",
              "\n",
              "title                                    İtirazım Var (2014)  \n",
              "title                                                         \n",
              "\"Great Performances\" Cats (1998)                    0.000000  \n",
              "$9.99 (2008)                                        0.000000  \n",
              "'Hellboy': The Seeds of Creation (2004)             0.142857  \n",
              "'Neath the Arizona Skies (1934)                     0.000000  \n",
              "'Round Midnight (1986)                              0.250000  \n",
              "\n",
              "[5 rows x 9123 columns]"
            ],
            "text/html": [
              "\n",
              "  <div id=\"df-e10d1520-e271-42b2-9031-a99ba216638d\">\n",
              "    <div class=\"colab-df-container\">\n",
              "      <div>\n",
              "<style scoped>\n",
              "    .dataframe tbody tr th:only-of-type {\n",
              "        vertical-align: middle;\n",
              "    }\n",
              "\n",
              "    .dataframe tbody tr th {\n",
              "        vertical-align: top;\n",
              "    }\n",
              "\n",
              "    .dataframe thead th {\n",
              "        text-align: right;\n",
              "    }\n",
              "</style>\n",
              "<table border=\"1\" class=\"dataframe\">\n",
              "  <thead>\n",
              "    <tr style=\"text-align: right;\">\n",
              "      <th>title</th>\n",
              "      <th>\"Great Performances\" Cats (1998)</th>\n",
              "      <th>$9.99 (2008)</th>\n",
              "      <th>'Hellboy': The Seeds of Creation (2004)</th>\n",
              "      <th>'Neath the Arizona Skies (1934)</th>\n",
              "      <th>'Round Midnight (1986)</th>\n",
              "      <th>'Salem's Lot (2004)</th>\n",
              "      <th>'Til There Was You (1997)</th>\n",
              "      <th>'burbs, The (1989)</th>\n",
              "      <th>'night Mother (1986)</th>\n",
              "      <th>(500) Days of Summer (2009)</th>\n",
              "      <th>...</th>\n",
              "      <th>Zulu (1964)</th>\n",
              "      <th>Zulu (2013)</th>\n",
              "      <th>[REC] (2007)</th>\n",
              "      <th>eXistenZ (1999)</th>\n",
              "      <th>loudQUIETloud: A Film About the Pixies (2006)</th>\n",
              "      <th>xXx (2002)</th>\n",
              "      <th>xXx: State of the Union (2005)</th>\n",
              "      <th>¡Three Amigos! (1986)</th>\n",
              "      <th>À nous la liberté (Freedom for Us) (1931)</th>\n",
              "      <th>İtirazım Var (2014)</th>\n",
              "    </tr>\n",
              "    <tr>\n",
              "      <th>title</th>\n",
              "      <th></th>\n",
              "      <th></th>\n",
              "      <th></th>\n",
              "      <th></th>\n",
              "      <th></th>\n",
              "      <th></th>\n",
              "      <th></th>\n",
              "      <th></th>\n",
              "      <th></th>\n",
              "      <th></th>\n",
              "      <th></th>\n",
              "      <th></th>\n",
              "      <th></th>\n",
              "      <th></th>\n",
              "      <th></th>\n",
              "      <th></th>\n",
              "      <th></th>\n",
              "      <th></th>\n",
              "      <th></th>\n",
              "      <th></th>\n",
              "      <th></th>\n",
              "    </tr>\n",
              "  </thead>\n",
              "  <tbody>\n",
              "    <tr>\n",
              "      <th>\"Great Performances\" Cats (1998)</th>\n",
              "      <td>1.0</td>\n",
              "      <td>0.0</td>\n",
              "      <td>0.0</td>\n",
              "      <td>0.0</td>\n",
              "      <td>0.5</td>\n",
              "      <td>0.0</td>\n",
              "      <td>0.000000</td>\n",
              "      <td>0.0</td>\n",
              "      <td>0.0</td>\n",
              "      <td>0.000000</td>\n",
              "      <td>...</td>\n",
              "      <td>0.000000</td>\n",
              "      <td>0.00</td>\n",
              "      <td>0.00</td>\n",
              "      <td>0.000000</td>\n",
              "      <td>0.0</td>\n",
              "      <td>0.000000</td>\n",
              "      <td>0.000000</td>\n",
              "      <td>0.000000</td>\n",
              "      <td>0.500000</td>\n",
              "      <td>0.000000</td>\n",
              "    </tr>\n",
              "    <tr>\n",
              "      <th>$9.99 (2008)</th>\n",
              "      <td>0.0</td>\n",
              "      <td>1.0</td>\n",
              "      <td>0.0</td>\n",
              "      <td>0.0</td>\n",
              "      <td>0.0</td>\n",
              "      <td>0.0</td>\n",
              "      <td>0.000000</td>\n",
              "      <td>0.0</td>\n",
              "      <td>0.0</td>\n",
              "      <td>0.000000</td>\n",
              "      <td>...</td>\n",
              "      <td>0.000000</td>\n",
              "      <td>0.00</td>\n",
              "      <td>0.00</td>\n",
              "      <td>0.000000</td>\n",
              "      <td>0.0</td>\n",
              "      <td>0.000000</td>\n",
              "      <td>0.000000</td>\n",
              "      <td>0.000000</td>\n",
              "      <td>0.000000</td>\n",
              "      <td>0.000000</td>\n",
              "    </tr>\n",
              "    <tr>\n",
              "      <th>'Hellboy': The Seeds of Creation (2004)</th>\n",
              "      <td>0.0</td>\n",
              "      <td>0.0</td>\n",
              "      <td>1.0</td>\n",
              "      <td>0.0</td>\n",
              "      <td>0.0</td>\n",
              "      <td>0.0</td>\n",
              "      <td>0.000000</td>\n",
              "      <td>0.2</td>\n",
              "      <td>0.0</td>\n",
              "      <td>0.142857</td>\n",
              "      <td>...</td>\n",
              "      <td>0.142857</td>\n",
              "      <td>0.00</td>\n",
              "      <td>0.00</td>\n",
              "      <td>0.142857</td>\n",
              "      <td>0.2</td>\n",
              "      <td>0.142857</td>\n",
              "      <td>0.142857</td>\n",
              "      <td>0.166667</td>\n",
              "      <td>0.166667</td>\n",
              "      <td>0.142857</td>\n",
              "    </tr>\n",
              "    <tr>\n",
              "      <th>'Neath the Arizona Skies (1934)</th>\n",
              "      <td>0.0</td>\n",
              "      <td>0.0</td>\n",
              "      <td>0.0</td>\n",
              "      <td>1.0</td>\n",
              "      <td>0.0</td>\n",
              "      <td>0.0</td>\n",
              "      <td>0.000000</td>\n",
              "      <td>0.0</td>\n",
              "      <td>0.0</td>\n",
              "      <td>0.000000</td>\n",
              "      <td>...</td>\n",
              "      <td>0.000000</td>\n",
              "      <td>0.00</td>\n",
              "      <td>0.00</td>\n",
              "      <td>0.000000</td>\n",
              "      <td>0.0</td>\n",
              "      <td>0.000000</td>\n",
              "      <td>0.000000</td>\n",
              "      <td>0.500000</td>\n",
              "      <td>0.000000</td>\n",
              "      <td>0.000000</td>\n",
              "    </tr>\n",
              "    <tr>\n",
              "      <th>'Round Midnight (1986)</th>\n",
              "      <td>0.5</td>\n",
              "      <td>0.0</td>\n",
              "      <td>0.0</td>\n",
              "      <td>0.0</td>\n",
              "      <td>1.0</td>\n",
              "      <td>0.2</td>\n",
              "      <td>0.333333</td>\n",
              "      <td>0.0</td>\n",
              "      <td>0.5</td>\n",
              "      <td>0.250000</td>\n",
              "      <td>...</td>\n",
              "      <td>0.250000</td>\n",
              "      <td>0.25</td>\n",
              "      <td>0.25</td>\n",
              "      <td>0.000000</td>\n",
              "      <td>0.0</td>\n",
              "      <td>0.000000</td>\n",
              "      <td>0.000000</td>\n",
              "      <td>0.000000</td>\n",
              "      <td>0.333333</td>\n",
              "      <td>0.250000</td>\n",
              "    </tr>\n",
              "  </tbody>\n",
              "</table>\n",
              "<p>5 rows × 9123 columns</p>\n",
              "</div>\n",
              "      <button class=\"colab-df-convert\" onclick=\"convertToInteractive('df-e10d1520-e271-42b2-9031-a99ba216638d')\"\n",
              "              title=\"Convert this dataframe to an interactive table.\"\n",
              "              style=\"display:none;\">\n",
              "        \n",
              "  <svg xmlns=\"http://www.w3.org/2000/svg\" height=\"24px\"viewBox=\"0 0 24 24\"\n",
              "       width=\"24px\">\n",
              "    <path d=\"M0 0h24v24H0V0z\" fill=\"none\"/>\n",
              "    <path d=\"M18.56 5.44l.94 2.06.94-2.06 2.06-.94-2.06-.94-.94-2.06-.94 2.06-2.06.94zm-11 1L8.5 8.5l.94-2.06 2.06-.94-2.06-.94L8.5 2.5l-.94 2.06-2.06.94zm10 10l.94 2.06.94-2.06 2.06-.94-2.06-.94-.94-2.06-.94 2.06-2.06.94z\"/><path d=\"M17.41 7.96l-1.37-1.37c-.4-.4-.92-.59-1.43-.59-.52 0-1.04.2-1.43.59L10.3 9.45l-7.72 7.72c-.78.78-.78 2.05 0 2.83L4 21.41c.39.39.9.59 1.41.59.51 0 1.02-.2 1.41-.59l7.78-7.78 2.81-2.81c.8-.78.8-2.07 0-2.86zM5.41 20L4 18.59l7.72-7.72 1.47 1.35L5.41 20z\"/>\n",
              "  </svg>\n",
              "      </button>\n",
              "      \n",
              "  <style>\n",
              "    .colab-df-container {\n",
              "      display:flex;\n",
              "      flex-wrap:wrap;\n",
              "      gap: 12px;\n",
              "    }\n",
              "\n",
              "    .colab-df-convert {\n",
              "      background-color: #E8F0FE;\n",
              "      border: none;\n",
              "      border-radius: 50%;\n",
              "      cursor: pointer;\n",
              "      display: none;\n",
              "      fill: #1967D2;\n",
              "      height: 32px;\n",
              "      padding: 0 0 0 0;\n",
              "      width: 32px;\n",
              "    }\n",
              "\n",
              "    .colab-df-convert:hover {\n",
              "      background-color: #E2EBFA;\n",
              "      box-shadow: 0px 1px 2px rgba(60, 64, 67, 0.3), 0px 1px 3px 1px rgba(60, 64, 67, 0.15);\n",
              "      fill: #174EA6;\n",
              "    }\n",
              "\n",
              "    [theme=dark] .colab-df-convert {\n",
              "      background-color: #3B4455;\n",
              "      fill: #D2E3FC;\n",
              "    }\n",
              "\n",
              "    [theme=dark] .colab-df-convert:hover {\n",
              "      background-color: #434B5C;\n",
              "      box-shadow: 0px 1px 3px 1px rgba(0, 0, 0, 0.15);\n",
              "      filter: drop-shadow(0px 1px 2px rgba(0, 0, 0, 0.3));\n",
              "      fill: #FFFFFF;\n",
              "    }\n",
              "  </style>\n",
              "\n",
              "      <script>\n",
              "        const buttonEl =\n",
              "          document.querySelector('#df-e10d1520-e271-42b2-9031-a99ba216638d button.colab-df-convert');\n",
              "        buttonEl.style.display =\n",
              "          google.colab.kernel.accessAllowed ? 'block' : 'none';\n",
              "\n",
              "        async function convertToInteractive(key) {\n",
              "          const element = document.querySelector('#df-e10d1520-e271-42b2-9031-a99ba216638d');\n",
              "          const dataTable =\n",
              "            await google.colab.kernel.invokeFunction('convertToInteractive',\n",
              "                                                     [key], {});\n",
              "          if (!dataTable) return;\n",
              "\n",
              "          const docLinkHtml = 'Like what you see? Visit the ' +\n",
              "            '<a target=\"_blank\" href=https://colab.research.google.com/notebooks/data_table.ipynb>data table notebook</a>'\n",
              "            + ' to learn more about interactive tables.';\n",
              "          element.innerHTML = '';\n",
              "          dataTable['output_type'] = 'display_data';\n",
              "          await google.colab.output.renderOutput(dataTable, element);\n",
              "          const docLink = document.createElement('div');\n",
              "          docLink.innerHTML = docLinkHtml;\n",
              "          element.appendChild(docLink);\n",
              "        }\n",
              "      </script>\n",
              "    </div>\n",
              "  </div>\n",
              "  "
            ]
          },
          "metadata": {},
          "execution_count": 49
        }
      ]
    },
    {
      "cell_type": "markdown",
      "metadata": {
        "id": "WszWFiTvRqPo"
      },
      "source": [
        "####***Collaborative Filtering dengan Class RecomemenderNet dari Dicoding .***"
      ]
    },
    {
      "cell_type": "markdown",
      "source": [
        "* Definisikan variabel untuk menampung dictionary untuk data *movieId*, *title*, dan *genres*"
      ],
      "metadata": {
        "id": "VVx90YNUwaZd"
      }
    },
    {
      "cell_type": "code",
      "source": [
        "movie_dict = pd.DataFrame({\n",
        "    'id': movie_df['movieId'].tolist(),\n",
        "    'title': movie_df['title'].tolist(),\n",
        "    'genres': movie_df['genres'].tolist()\n",
        "})\n",
        "movie_dict = movie_dict.drop_duplicates('id')\n",
        "movie_dict.head()"
      ],
      "metadata": {
        "id": "ZQkC530loyVm",
        "colab": {
          "base_uri": "https://localhost:8080/",
          "height": 206
        },
        "outputId": "69738397-71d1-4839-b9bf-1e949be3591a"
      },
      "execution_count": 50,
      "outputs": [
        {
          "output_type": "execute_result",
          "data": {
            "text/plain": [
              "     id                             title                              genres\n",
              "0   616            Aristocats, The (1970)                  Animation|Children\n",
              "1  7091             Horse Feathers (1932)                              Comedy\n",
              "2  1282                   Fantasia (1940)  Animation|Children|Fantasy|Musical\n",
              "3   367                  Mask, The (1994)         Action|Comedy|Crime|Fantasy\n",
              "4   318  Shawshank Redemption, The (1994)                         Crime|Drama"
            ],
            "text/html": [
              "\n",
              "  <div id=\"df-4739a7b1-f178-4632-aa67-b8984fa86e7a\">\n",
              "    <div class=\"colab-df-container\">\n",
              "      <div>\n",
              "<style scoped>\n",
              "    .dataframe tbody tr th:only-of-type {\n",
              "        vertical-align: middle;\n",
              "    }\n",
              "\n",
              "    .dataframe tbody tr th {\n",
              "        vertical-align: top;\n",
              "    }\n",
              "\n",
              "    .dataframe thead th {\n",
              "        text-align: right;\n",
              "    }\n",
              "</style>\n",
              "<table border=\"1\" class=\"dataframe\">\n",
              "  <thead>\n",
              "    <tr style=\"text-align: right;\">\n",
              "      <th></th>\n",
              "      <th>id</th>\n",
              "      <th>title</th>\n",
              "      <th>genres</th>\n",
              "    </tr>\n",
              "  </thead>\n",
              "  <tbody>\n",
              "    <tr>\n",
              "      <th>0</th>\n",
              "      <td>616</td>\n",
              "      <td>Aristocats, The (1970)</td>\n",
              "      <td>Animation|Children</td>\n",
              "    </tr>\n",
              "    <tr>\n",
              "      <th>1</th>\n",
              "      <td>7091</td>\n",
              "      <td>Horse Feathers (1932)</td>\n",
              "      <td>Comedy</td>\n",
              "    </tr>\n",
              "    <tr>\n",
              "      <th>2</th>\n",
              "      <td>1282</td>\n",
              "      <td>Fantasia (1940)</td>\n",
              "      <td>Animation|Children|Fantasy|Musical</td>\n",
              "    </tr>\n",
              "    <tr>\n",
              "      <th>3</th>\n",
              "      <td>367</td>\n",
              "      <td>Mask, The (1994)</td>\n",
              "      <td>Action|Comedy|Crime|Fantasy</td>\n",
              "    </tr>\n",
              "    <tr>\n",
              "      <th>4</th>\n",
              "      <td>318</td>\n",
              "      <td>Shawshank Redemption, The (1994)</td>\n",
              "      <td>Crime|Drama</td>\n",
              "    </tr>\n",
              "  </tbody>\n",
              "</table>\n",
              "</div>\n",
              "      <button class=\"colab-df-convert\" onclick=\"convertToInteractive('df-4739a7b1-f178-4632-aa67-b8984fa86e7a')\"\n",
              "              title=\"Convert this dataframe to an interactive table.\"\n",
              "              style=\"display:none;\">\n",
              "        \n",
              "  <svg xmlns=\"http://www.w3.org/2000/svg\" height=\"24px\"viewBox=\"0 0 24 24\"\n",
              "       width=\"24px\">\n",
              "    <path d=\"M0 0h24v24H0V0z\" fill=\"none\"/>\n",
              "    <path d=\"M18.56 5.44l.94 2.06.94-2.06 2.06-.94-2.06-.94-.94-2.06-.94 2.06-2.06.94zm-11 1L8.5 8.5l.94-2.06 2.06-.94-2.06-.94L8.5 2.5l-.94 2.06-2.06.94zm10 10l.94 2.06.94-2.06 2.06-.94-2.06-.94-.94-2.06-.94 2.06-2.06.94z\"/><path d=\"M17.41 7.96l-1.37-1.37c-.4-.4-.92-.59-1.43-.59-.52 0-1.04.2-1.43.59L10.3 9.45l-7.72 7.72c-.78.78-.78 2.05 0 2.83L4 21.41c.39.39.9.59 1.41.59.51 0 1.02-.2 1.41-.59l7.78-7.78 2.81-2.81c.8-.78.8-2.07 0-2.86zM5.41 20L4 18.59l7.72-7.72 1.47 1.35L5.41 20z\"/>\n",
              "  </svg>\n",
              "      </button>\n",
              "      \n",
              "  <style>\n",
              "    .colab-df-container {\n",
              "      display:flex;\n",
              "      flex-wrap:wrap;\n",
              "      gap: 12px;\n",
              "    }\n",
              "\n",
              "    .colab-df-convert {\n",
              "      background-color: #E8F0FE;\n",
              "      border: none;\n",
              "      border-radius: 50%;\n",
              "      cursor: pointer;\n",
              "      display: none;\n",
              "      fill: #1967D2;\n",
              "      height: 32px;\n",
              "      padding: 0 0 0 0;\n",
              "      width: 32px;\n",
              "    }\n",
              "\n",
              "    .colab-df-convert:hover {\n",
              "      background-color: #E2EBFA;\n",
              "      box-shadow: 0px 1px 2px rgba(60, 64, 67, 0.3), 0px 1px 3px 1px rgba(60, 64, 67, 0.15);\n",
              "      fill: #174EA6;\n",
              "    }\n",
              "\n",
              "    [theme=dark] .colab-df-convert {\n",
              "      background-color: #3B4455;\n",
              "      fill: #D2E3FC;\n",
              "    }\n",
              "\n",
              "    [theme=dark] .colab-df-convert:hover {\n",
              "      background-color: #434B5C;\n",
              "      box-shadow: 0px 1px 3px 1px rgba(0, 0, 0, 0.15);\n",
              "      filter: drop-shadow(0px 1px 2px rgba(0, 0, 0, 0.3));\n",
              "      fill: #FFFFFF;\n",
              "    }\n",
              "  </style>\n",
              "\n",
              "      <script>\n",
              "        const buttonEl =\n",
              "          document.querySelector('#df-4739a7b1-f178-4632-aa67-b8984fa86e7a button.colab-df-convert');\n",
              "        buttonEl.style.display =\n",
              "          google.colab.kernel.accessAllowed ? 'block' : 'none';\n",
              "\n",
              "        async function convertToInteractive(key) {\n",
              "          const element = document.querySelector('#df-4739a7b1-f178-4632-aa67-b8984fa86e7a');\n",
              "          const dataTable =\n",
              "            await google.colab.kernel.invokeFunction('convertToInteractive',\n",
              "                                                     [key], {});\n",
              "          if (!dataTable) return;\n",
              "\n",
              "          const docLinkHtml = 'Like what you see? Visit the ' +\n",
              "            '<a target=\"_blank\" href=https://colab.research.google.com/notebooks/data_table.ipynb>data table notebook</a>'\n",
              "            + ' to learn more about interactive tables.';\n",
              "          element.innerHTML = '';\n",
              "          dataTable['output_type'] = 'display_data';\n",
              "          await google.colab.output.renderOutput(dataTable, element);\n",
              "          const docLink = document.createElement('div');\n",
              "          docLink.innerHTML = docLinkHtml;\n",
              "          element.appendChild(docLink);\n",
              "        }\n",
              "      </script>\n",
              "    </div>\n",
              "  </div>\n",
              "  "
            ]
          },
          "metadata": {},
          "execution_count": 50
        }
      ]
    },
    {
      "cell_type": "markdown",
      "source": [
        "* Membuat kode *class RecommenderNet* dengan *keras Model class* dari Dicoding      "
      ],
      "metadata": {
        "id": "9FwaKY-gWUur"
      }
    },
    {
      "cell_type": "code",
      "execution_count": 51,
      "metadata": {
        "id": "DiKvRBWaRt1v"
      },
      "outputs": [],
      "source": [
        "class RecommenderNet(tf.keras.Model):\n",
        " \n",
        "  # Insialisasi fungsi\n",
        "  def __init__(self, num_users, num_movie, embedding_size, **kwargs):\n",
        "    super(RecommenderNet, self).__init__(**kwargs)\n",
        "    self.num_users = num_users\n",
        "    self.num_movie = num_movie\n",
        "    self.embedding_size = embedding_size\n",
        "    self.user_embedding = layers.Embedding( # layer embedding user\n",
        "        num_users,\n",
        "        embedding_size,\n",
        "        embeddings_initializer = 'he_normal',\n",
        "        embeddings_regularizer = keras.regularizers.l2(1e-6)\n",
        "    )\n",
        "    self.user_bias = layers.Embedding(num_users, 1) # layer embedding user bias\n",
        "    self.movie_embedding = layers.Embedding( # layer embeddings resto\n",
        "        num_movie,\n",
        "        embedding_size,\n",
        "        embeddings_initializer = 'he_normal',\n",
        "        embeddings_regularizer = keras.regularizers.l2(1e-6)\n",
        "    )\n",
        "    self.movie_bias = layers.Embedding(num_movie, 1) # layer embedding resto bias\n",
        " \n",
        "  def call(self, inputs):\n",
        "    user_vector = self.user_embedding(inputs[:,0]) # memanggil layer embedding 1\n",
        "    user_bias = self.user_bias(inputs[:, 0]) # memanggil layer embedding 2\n",
        "    movie_vector = self.movie_embedding(inputs[:, 1]) # memanggil layer embedding 3\n",
        "    movie_bias = self.movie_bias(inputs[:, 1]) # memanggil layer embedding 4\n",
        " \n",
        "    dot_user_movie = tf.tensordot(user_vector, movie_vector, 2) \n",
        " \n",
        "    x = dot_user_movie + user_bias + movie_bias\n",
        "    \n",
        "    return tf.nn.sigmoid(x) # activation sigmoid"
      ]
    },
    {
      "cell_type": "markdown",
      "source": [
        "* Lakukan proses *compile* terhadap model."
      ],
      "metadata": {
        "id": "mV_XvLYXbD0Z"
      }
    },
    {
      "cell_type": "code",
      "source": [
        "model = RecommenderNet(num_users, num_movie, 50) # inisialisasi model\n",
        " \n",
        "# model compile\n",
        "model.compile(\n",
        "    loss = tf.keras.losses.BinaryCrossentropy(),\n",
        "    optimizer = keras.optimizers.Adam(learning_rate=0.001),\n",
        "    metrics=[tf.keras.metrics.RootMeanSquaredError()]\n",
        ")"
      ],
      "metadata": {
        "id": "4PXhA1mUbFre"
      },
      "execution_count": 52,
      "outputs": []
    },
    {
      "cell_type": "markdown",
      "source": [
        "* Lakukan proses *training*"
      ],
      "metadata": {
        "id": "9hy0DM7DbG31"
      }
    },
    {
      "cell_type": "code",
      "source": [
        "history = model.fit(\n",
        "    x = x_train,\n",
        "    y = y_train,\n",
        "    batch_size = 8,\n",
        "    epochs = 10,\n",
        "    verbose = 2,\n",
        "    validation_data = (x_val, y_val)\n",
        ")"
      ],
      "metadata": {
        "id": "xGGr-p-HbH7d",
        "colab": {
          "base_uri": "https://localhost:8080/"
        },
        "outputId": "48e971d3-3c39-4748-ce2b-f2f5e8df31b0"
      },
      "execution_count": 53,
      "outputs": [
        {
          "output_type": "stream",
          "name": "stdout",
          "text": [
            "Epoch 1/10\n",
            "10001/10001 - 121s - loss: 0.6223 - root_mean_squared_error: 0.2278 - val_loss: 0.6038 - val_root_mean_squared_error: 0.2108 - 121s/epoch - 12ms/step\n",
            "Epoch 2/10\n",
            "10001/10001 - 117s - loss: 0.5994 - root_mean_squared_error: 0.2037 - val_loss: 0.5997 - val_root_mean_squared_error: 0.2064 - 117s/epoch - 12ms/step\n",
            "Epoch 3/10\n",
            "10001/10001 - 120s - loss: 0.5941 - root_mean_squared_error: 0.1978 - val_loss: 0.5987 - val_root_mean_squared_error: 0.2051 - 120s/epoch - 12ms/step\n",
            "Epoch 4/10\n",
            "10001/10001 - 133s - loss: 0.5919 - root_mean_squared_error: 0.1951 - val_loss: 0.5973 - val_root_mean_squared_error: 0.2035 - 133s/epoch - 13ms/step\n",
            "Epoch 5/10\n",
            "10001/10001 - 121s - loss: 0.5901 - root_mean_squared_error: 0.1930 - val_loss: 0.5974 - val_root_mean_squared_error: 0.2034 - 121s/epoch - 12ms/step\n",
            "Epoch 6/10\n",
            "10001/10001 - 111s - loss: 0.5885 - root_mean_squared_error: 0.1912 - val_loss: 0.5976 - val_root_mean_squared_error: 0.2035 - 111s/epoch - 11ms/step\n",
            "Epoch 7/10\n",
            "10001/10001 - 107s - loss: 0.5876 - root_mean_squared_error: 0.1901 - val_loss: 0.5973 - val_root_mean_squared_error: 0.2033 - 107s/epoch - 11ms/step\n",
            "Epoch 8/10\n",
            "10001/10001 - 126s - loss: 0.5869 - root_mean_squared_error: 0.1893 - val_loss: 0.5972 - val_root_mean_squared_error: 0.2032 - 126s/epoch - 13ms/step\n",
            "Epoch 9/10\n",
            "10001/10001 - 124s - loss: 0.5859 - root_mean_squared_error: 0.1881 - val_loss: 0.5971 - val_root_mean_squared_error: 0.2029 - 124s/epoch - 12ms/step\n",
            "Epoch 10/10\n",
            "10001/10001 - 97s - loss: 0.5854 - root_mean_squared_error: 0.1876 - val_loss: 0.5974 - val_root_mean_squared_error: 0.2031 - 97s/epoch - 10ms/step\n"
          ]
        }
      ]
    },
    {
      "cell_type": "markdown",
      "metadata": {
        "id": "GP3rYP7pXy6Z"
      },
      "source": [
        "# **F. EVALUASI MODEL**"
      ]
    },
    {
      "cell_type": "markdown",
      "metadata": {
        "id": "Ul3igQBofHd9"
      },
      "source": [
        "* Menyebutkan dan menjelaskan metrik evaluasi yang digunakan dan mengukur kinerja model berdasarkan hasil/nilai yang didapatkan dari prediksi model metrik evaluasi tersebut\n",
        "\n",
        "* Menjelaskan bagaimana metrik tersebut bekerja.\n",
        "\n",
        "Metrik evaluasi yang digunakan pada proyek ini adalah :\n",
        "\n",
        "1.  *Jaccard index* atau *Jaccard similarity coefficien*\n",
        "2.  *Root Mean Squared Error (RMSE)*\n"
      ]
    },
    {
      "cell_type": "markdown",
      "source": [
        "###***11.Evaluasi Metrik dan Hasil Prediksi dari Content Based Filtering***"
      ],
      "metadata": {
        "id": "qZn-YRcudQy9"
      }
    },
    {
      "cell_type": "markdown",
      "source": [
        "#### Tes Prediksi 1 "
      ],
      "metadata": {
        "id": "vf0vLcpddYu4"
      }
    },
    {
      "cell_type": "markdown",
      "source": [
        "* Aplikasikan *Jaccard Similarity* tersebut kepada film *Star Wars: Episode I - The Phantom Menace (1999)* sebagai sampel "
      ],
      "metadata": {
        "id": "t-RkC9_reXwe"
      }
    },
    {
      "cell_type": "code",
      "source": [
        "jaccard_similarity_series = jaccard_similarity_df.loc['Star Wars: Episode I - The Phantom Menace (1999)'].sort_values(ascending=False)\n",
        "jaccard_similarity_series.head(10)"
      ],
      "metadata": {
        "colab": {
          "base_uri": "https://localhost:8080/"
        },
        "id": "aSTqUgUXdpIq",
        "outputId": "0305a557-52fd-491c-b22b-c24b7f9fc0b4"
      },
      "execution_count": 54,
      "outputs": [
        {
          "output_type": "execute_result",
          "data": {
            "text/plain": [
              "title\n",
              "Time Machine, The (2002)                               1.0\n",
              "Star Wars: Episode VI - Return of the Jedi (1983)      1.0\n",
              "Tron (1982)                                            1.0\n",
              "Journey to the Center of the Earth (2008)              1.0\n",
              "Ant-Man (2015)                                         1.0\n",
              "Star Wars: Episode III - Revenge of the Sith (2005)    1.0\n",
              "Star Wars: Episode IV - A New Hope (1977)              1.0\n",
              "Robot Overlords (2014)                                 1.0\n",
              "Sky Captain and the World of Tomorrow (2004)           1.0\n",
              "Six-String Samurai (1998)                              1.0\n",
              "Name: Star Wars: Episode I - The Phantom Menace (1999), dtype: float64"
            ]
          },
          "metadata": {},
          "execution_count": 54
        }
      ]
    },
    {
      "cell_type": "markdown",
      "source": [
        "####Tes Prediksi 2"
      ],
      "metadata": {
        "id": "kYnsNPGYefgR"
      }
    },
    {
      "cell_type": "markdown",
      "source": [
        "* Aplikasikan *Jaccard Similarity* tersebut kepada film *Shin Godzilla (2016)* sebagai sampel kedua"
      ],
      "metadata": {
        "id": "uR-TkkfOdqEp"
      }
    },
    {
      "cell_type": "code",
      "source": [
        "jaccard_similarity_series = jaccard_similarity_df.loc['Shin Godzilla (2016)'].sort_values(ascending=False)\n",
        "jaccard_similarity_series.head(10)"
      ],
      "metadata": {
        "colab": {
          "base_uri": "https://localhost:8080/"
        },
        "id": "Sn6jIMIfdwRH",
        "outputId": "5434d41e-a2bd-483d-b4cb-7d7e306f6f2e"
      },
      "execution_count": 55,
      "outputs": [
        {
          "output_type": "execute_result",
          "data": {
            "text/plain": [
              "title\n",
              "Godzilla vs. Mothra (Mosura tai Gojira) (1964)          1.0\n",
              "Wolverine, The (2013)                                   1.0\n",
              "Hellboy II: The Golden Army (2008)                      1.0\n",
              "Trip to the Moon, A (Voyage dans la lune, Le) (1902)    1.0\n",
              "Shin Godzilla (2016)                                    1.0\n",
              "Krull (1983)                                            1.0\n",
              "X-Men: Apocalypse (2016)                                1.0\n",
              "Masters of the Universe (1987)                          1.0\n",
              "Fantastic Four (2015)                                   1.0\n",
              "Beastmaster 2: Through the Portal of Time (1991)        1.0\n",
              "Name: Shin Godzilla (2016), dtype: float64"
            ]
          },
          "metadata": {},
          "execution_count": 55
        }
      ]
    },
    {
      "cell_type": "markdown",
      "source": [
        "####Tes Prediksi 3"
      ],
      "metadata": {
        "id": "kHjVZWFLemc9"
      }
    },
    {
      "cell_type": "markdown",
      "source": [
        "* Aplikasikan *Jaccard Similarity* tersebut kepada film *Toy Story (1995)* sebagai sampel ketiga"
      ],
      "metadata": {
        "id": "59G22qfgd0Q0"
      }
    },
    {
      "cell_type": "code",
      "source": [
        "jaccard_similarity_series = jaccard_similarity_df.loc['Toy Story (1995)'].sort_values(ascending=False)\n",
        "jaccard_similarity_series.head(10)"
      ],
      "metadata": {
        "colab": {
          "base_uri": "https://localhost:8080/"
        },
        "id": "kHrcS-0Ud4l9",
        "outputId": "d9b9422f-4de6-4ebb-e4fc-540f4634bbc9"
      },
      "execution_count": 56,
      "outputs": [
        {
          "output_type": "execute_result",
          "data": {
            "text/plain": [
              "title\n",
              "Toy Story 2 (1999)                                         1.0\n",
              "Monsters, Inc. (2001)                                      1.0\n",
              "Asterix and the Vikings (Astérix et les Vikings) (2006)    1.0\n",
              "Tale of Despereaux, The (2008)                             1.0\n",
              "Turbo (2013)                                               1.0\n",
              "The Good Dinosaur (2015)                                   1.0\n",
              "Shrek the Third (2007)                                     1.0\n",
              "Emperor's New Groove, The (2000)                           1.0\n",
              "Adventures of Rocky and Bullwinkle, The (2000)             1.0\n",
              "Boxtrolls, The (2014)                                      1.0\n",
              "Name: Toy Story (1995), dtype: float64"
            ]
          },
          "metadata": {},
          "execution_count": 56
        }
      ]
    },
    {
      "cell_type": "markdown",
      "source": [
        "###***12.Evaluasi Metrik dan Hasil Prediksi dari Collaborative Filtering***"
      ],
      "metadata": {
        "id": "gjiGi5236dwc"
      }
    },
    {
      "cell_type": "markdown",
      "source": [
        "#### Visualisasi Evaluasi Metrik *Collaborative Filtering dengan RMSE*"
      ],
      "metadata": {
        "id": "-g3utIzR62Tr"
      }
    },
    {
      "cell_type": "code",
      "source": [
        "plt.plot(history.history['root_mean_squared_error'])\n",
        "plt.plot(history.history['val_root_mean_squared_error'])\n",
        "plt.title('model_metrics')\n",
        "plt.ylabel('root_mean_squared_error')\n",
        "plt.xlabel('epoch')\n",
        "plt.legend(['train', 'test'], loc='upper left')\n",
        "plt.show()"
      ],
      "metadata": {
        "colab": {
          "base_uri": "https://localhost:8080/",
          "height": 295
        },
        "id": "L5zm8AkCbRxp",
        "outputId": "e0b3d2fe-f267-42a8-e90a-7d8d2856ac25"
      },
      "execution_count": 57,
      "outputs": [
        {
          "output_type": "display_data",
          "data": {
            "text/plain": [
              "<Figure size 432x288 with 1 Axes>"
            ],
            "image/png": "[encoded data removed]"
          },
          "metadata": {}
        }
      ]
    },
    {
      "cell_type": "markdown",
      "source": [
        "#### Mendapatkan Rekomendasi dari Pendekataan *Collaborative Filtering*"
      ],
      "metadata": {
        "id": "wn02aJYUbcln"
      }
    },
    {
      "cell_type": "markdown",
      "source": [
        "Membuat daftar dari film yang belum pernah ditonton oleh *user* ( gunakan satu *user* sebagi sampel ) "
      ],
      "metadata": {
        "id": "GdS3eEzW7chX"
      }
    },
    {
      "cell_type": "markdown",
      "source": [
        "* Mengambil *sample user*"
      ],
      "metadata": {
        "id": "vNGlelbyazUo"
      }
    },
    {
      "cell_type": "code",
      "source": [
        "user_id = movie_df.userId.sample(1).iloc[0]\n",
        "movie_watched_by_user = movie_df[movie_df.userId == user_id]"
      ],
      "metadata": {
        "id": "fa5soOxtbirb"
      },
      "execution_count": 58,
      "outputs": []
    },
    {
      "cell_type": "markdown",
      "source": [
        "* Operator *bitwise* (~), bisa diketahui di sini https://docs.python.org/3/reference/expressions.html "
      ],
      "metadata": {
        "id": "wrpkyiEGbBqG"
      }
    },
    {
      "cell_type": "code",
      "source": [
        "movie_not_watched = movie_df[~movie_df['movie'].isin(movie_watched_by_user['movie'].values)]['movie'] \n",
        "movie_not_watched = list(\n",
        "    set(movie_not_watched)\n",
        "    .intersection(set(movie_to_movie_encoded.keys()))\n",
        ")\n",
        "\n",
        "movie_not_watched = [[movie_to_movie_encoded.get(x)] for x in movie_not_watched]\n",
        "user_encoder = user_to_user_encoded.get(user_id)\n",
        "user_movie_array = np.hstack(\n",
        "    ([[user_encoder]] * len(movie_not_watched), movie_not_watched)\n",
        ")"
      ],
      "metadata": {
        "id": "g9W3SZ6Ja_KI"
      },
      "execution_count": 59,
      "outputs": []
    },
    {
      "cell_type": "markdown",
      "source": [
        "* Prediksi dengan menggunakan fungsi *.predict()*"
      ],
      "metadata": {
        "id": "GYcaL9BEbNt1"
      }
    },
    {
      "cell_type": "code",
      "source": [
        "ratings = model.predict(user_movie_array).flatten()\n",
        " \n",
        "top_ratings_indices = ratings.argsort()[-10:][::-1]\n",
        "recommended_movie_ids = [\n",
        "    movie_encoded_to_movie.get(movie_not_watched[x][0]) for x in top_ratings_indices\n",
        "]\n",
        " \n",
        "print('Rekomendasi film untuk user: {}'.format(user_id))\n",
        "print('===' * 9)\n",
        "print('Film dengan Rating Tinggi dari User')\n",
        "print('----' * 8)\n",
        " \n",
        "top_movie_user = (\n",
        "    movie_watched_by_user.sort_values(\n",
        "        by = 'rating',\n",
        "        ascending=False\n",
        "    )\n",
        "    .head(5)\n",
        "    .movieId.values\n",
        ")\n",
        " \n",
        "movie_df_rows = movie_dict[movie_dict['id'].isin(top_movie_user)]\n",
        "for row in movie_df_rows.itertuples():\n",
        "    print(row.title, ':', row.genres)\n",
        " \n",
        "print('----' * 8)\n",
        "print('Top 10 Rekomendasi Film Teratas')\n",
        "print('----' * 8)\n",
        " \n",
        "recommended_movie = movie_dict[movie_dict['id'].isin(recommended_movie_ids)]\n",
        "for row in recommended_movie.itertuples():\n",
        "    print(row.title, ':', row.genres)"
      ],
      "metadata": {
        "colab": {
          "base_uri": "https://localhost:8080/"
        },
        "id": "vkkrDbAa0wLh",
        "outputId": "dc6b255e-5c89-4e2e-da59-6d8e9fea98e8"
      },
      "execution_count": 60,
      "outputs": [
        {
          "output_type": "stream",
          "name": "stdout",
          "text": [
            "170/170 [==============================] - 0s 1ms/step\n",
            "Rekomendasi film untuk user: 299.0\n",
            "===========================\n",
            "Film dengan Rating Tinggi dari User\n",
            "--------------------------------\n",
            "Ed Wood (1994) : Comedy|Drama\n",
            "Re-Animator (1985) : Comedy|Horror|Sci-Fi\n",
            "Another Day in Paradise (1998) : Drama\n",
            "Bringing Out the Dead (1999) : Drama\n",
            "Vincent (1982) : Animation\n",
            "--------------------------------\n",
            "Top 10 Rekomendasi Film Teratas\n",
            "--------------------------------\n",
            "Goodfellas (1990) : Crime|Drama\n",
            "Psycho (1960) : Crime|Horror\n",
            "Apocalypse Now (1979) : Action|Drama|War\n",
            "12 Angry Men (1957) : Drama\n",
            "Godfather, The (1972) : Crime|Drama\n",
            "Godfather: Part II, The (1974) : Crime|Drama\n",
            "Third Man, The (1949) : Film-Noir|Mystery|Thriller\n",
            "Ran (1985) : Drama|War\n",
            "Raging Bull (1980) : Drama\n",
            "Henry V (1989) : Action|Drama|Romance|War\n"
          ]
        }
      ]
    },
    {
      "cell_type": "markdown",
      "source": [
        "# **KESIMPULAN** "
      ],
      "metadata": {
        "id": "rgByvmd-Mr6w"
      }
    },
    {
      "cell_type": "markdown",
      "source": [
        "#### ***Kesimpulan Umum***\n",
        "Berdasarkan hasil prediksi dari kedua pendekatan dapat disimpulkan bahwa model telah mampu memberikan rekomendasi film dengan baik. Pernyataan ini dibuktikan dengan fakta bawha film yang direkomendasikan oleh sistem memiliki kemiripan isi film (bisa dari segi tema cerita, sinopsis, karakter, alur) dengan film yang pernah diberi rating oleh *user*. "
      ],
      "metadata": {
        "id": "GMMwl9qOdIJw"
      }
    },
    {
      "cell_type": "markdown",
      "source": [
        "####***Content Based Filtering***\n",
        "Pendekatan *content based filtering* pada dasarnya akan memberikan rekomendasi film yang punya kemiripan dengan film yang pernah dilihat atau sengaja dicari atau intinya pernah memiliki interaksi dengan *user* (dalam kasus ini kemungkinan besar interaksi yang terjadi adalah *user* sudah menonton film tersebut, terbukti dengan *user* memberikan rating terhadap film tersebut). Pada pendekatan ini untuk menilai apakah film yang direkomendasikan memang memiliki kemiripan maka dapat dilihat dari nilai *similarity* yang didapatkan. Pada metode ini *Jaccar Similarity* memberikan 10 film teratas yang memiliki nilai *similarity* = 1, artinya film yang berinteraksi dengan *user* memiliki kesamaan dengan film yang direkomendasikan. Untuk mengecek kebenaran dari pengukuran metrik ini sebenarnya dibutuhkan juga eksplorasi dan pengetahuan peneliti mengenai film yang film yang pernah ditonton dan film yang direkomendasikan oleh sistem. \n",
        "Pada pada pendekatan *content based filtering* dengan *Jaccard Similarity* ini agar meyakinkan maka dilakukan tiga (3) kali pengetesan prediksi terhadap tiga (3) buah film yang berbeda. Berikut analisis hasil dari ketiga sampel tersebut:\n",
        "  * Tes 1 : Star Wars: Episode I - The Phantom Menace (1999). Film yang direkomendasikan oleh sistem diantaranya adalah Star Wars: Episode VI - Return of the Jedi (1983), Star Wars: Episode III - Revenge of the Sith (2005), Star Wars: Episode IV - A New Hope (1977). Bisa dilihat bahwa beberapa film yang direkomendasikan tersebut memang adalah film yang sama dengan episode yang berbeda. Yaitu film tentang pertempuran pada sebuah galaksi fiksi, ada robot, alien, senjata-senjata dan pesawat canggih. \n",
        "  * Tes 2 : Shin Godzilla (2016. Film yang direkomendasikan oleh sistem diantaranya adalah Godzilla vs. Mothra (Mosura tai Gojira) (1964), Wolverine, The (2013), Hellboy II: The Golden Army (2008). Film yang direkomendasikan tersebut semuanya adalah tentang pertempuran, kepahlawanan,live action. \n",
        "  * Tes 3 :  Toy Story (1995). Film yang direkomendasikan oleh sistem diantaranya adalah :Toy Story 2 (1999), Monsters, Inc. (2001), Asterix and the Vikings (Astérix et les Vikings) (2006). Kesamaan dari semua film ini adalah bahwa semuanya adalah film animasi. Jadi bagi *user* yang menyukai dan memberikan rating film animasi Toy Story (1995), sistem memprediksi bahwa *user* tersebut juga akan menyukai film animasi serupa lainnya seperti yang telah direkomendasikan diatas. \n",
        "\n",
        "\n"
      ],
      "metadata": {
        "id": "--gkJ_sLxsQ0"
      }
    },
    {
      "cell_type": "markdown",
      "source": [
        "####***Collaborative Filtering***\n",
        "Pendekatan *Collaborative Filtering* pada dasarnya akan memberikan rekomendasi film yang mungkin disukai oleh *user* berdasarkan pengalaman *user* lainnya (pada kasus ini diukur dengan rating yang diberikan *user* lain). Pada proyek ini digunakan *class RecommenderNet* dari Dicoding untuk memberikan rekomendasi film. Hasil yang diberikan dapat diukur berdasarkan nilai RMSE yang didapatkan. Metrik RMSE pada kasus ini memberikan nilai *root_mean_squared_error*: 0.1876, dan *val_root_mean_squared_error*: 0.2031. Ini merupakan nilai yang baik dan dapat digunakan sebagai sistem rekomendasi pada sebuah aplikasi. untuk menilai  keakuratan rekomendasi oleh sistem tersebut maka perlu dianalisis secara manual, dan tentunya akan melibatkan persepsi subjektif dari peneliti. Namun hal ini bisa diterima karena perlakuan yang samapun akan dilakukan oleh user.  Berikut yang diberi rating tinggi oleh user 299.0 adalah :\n",
        "  * Ed Wood (1994) : Comedy|Drama\n",
        "  * Re-Animator (1985) : Comedy|Horror|Sci-Fi\n",
        "  * Another Day in Paradise (1998) : Drama\n",
        "  * Bringing Out the Dead (1999) : Drama\n",
        "  * Vincent (1982) : Animation\n",
        "\n",
        "Sedangkan 10 film teratas yang direkomendasikan oleh sistem adalah :\n",
        "\n",
        "  * Goodfellas (1990) : Crime|Drama\n",
        "  * Psycho (1960) : Crime|Horror\n",
        "  * Apocalypse Now (1979) : Action|Drama|War\n",
        "  * 12 Angry Men (1957) : Drama\n",
        "  * Godfather, The (1972) : Crime|Drama\n",
        "  * Godfather: Part II, The (1974) : Crime|Drama\n",
        "  * Third Man, The (1949) : Film-Noir|Mystery|Thriller\n",
        "  * Ran (1985) : Drama|War\n",
        "  * Raging Bull (1980) : Drama\n",
        "  * Henry V (1989) : Action|Drama|Romance|War\n",
        "\n",
        "Dapat dilihat bahwa film terbanyak yang diberikan rating oleh user adalah film dengan genre Drama yaitu 3 dari 5 film, 1 dengan genre animation, 1 comedy|horror|sci-fi. Oleh karena itu sistem juga merekomendasikan film bergenre Drama kepada user sebanyak 8 dari 10 film teratas, karena film ini juga disukai dan mendapatkan rating yang tinggi dari banyak user lain . "
      ],
      "metadata": {
        "id": "1w_ldVg9de9n"
      }
    }
  ]
}