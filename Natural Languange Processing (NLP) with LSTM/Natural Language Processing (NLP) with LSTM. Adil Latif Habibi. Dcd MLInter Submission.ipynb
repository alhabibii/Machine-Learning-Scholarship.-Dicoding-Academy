{
 "cells": [
  {
   "cell_type": "markdown",
   "metadata": {},
   "source": [
    "========================================================================================================"
   ]
  },
  {
   "cell_type": "markdown",
   "metadata": {},
   "source": [
    "# Natural Language Processing (NLP) with LSTM. Adil Latif Habibi."
   ]
  },
  {
   "cell_type": "markdown",
   "metadata": {},
   "source": [
    "========================================================================================================"
   ]
  },
  {
   "cell_type": "markdown",
   "metadata": {
    "id": "qcZhj24yY-YO"
   },
   "source": [
    "## 1. *Import semua library yang dibutuhkan diawal aagar terlihat rapi*"
   ]
  },
  {
   "cell_type": "code",
   "execution_count": 1,
   "metadata": {
    "cellView": "code",
    "colab": {
     "base_uri": "https://localhost:8080/"
    },
    "id": "0VbeldchNKDI",
    "outputId": "992b9191-c3fa-443e-ad9f-7b12966cc684"
   },
   "outputs": [
    {
     "name": "stderr",
     "output_type": "stream",
     "text": [
      "[nltk_data] Downloading package stopwords to /root/nltk_data...\n",
      "[nltk_data]   Unzipping corpora/stopwords.zip.\n",
      "[nltk_data] Downloading package punkt to /root/nltk_data...\n",
      "[nltk_data]   Unzipping tokenizers/punkt.zip.\n"
     ]
    }
   ],
   "source": [
    "import pandas as pd\n",
    "from collections import Counter\n",
    "import nltk\n",
    "from nltk.corpus import stopwords\n",
    "from nltk.tokenize import word_tokenize\n",
    "nltk.download('stopwords')\n",
    "nltk.download('punkt')\n",
    "from tensorflow.keras.preprocessing.text import Tokenizer\n",
    "from sklearn.model_selection import train_test_split\n",
    "import tensorflow as tf\n",
    "from tensorflow.keras.preprocessing.sequence import pad_sequences\n",
    "from scipy.special import softmax\n",
    "import matplotlib.pyplot as plt"
   ]
  },
  {
   "cell_type": "markdown",
   "metadata": {
    "id": "BVp7OXumZKox"
   },
   "source": [
    "## *2. Ubah dataset menjadi dataframe menggunakan pandas, lalu lakukan pengecekan data meliputi pengecekan jumlah kolom, Dtype (apakah ada yang harus dibuang)*"
   ]
  },
  {
   "cell_type": "code",
   "execution_count": 2,
   "metadata": {
    "colab": {
     "base_uri": "https://localhost:8080/"
    },
    "id": "tMmEENpYXjCy",
    "outputId": "d965f5ed-7c2d-4a13-ff0e-be3280c9f109"
   },
   "outputs": [
    {
     "name": "stdout",
     "output_type": "stream",
     "text": [
      "<class 'pandas.core.frame.DataFrame'>\n",
      "RangeIndex: 2225 entries, 0 to 2224\n",
      "Data columns (total 2 columns):\n",
      " #   Column    Non-Null Count  Dtype \n",
      "---  ------    --------------  ----- \n",
      " 0   category  2225 non-null   object\n",
      " 1   text      2225 non-null   object\n",
      "dtypes: object(2)\n",
      "memory usage: 34.9+ KB\n"
     ]
    }
   ],
   "source": [
    "df = pd.read_csv('bbc-text.csv')\n",
    "df.info()"
   ]
  },
  {
   "cell_type": "markdown",
   "metadata": {
    "id": "fwAe6ra9ca8l"
   },
   "source": [
    "## *3.Pengecekan jumlah elemen*"
   ]
  },
  {
   "cell_type": "code",
   "execution_count": 3,
   "metadata": {
    "colab": {
     "base_uri": "https://localhost:8080/"
    },
    "id": "snQemLeJ0fDc",
    "outputId": "6bf66ab2-d30b-4d54-c681-04414864dc06"
   },
   "outputs": [
    {
     "data": {
      "text/plain": [
       "sport            511\n",
       "business         510\n",
       "politics         417\n",
       "tech             401\n",
       "entertainment    386\n",
       "Name: category, dtype: int64"
      ]
     },
     "execution_count": 3,
     "metadata": {},
     "output_type": "execute_result"
    }
   ],
   "source": [
    "df['category'].value_counts()"
   ]
  },
  {
   "cell_type": "code",
   "execution_count": 4,
   "metadata": {
    "colab": {
     "base_uri": "https://localhost:8080/"
    },
    "id": "PnpL0tCa1ZH-",
    "outputId": "a51952f2-ce84-4665-efb1-0211603d30da"
   },
   "outputs": [
    {
     "data": {
      "text/plain": [
       "kennedy questions trust of blair lib dem leader charles kennedy has said voters now have a  fundamental lack of trust  of tony blair as prime minister.  he said backing his party was not a wasted vote  adding that with the lib dems  what you see is what you get . he made his comments at the start of a day of appearances on channel five in a session on the wright stuff programme. questions from callers  a studio audience and the show s presenter covered lib dem tax plans  anti-terror laws and immigration.  mr kennedy said during his nearly 22 years in parliament he had seen prime ministers and party leaders come and go and knew the pitfalls of british politics.  1983 was when i was first elected as an mp - so tony blair  michael howard and myself were all class of  83 - and over that nearly quarter of a century the world has changed out of recognition   he said.  we don t actually hear the argument any longer:  lib dems  good people  reasonable ideas but only if we thought they could win around here - it s a wasted vote .  you don t hear that because the evidence of people s senses demonstrates that it isn t a wasted vote.  but he said mr blair had lost the trust of the british people.  there is a fundamental lack of trust in tony blair as prime minister and in his government   he said.   what we ve got to do as a party - what i ve got to do as a leader of this party - is to convey to people that what you see is what you get.  mr kennedy also used his tv appearance to defend his party s plans to increase income tax to 50% for those earning more than £100 000  saying it would apply to just 1% of the population. he said the extra revenue would allow his party to get rid of tuition and top-up fees  introduce free personal care for the elderly and replace the council tax with a local income tax. mr blair has already spent a day with five and michael howard is booked for a similar session.                                                                                                                                                                                                                                                                                                                                                                                                                                                                                                                                                                                                                                                                                                                                                                                                                                                                                                                                                                                                                                                                                                                                                                                                                                                                                                                                                                                                                                                                                                                                                                                                                                                                                                                                                                                                                                                                                                                                                                                                                                                                                                                                                                                                                                                                                                                                                                                                                                                                  0.000899\n",
       "tough rules for ringtone sellers firms that flout rules on how ringtones and other mobile extras are sold could be cut off from all uk phone networks.  the rules allow offenders to be cut off if they do not let consumers know exactly what they get for their money and how to turn off the services. the first month under the new rules has seen at least ten firms suspended while they clean up the way they work. the rules have been brought in to ensure that the problems plaguing net users do not spread to mobile phones.  in the last couple of years ringtones  wallpapers  screensavers and lots of other extras for phones have become hugely popular. but fierce competition is making it difficult for firms to get their wares in front of consumers  said jeremy flynn  head of third party services at vodafone.   if you are not on the operator s portal you are going to have quite heavy marketing costs because it s a problem of how people discover your services   he said. to combat this many ringtone and other mobile content sellers started using a new tactic to squeeze more cash out of customers. this tactic involved signing people up for a subscription to give them  for instance  several ringtones per week or month instead of the single track they thought they were getting. mr flynn said that the move to using subscriptions happened over the space of a few weeks at the end of 2004. websites such as grumbletext.co.uk started getting reports from customers who were racking up large bills for phone content they did not know they had signed up for.  what made us uncomfortable was that these services were not being marketed transparently   said mr flynn.  people did not know they were being offered a subscription service.   we saw potential for substantial consumer harm here   he added.  the swift adoption of subscription services led to the creation of a new code of conduct for firms that want to sell content for mobile phones. the drafting of the new rules was led by the mobile entertainment forum and the uk s phone firms.  everyone is required to conform to this code of conduct   said andrew bud  regulatory head of the mef and executive chairman of messaging firm mblox.   it s all about transparency   he said.  consumers have to be told what they have got themselves into and how to get out of it.   the consumer has a right to be protected   he said. christian harris  partnership manager of mobile content firm zed  said the new system was essential if consumers were to trust companies that sell ringtones and other downloads.  the groundrules must be applied across the whole industry and if that s done effectively we will see the cowboys driven out   he said. the new rules came in to force on 15 january and the first month under the new regime has seen many firms cautioned for not honouring them. some have been told to revamp websites so customers know what they get for their money and what they are signing up for  said mr flynn. also  said mr flynn  vodafone has briefly cut off between eight and ten content sellers flouting the rules.  we have quite draconian contracts with firms   he said.  we do not have to say why. we can just cut them off.  under the rules consumers must be able to switch off the services by using a universal  stop  command sent via text message. he said the system had been designed to limit how much a consumer will pay if they inadvertently signed up for a service.  the mobile is so personal that people really resent the abuse of what is effectively part of their personality   said mr flynn.                                                                                                                                                                                                                                                                                                                                                                                                                                                                                                                                                                                                                                                                                                                                                    0.000899\n",
       "super union  merger plan touted two of britain s big trade unions could merge to form a  super union  of two million members.  the move by amicus and the transport and general workers union (tgwu) would be a seen as a bid to carry more weight with ministers and employers. amicus has 1.2 million members and the tgwu has 800 000. any merger would have to be approved by the unions  executives and their membership. it is understood meetings will be held on wednesday about the proposal. along with the gmb and unison  the tgwu and amicus worked closely together in the last year to hammer out a 56-point deal with labour s leadership over equality at work  holidays and pensions - the warwick agreement. both unions are remaining tight-lipped about the merger rumours  but one insider pointed out to the bbc news website that  nobody is denying suggestions a merger could be on the agenda  when the two unions  executives hold their meetings on wednesday. amicus s executive was due to meet in any case although the tgwu is holding specially scheduled talks.                                                                                                                                                                                                                                                                                                                                                                                                                                                                                                                                                                                                                                                                                                                                                                                                                                                                                                                                                                                                                                                                                                                                                                                                                                                                                                                                                                                                                                                                                                                                                                                                                                                                                                                                                                                                                                                                                                                                                                                                                                                                                                                                                                                                                                                                                                                                                                                                                                                                                                                                                                                                                                                                                                                                                                                                                                                                                                                                                                                                                                                                                                                                                                                                                                                                                                                                                            0.000899\n",
       "rings of steel combat net attacks gambling is hugely popular  especially with tech-savvy criminals.  many extortionists are targeting net-based betting firms and threatening to cripple their websites with deluges of data unless a ransom is paid. but now deep defences are being put in place by some of the uk s biggest net firms to stop these attacks. increasing numbers of attacks and the huge amounts of data being used to try to bump a site off the web are prompting firms to adopt the measures.  net firms are realising that it s not just about anti-virus and firewalls   said paul king  chief security architect at cisco.  there are more things that can be done in the network to protect data centres.  mr king said the only way to properly combat these so-called distributed denial-of-service attacks was with intelligent net-based systems. many of the gambling sites suffering ddos attacks are in offshore data and hosting centres  so any large scale data flood could knock out access to many more sites than just the one the criminals were targeting  said mr king. this overspill effect was only likely to grow as attacks grow in size and scale.  malcolm seagrave  security expert at energis  said the most common types of attacks hit sites with 10 megabytes of data over short periods of time. bigger attacks sending down 200 megabytes of traffic or more were rarely seen  he said.  it does feel like they are turning the dial because you see this traffic gradually growing   he said.  so far there have been no attacks involving gigabytes of data  said mr seagrave. however  he added that it was only a matter of time before such large attacks were mounted. maria capella  spokeswoman for net provider pipex  said that when ddos attacks were at their height  customers were getting hit every four to five days. the defences being put in place constantly monitor the streams of data flowing across networks and pluck out the traffic destined for target sites.  it s about understanding what s genuine traffic and keeping attack traffic from going to the site   she said.  we study the profile of their traffic and as soon as we see an anomaly in the profile that s when we start to get the backbone engineering boys to see if we are going to sustain an attack   said ms capella. this traffic can be hard to spot because ddos attacks typically use thousands of computers in many different countries  each participating machine only sends a small part of the entire data flood.  typically these computers have been infected by a virus or worm which reports its success and the net address of compromised machines back to the malicious hacker or hi-tech criminal that set off the virus. hijacked computers are known as zombies or  bots and collections of them are called  bot nets. many spammers rent out  bot nets to help them anonymously send junk mail.  most of the zombies are based outside the country that hosts the target site so getting the attacking pcs shut off can be difficult. often pipex and other net suppliers do get advance notice that an attack is about to happen.  the serious players tend to precede an attack with some kind of ransom e-mail   said ms capella.  we ask  as part of the service we provide  that customers notify us of anything they have in advance that would give us forewarning.  once an attack is spotted dedicated net hardware takes over to remove the attack traffic and ensure that sites stay up. energis took a similar approach  said mr seagrave.  we have technology out there that allows us to detect attacks in minutes rather than let network engineers spend hours pulling the information together   said mr seagrave. also net firms were starting to work more closely together on the problem of ddos attacks and pool information about where they are coming from. information gathered on attacks and where they originated has led to some arrests. he said energis also did its own intelligence work to get in insight into which sites criminal gangs plan to target.  we have people in places where they shouldn t be  monitoring tech sites   he said. sometimes though  he said  spotting the next victim was easy.  you can see them going alphabetically through the list with the gambling sites  trying one after another   said mr seagrave.    0.000899\n",
       "holmes starts 2005 with gb events kelly holmes will start 2005 with a series of races in britain.  holmes will make her first track appearance on home soil since winning double olympic gold in january s norwich union international in glasgow. she will also run in the grand prix in birmingham in february and may defend her indoor aaa 800m title in sheffield earlier that month.  i am still competitive and still want to win   she said.  i m an athlete and i can t wait to get back on the track.  she added:  these events are also a great opportunity to thank the british public for the enormous levels of support they have given me from the moment i stepped off that plane from greece.  the glasgow meeting will see holmes compete over 1500m in a five-way match against sweden  france  russia and italy.                                                                                                                                                                                                                                                                                                                                                                                                                                                                                                                                                                                                                                                                                                                                                                                                                                                                                                                                                                                                                                                                                                                                                                                                                                                                                                                                                                                                                                                                                                                                                                                                                                                                                                                                                                                                                                                                                                                                                                                                                                                                                                                                                                                                                                                                                                                                                                                                                                                                                                                                                                                                                                                                                                                                                                                                                                                                                                                                                                                                                                                                                                                                                                                                                                                                                                                                                                                                                                                                                                                                                                                                                          0.000899\n",
       "                                                                                                                                                                                                                                                                                                                                                                                                                                                                                                                                                                                                                                                                                                                                                                                                                                                                                                                                                                                                                                                                                                                                                                                                                                                                                                                                                                                                                                                                                                                                                                                                                                                                                                                                                                                                                                                                                                                                                                                                                                                                                                                                                                                                                                                                                                                                                                                                                                                                                                                                                                                                                                                                                                                                                                                                                                                                                                                                                                                                                                                                                                                                                                                                                                                                                                                                                                                                                                                                                                                                                                                                                                                                                                                                                                                                                                                                                                                                                                                                                                                                                                                                                                                                                                                                                                                                                                                                                                                                ...   \n",
       "gb select holmes for double bid kelly holmes has been chosen for both the 800m and 1500m at next month s european indoor championships - despite not yet confirming her availability.  the double-olympic champion is still undecided about whether to compete in her first european indoors in madrid. but uk athletics chief max jones believes it is likely holmes will race. he said:  it s worth a punt  isn t it  she s gone back to training. if she s confident she will pick one (distance). the programme does not permit both.  if holmes does take her place in the gb side  she has already indicated that 1500m will be her favoured distance. under championship rules  she does not have to decide until 24 hours before the event begins in madrid on 4 march. jones added:  she was pleased with her run in birmingham (at last weekend s grand prix).  i am inclined to think she will (compete). it could depend on how training goes and she will have to be close to top form.  and he admitted holmes  presence would be a great boost to the rest of the norwich union gb team.  she is a very good team member and is very good to have there   he added. meanwhile  there is no surprises in the rest of the great britain team announced on tuesday.  defending 60m champion jason gardener is included and will be chasing his third successive gold medal. he will be joined in the event by mark lewis-francis - runner-up behind him three years ago in vienna - and new boy darren chin. kelly sotherton has been invited by championship organisers to compete against carolina kluft in the pentathlon. sotherton finished third in the olympic heptathlon in athens  where the swede took gold. there are 16 newcomers at this level of competition in gb s 46-strong team. the championships will be the last to be attended by jones before he retires to be succeeded by dave collins. jones said:  the olympic games is the overwhelming target for uka and therefore it is beneficial to start the next four-year cycle with a not-so-pressurised major games.  the european indoor championships always provide a chance for the young and inexperienced to make a name for themselves and the current indoor season has produced some exciting new talent.  madrid is the first small step on a long journey to beijing and the 2008 olympics but for some of the emerging athletes  this will be a very important step.   60m: d chin (belgrave harriers)  j gardener (wessex and bath)  m lewis-francis (birchfield harriers).  t abeyie (woodford green with essex ladies)  c lambert (belgrave harriers).  d garland (channel islands ac).  j mcilroy (windsor  slough  eton and hounslow ac)  jimmy watkins (cardiff aac).  ed jackson (aldershot  farnham and district)  n speaight (belgrave harriers)  j thie (cardiff aac).  a baddeley (harrow ac)  m farah (windsor  slough  eton and hounslow ac)  j mayock (barnsley ac).  d greaves (newham and essex beagles)  a scott (shaftesbury barnet harriers)  a turner (notts ac).  b challenger (belgrave harriers). pole vault: n buckfield (crawley ac).  n morgan (birchfield harriers)  c tomlinson (newham and essex beagles).  l achike (shaftesbury barnet harriers)  n douglas (oxford city ac)  p idowu (belgrave harriers).  d cossins (birchfield harriers)  r davenport (gloucester ac)  d garland (channel islands ac)  r preddy (gloucester ac)  g warburton (cardiff aac).  k endacott (city of plymouth ac)  j kwakye (woodford green with essex ladies)  j maduaka (woodford green with essex ladies).  k wall (basildon ac).  k holmes (ealing  southall and middlesex ac).  h clitheroe (preston harriers)  k holmes (ealing  southall and middlesex ac).  j pavey (exeter harriers).  d allahgreen (trafford ac)  s claxton (belgrave harriers).  j crane (sale harriers manchester)  s jones (trafford ac).  j whitlock (trafford ac).  j johnson (herne hill harriers).  k sotherton (birchfield harriers).  d fraser (croydon harriers)  l mcconnell (shaftesbury barnet harriers)  c murphy (woodford green with essex ladies)  m purkiss (southampton ac).                                                                                                                                                                                                                                                                         0.000449\n",
       "wood - ireland can win grand slam former captain keith wood believes ireland can win only their second grand slam - and first since 1948 - in this year s rbs six nations championship.  after claiming their first triple crown for 19 years last season  wood tips his former team-mates to go one better.  things have been building up over the past few years and i think this is the year for ireland   he told bbc sport.  there is a great chance to win a grand slam. a lot of things are in our favour with england and france at home.  ireland have finished runners-up three times  including last year  since the old five nations became six in 2000  and not finished outside the top three in the past five years.  despite being without flanker keith gleeson  coach eddie o sullivan has not had to contend with the sort of casualty lists that have hit england and scotland in particular prior to the tournament.  for ireland to win it we need to stay relatively injury free  and fortunately we are one of the few teams that have done that so far   wood added.  it is going to be tough and we need to take all the luck and opportunities that come our way.  ireland s last game of the tournament is against wales in cardiff - a fixture they have not lost since 1983.  but despite their traditional hospitality when the irish are visiting  wood believes wales might end their four-match losing run against england in cardiff.  so many of the major england players have either retired in the last year or are injured that i think it will be very hard for them down in cardiff   wood added.  wales have had four brilliant games in the last year or so and lost all four  so the time is right for them now to beat one of the major teams.                                                                                                                                                                                                                                                                                                                                                                                                                                                                                                                                                                                                                                                                                                                                                                                                                                                                                                                                                                                                                                                                                                                                                                                                                                                                                                                                                                                                                                                                                                                                                                                                                                                                                                                                                                                                                                                                                                                                                                                                                                                                                                                                                                                                                                                                                                                                                                                                                                                                                                                                                                                                                                                                  0.000449\n",
       "eu software patent law delayed controversial new eu rules for the patenting of computer-based inventions have been put on hold due to a last minute intervention from poland.  poland - a large and therefore crucial eu member - has requested more time to consider the issue  especially as it relates to the patenting of software. critics say the law would favour large companies over small  innovative ones. they say it could have massive ramifications for developments such as open source software.  polish ministers want to see the phrasing of the text of the directive on the patentability of computer-implemented inventions changed so that it excludes the patenting of software. the planned law has ignited angry debate about whether the eu should allow the patenting of computer programs and internet business methods as currently happens in the us. so  for instance  us-based amazon.com holds a patent on  one-click shopping . critics claim the law  which the eu says is needed to harmonise with the us  is little more than a law on ideas.  patent rights  it is claimed  protect inventors but in this case it is exclusively the interests of the big companies that are protected   eva lichtenberg  a austrian green member of the european parliament said in a statement.  smaller  innovative firms cannot afford the patenting and legal costs that the directive would inflict on them   she added. the european parliament has already clashed with the european union on the issue and there have been accusations that the process to decide the issue has been undemocratic. the directive has been subject to several previous delays.                                                                                                                                                                                                                                                                                                                                                                                                                                                                                                                                                                                                                                                                                                                                                                                                                                                                                                                                                                                                                                                                                                                                                                                                                                                                                                                                                                                                                                                                                                                                                                                                                                                                                                                                                                                                                                                                                                                                                                                                                                                                                                                                                                                                                                                                                                                                                                                                                                                                                                                                                                                                                                                                                                                                                                 0.000449\n",
       "mansfield 0-1 leyton orient an second-half goal from andy scott condemned mansfield to a ninth successive game without a win.  early in the second half wayne carlisle s cross was met by scott and he blasted the ball home from just outside the penalty area. as orient chased a second  mansfield had to clear alan white s header off the line and kevin pilkington saved well from michael simpson. by the end mansfield fans were chanting for the head of chairman keith haslam.  pilkington  talbot  buxton  dimech  artell  corden  murray  curtis  neil  warne  barker. subs not used: white  mcintosh  wood  lloyd  herron.  harrison  lockwood  donny barnard  white mackie  scott  saah  simpson  carlisle  lee barnard  ibehre. subs not used: morris  wardley  newey  zakuani  mcmahon.  scott 51.  3 803  s mathieson (cheshire).                                                                                                                                                                                                                                                                                                                                                                                                                                                                                                                                                                                                                                                                                                                                                                                                                                                                                                                                                                                                                                                                                                                                                                                                                                                                                                                                                                                                                                                                                                                                                                                                                                                                                                                                                                                                                                                                                                                                                                                                                                                                                                                                                                                                                                                                                                                                                                                                                                                                                                                                                                                                                                                                                                                                                                                                                                                                                                                                                                                                                                                                                                                                                                                                                                                                                                                                                                                                                                                                                                                                                                                                            0.000449\n",
       "souness delight at euro progress boss graeme souness felt newcastle were never really in danger of going out of the uefa cup against heerenveen.  an early own goal followed by an alan shearer strike earned them a 2-1 win and a place in the uefa cup last 16.  obviously with winning in the first leg it gave us a great advantage   he said after the 4-2 aggregate victory.  we got our goals early and in the minds of some players the job was done but then they got a goal and perhaps made us a bit nervous.  shearer s goal moved him within 12 of jackie milburn s club scoring record of 200 for the magpies. but souness said he did not think beating the record would have any bearing on his decision to retire at the end of the season.  i think if he got it this year he would want to stay next year anyway   he added.   he struck the ball very well - he always has done - and i think it was the power and pace that beat the goalkeeper.  souness also paid tribute to laurent robert  who was at the heart of much of united s attacking play.  in the first half he did really well and did everything you want from a wide player. more of the same in future please   he said.                                                                                                                                                                                                                                                                                                                                                                                                                                                                                                                                                                                                                                                                                                                                                                                                                                                                                                                                                                                                                                                                                                                                                                                                                                                                                                                                                                                                                                                                                                                                                                                                                                                                                                                                                                                                                                                                                                                                                                                                                                                                                                                                                                                                                                                                                                                                                                                                                                                                                                                                                                                                                                                                                                                                                                                                                                                                                                                                                                                                                                                                                                                                                                                                                                               0.000449\n",
       "Name: text, Length: 2126, dtype: float64"
      ]
     },
     "execution_count": 4,
     "metadata": {},
     "output_type": "execute_result"
    }
   ],
   "source": [
    "df['text'].value_counts(2)"
   ]
  },
  {
   "cell_type": "markdown",
   "metadata": {
    "id": "OYdlbwcNdjIP"
   },
   "source": [
    "## *4. Dataframe sebelum dilakukan proses one hot encoding*"
   ]
  },
  {
   "cell_type": "code",
   "execution_count": 5,
   "metadata": {
    "colab": {
     "base_uri": "https://localhost:8080/",
     "height": 424
    },
    "id": "UOryfyFkzuSY",
    "outputId": "442bf94b-4483-4f1c-a630-87886bc1d15e"
   },
   "outputs": [
    {
     "data": {
      "text/html": [
       "\n",
       "  <div id=\"df-8ffdff96-780f-4178-929d-2f909a4f8c55\">\n",
       "    <div class=\"colab-df-container\">\n",
       "      <div>\n",
       "<style scoped>\n",
       "    .dataframe tbody tr th:only-of-type {\n",
       "        vertical-align: middle;\n",
       "    }\n",
       "\n",
       "    .dataframe tbody tr th {\n",
       "        vertical-align: top;\n",
       "    }\n",
       "\n",
       "    .dataframe thead th {\n",
       "        text-align: right;\n",
       "    }\n",
       "</style>\n",
       "<table border=\"1\" class=\"dataframe\">\n",
       "  <thead>\n",
       "    <tr style=\"text-align: right;\">\n",
       "      <th></th>\n",
       "      <th>category</th>\n",
       "      <th>text</th>\n",
       "    </tr>\n",
       "  </thead>\n",
       "  <tbody>\n",
       "    <tr>\n",
       "      <th>0</th>\n",
       "      <td>tech</td>\n",
       "      <td>tv future in the hands of viewers with home th...</td>\n",
       "    </tr>\n",
       "    <tr>\n",
       "      <th>1</th>\n",
       "      <td>business</td>\n",
       "      <td>worldcom boss  left books alone  former worldc...</td>\n",
       "    </tr>\n",
       "    <tr>\n",
       "      <th>2</th>\n",
       "      <td>sport</td>\n",
       "      <td>tigers wary of farrell  gamble  leicester say ...</td>\n",
       "    </tr>\n",
       "    <tr>\n",
       "      <th>3</th>\n",
       "      <td>sport</td>\n",
       "      <td>yeading face newcastle in fa cup premiership s...</td>\n",
       "    </tr>\n",
       "    <tr>\n",
       "      <th>4</th>\n",
       "      <td>entertainment</td>\n",
       "      <td>ocean s twelve raids box office ocean s twelve...</td>\n",
       "    </tr>\n",
       "    <tr>\n",
       "      <th>...</th>\n",
       "      <td>...</td>\n",
       "      <td>...</td>\n",
       "    </tr>\n",
       "    <tr>\n",
       "      <th>2220</th>\n",
       "      <td>business</td>\n",
       "      <td>cars pull down us retail figures us retail sal...</td>\n",
       "    </tr>\n",
       "    <tr>\n",
       "      <th>2221</th>\n",
       "      <td>politics</td>\n",
       "      <td>kilroy unveils immigration policy ex-chatshow ...</td>\n",
       "    </tr>\n",
       "    <tr>\n",
       "      <th>2222</th>\n",
       "      <td>entertainment</td>\n",
       "      <td>rem announce new glasgow concert us band rem h...</td>\n",
       "    </tr>\n",
       "    <tr>\n",
       "      <th>2223</th>\n",
       "      <td>politics</td>\n",
       "      <td>how political squabbles snowball it s become c...</td>\n",
       "    </tr>\n",
       "    <tr>\n",
       "      <th>2224</th>\n",
       "      <td>sport</td>\n",
       "      <td>souness delight at euro progress boss graeme s...</td>\n",
       "    </tr>\n",
       "  </tbody>\n",
       "</table>\n",
       "<p>2225 rows × 2 columns</p>\n",
       "</div>\n",
       "      <button class=\"colab-df-convert\" onclick=\"convertToInteractive('df-8ffdff96-780f-4178-929d-2f909a4f8c55')\"\n",
       "              title=\"Convert this dataframe to an interactive table.\"\n",
       "              style=\"display:none;\">\n",
       "        \n",
       "  <svg xmlns=\"http://www.w3.org/2000/svg\" height=\"24px\"viewBox=\"0 0 24 24\"\n",
       "       width=\"24px\">\n",
       "    <path d=\"M0 0h24v24H0V0z\" fill=\"none\"/>\n",
       "    <path d=\"M18.56 5.44l.94 2.06.94-2.06 2.06-.94-2.06-.94-.94-2.06-.94 2.06-2.06.94zm-11 1L8.5 8.5l.94-2.06 2.06-.94-2.06-.94L8.5 2.5l-.94 2.06-2.06.94zm10 10l.94 2.06.94-2.06 2.06-.94-2.06-.94-.94-2.06-.94 2.06-2.06.94z\"/><path d=\"M17.41 7.96l-1.37-1.37c-.4-.4-.92-.59-1.43-.59-.52 0-1.04.2-1.43.59L10.3 9.45l-7.72 7.72c-.78.78-.78 2.05 0 2.83L4 21.41c.39.39.9.59 1.41.59.51 0 1.02-.2 1.41-.59l7.78-7.78 2.81-2.81c.8-.78.8-2.07 0-2.86zM5.41 20L4 18.59l7.72-7.72 1.47 1.35L5.41 20z\"/>\n",
       "  </svg>\n",
       "      </button>\n",
       "      \n",
       "  <style>\n",
       "    .colab-df-container {\n",
       "      display:flex;\n",
       "      flex-wrap:wrap;\n",
       "      gap: 12px;\n",
       "    }\n",
       "\n",
       "    .colab-df-convert {\n",
       "      background-color: #E8F0FE;\n",
       "      border: none;\n",
       "      border-radius: 50%;\n",
       "      cursor: pointer;\n",
       "      display: none;\n",
       "      fill: #1967D2;\n",
       "      height: 32px;\n",
       "      padding: 0 0 0 0;\n",
       "      width: 32px;\n",
       "    }\n",
       "\n",
       "    .colab-df-convert:hover {\n",
       "      background-color: #E2EBFA;\n",
       "      box-shadow: 0px 1px 2px rgba(60, 64, 67, 0.3), 0px 1px 3px 1px rgba(60, 64, 67, 0.15);\n",
       "      fill: #174EA6;\n",
       "    }\n",
       "\n",
       "    [theme=dark] .colab-df-convert {\n",
       "      background-color: #3B4455;\n",
       "      fill: #D2E3FC;\n",
       "    }\n",
       "\n",
       "    [theme=dark] .colab-df-convert:hover {\n",
       "      background-color: #434B5C;\n",
       "      box-shadow: 0px 1px 3px 1px rgba(0, 0, 0, 0.15);\n",
       "      filter: drop-shadow(0px 1px 2px rgba(0, 0, 0, 0.3));\n",
       "      fill: #FFFFFF;\n",
       "    }\n",
       "  </style>\n",
       "\n",
       "      <script>\n",
       "        const buttonEl =\n",
       "          document.querySelector('#df-8ffdff96-780f-4178-929d-2f909a4f8c55 button.colab-df-convert');\n",
       "        buttonEl.style.display =\n",
       "          google.colab.kernel.accessAllowed ? 'block' : 'none';\n",
       "\n",
       "        async function convertToInteractive(key) {\n",
       "          const element = document.querySelector('#df-8ffdff96-780f-4178-929d-2f909a4f8c55');\n",
       "          const dataTable =\n",
       "            await google.colab.kernel.invokeFunction('convertToInteractive',\n",
       "                                                     [key], {});\n",
       "          if (!dataTable) return;\n",
       "\n",
       "          const docLinkHtml = 'Like what you see? Visit the ' +\n",
       "            '<a target=\"_blank\" href=https://colab.research.google.com/notebooks/data_table.ipynb>data table notebook</a>'\n",
       "            + ' to learn more about interactive tables.';\n",
       "          element.innerHTML = '';\n",
       "          dataTable['output_type'] = 'display_data';\n",
       "          await google.colab.output.renderOutput(dataTable, element);\n",
       "          const docLink = document.createElement('div');\n",
       "          docLink.innerHTML = docLinkHtml;\n",
       "          element.appendChild(docLink);\n",
       "        }\n",
       "      </script>\n",
       "    </div>\n",
       "  </div>\n",
       "  "
      ],
      "text/plain": [
       "           category                                               text\n",
       "0              tech  tv future in the hands of viewers with home th...\n",
       "1          business  worldcom boss  left books alone  former worldc...\n",
       "2             sport  tigers wary of farrell  gamble  leicester say ...\n",
       "3             sport  yeading face newcastle in fa cup premiership s...\n",
       "4     entertainment  ocean s twelve raids box office ocean s twelve...\n",
       "...             ...                                                ...\n",
       "2220       business  cars pull down us retail figures us retail sal...\n",
       "2221       politics  kilroy unveils immigration policy ex-chatshow ...\n",
       "2222  entertainment  rem announce new glasgow concert us band rem h...\n",
       "2223       politics  how political squabbles snowball it s become c...\n",
       "2224          sport  souness delight at euro progress boss graeme s...\n",
       "\n",
       "[2225 rows x 2 columns]"
      ]
     },
     "execution_count": 5,
     "metadata": {},
     "output_type": "execute_result"
    }
   ],
   "source": [
    "df"
   ]
  },
  {
   "cell_type": "markdown",
   "metadata": {
    "id": "bBWxzAdCd35m"
   },
   "source": [
    "## *5. Hasil dari proses one hot encoding dan sample 5 dataframe terakhir*"
   ]
  },
  {
   "cell_type": "code",
   "execution_count": 6,
   "metadata": {
    "colab": {
     "base_uri": "https://localhost:8080/",
     "height": 206
    },
    "id": "fFgyzngm2WUc",
    "outputId": "a9834a87-e536-48e3-d5ce-478f8724c192"
   },
   "outputs": [
    {
     "data": {
      "text/html": [
       "\n",
       "  <div id=\"df-227711d6-649d-4fda-8d3e-d7c2e6ffcfc3\">\n",
       "    <div class=\"colab-df-container\">\n",
       "      <div>\n",
       "<style scoped>\n",
       "    .dataframe tbody tr th:only-of-type {\n",
       "        vertical-align: middle;\n",
       "    }\n",
       "\n",
       "    .dataframe tbody tr th {\n",
       "        vertical-align: top;\n",
       "    }\n",
       "\n",
       "    .dataframe thead th {\n",
       "        text-align: right;\n",
       "    }\n",
       "</style>\n",
       "<table border=\"1\" class=\"dataframe\">\n",
       "  <thead>\n",
       "    <tr style=\"text-align: right;\">\n",
       "      <th></th>\n",
       "      <th>category</th>\n",
       "      <th>text</th>\n",
       "      <th>business</th>\n",
       "      <th>entertainment</th>\n",
       "      <th>politics</th>\n",
       "      <th>sport</th>\n",
       "      <th>tech</th>\n",
       "    </tr>\n",
       "  </thead>\n",
       "  <tbody>\n",
       "    <tr>\n",
       "      <th>2220</th>\n",
       "      <td>business</td>\n",
       "      <td>cars pull down us retail figures us retail sal...</td>\n",
       "      <td>1</td>\n",
       "      <td>0</td>\n",
       "      <td>0</td>\n",
       "      <td>0</td>\n",
       "      <td>0</td>\n",
       "    </tr>\n",
       "    <tr>\n",
       "      <th>2221</th>\n",
       "      <td>politics</td>\n",
       "      <td>kilroy unveils immigration policy ex-chatshow ...</td>\n",
       "      <td>0</td>\n",
       "      <td>0</td>\n",
       "      <td>1</td>\n",
       "      <td>0</td>\n",
       "      <td>0</td>\n",
       "    </tr>\n",
       "    <tr>\n",
       "      <th>2222</th>\n",
       "      <td>entertainment</td>\n",
       "      <td>rem announce new glasgow concert us band rem h...</td>\n",
       "      <td>0</td>\n",
       "      <td>1</td>\n",
       "      <td>0</td>\n",
       "      <td>0</td>\n",
       "      <td>0</td>\n",
       "    </tr>\n",
       "    <tr>\n",
       "      <th>2223</th>\n",
       "      <td>politics</td>\n",
       "      <td>how political squabbles snowball it s become c...</td>\n",
       "      <td>0</td>\n",
       "      <td>0</td>\n",
       "      <td>1</td>\n",
       "      <td>0</td>\n",
       "      <td>0</td>\n",
       "    </tr>\n",
       "    <tr>\n",
       "      <th>2224</th>\n",
       "      <td>sport</td>\n",
       "      <td>souness delight at euro progress boss graeme s...</td>\n",
       "      <td>0</td>\n",
       "      <td>0</td>\n",
       "      <td>0</td>\n",
       "      <td>1</td>\n",
       "      <td>0</td>\n",
       "    </tr>\n",
       "  </tbody>\n",
       "</table>\n",
       "</div>\n",
       "      <button class=\"colab-df-convert\" onclick=\"convertToInteractive('df-227711d6-649d-4fda-8d3e-d7c2e6ffcfc3')\"\n",
       "              title=\"Convert this dataframe to an interactive table.\"\n",
       "              style=\"display:none;\">\n",
       "        \n",
       "  <svg xmlns=\"http://www.w3.org/2000/svg\" height=\"24px\"viewBox=\"0 0 24 24\"\n",
       "       width=\"24px\">\n",
       "    <path d=\"M0 0h24v24H0V0z\" fill=\"none\"/>\n",
       "    <path d=\"M18.56 5.44l.94 2.06.94-2.06 2.06-.94-2.06-.94-.94-2.06-.94 2.06-2.06.94zm-11 1L8.5 8.5l.94-2.06 2.06-.94-2.06-.94L8.5 2.5l-.94 2.06-2.06.94zm10 10l.94 2.06.94-2.06 2.06-.94-2.06-.94-.94-2.06-.94 2.06-2.06.94z\"/><path d=\"M17.41 7.96l-1.37-1.37c-.4-.4-.92-.59-1.43-.59-.52 0-1.04.2-1.43.59L10.3 9.45l-7.72 7.72c-.78.78-.78 2.05 0 2.83L4 21.41c.39.39.9.59 1.41.59.51 0 1.02-.2 1.41-.59l7.78-7.78 2.81-2.81c.8-.78.8-2.07 0-2.86zM5.41 20L4 18.59l7.72-7.72 1.47 1.35L5.41 20z\"/>\n",
       "  </svg>\n",
       "      </button>\n",
       "      \n",
       "  <style>\n",
       "    .colab-df-container {\n",
       "      display:flex;\n",
       "      flex-wrap:wrap;\n",
       "      gap: 12px;\n",
       "    }\n",
       "\n",
       "    .colab-df-convert {\n",
       "      background-color: #E8F0FE;\n",
       "      border: none;\n",
       "      border-radius: 50%;\n",
       "      cursor: pointer;\n",
       "      display: none;\n",
       "      fill: #1967D2;\n",
       "      height: 32px;\n",
       "      padding: 0 0 0 0;\n",
       "      width: 32px;\n",
       "    }\n",
       "\n",
       "    .colab-df-convert:hover {\n",
       "      background-color: #E2EBFA;\n",
       "      box-shadow: 0px 1px 2px rgba(60, 64, 67, 0.3), 0px 1px 3px 1px rgba(60, 64, 67, 0.15);\n",
       "      fill: #174EA6;\n",
       "    }\n",
       "\n",
       "    [theme=dark] .colab-df-convert {\n",
       "      background-color: #3B4455;\n",
       "      fill: #D2E3FC;\n",
       "    }\n",
       "\n",
       "    [theme=dark] .colab-df-convert:hover {\n",
       "      background-color: #434B5C;\n",
       "      box-shadow: 0px 1px 3px 1px rgba(0, 0, 0, 0.15);\n",
       "      filter: drop-shadow(0px 1px 2px rgba(0, 0, 0, 0.3));\n",
       "      fill: #FFFFFF;\n",
       "    }\n",
       "  </style>\n",
       "\n",
       "      <script>\n",
       "        const buttonEl =\n",
       "          document.querySelector('#df-227711d6-649d-4fda-8d3e-d7c2e6ffcfc3 button.colab-df-convert');\n",
       "        buttonEl.style.display =\n",
       "          google.colab.kernel.accessAllowed ? 'block' : 'none';\n",
       "\n",
       "        async function convertToInteractive(key) {\n",
       "          const element = document.querySelector('#df-227711d6-649d-4fda-8d3e-d7c2e6ffcfc3');\n",
       "          const dataTable =\n",
       "            await google.colab.kernel.invokeFunction('convertToInteractive',\n",
       "                                                     [key], {});\n",
       "          if (!dataTable) return;\n",
       "\n",
       "          const docLinkHtml = 'Like what you see? Visit the ' +\n",
       "            '<a target=\"_blank\" href=https://colab.research.google.com/notebooks/data_table.ipynb>data table notebook</a>'\n",
       "            + ' to learn more about interactive tables.';\n",
       "          element.innerHTML = '';\n",
       "          dataTable['output_type'] = 'display_data';\n",
       "          await google.colab.output.renderOutput(dataTable, element);\n",
       "          const docLink = document.createElement('div');\n",
       "          docLink.innerHTML = docLinkHtml;\n",
       "          element.appendChild(docLink);\n",
       "        }\n",
       "      </script>\n",
       "    </div>\n",
       "  </div>\n",
       "  "
      ],
      "text/plain": [
       "           category                                               text  \\\n",
       "2220       business  cars pull down us retail figures us retail sal...   \n",
       "2221       politics  kilroy unveils immigration policy ex-chatshow ...   \n",
       "2222  entertainment  rem announce new glasgow concert us band rem h...   \n",
       "2223       politics  how political squabbles snowball it s become c...   \n",
       "2224          sport  souness delight at euro progress boss graeme s...   \n",
       "\n",
       "      business  entertainment  politics  sport  tech  \n",
       "2220         1              0         0      0     0  \n",
       "2221         0              0         1      0     0  \n",
       "2222         0              1         0      0     0  \n",
       "2223         0              0         1      0     0  \n",
       "2224         0              0         0      1     0  "
      ]
     },
     "execution_count": 6,
     "metadata": {},
     "output_type": "execute_result"
    }
   ],
   "source": [
    "kategori = pd.get_dummies(df.category)\n",
    "df = pd.concat([df, kategori], axis=1)\n",
    "df.tail(5)"
   ]
  },
  {
   "cell_type": "markdown",
   "metadata": {
    "id": "lcN1ZBajfutd"
   },
   "source": [
    "## *6. Buang kolom kategori karena sudah diganti melalui one hot encoding dan tidak diperlukan lagi*"
   ]
  },
  {
   "cell_type": "code",
   "execution_count": 7,
   "metadata": {
    "colab": {
     "base_uri": "https://localhost:8080/",
     "height": 112
    },
    "id": "nmkXtefK3A_g",
    "outputId": "855415b5-eaac-4130-e3b9-1a87311a3311"
   },
   "outputs": [
    {
     "data": {
      "text/html": [
       "\n",
       "  <div id=\"df-71994db6-d693-4500-ab19-9ecc1f940a32\">\n",
       "    <div class=\"colab-df-container\">\n",
       "      <div>\n",
       "<style scoped>\n",
       "    .dataframe tbody tr th:only-of-type {\n",
       "        vertical-align: middle;\n",
       "    }\n",
       "\n",
       "    .dataframe tbody tr th {\n",
       "        vertical-align: top;\n",
       "    }\n",
       "\n",
       "    .dataframe thead th {\n",
       "        text-align: right;\n",
       "    }\n",
       "</style>\n",
       "<table border=\"1\" class=\"dataframe\">\n",
       "  <thead>\n",
       "    <tr style=\"text-align: right;\">\n",
       "      <th></th>\n",
       "      <th>text</th>\n",
       "      <th>business</th>\n",
       "      <th>entertainment</th>\n",
       "      <th>politics</th>\n",
       "      <th>sport</th>\n",
       "      <th>tech</th>\n",
       "    </tr>\n",
       "  </thead>\n",
       "  <tbody>\n",
       "    <tr>\n",
       "      <th>0</th>\n",
       "      <td>tv future in the hands of viewers with home th...</td>\n",
       "      <td>0</td>\n",
       "      <td>0</td>\n",
       "      <td>0</td>\n",
       "      <td>0</td>\n",
       "      <td>1</td>\n",
       "    </tr>\n",
       "    <tr>\n",
       "      <th>1</th>\n",
       "      <td>worldcom boss  left books alone  former worldc...</td>\n",
       "      <td>1</td>\n",
       "      <td>0</td>\n",
       "      <td>0</td>\n",
       "      <td>0</td>\n",
       "      <td>0</td>\n",
       "    </tr>\n",
       "  </tbody>\n",
       "</table>\n",
       "</div>\n",
       "      <button class=\"colab-df-convert\" onclick=\"convertToInteractive('df-71994db6-d693-4500-ab19-9ecc1f940a32')\"\n",
       "              title=\"Convert this dataframe to an interactive table.\"\n",
       "              style=\"display:none;\">\n",
       "        \n",
       "  <svg xmlns=\"http://www.w3.org/2000/svg\" height=\"24px\"viewBox=\"0 0 24 24\"\n",
       "       width=\"24px\">\n",
       "    <path d=\"M0 0h24v24H0V0z\" fill=\"none\"/>\n",
       "    <path d=\"M18.56 5.44l.94 2.06.94-2.06 2.06-.94-2.06-.94-.94-2.06-.94 2.06-2.06.94zm-11 1L8.5 8.5l.94-2.06 2.06-.94-2.06-.94L8.5 2.5l-.94 2.06-2.06.94zm10 10l.94 2.06.94-2.06 2.06-.94-2.06-.94-.94-2.06-.94 2.06-2.06.94z\"/><path d=\"M17.41 7.96l-1.37-1.37c-.4-.4-.92-.59-1.43-.59-.52 0-1.04.2-1.43.59L10.3 9.45l-7.72 7.72c-.78.78-.78 2.05 0 2.83L4 21.41c.39.39.9.59 1.41.59.51 0 1.02-.2 1.41-.59l7.78-7.78 2.81-2.81c.8-.78.8-2.07 0-2.86zM5.41 20L4 18.59l7.72-7.72 1.47 1.35L5.41 20z\"/>\n",
       "  </svg>\n",
       "      </button>\n",
       "      \n",
       "  <style>\n",
       "    .colab-df-container {\n",
       "      display:flex;\n",
       "      flex-wrap:wrap;\n",
       "      gap: 12px;\n",
       "    }\n",
       "\n",
       "    .colab-df-convert {\n",
       "      background-color: #E8F0FE;\n",
       "      border: none;\n",
       "      border-radius: 50%;\n",
       "      cursor: pointer;\n",
       "      display: none;\n",
       "      fill: #1967D2;\n",
       "      height: 32px;\n",
       "      padding: 0 0 0 0;\n",
       "      width: 32px;\n",
       "    }\n",
       "\n",
       "    .colab-df-convert:hover {\n",
       "      background-color: #E2EBFA;\n",
       "      box-shadow: 0px 1px 2px rgba(60, 64, 67, 0.3), 0px 1px 3px 1px rgba(60, 64, 67, 0.15);\n",
       "      fill: #174EA6;\n",
       "    }\n",
       "\n",
       "    [theme=dark] .colab-df-convert {\n",
       "      background-color: #3B4455;\n",
       "      fill: #D2E3FC;\n",
       "    }\n",
       "\n",
       "    [theme=dark] .colab-df-convert:hover {\n",
       "      background-color: #434B5C;\n",
       "      box-shadow: 0px 1px 3px 1px rgba(0, 0, 0, 0.15);\n",
       "      filter: drop-shadow(0px 1px 2px rgba(0, 0, 0, 0.3));\n",
       "      fill: #FFFFFF;\n",
       "    }\n",
       "  </style>\n",
       "\n",
       "      <script>\n",
       "        const buttonEl =\n",
       "          document.querySelector('#df-71994db6-d693-4500-ab19-9ecc1f940a32 button.colab-df-convert');\n",
       "        buttonEl.style.display =\n",
       "          google.colab.kernel.accessAllowed ? 'block' : 'none';\n",
       "\n",
       "        async function convertToInteractive(key) {\n",
       "          const element = document.querySelector('#df-71994db6-d693-4500-ab19-9ecc1f940a32');\n",
       "          const dataTable =\n",
       "            await google.colab.kernel.invokeFunction('convertToInteractive',\n",
       "                                                     [key], {});\n",
       "          if (!dataTable) return;\n",
       "\n",
       "          const docLinkHtml = 'Like what you see? Visit the ' +\n",
       "            '<a target=\"_blank\" href=https://colab.research.google.com/notebooks/data_table.ipynb>data table notebook</a>'\n",
       "            + ' to learn more about interactive tables.';\n",
       "          element.innerHTML = '';\n",
       "          dataTable['output_type'] = 'display_data';\n",
       "          await google.colab.output.renderOutput(dataTable, element);\n",
       "          const docLink = document.createElement('div');\n",
       "          docLink.innerHTML = docLinkHtml;\n",
       "          element.appendChild(docLink);\n",
       "        }\n",
       "      </script>\n",
       "    </div>\n",
       "  </div>\n",
       "  "
      ],
      "text/plain": [
       "                                                text  business  entertainment  \\\n",
       "0  tv future in the hands of viewers with home th...         0              0   \n",
       "1  worldcom boss  left books alone  former worldc...         1              0   \n",
       "\n",
       "   politics  sport  tech  \n",
       "0         0      0     1  \n",
       "1         0      0     0  "
      ]
     },
     "execution_count": 7,
     "metadata": {},
     "output_type": "execute_result"
    }
   ],
   "source": [
    "ndf = df.drop(columns='category')\n",
    "ndf.head(2)"
   ]
  },
  {
   "cell_type": "markdown",
   "metadata": {
    "id": "JqXja73MgR3c"
   },
   "source": [
    "## *7. Cek jika ada nilai yang kosong, dan hitung banyak kata yang ada dalam kolom teks untuk membantu nanti dalam melakukan modelling*"
   ]
  },
  {
   "cell_type": "code",
   "execution_count": 8,
   "metadata": {
    "colab": {
     "base_uri": "https://localhost:8080/"
    },
    "id": "HbE47R2M5Gcc",
    "outputId": "8c3c7eef-97c0-486b-f583-c3e4e76a045f"
   },
   "outputs": [
    {
     "data": {
      "text/plain": [
       "text             0\n",
       "business         0\n",
       "entertainment    0\n",
       "politics         0\n",
       "sport            0\n",
       "tech             0\n",
       "dtype: int64"
      ]
     },
     "execution_count": 8,
     "metadata": {},
     "output_type": "execute_result"
    }
   ],
   "source": [
    "ndf.isna().sum()"
   ]
  },
  {
   "cell_type": "code",
   "execution_count": 9,
   "metadata": {
    "colab": {
     "base_uri": "https://localhost:8080/"
    },
    "id": "znBn9d9iCnzh",
    "outputId": "1f1feaf2-52d1-413d-998b-069af11e341d"
   },
   "outputs": [
    {
     "name": "stdout",
     "output_type": "stream",
     "text": [
      "banyak kata =  2225\n"
     ]
    }
   ],
   "source": [
    "Counter(ndf['text'])\n",
    "print('banyak kata = ', len(ndf['text']))"
   ]
  },
  {
   "cell_type": "markdown",
   "metadata": {
    "id": "lRr5O54lgqLS"
   },
   "source": [
    "## *8. Gunakan Library NLTK untuk memproses data teks. Hilangkan stopwords dan tanda baca agar data lebih siap untuk dilatih*"
   ]
  },
  {
   "cell_type": "code",
   "execution_count": 10,
   "metadata": {
    "colab": {
     "base_uri": "https://localhost:8080/"
    },
    "id": "o9x5XSm65Uqs",
    "outputId": "5f341ef7-9fe7-40a9-e2ae-27ff9fd5a18e"
   },
   "outputs": [
    {
     "name": "stdout",
     "output_type": "stream",
     "text": [
      "['A', 'stop', 'word', 'is', 'a', 'commonly', 'used', 'word', '(', 'such', 'as', '“', 'the', '”', ',', '“', 'a', '”', ',', '“', 'an', '”', ',', '“', 'in', '”', ')', 'that', 'a', 'search', 'engine', 'has', 'been', 'programmed', 'to', 'ignore', ',', 'both', 'when', 'indexing', 'entries', 'for', 'searching', 'and', 'when', 'retrieving', 'them', 'as', 'the', 'result', 'of', 'a', 'search', 'query', '.']\n",
      "['A', 'stop', 'word', 'commonly', 'used', 'word', '(', '“', '”', ',', '“', '”', ',', '“', '”', ',', '“', '”', ')', 'search', 'engine', 'programmed', 'ignore', ',', 'indexing', 'entries', 'searching', 'retrieving', 'result', 'search', 'query', '.']\n"
     ]
    }
   ],
   "source": [
    "example_sent = \"\"\" A stop word is a commonly used word \n",
    "    (such as “the”, “a”, “an”, “in”) that a search engine \n",
    "    has been programmed to ignore, both when indexing entries \n",
    "    for searching and when retrieving them as the result of a \n",
    "    search query. \"\"\"\n",
    "  \n",
    "stop_words = set(stopwords.words('english'))\n",
    "  \n",
    "word_tokens = word_tokenize(example_sent)\n",
    "  \n",
    "filtered_sentence = [w for w in word_tokens if not w.lower() in stop_words]\n",
    "  \n",
    "filtered_sentence = []\n",
    "  \n",
    "for w in word_tokens:\n",
    "    if w not in stop_words:\n",
    "        filtered_sentence.append(w)\n",
    "  \n",
    "print(word_tokens)\n",
    "print(filtered_sentence)"
   ]
  },
  {
   "cell_type": "code",
   "execution_count": 11,
   "metadata": {
    "id": "Q6Rrx-Bo8C4z"
   },
   "outputs": [],
   "source": [
    "sentence = \"Think and wonder, wonder and think.\"\n",
    " \n",
    "token = nltk.RegexpTokenizer(r\"\\w+\")\n",
    "new_words = token.tokenize(sentence)"
   ]
  },
  {
   "cell_type": "markdown",
   "metadata": {
    "id": "92hGbZYmhWfs"
   },
   "source": [
    "## *9. Ubah nilai-nilai dari dataframe ke dalam tipe data numpy array*"
   ]
  },
  {
   "cell_type": "code",
   "execution_count": 12,
   "metadata": {
    "id": "-jZ2_-Tp8Gyy"
   },
   "outputs": [],
   "source": [
    "text = ndf['text'].values\n",
    "label = ndf[['business', 'entertainment', 'politics', 'sport', 'tech']].values"
   ]
  },
  {
   "cell_type": "markdown",
   "metadata": {
    "id": "Sj-UWUckiBKK"
   },
   "source": [
    "## *10. Bagi data untuk training dan data untuk testing*"
   ]
  },
  {
   "cell_type": "code",
   "execution_count": 30,
   "metadata": {
    "id": "3A_hO2Rx9bb0"
   },
   "outputs": [],
   "source": [
    "text_train, text_test, label_train, label_test = train_test_split(text, label, test_size=0.2, random_state=0)"
   ]
  },
  {
   "cell_type": "markdown",
   "metadata": {
    "id": "qv_sN3qXiSwR"
   },
   "source": [
    "## *11. Lakukan Proses Tokenisasi*"
   ]
  },
  {
   "cell_type": "code",
   "execution_count": 31,
   "metadata": {
    "id": "p71hqQuz-jn8"
   },
   "outputs": [],
   "source": [
    "tokenizer = Tokenizer(num_words=2225, oov_token='<oov>')\n",
    "\n",
    "tokenizer.fit_on_texts(text_train)\n",
    "\n",
    "sekuens_train = tokenizer.texts_to_sequences(text_train)\n",
    "sekuens_test = tokenizer.texts_to_sequences(text_test)\n",
    "\n",
    "pad_train = pad_sequences(sekuens_train,\n",
    "                          maxlen=100,\n",
    "                          padding='post',\n",
    "                          truncating='post')\n",
    "pad_test = pad_sequences(sekuens_test,\n",
    "                         maxlen=100,\n",
    "                         padding='post',\n",
    "                         truncating='post')"
   ]
  },
  {
   "cell_type": "markdown",
   "metadata": {
    "id": "-MdibcvGibeP"
   },
   "source": [
    "## *12. Buat arsitektur model menggunakan Sequential, layer Embedding, LSTM, Dense, dan Dropout. Kemudian panggil fungsi compile*"
   ]
  },
  {
   "cell_type": "code",
   "execution_count": 39,
   "metadata": {
    "id": "R1gu7VZKHj23"
   },
   "outputs": [],
   "source": [
    "model = tf.keras.Sequential([\n",
    "    tf.keras.layers.Embedding(input_dim=2225, output_dim=32, input_length=100),\n",
    "    tf.keras.layers.LSTM(64),\n",
    "    tf.keras.layers.Dropout(0.2),\n",
    "    tf.keras.layers.Dense(256, activation='relu'),\n",
    "    tf.keras.layers.Dropout(0.2),\n",
    "    tf.keras.layers.Dense(128, activation='relu'),\n",
    "    tf.keras.layers.Dense(64, activation='relu'),\n",
    "    tf.keras.layers.Dense(5, activation='softmax')\n",
    "])\n",
    "model.compile(\n",
    "    optimizer='Adam',\n",
    "    loss='categorical_crossentropy',\n",
    "    metrics=['accuracy'])"
   ]
  },
  {
   "cell_type": "markdown",
   "metadata": {
    "id": "X_U2HIEViupo"
   },
   "source": [
    "## *13. Gunakan fungsi callback untuk memberi tahu model agar berhenti melakukan pelatihan ketika sudah mencapai target tertentu. Dalam Model ini 92%*"
   ]
  },
  {
   "cell_type": "code",
   "execution_count": 40,
   "metadata": {
    "id": "j7PmkmRDJvXS"
   },
   "outputs": [],
   "source": [
    "class myCallback(tf.keras.callbacks.Callback):\n",
    "  def on_epoch_end(self, epoch, logs={}):\n",
    "    if(logs.get('accuracy')>=0.92 and logs.get('val_accuracy')>=0.92):\n",
    "      print(\"\\nAkurasi training dan validasi telah mencapai nilai >92%!\")\n",
    "      self.model.stop_training = True\n",
    "callbacks = myCallback()"
   ]
  },
  {
   "cell_type": "markdown",
   "metadata": {
    "id": "VCDbBQIgjjwN"
   },
   "source": [
    "## *14.Latih model dengan menggunakan fungsi .fit()*"
   ]
  },
  {
   "cell_type": "code",
   "execution_count": 41,
   "metadata": {
    "colab": {
     "base_uri": "https://localhost:8080/"
    },
    "id": "F3Ti-v14Jx7k",
    "outputId": "e51de2dc-f41e-4554-a0c1-a34381ffd34e"
   },
   "outputs": [
    {
     "name": "stdout",
     "output_type": "stream",
     "text": [
      "Epoch 1/100\n",
      "56/56 - 3s - loss: 1.6052 - accuracy: 0.2292 - val_loss: 1.6015 - val_accuracy: 0.2180 - 3s/epoch - 47ms/step\n",
      "Epoch 2/100\n",
      "56/56 - 0s - loss: 1.4211 - accuracy: 0.3062 - val_loss: 1.1990 - val_accuracy: 0.3798 - 402ms/epoch - 7ms/step\n",
      "Epoch 3/100\n",
      "56/56 - 0s - loss: 0.9622 - accuracy: 0.5292 - val_loss: 0.8339 - val_accuracy: 0.5371 - 435ms/epoch - 8ms/step\n",
      "Epoch 4/100\n",
      "56/56 - 0s - loss: 0.6756 - accuracy: 0.6208 - val_loss: 0.7100 - val_accuracy: 0.6090 - 413ms/epoch - 7ms/step\n",
      "Epoch 5/100\n",
      "56/56 - 0s - loss: 0.5108 - accuracy: 0.7292 - val_loss: 0.6691 - val_accuracy: 0.7708 - 415ms/epoch - 7ms/step\n",
      "Epoch 6/100\n",
      "56/56 - 0s - loss: 0.4150 - accuracy: 0.8090 - val_loss: 0.5339 - val_accuracy: 0.7955 - 408ms/epoch - 7ms/step\n",
      "Epoch 7/100\n",
      "56/56 - 0s - loss: 0.2780 - accuracy: 0.8983 - val_loss: 0.5461 - val_accuracy: 0.8045 - 408ms/epoch - 7ms/step\n",
      "Epoch 8/100\n",
      "56/56 - 0s - loss: 0.1803 - accuracy: 0.9410 - val_loss: 0.4708 - val_accuracy: 0.8449 - 410ms/epoch - 7ms/step\n",
      "Epoch 9/100\n",
      "56/56 - 0s - loss: 0.1027 - accuracy: 0.9697 - val_loss: 0.4554 - val_accuracy: 0.8697 - 403ms/epoch - 7ms/step\n",
      "Epoch 10/100\n",
      "56/56 - 0s - loss: 0.0622 - accuracy: 0.9809 - val_loss: 0.4796 - val_accuracy: 0.8674 - 399ms/epoch - 7ms/step\n",
      "Epoch 11/100\n",
      "56/56 - 0s - loss: 0.0888 - accuracy: 0.9685 - val_loss: 0.5076 - val_accuracy: 0.8607 - 412ms/epoch - 7ms/step\n",
      "Epoch 12/100\n",
      "56/56 - 0s - loss: 0.0986 - accuracy: 0.9730 - val_loss: 0.3630 - val_accuracy: 0.8966 - 415ms/epoch - 7ms/step\n",
      "Epoch 13/100\n",
      "56/56 - 0s - loss: 0.0633 - accuracy: 0.9781 - val_loss: 0.4744 - val_accuracy: 0.8787 - 420ms/epoch - 7ms/step\n",
      "Epoch 14/100\n",
      "56/56 - 0s - loss: 0.0797 - accuracy: 0.9758 - val_loss: 0.4766 - val_accuracy: 0.8539 - 422ms/epoch - 8ms/step\n",
      "Epoch 15/100\n",
      "56/56 - 0s - loss: 0.0299 - accuracy: 0.9921 - val_loss: 0.6756 - val_accuracy: 0.8517 - 418ms/epoch - 7ms/step\n",
      "Epoch 16/100\n",
      "56/56 - 0s - loss: 0.0269 - accuracy: 0.9910 - val_loss: 0.5041 - val_accuracy: 0.8764 - 409ms/epoch - 7ms/step\n",
      "Epoch 17/100\n",
      "56/56 - 0s - loss: 0.0226 - accuracy: 0.9949 - val_loss: 0.5716 - val_accuracy: 0.8607 - 404ms/epoch - 7ms/step\n",
      "Epoch 18/100\n",
      "56/56 - 0s - loss: 0.0732 - accuracy: 0.9803 - val_loss: 0.5242 - val_accuracy: 0.8607 - 413ms/epoch - 7ms/step\n",
      "Epoch 19/100\n",
      "56/56 - 0s - loss: 0.0813 - accuracy: 0.9775 - val_loss: 0.4674 - val_accuracy: 0.8831 - 415ms/epoch - 7ms/step\n",
      "Epoch 20/100\n",
      "56/56 - 0s - loss: 0.0158 - accuracy: 0.9966 - val_loss: 0.4767 - val_accuracy: 0.9079 - 399ms/epoch - 7ms/step\n",
      "Epoch 21/100\n",
      "56/56 - 0s - loss: 0.0077 - accuracy: 0.9989 - val_loss: 0.5225 - val_accuracy: 0.8966 - 423ms/epoch - 8ms/step\n",
      "Epoch 22/100\n",
      "56/56 - 0s - loss: 0.0062 - accuracy: 0.9983 - val_loss: 0.5204 - val_accuracy: 0.8876 - 427ms/epoch - 8ms/step\n",
      "Epoch 23/100\n",
      "56/56 - 0s - loss: 0.0037 - accuracy: 0.9994 - val_loss: 0.5133 - val_accuracy: 0.8921 - 408ms/epoch - 7ms/step\n",
      "Epoch 24/100\n",
      "56/56 - 0s - loss: 0.0032 - accuracy: 0.9994 - val_loss: 0.5366 - val_accuracy: 0.8966 - 427ms/epoch - 8ms/step\n",
      "Epoch 25/100\n",
      "56/56 - 0s - loss: 0.0019 - accuracy: 0.9994 - val_loss: 0.5368 - val_accuracy: 0.9011 - 408ms/epoch - 7ms/step\n",
      "Epoch 26/100\n",
      "56/56 - 0s - loss: 4.0894e-04 - accuracy: 1.0000 - val_loss: 0.5383 - val_accuracy: 0.8944 - 440ms/epoch - 8ms/step\n",
      "Epoch 27/100\n",
      "56/56 - 0s - loss: 2.7636e-04 - accuracy: 1.0000 - val_loss: 0.5635 - val_accuracy: 0.9034 - 407ms/epoch - 7ms/step\n",
      "Epoch 28/100\n",
      "56/56 - 0s - loss: 2.1202e-04 - accuracy: 1.0000 - val_loss: 0.5765 - val_accuracy: 0.8989 - 416ms/epoch - 7ms/step\n",
      "Epoch 29/100\n",
      "56/56 - 0s - loss: 1.7164e-04 - accuracy: 1.0000 - val_loss: 0.5955 - val_accuracy: 0.9056 - 411ms/epoch - 7ms/step\n",
      "Epoch 30/100\n",
      "56/56 - 0s - loss: 9.9497e-05 - accuracy: 1.0000 - val_loss: 0.5967 - val_accuracy: 0.9034 - 442ms/epoch - 8ms/step\n",
      "Epoch 31/100\n",
      "56/56 - 0s - loss: 8.2289e-05 - accuracy: 1.0000 - val_loss: 0.6032 - val_accuracy: 0.9034 - 435ms/epoch - 8ms/step\n",
      "Epoch 32/100\n",
      "56/56 - 0s - loss: 8.5952e-05 - accuracy: 1.0000 - val_loss: 0.6107 - val_accuracy: 0.8989 - 405ms/epoch - 7ms/step\n",
      "Epoch 33/100\n",
      "56/56 - 0s - loss: 6.2822e-05 - accuracy: 1.0000 - val_loss: 0.6230 - val_accuracy: 0.9011 - 416ms/epoch - 7ms/step\n",
      "Epoch 34/100\n",
      "56/56 - 0s - loss: 5.4698e-05 - accuracy: 1.0000 - val_loss: 0.6355 - val_accuracy: 0.9034 - 424ms/epoch - 8ms/step\n",
      "Epoch 35/100\n",
      "56/56 - 0s - loss: 8.4677e-05 - accuracy: 1.0000 - val_loss: 0.6424 - val_accuracy: 0.9079 - 423ms/epoch - 8ms/step\n",
      "Epoch 36/100\n",
      "56/56 - 0s - loss: 5.3317e-05 - accuracy: 1.0000 - val_loss: 0.6450 - val_accuracy: 0.8989 - 422ms/epoch - 8ms/step\n",
      "Epoch 37/100\n",
      "56/56 - 0s - loss: 4.1024e-05 - accuracy: 1.0000 - val_loss: 0.6490 - val_accuracy: 0.9011 - 418ms/epoch - 7ms/step\n",
      "Epoch 38/100\n",
      "56/56 - 0s - loss: 3.3099e-05 - accuracy: 1.0000 - val_loss: 0.6530 - val_accuracy: 0.9034 - 433ms/epoch - 8ms/step\n",
      "Epoch 39/100\n",
      "56/56 - 0s - loss: 3.2597e-05 - accuracy: 1.0000 - val_loss: 0.6577 - val_accuracy: 0.9034 - 404ms/epoch - 7ms/step\n",
      "Epoch 40/100\n",
      "56/56 - 0s - loss: 2.7146e-05 - accuracy: 1.0000 - val_loss: 0.6630 - val_accuracy: 0.9034 - 425ms/epoch - 8ms/step\n",
      "Epoch 41/100\n",
      "56/56 - 0s - loss: 2.5189e-05 - accuracy: 1.0000 - val_loss: 0.6659 - val_accuracy: 0.9034 - 418ms/epoch - 7ms/step\n",
      "Epoch 42/100\n",
      "56/56 - 0s - loss: 2.6735e-05 - accuracy: 1.0000 - val_loss: 0.6735 - val_accuracy: 0.9034 - 416ms/epoch - 7ms/step\n",
      "Epoch 43/100\n",
      "56/56 - 0s - loss: 2.2017e-05 - accuracy: 1.0000 - val_loss: 0.6768 - val_accuracy: 0.9034 - 408ms/epoch - 7ms/step\n",
      "Epoch 44/100\n",
      "56/56 - 0s - loss: 1.7879e-05 - accuracy: 1.0000 - val_loss: 0.6818 - val_accuracy: 0.9056 - 411ms/epoch - 7ms/step\n",
      "Epoch 45/100\n",
      "56/56 - 0s - loss: 3.0745e-05 - accuracy: 1.0000 - val_loss: 0.6799 - val_accuracy: 0.9079 - 456ms/epoch - 8ms/step\n",
      "Epoch 46/100\n",
      "56/56 - 0s - loss: 1.8093e-05 - accuracy: 1.0000 - val_loss: 0.6830 - val_accuracy: 0.9034 - 425ms/epoch - 8ms/step\n",
      "Epoch 47/100\n",
      "56/56 - 0s - loss: 3.1640e-05 - accuracy: 1.0000 - val_loss: 0.6992 - val_accuracy: 0.9034 - 424ms/epoch - 8ms/step\n",
      "Epoch 48/100\n",
      "56/56 - 0s - loss: 1.6122e-05 - accuracy: 1.0000 - val_loss: 0.7065 - val_accuracy: 0.8989 - 415ms/epoch - 7ms/step\n",
      "Epoch 49/100\n",
      "56/56 - 0s - loss: 1.5223e-05 - accuracy: 1.0000 - val_loss: 0.7053 - val_accuracy: 0.9034 - 412ms/epoch - 7ms/step\n",
      "Epoch 50/100\n",
      "56/56 - 0s - loss: 1.0158e-05 - accuracy: 1.0000 - val_loss: 0.7067 - val_accuracy: 0.9034 - 418ms/epoch - 7ms/step\n",
      "Epoch 51/100\n",
      "56/56 - 0s - loss: 9.9584e-06 - accuracy: 1.0000 - val_loss: 0.7065 - val_accuracy: 0.9056 - 423ms/epoch - 8ms/step\n",
      "Epoch 52/100\n",
      "56/56 - 0s - loss: 7.7663e-06 - accuracy: 1.0000 - val_loss: 0.7089 - val_accuracy: 0.9056 - 435ms/epoch - 8ms/step\n",
      "Epoch 53/100\n",
      "56/56 - 0s - loss: 1.2121e-05 - accuracy: 1.0000 - val_loss: 0.7119 - val_accuracy: 0.9056 - 422ms/epoch - 8ms/step\n",
      "Epoch 54/100\n",
      "56/56 - 0s - loss: 8.4458e-06 - accuracy: 1.0000 - val_loss: 0.7129 - val_accuracy: 0.9056 - 423ms/epoch - 8ms/step\n",
      "Epoch 55/100\n",
      "56/56 - 0s - loss: 1.1633e-05 - accuracy: 1.0000 - val_loss: 0.7132 - val_accuracy: 0.9056 - 425ms/epoch - 8ms/step\n",
      "Epoch 56/100\n",
      "56/56 - 0s - loss: 1.3927e-05 - accuracy: 1.0000 - val_loss: 0.7226 - val_accuracy: 0.9034 - 414ms/epoch - 7ms/step\n",
      "Epoch 57/100\n",
      "56/56 - 0s - loss: 6.9472e-06 - accuracy: 1.0000 - val_loss: 0.7267 - val_accuracy: 0.9034 - 451ms/epoch - 8ms/step\n",
      "Epoch 58/100\n",
      "56/56 - 0s - loss: 7.7667e-06 - accuracy: 1.0000 - val_loss: 0.7296 - val_accuracy: 0.9034 - 405ms/epoch - 7ms/step\n",
      "Epoch 59/100\n",
      "56/56 - 0s - loss: 6.3146e-06 - accuracy: 1.0000 - val_loss: 0.7309 - val_accuracy: 0.9056 - 427ms/epoch - 8ms/step\n",
      "Epoch 60/100\n",
      "56/56 - 0s - loss: 6.1108e-06 - accuracy: 1.0000 - val_loss: 0.7354 - val_accuracy: 0.9034 - 419ms/epoch - 7ms/step\n",
      "Epoch 61/100\n",
      "56/56 - 0s - loss: 9.3126e-06 - accuracy: 1.0000 - val_loss: 0.7313 - val_accuracy: 0.9056 - 423ms/epoch - 8ms/step\n",
      "Epoch 62/100\n",
      "56/56 - 0s - loss: 5.2375e-06 - accuracy: 1.0000 - val_loss: 0.7332 - val_accuracy: 0.9056 - 405ms/epoch - 7ms/step\n",
      "Epoch 63/100\n",
      "56/56 - 0s - loss: 5.5692e-06 - accuracy: 1.0000 - val_loss: 0.7352 - val_accuracy: 0.9056 - 400ms/epoch - 7ms/step\n",
      "Epoch 64/100\n",
      "56/56 - 0s - loss: 5.1611e-06 - accuracy: 1.0000 - val_loss: 0.7395 - val_accuracy: 0.9056 - 422ms/epoch - 8ms/step\n",
      "Epoch 65/100\n",
      "56/56 - 0s - loss: 5.0403e-06 - accuracy: 1.0000 - val_loss: 0.7418 - val_accuracy: 0.9056 - 421ms/epoch - 8ms/step\n",
      "Epoch 66/100\n",
      "56/56 - 0s - loss: 7.0975e-06 - accuracy: 1.0000 - val_loss: 0.7482 - val_accuracy: 0.9034 - 432ms/epoch - 8ms/step\n",
      "Epoch 67/100\n",
      "56/56 - 0s - loss: 4.5925e-06 - accuracy: 1.0000 - val_loss: 0.7529 - val_accuracy: 0.9034 - 423ms/epoch - 8ms/step\n",
      "Epoch 68/100\n",
      "56/56 - 0s - loss: 6.8401e-06 - accuracy: 1.0000 - val_loss: 0.7604 - val_accuracy: 0.9034 - 410ms/epoch - 7ms/step\n",
      "Epoch 69/100\n",
      "56/56 - 0s - loss: 3.9244e-06 - accuracy: 1.0000 - val_loss: 0.7617 - val_accuracy: 0.9034 - 422ms/epoch - 8ms/step\n",
      "Epoch 70/100\n",
      "56/56 - 0s - loss: 3.0490e-06 - accuracy: 1.0000 - val_loss: 0.7629 - val_accuracy: 0.9034 - 400ms/epoch - 7ms/step\n",
      "Epoch 71/100\n",
      "56/56 - 0s - loss: 5.1267e-06 - accuracy: 1.0000 - val_loss: 0.7676 - val_accuracy: 0.9056 - 411ms/epoch - 7ms/step\n",
      "Epoch 72/100\n",
      "56/56 - 0s - loss: 4.0821e-06 - accuracy: 1.0000 - val_loss: 0.7713 - val_accuracy: 0.9056 - 442ms/epoch - 8ms/step\n",
      "Epoch 73/100\n",
      "56/56 - 0s - loss: 3.3827e-06 - accuracy: 1.0000 - val_loss: 0.7723 - val_accuracy: 0.9056 - 430ms/epoch - 8ms/step\n",
      "Epoch 74/100\n",
      "56/56 - 0s - loss: 3.4051e-06 - accuracy: 1.0000 - val_loss: 0.7751 - val_accuracy: 0.9056 - 421ms/epoch - 8ms/step\n",
      "Epoch 75/100\n",
      "56/56 - 0s - loss: 1.0063e-05 - accuracy: 1.0000 - val_loss: 0.7984 - val_accuracy: 0.8989 - 447ms/epoch - 8ms/step\n",
      "Epoch 76/100\n",
      "56/56 - 0s - loss: 6.0347e-06 - accuracy: 1.0000 - val_loss: 0.7993 - val_accuracy: 0.8989 - 426ms/epoch - 8ms/step\n",
      "Epoch 77/100\n",
      "56/56 - 0s - loss: 2.3677e-06 - accuracy: 1.0000 - val_loss: 0.7934 - val_accuracy: 0.9034 - 418ms/epoch - 7ms/step\n",
      "Epoch 78/100\n",
      "56/56 - 0s - loss: 3.3389e-06 - accuracy: 1.0000 - val_loss: 0.7940 - val_accuracy: 0.9034 - 419ms/epoch - 7ms/step\n",
      "Epoch 79/100\n",
      "56/56 - 0s - loss: 4.3721e-06 - accuracy: 1.0000 - val_loss: 0.7965 - val_accuracy: 0.9034 - 409ms/epoch - 7ms/step\n",
      "Epoch 80/100\n",
      "56/56 - 0s - loss: 2.8819e-06 - accuracy: 1.0000 - val_loss: 0.7974 - val_accuracy: 0.9034 - 432ms/epoch - 8ms/step\n",
      "Epoch 81/100\n",
      "56/56 - 0s - loss: 9.7468e-06 - accuracy: 1.0000 - val_loss: 0.8142 - val_accuracy: 0.8989 - 432ms/epoch - 8ms/step\n",
      "Epoch 82/100\n",
      "56/56 - 0s - loss: 3.6059e-06 - accuracy: 1.0000 - val_loss: 0.8275 - val_accuracy: 0.8989 - 419ms/epoch - 7ms/step\n",
      "Epoch 83/100\n",
      "56/56 - 0s - loss: 2.8067e-06 - accuracy: 1.0000 - val_loss: 0.8223 - val_accuracy: 0.9011 - 416ms/epoch - 7ms/step\n",
      "Epoch 84/100\n",
      "56/56 - 0s - loss: 2.5085e-06 - accuracy: 1.0000 - val_loss: 0.8187 - val_accuracy: 0.9034 - 407ms/epoch - 7ms/step\n",
      "Epoch 85/100\n",
      "56/56 - 0s - loss: 1.2939e-06 - accuracy: 1.0000 - val_loss: 0.8182 - val_accuracy: 0.9034 - 437ms/epoch - 8ms/step\n",
      "Epoch 86/100\n",
      "56/56 - 0s - loss: 1.8956e-06 - accuracy: 1.0000 - val_loss: 0.8174 - val_accuracy: 0.9034 - 414ms/epoch - 7ms/step\n",
      "Epoch 87/100\n",
      "56/56 - 0s - loss: 1.5652e-06 - accuracy: 1.0000 - val_loss: 0.8194 - val_accuracy: 0.9034 - 412ms/epoch - 7ms/step\n",
      "Epoch 88/100\n",
      "56/56 - 0s - loss: 1.3025e-06 - accuracy: 1.0000 - val_loss: 0.8191 - val_accuracy: 0.9034 - 427ms/epoch - 8ms/step\n",
      "Epoch 89/100\n",
      "56/56 - 0s - loss: 1.6554e-06 - accuracy: 1.0000 - val_loss: 0.8185 - val_accuracy: 0.9034 - 418ms/epoch - 7ms/step\n",
      "Epoch 90/100\n",
      "56/56 - 0s - loss: 2.7875e-06 - accuracy: 1.0000 - val_loss: 0.8006 - val_accuracy: 0.9079 - 422ms/epoch - 8ms/step\n",
      "Epoch 91/100\n",
      "56/56 - 0s - loss: 1.2100e-06 - accuracy: 1.0000 - val_loss: 0.8034 - val_accuracy: 0.9079 - 425ms/epoch - 8ms/step\n",
      "Epoch 92/100\n",
      "56/56 - 0s - loss: 1.6361e-06 - accuracy: 1.0000 - val_loss: 0.8044 - val_accuracy: 0.9101 - 418ms/epoch - 7ms/step\n",
      "Epoch 93/100\n",
      "56/56 - 0s - loss: 4.3887e-06 - accuracy: 1.0000 - val_loss: 0.8205 - val_accuracy: 0.9056 - 414ms/epoch - 7ms/step\n",
      "Epoch 94/100\n",
      "56/56 - 0s - loss: 4.1629e-06 - accuracy: 1.0000 - val_loss: 0.8217 - val_accuracy: 0.9079 - 403ms/epoch - 7ms/step\n",
      "Epoch 95/100\n",
      "56/56 - 0s - loss: 9.6256e-07 - accuracy: 1.0000 - val_loss: 0.8348 - val_accuracy: 0.9079 - 440ms/epoch - 8ms/step\n",
      "Epoch 96/100\n",
      "56/56 - 0s - loss: 0.0022 - accuracy: 0.9994 - val_loss: 0.9779 - val_accuracy: 0.8719 - 422ms/epoch - 8ms/step\n",
      "Epoch 97/100\n",
      "56/56 - 0s - loss: 0.7655 - accuracy: 0.8140 - val_loss: 0.4523 - val_accuracy: 0.8944 - 426ms/epoch - 8ms/step\n",
      "Epoch 98/100\n",
      "56/56 - 0s - loss: 0.2564 - accuracy: 0.9185 - val_loss: 0.6260 - val_accuracy: 0.7730 - 408ms/epoch - 7ms/step\n",
      "Epoch 99/100\n",
      "56/56 - 0s - loss: 0.1288 - accuracy: 0.9646 - val_loss: 0.6022 - val_accuracy: 0.8787 - 420ms/epoch - 8ms/step\n",
      "Epoch 100/100\n",
      "56/56 - 0s - loss: 0.0835 - accuracy: 0.9831 - val_loss: 0.2978 - val_accuracy: 0.9169 - 448ms/epoch - 8ms/step\n"
     ]
    }
   ],
   "source": [
    "history = model.fit(pad_train, label_train, epochs=100,\n",
    "                    validation_data=(pad_test, label_test), \n",
    "                    verbose=2, callbacks=[callbacks])"
   ]
  },
  {
   "cell_type": "markdown",
   "metadata": {
    "id": "bdo76G6ikBqe"
   },
   "source": [
    "## *15. Plot loss dan akurasi pada saat training dan validation.*"
   ]
  },
  {
   "cell_type": "code",
   "execution_count": 42,
   "metadata": {
    "colab": {
     "base_uri": "https://localhost:8080/",
     "height": 295
    },
    "id": "Q-lHhDzDOef7",
    "outputId": "970d187d-47a5-4326-9a98-01e7d599f275"
   },
   "outputs": [
    {
     "data": {
      "image/png": "[encoded data removed]",
      "text/plain": [
       "<Figure size 432x288 with 1 Axes>"
      ]
     },
     "metadata": {
      "needs_background": "light"
     },
     "output_type": "display_data"
    }
   ],
   "source": [
    "plt.plot(history.history['accuracy'])\n",
    "plt.plot(history.history['val_accuracy'])\n",
    "plt.title('AKURASI MODEL')\n",
    "plt.ylabel('AKURASI')\n",
    "plt.xlabel('JUMLAH EPOCH')\n",
    "plt.legend(['train', 'test'], loc='upper left')\n",
    "plt.show()"
   ]
  },
  {
   "cell_type": "code",
   "execution_count": 19,
   "metadata": {
    "colab": {
     "base_uri": "https://localhost:8080/",
     "height": 295
    },
    "id": "EZ1PLKywWZhu",
    "outputId": "99d8bcf3-8d2e-4ef2-b517-8c4e2aaeb418"
   },
   "outputs": [
    {
     "data": {
      "image/png": "[encoded data removed]",
      "text/plain": [
       "<Figure size 432x288 with 1 Axes>"
      ]
     },
     "metadata": {
      "needs_background": "light"
     },
     "output_type": "display_data"
    }
   ],
   "source": [
    "plt.plot(history.history['loss'])\n",
    "plt.plot(history.history['val_loss'])\n",
    "plt.title('LOSS MODEL')\n",
    "plt.ylabel('LOSS')\n",
    "plt.xlabel('JUMLAH EPOCH')\n",
    "plt.legend(['train', 'test'], loc='upper left')\n",
    "plt.show()"
   ]
  }
 ],
 "metadata": {
  "accelerator": "GPU",
  "colab": {
   "collapsed_sections": [],
   "provenance": []
  },
  "kernelspec": {
   "display_name": "Python 3 (ipykernel)",
   "language": "python",
   "name": "python3"
  },
  "language_info": {
   "codemirror_mode": {
    "name": "ipython",
    "version": 3
   },
   "file_extension": ".py",
   "mimetype": "text/x-python",
   "name": "python",
   "nbconvert_exporter": "python",
   "pygments_lexer": "ipython3",
   "version": "3.10.7"
  }
 },
 "nbformat": 4,
 "nbformat_minor": 1
}
